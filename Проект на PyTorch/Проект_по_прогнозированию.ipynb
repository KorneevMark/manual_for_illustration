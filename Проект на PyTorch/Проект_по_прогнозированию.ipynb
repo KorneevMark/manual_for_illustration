{
  "nbformat": 4,
  "nbformat_minor": 0,
  "metadata": {
    "colab": {
      "provenance": []
    },
    "kernelspec": {
      "name": "python3",
      "display_name": "Python 3"
    },
    "language_info": {
      "name": "python"
    }
  },
  "cells": [
    {
      "cell_type": "markdown",
      "source": [
        "Чтобы иметь возможность обучать нейронные сети на последовательных данных, необходимо сначала их предварительно обработать. Разобьете данные на пары «входные данные-цель», где входные данные — это некоторое количество последовательных точек данных, а цель — следующая точка данных. Результат: массива NumPy один с входными последовательностями, а другой с соответствующими целями."
      ],
      "metadata": {
        "id": "J9G9YkfjbFuA"
      }
    },
    {
      "cell_type": "code",
      "source": [
        "import pandas as pd\n",
        "import numpy as np\n",
        "\n",
        "import torch\n",
        "from torch.utils.data import TensorDataset\n",
        "import torch.nn as nn\n",
        "from torch.utils.data import DataLoader\n",
        "import torch.optim\n",
        "\n",
        "!pip install torchmetrics\n",
        "import torchmetrics"
      ],
      "metadata": {
        "id": "kg3ZUwHLt-B3"
      },
      "execution_count": null,
      "outputs": []
    },
    {
      "cell_type": "code",
      "source": [
        "train_data = pd.read_csv('electricity_train.csv', header= 0, sep = ',')\n",
        "test_data = pd.read_csv('electricity_test.csv', header= 0, sep = ',')"
      ],
      "metadata": {
        "id": "P8gvkpswbnw9"
      },
      "execution_count": 84,
      "outputs": []
    },
    {
      "cell_type": "code",
      "source": [
        "train_data = train_data[:105120]\n",
        "train_data.shape"
      ],
      "metadata": {
        "colab": {
          "base_uri": "https://localhost:8080/"
        },
        "id": "12pko9k_rOed",
        "outputId": "e3687fc7-d53b-46dc-bdf1-8e01ac0ca382"
      },
      "execution_count": 85,
      "outputs": [
        {
          "output_type": "execute_result",
          "data": {
            "text/plain": [
              "(105120, 2)"
            ]
          },
          "metadata": {},
          "execution_count": 85
        }
      ]
    },
    {
      "cell_type": "code",
      "source": [
        "def create_sequences(df, seq_length):\n",
        "    xs, ys = [], []\n",
        "    for i in range(len(df) - seq_length):\n",
        "        x = df.iloc[i:(i+seq_length), 1]\n",
        "        y = df.iloc[i+seq_length, 1]\n",
        "        xs.append(x)\n",
        "        ys.append(y)\n",
        "    return np.array(xs), np.array(ys)\n",
        "\n",
        "X_train, y_train = create_sequences(train_data, 96) # тут seq_length 96\n",
        "print(X_train.shape, y_train.shape) # (34944, 96) (34944,)\n",
        "\n",
        "X_test, y_test = create_sequences(test_data, 96)\n",
        "# array([[-0.70431852, -0.70431852, -0.67898263, ..., -0.65364675,],...,\n",
        "#       [ 0.84826447,  0.77200346,  0.72133169, ..., -0.90725895]])\n",
        "# array([-0.70431852, -0.70431852, -0.65364675, ..., -0.93259484])\n",
        "\n",
        "dataset_train = TensorDataset(torch.from_numpy(X_train).float(),\n",
        "                              torch.from_numpy(y_train).float())\n",
        "dataset_test = TensorDataset(torch.from_numpy(X_test).float(),\n",
        "                             torch.from_numpy(y_test).float())\n",
        "# после torch.from_numpy(X_train)\n",
        "# tensor([[-0.7043, -0.7043, -0.6790,  ..., -0.6536, -0.7299, -0.7043],...\n",
        "#        [ 0.8483,  0.7720,  0.7213,  ..., -0.9073, -0.9326, -0.9326]], dtype=torch.float64)\n",
        "\n",
        "#In [8]: dataset_train\n",
        "#Out[8]: <torch.utils.data.dataset.TensorDataset at 0x7f96bb034610>"
      ],
      "metadata": {
        "colab": {
          "base_uri": "https://localhost:8080/"
        },
        "id": "lQXpy6AlbHCD",
        "outputId": "85ed9255-a572-419d-e57c-97d01b2bd879"
      },
      "execution_count": 86,
      "outputs": [
        {
          "output_type": "stream",
          "name": "stdout",
          "text": [
            "(105024, 96) (105024,)\n"
          ]
        }
      ]
    },
    {
      "cell_type": "markdown",
      "source": [
        "Воспользуемся нашей функцией для создания последовательностей из обучающих данных. Это дает нам почти 35 тысяч обучающих примеров. Чтобы преобразовать их в torch Dataset, мы будем использовать функцию TensorDataset. Передаем два аргумента: входные данные и целевые объекты. Каждый аргумент представляет собой массив NumPy, преобразованный в тензор с помощью torch-dot-from_numpy и проанализированный в float. TensorDataset ведет себя так же, как и все другие наборы данных torch, и его можно передать в DataLoader таким же образом"
      ],
      "metadata": {
        "id": "eBiQuLribOYh"
      }
    },
    {
      "cell_type": "code",
      "source": [
        "class Net(nn.Module):\n",
        "    def __init__(self):\n",
        "        super().__init__()\n",
        "        self.rnn = nn.RNN(input_size=1,\n",
        "                          hidden_size=32,\n",
        "                          num_layers=2,\n",
        "                          batch_first=True)\n",
        "        self.fc = nn.Linear(32, 1)\n",
        "\n",
        "    def forward(self, x):\n",
        "        h0 = torch.zeros(2, x.size(0), 32)\n",
        "        out, _ = self.rnn(x, h0)\n",
        "        out = self.fc(out[:, -1, :])\n",
        "        return out"
      ],
      "metadata": {
        "id": "S0u9h3ZwbRtN"
      },
      "execution_count": 87,
      "outputs": []
    },
    {
      "cell_type": "code",
      "source": [
        "class Net(nn.Module):\n",
        "    def __init__(self, input_size):\n",
        "        super().__init__()\n",
        "        self.lstm = nn.LSTM(input_size=1,\n",
        "                            hidden_size=32,\n",
        "                            num_layers=2,\n",
        "                            batch_first=True)\n",
        "        self.fc = nn.Linear(32, 1)\n",
        "    def forward(self, x):\n",
        "        h0 = torch.zeros(2, x.size(0), 32)\n",
        "        c0 = torch.zeros(2, x.size(0), 32)\n",
        "        out, _ = self.lstm(x, (h0, c0))\n",
        "        out = self.fc(out[:, -1, :])\n",
        "        return out"
      ],
      "metadata": {
        "id": "VfhxWqrqb8J4"
      },
      "execution_count": 88,
      "outputs": []
    },
    {
      "cell_type": "code",
      "source": [
        "class Net(nn.Module):\n",
        "    def __init__(self, input_size):\n",
        "        super().__init__()\n",
        "        self.gru = nn.GRU(input_size=1,\n",
        "                  hidden_size=32,\n",
        "                  num_layers=2,\n",
        "                  batch_first=True)\n",
        "        self.fc = nn.Linear(32, 1)\n",
        "    def forward(self, x):\n",
        "        h0 = torch.zeros(2, x.size(0), 32)\n",
        "        out, _ = self.gru(x, h0)\n",
        "        out = self.fc(out[:, -1, :])\n",
        "        return out"
      ],
      "metadata": {
        "id": "NymwoEOybVi_"
      },
      "execution_count": 89,
      "outputs": []
    },
    {
      "cell_type": "code",
      "source": [
        "dataloader_train = DataLoader(dataset_train, batch_size=32, shuffle=True)\n",
        "dataloader_test = DataLoader(dataset_test, batch_size=32, shuffle=True)"
      ],
      "metadata": {
        "id": "KF1uvIizfmv3"
      },
      "execution_count": 90,
      "outputs": []
    },
    {
      "cell_type": "code",
      "source": [
        "features, labels = next(iter(dataloader_train))\n",
        "print(f\"Features: {features.shape},\\nLabels: {labels.shape}\")"
      ],
      "metadata": {
        "colab": {
          "base_uri": "https://localhost:8080/"
        },
        "id": "PJmq1S7tko3N",
        "outputId": "ced9ca9d-9a2a-4ab8-b0d0-bceda06cc5a2"
      },
      "execution_count": 91,
      "outputs": [
        {
          "output_type": "stream",
          "name": "stdout",
          "text": [
            "Features: torch.Size([32, 96]),\n",
            "Labels: torch.Size([32])\n"
          ]
        }
      ]
    },
    {
      "cell_type": "code",
      "source": [
        "# расширение тензора (конспект)\n",
        "#for seqs, labels in dataloader_train:\n",
        "#    print(seqs.shape) #torch.Size([32, 96])\n",
        "#seqs = seqs.view(32, 96, 1)\n",
        "#print(seqs.shape) #torch.Size([32, 96, 1])\n",
        "\n",
        "# сужение\n",
        "#for seqs, labels in test_loader:\n",
        "#    print(labels.shape) #torch.Size([32])\n",
        "#out = net(seqs) # torch.Size([32, 1])\n",
        "#out = net(seqs).squeeze() # torch.Size([32])"
      ],
      "metadata": {
        "id": "jOsDwPvrbb_q"
      },
      "execution_count": 92,
      "outputs": []
    },
    {
      "cell_type": "code",
      "source": [
        "net = Net(1)\n",
        "net"
      ],
      "metadata": {
        "colab": {
          "base_uri": "https://localhost:8080/"
        },
        "id": "685SavP6j5Ut",
        "outputId": "739b3343-c001-4a0d-8226-4af7a6bb135b"
      },
      "execution_count": 93,
      "outputs": [
        {
          "output_type": "execute_result",
          "data": {
            "text/plain": [
              "Net(\n",
              "  (gru): GRU(1, 32, num_layers=2, batch_first=True)\n",
              "  (fc): Linear(in_features=32, out_features=1, bias=True)\n",
              ")"
            ]
          },
          "metadata": {},
          "execution_count": 93
        }
      ]
    },
    {
      "cell_type": "code",
      "source": [
        "# цикл обучения\n",
        "criterion = nn.MSELoss()\n",
        "optimizer = torch.optim.Adam(net.parameters(), lr=0.001)\n",
        "for epoch in range(2): #num_epochs 2\n",
        "    for seqs, labels in dataloader_train:\n",
        "        seqs = seqs.view(32, 96, 1)\n",
        "        outputs = net(seqs)\n",
        "        loss = criterion(outputs, labels)\n",
        "        optimizer.zero_grad()\n",
        "        loss.backward()\n",
        "        optimizer.step()\n",
        "#tensor([[-0.9833, -1.1609, -1.2115,  ..., -0.9579, -0.9579,  0.6195],\n",
        "#        [-1.1609, -1.2115, -1.1862,  ..., -0.9579,  0.6195,  0.6704],\n",
        "#        [-1.2115, -1.1862, -1.1862,  ...,  0.6195,  0.6704,  0.8992],\n",
        "#        ...,\n",
        "#        [-1.2115, -1.1609, -1.1862,  ..., -0.8819,  0.3654,  0.3907]])\n",
        "#tensor([ 0.6704,  0.8992,  0.7976,  0.5941,  0.4160,  0.4160,  0.4160,  0.2891,\n",
        "#         0.3398,  0.4670,  0.2891,  0.0816, -0.8819,  0.3654,  0.3907,  0.3907])\n",
        "# размерности torch.Size([16, 96]) torch.Size([16])\n",
        "# после torch.Size([16]) torch.Size([16, 96, 1])\n",
        "#tensor([[[ 1.2805], [ 1.1789], [ 1.1789],..., [-0.5523], [-0.6030], [-0.6536]],\n",
        "#        [[ 1.1789], [ 1.1789], [ 1.1789],..., [-0.6030], [-0.6536], [-0.6536]],...,\n",
        "#        [[ 0.8483], [ 0.7720], [ 0.7213],..., [-0.9073], [-0.9326], [-0.9326]]])\n",
        "# прогнозы\n",
        "#tensor([[-0.2278], [-0.2283],..., [-0.2300], [-0.2300]], grad_fn=<AddmmBackward0>)\n",
        "# loss tensor(0.9661, grad_fn=<MseLossBackward0>) (кумулятивное)\n"
      ],
      "metadata": {
        "colab": {
          "base_uri": "https://localhost:8080/"
        },
        "id": "ylMJSoo1bfbN",
        "outputId": "872dc31c-766c-4b46-da28-fbb60b45508a"
      },
      "execution_count": 94,
      "outputs": [
        {
          "output_type": "stream",
          "name": "stderr",
          "text": [
            "/usr/local/lib/python3.10/dist-packages/torch/nn/modules/loss.py:535: UserWarning: Using a target size (torch.Size([32])) that is different to the input size (torch.Size([32, 1])). This will likely lead to incorrect results due to broadcasting. Please ensure they have the same size.\n",
            "  return F.mse_loss(input, target, reduction=self.reduction)\n"
          ]
        }
      ]
    },
    {
      "cell_type": "code",
      "source": [
        "# цикл оценки\n",
        "mse = torchmetrics.MeanSquaredError()\n",
        "net.eval()\n",
        "with torch.no_grad():\n",
        "    for seqs, labels in dataloader_test:\n",
        "        seqs = seqs.view(32, 96, 1)\n",
        "        outputs = net(seqs).squeeze()\n",
        "        mse(outputs, labels)\n",
        "print(f\"Test MSE: {mse.compute()}\")"
      ],
      "metadata": {
        "colab": {
          "base_uri": "https://localhost:8080/"
        },
        "id": "qCrVSFJntU8Q",
        "outputId": "4f13fe70-cac8-4857-8f5f-1957d4a275c6"
      },
      "execution_count": 95,
      "outputs": [
        {
          "output_type": "stream",
          "name": "stdout",
          "text": [
            "Test MSE: 0.6141996383666992\n"
          ]
        }
      ]
    },
    {
      "cell_type": "code",
      "source": [],
      "metadata": {
        "id": "ipVBS_MpgI_M"
      },
      "execution_count": 95,
      "outputs": []
    }
  ]
}