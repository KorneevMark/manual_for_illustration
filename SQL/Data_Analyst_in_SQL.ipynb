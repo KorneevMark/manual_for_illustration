{
  "nbformat": 4,
  "nbformat_minor": 0,
  "metadata": {
    "colab": {
      "provenance": []
    },
    "kernelspec": {
      "name": "python3",
      "display_name": "Python 3"
    },
    "language_info": {
      "name": "python"
    }
  },
  "cells": [
    {
      "cell_type": "markdown",
      "source": [
        "**Introduction to SQL**"
      ],
      "metadata": {
        "id": "BtqjgAypLBwt"
      }
    },
    {
      "cell_type": "markdown",
      "source": [
        "Таблицы - маленькие буквы с нижними подчеркиваниями (можно и множественное число). Столбцы - нижний регистр и единственное число.\n",
        "\n",
        "Типы данных:\n",
        "\n",
        "* строки: тип VARCHAR - маленькие и большие строки\n",
        "\n",
        "* целые числа: тип INT\n",
        "\n",
        "* плавающий тип данных с запятой: NUMERIC 38 цифр до и после запятой"
      ],
      "metadata": {
        "id": "aFYdLtF3LRsC"
      }
    },
    {
      "cell_type": "code",
      "source": [
        "SELECT name, year AS first_name, year_hired\n",
        "FROM employees;\n",
        "\n",
        "SELECT DISTINCT dept_id, year_hired # уникальные по двум столбцам\n",
        "FROM employees;\n",
        "\n",
        "CREATE VIEW employee_hire_years AS # сохранение запроса, потом через FROM юзаем\n",
        "SELECT id, name, year_hired\n",
        "FROM employees\n",
        "LIMIT 2;"
      ],
      "metadata": {
        "id": "ve7gkePeLQKt"
      },
      "execution_count": null,
      "outputs": []
    },
    {
      "cell_type": "markdown",
      "source": [
        "**Intermediate SQL**"
      ],
      "metadata": {
        "id": "rRiROG2nSKBU"
      }
    },
    {
      "cell_type": "code",
      "source": [
        "SELECT COUNT(birthate) AS count_birthdates # если COUNT(*) с пропусками\n",
        "FROM people;\n",
        "SELECT COUNT(DISTINCT) birthdate AS count_distinct_birthdates\n",
        "FROM people;\n",
        "# порядок FROM -> SELECT -> LIMIT\n",
        "SELECT title, \"release year\", country # приходится делать так"
      ],
      "metadata": {
        "id": "JqBx0ttPSVd4"
      },
      "execution_count": null,
      "outputs": []
    },
    {
      "cell_type": "code",
      "source": [
        "SELECT title\n",
        "FROM films\n",
        "WHERE release_year > 1960; # <> не равно, country = 'Japan'\n",
        "# FROM -> WHERE -> SELECT -> LIMIT\n",
        "SELECT titrle\n",
        "FROM films\n",
        "WHERE (release_year=1994 OR release_year = 1995)\n",
        "AND (certification = 'PG' OR certification = 'R')\n",
        "\n",
        "SELECT *\n",
        "FROM coats\n",
        "WHERE buttons BETWEEN 1 AND 5;\n",
        "\n",
        "SELECT title\n",
        "FROM films\n",
        "WHERE release_year\n",
        "BETWEEN 1994 AND 2000 AND country='UK';"
      ],
      "metadata": {
        "id": "j-QCZMKIWlx6"
      },
      "execution_count": null,
      "outputs": []
    },
    {
      "cell_type": "code",
      "source": [
        "SELECT name\n",
        "FROM people\n",
        "WHERE name LIKE 'Ade%'; #'Ev_' только один символ, '__t%' два символа\n",
        "WHERE name NOT LIKE 'A.%'; # '%r' пофиг на пробелы\n",
        "\n",
        "SELECT title\n",
        "FROM films\n",
        "WHERE release_year IN (1920, 1930, 1940); # WHERE country IN ('Germany','France')\n",
        "\n",
        "WHERE birthdate IS NULL; # WHERE birthdate IS NOT NULL;"
      ],
      "metadata": {
        "id": "0L_EKeV5ZOIU"
      },
      "execution_count": null,
      "outputs": []
    },
    {
      "cell_type": "code",
      "source": [
        "MIN(), MAX(), AVG(), SUM(), COUNT() #от A до Z\n",
        "SELECT ROUND(AVG(budget), 0) AS avg_budget # можно и -5\n",
        "FROM films\n",
        "WHERE release_year >= 2010;"
      ],
      "metadata": {
        "id": "LBqznViSfkqo"
      },
      "execution_count": null,
      "outputs": []
    },
    {
      "cell_type": "code",
      "source": [
        "# арифметика\n",
        "SELECT (4 + 3); # |7|\n",
        "SELECT (4 / 3); # |1|\n",
        "SELECT (4.0 / 3.0); # |1.333...|\n",
        "SELECT (gross - budget) AS profit # без имени поэтому псевдоним\n",
        "FROM films;\n",
        "\n",
        "SELECT title, budget\n",
        "FROM films\n",
        "WHERE budget IS NOT NULL\n",
        "ORDER BY budget DESC; # убывание, можно ORDER BY wins DESC, imdb_score DESC;\n",
        "# FROM -> WHERE -> SELECT -> ORDER BY -> LIMIT"
      ],
      "metadata": {
        "id": "xXi1XLEsiePG"
      },
      "execution_count": null,
      "outputs": []
    },
    {
      "cell_type": "code",
      "source": [
        "# группировка\n",
        "SELECT certification, COUNT(title) AS title_count\n",
        "FROM films\n",
        "GROUP BY certification;\n",
        "\n",
        "SELECT certification, language, COUNT(title) AS title_count\n",
        "FROM films\n",
        "GROUP BY certification, language;\n",
        "\n",
        "# FROM -> GROUP BY -> ORDER BY\n",
        "# В ORDER BY используем псевдонимы из SELECT\n",
        "\n",
        "#практика-прикол\n",
        "SELECT release_year, COUNT(DISTINCT language)\n",
        "FROM films\n",
        "GROUP BY release_year\n",
        "ORDER BY count DESC; # хотя не т.к создался такой псевдоним\n",
        "\n",
        "SELECT release_year, COUNT(title) AS title_count\n",
        "FROM films\n",
        "GROUP BY release_year\n",
        "HAVING COUNT(title) > 10;\n",
        "FROM -> WHERE -> GROUP BY -> HAVING -> SELECT -> ORDER BY -> LIMIT"
      ],
      "metadata": {
        "id": "npY5l26ek7kd"
      },
      "execution_count": null,
      "outputs": []
    },
    {
      "cell_type": "markdown",
      "source": [
        "**Joining Data in SQL**"
      ],
      "metadata": {
        "id": "Ra8dCQ8ap_hB"
      }
    },
    {
      "cell_type": "code",
      "source": [
        "SELECT prime_ministers.country, prime_ministers.continent, prime_minister, president\n",
        "FROM prime_ministers\n",
        "INNER JOIN presidents\n",
        "ON prime_ministers.country = presidents.country;\n",
        "\n",
        "SELECT p1.country, p1.continent, prime_minister, president\n",
        "FROM prime_ministers AS p1\n",
        "INNER JOIN presidents AS p2\n",
        "ON p1.country = p2.country;\n",
        "\n",
        "INNER JOIN presidents AS p2\n",
        "USING(country); # если общий столбец\n",
        "\n",
        "SELECT *\n",
        "FROM left_table\n",
        "INNER JOIN right_table\n",
        "ON left_table.id = right_table.id\n",
        "INNER JOIN another_table\n",
        "ON left_table.id = another_table.id;\n",
        "# три типа внешних соединений\n",
        "SELECT *\n",
        "FROM left_table\n",
        "INNER JOIN right_table\n",
        "ON left_table.id = right_table.id AND left_table.date = right_table.date;\n",
        "\n",
        "SELECT p1.country, prime_minister, president # левое соединение\n",
        "FROM prime_ministers AS p1\n",
        "LEFT JOIN presidents AS p2 # RIGHT JOIN right_table\n",
        "USING(country);\n",
        "\n",
        "SELECT left_table.id AS L_id, right_table.id AS R_id,\n",
        "            left_table.val AS L_val, right_table.val AS R_val\n",
        "FROM left_table\n",
        "FULL JOIN right_table\n",
        "USING (id);"
      ],
      "metadata": {
        "id": "qdTpFKrFqBIW"
      },
      "execution_count": null,
      "outputs": []
    },
    {
      "cell_type": "code",
      "source": [
        "# cross join все со всеми\n",
        "SELECT id1, id2\n",
        "FROM table1\n",
        "CROSS JOIN table2;\n",
        "\n",
        "SELECT prime_minister, president\n",
        "FROM prime_ministers AS p1\n",
        "CROSS JOIN presidents AS p2\n",
        "WHERE p1.continent IN ('Asia') AND p2.continent IN ('South America');\n",
        "\n",
        "# self - join\n",
        "SELECT p1.country AS country1, p2.country AS country2, p1.continent\n",
        "FROM prime_ministers AS p1\n",
        "INNER JOIN prime_ministers AS p2\n",
        "  ON p1.continent = p2.continent AND p1.country <> p2.country; # плачь и смотри\n",
        "LIMIT 10;"
      ],
      "metadata": {
        "id": "q10JaR49hG7J"
      },
      "execution_count": null,
      "outputs": []
    },
    {
      "cell_type": "code",
      "source": [
        "# наложили друг на друга\n",
        "SELECT monarch AS leader, country\n",
        "FROM monarchs\n",
        "UNION # без повторений # UNION ALL - тупо наложил\n",
        "SELECT prime_minister, country\n",
        "FROM prime_ministers\n",
        "ORDER BY leader, country\n",
        "LIMIT 10;\n",
        "\n",
        "# пересечение\n",
        "SELECT country, prime_minister AS leader # имена из первой таблицы\n",
        "FROM prime_ministers # и имена не обязательно совпадают\n",
        "INTERSECT\n",
        "SELECT country, monarch\n",
        "FROM monarchs;\n",
        "# левое множество без пересечения и правой таблицы\n",
        "SELECT monarch, country\n",
        "FROM monarchs\n",
        "EXCEPT\n",
        "SELECT prime_minister, country\n",
        "FROM prime_ministers;"
      ],
      "metadata": {
        "id": "_QsPIzkOlIM2"
      },
      "execution_count": null,
      "outputs": []
    },
    {
      "cell_type": "code",
      "source": [
        "# semi join только те строки из левой где есть совпадение с правой\n",
        "# позапрос внутри where\n",
        "SELECT president, country, continent\n",
        "FROM presidents\n",
        "WHERE country IN\n",
        "      (SELECT country\n",
        "        FROM states\n",
        "        WHERE indep_year < 1800);\n",
        "\n",
        "SELECT country, president\n",
        "FROM presidents\n",
        "WHERE continent LIKE '%America'\n",
        "  AND country NOT IN\n",
        "      (SELECT country\n",
        "        FROM states\n",
        "        WHERE indep_year < 1800);\n",
        "# подзапрос внутри WHERE\n",
        "SELECT *\n",
        "FROM some_table\n",
        "WHERE some_field IN\n",
        "    (SELECT some_numeric_field\n",
        "    FROM another_table\n",
        "    WHERE field2 = some_condition);\n",
        "#подзапрос внутри SELECT\n",
        "SELECT DISTINCT continent,\n",
        "    (SELECT COUNT(*)\n",
        "    FROM monarchs\n",
        "    WHERE states.continent = monarch.continent) AS monarch_count\n",
        "FROM states;\n",
        "#подзапрос внутри FROM\n",
        "SELECT DISTINCT monarchs.continent, sub.most_recent\n",
        "FROM monarchs,\n",
        "    (SELECT continent, MAX(indep_year) AS most_recent\n",
        "      FROM states\n",
        "      GROUP BY continent) AS sub\n",
        "WHERE monarchs.continent = sub.continent\n",
        "ORDER BY continent;"
      ],
      "metadata": {
        "id": "MlYo4BVwogYO"
      },
      "execution_count": null,
      "outputs": []
    },
    {
      "cell_type": "markdown",
      "source": [
        "**Data Manipulation in SQL**"
      ],
      "metadata": {
        "id": "dkxG0yJvzH3M"
      }
    },
    {
      "cell_type": "code",
      "source": [
        "# аналог операции ЕСЛИ это ТО то\n",
        "CASE WHEN x = 1 THEN 'a'\n",
        "     WHEN x = 2 THEN 'b'\n",
        "     ELSE 'c' END AS new_column\n",
        "# создание нового столбца\n",
        "SELECT id, home_goal, away_goal,\n",
        "      CASE WHEN home_goal > away_goal THEN 'Home Team Win'\n",
        "      WHEN home_goal < away_goal THEN 'Away Team Win'\n",
        "      ELSE 'Tie' END AS outcome # ELSE NULL END AS date_category\n",
        "FROM match\n",
        "WHERE season = '2013/2014';\n",
        "\n",
        "# вот это пример (хотя понятно, конец IS NOT NULL)\n",
        "SELECT date, season,\n",
        "    CASE WHEN hometeam_id = 8455 AND home_goal > away_goal\n",
        "          THEN 'Chelsea home win!'\n",
        "        WHEN awayteam_id = 8455 AND home_goal < away_goal\n",
        "          THEN 'Chelsea away win!' END AS outcome\n",
        "FROM match\n",
        "WHERE CASE WHEN hometeam_id = 8455 AND home_goal > away_goal\n",
        "              THEN 'Chelsea home win!'\n",
        "            WHEN awayteam_id = 8455 AND home_goal < away_goal\n",
        "              THEN 'Chelsea away win!' END IS NOT NULL;"
      ],
      "metadata": {
        "id": "W2YIMQjVzJvd"
      },
      "execution_count": null,
      "outputs": []
    },
    {
      "cell_type": "code",
      "source": [
        "SELECT season, COUNT(CASE WHEN hometeam_id = 8650\n",
        "                          AND home_goal > away_goal\n",
        "                          THEN id END) AS home_wins\n",
        "FROM match\n",
        "GROUP BY season;\n",
        "\n",
        "SELECT season, SUM(CASE WHEN hometeam_id = 8650\n",
        "                    THEN home_goal END) AS home_goals,\n",
        "              SUM(CASE WHEN awayteam_id = 8650\n",
        "                    THEN away_goal END) AS away_goals\n",
        "FROM match\n",
        "GROUP BY season;\n",
        "# подсчет процентов\n",
        "SELECT season,\n",
        "       AVG(CASE WHEN hometeam_id = 8455 AND home_goal > away_goal THEN 1\n",
        "                WHEN hometeam_id = 8455 AND home_goal < away_goal THEN 0\n",
        "                END) AS pct_homewins,\n",
        "       AVG(CASE WHEN awayteam_id = 8455 AND away_goal > home_goal THEN 1\n",
        "                WHEN awayteam_id = 8455 AND away_goal < home_goal THEN 0\n",
        "                END) AS pct_awaywins\n",
        "FROM match\n",
        "GROUP BY season;"
      ],
      "metadata": {
        "id": "8IGeMFJyX2mV"
      },
      "execution_count": null,
      "outputs": []
    },
    {
      "cell_type": "markdown",
      "source": [
        "Subqueries (подзапросы)"
      ],
      "metadata": {
        "id": "8kvvilqEZ8Ss"
      }
    },
    {
      "cell_type": "code",
      "source": [
        "# помещается SELECT , FROM , WHERE , GROUP BY\n",
        "# простой подзапрос (выполняется один раз и сам по себе и перед основным запросом)\n",
        "SELECT home_goal\n",
        "FROM match\n",
        "WHERE home_goal > (SELECT AVG(home_goal)\n",
        "                    FROM match);\n",
        "SELECT AVG(home_goal) FROM match;\n",
        "\n",
        "SELECT team_long_name, team_short_name AS abbr\n",
        "FROM team\n",
        "WHERE team_api_id IN (SELECT hometeam_id\n",
        "                      FROM match\n",
        "                      WHERE country_id = 15722);"
      ],
      "metadata": {
        "id": "KZXmUsR6aBdu"
      },
      "execution_count": null,
      "outputs": []
    },
    {
      "cell_type": "code",
      "source": [
        "SELECT team, home_avg\n",
        "FROM (SELECT t.team_long_name AS team,\n",
        "             AVG(m.home_goal) AS home_avg\n",
        "      FROM match AS m\n",
        "      LEFT JOIN team AS t\n",
        "      ON m.hometeam_id = t.team_api_id\n",
        "      WHERE season = '2011/2012'\n",
        "      GROUP BY team) AS subquery # обязательно псевдоним\n",
        "ORDER BY home_avg DESC\n",
        "LIMIT 3;"
      ],
      "metadata": {
        "id": "PDsMgyzw3dQj"
      },
      "execution_count": null,
      "outputs": []
    },
    {
      "cell_type": "code",
      "source": [
        "# позапрос в SELECT (создается столбец из одного числа)\n",
        "SELECT season,\n",
        "        COUNT(id) AS matches,\n",
        "        (SELECT COUNT(id) FROM match) as total_matches\n",
        "FROM match\n",
        "GROUP BY season; # даже пофиг на это aaaaaaaaaaaaaaaaaaaaaaaaaaaaaaaaaaaaaaaaaaaaaaaaa\n",
        "\n",
        "-- коммент для SQL"
      ],
      "metadata": {
        "id": "cIdx4DvTzQRi"
      },
      "execution_count": null,
      "outputs": []
    },
    {
      "cell_type": "markdown",
      "source": [
        "Коррелированные подзапросы"
      ],
      "metadata": {
        "id": "5fJJK9842NZp"
      }
    },
    {
      "cell_type": "code",
      "source": [
        "# выполняются каждый раз когда поялвяется инфа из внешнего запроса\n",
        "SELECT s.stage,\n",
        "        ROUND(s.avg_goals,2) AS avg_goal,\n",
        "        (SELECT AVG(home_goal + away_goal) FROM match\n",
        "        WHERE season = '2012/2013') AS overall_avg\n",
        "FROM\n",
        "        (SELECT stage,\n",
        "                AVG(home_goal + away_goal) AS avg_goals\n",
        "         FROM match\n",
        "         WHERE season = '2012/2013'\n",
        "          GROUP BY stage) AS s\n",
        "WHERE s.avg_goals > (SELECT AVG(home_goal + away_goal)\n",
        "                     FROM match\n",
        "                     WHERE season = '2012/2013');\n",
        "# ну такое хз\n",
        "SELECT s.stage,\n",
        "       ROUND(s.avg_goals,2) AS avg_goal,\n",
        "       (SELECT AVG(home_goal + away_goal)\n",
        "        FROM match\n",
        "        WHERE season = '2012/2013') AS overall_avg\n",
        "FROM\n",
        "    (SELECT stage,\n",
        "        AVG(home_goal + away_goal) AS avg_goals\n",
        "     FROM match\n",
        "     WHERE season = '2012/2013'\n",
        "     GROUP BY stage) AS s\n",
        "WHERE s.avg_goals > (SELECT AVG(home_goal + away_goal)\n",
        "                     FROM match AS m\n",
        "                     WHERE s.stage > m.stage);\n",
        "# второй пример (вместо join используем корр подзапрос)\n",
        "SELECT c.name AS country,\n",
        "       AVG(m.home_goal + m.away_goal) AS avg_goals\n",
        "FROM country AS c\n",
        "LEFT JOIN match AS m\n",
        "ON c.id = m.country_id\n",
        "GROUP BY country;\n",
        "\n",
        "SELECT c.name AS country,\n",
        "        (SELECT AVG(home_goal + away_goal)\n",
        "                FROM match AS m\n",
        "                WHERE m.country_id = c.id) AS avg_goals\n",
        "FROM country AS c\n",
        "GROUP BY country; #аааааааааааааааааааааааааааааааааааааааааааааа"
      ],
      "metadata": {
        "id": "mK7jiyIP2Prl"
      },
      "execution_count": null,
      "outputs": []
    },
    {
      "cell_type": "code",
      "source": [
        "# вложенные позапросы (подзпросы в позапросах), могут быть корр и некорр\n",
        "SELECT EXTRACT(MONTH FROM date) AS month,\n",
        "       SUM(m.home_goal + m.away_goal) AS total_goals,\n",
        "       SUM(m.home_goal + m.away_goal) -\n",
        "       (SELECT AVG(goals)\n",
        "        FROM (SELECT EXTRACT(MONTH FROM date) AS month,\n",
        "              SUM(home_goal + away_goal) AS goals\n",
        "              FROM match\n",
        "              GROUP BY month)) AS avg_diff\n",
        "FROM match AS m\n",
        "GROUP BY month; # aaaaaaaaaaaaaaaaaaaaaaaaaaaaaaaaaaaaaaaaaaaaaaaaaaaaaaaaaaa\n",
        "\n",
        "# пример когда вложенный подзапрос коррелирован\n",
        "SELECT c.name AS country,\n",
        "       (SELECT AVG(home_goal + away_goal)\n",
        "        FROM match AS m\n",
        "        WHERE m.country_id = c.id # Correlates with main query\n",
        "              AND id IN (SELECT id # Begin inner subquery\n",
        "                         FROM match\n",
        "                         WHERE season = '2011/2012')) AS avg_goals\n",
        "FROM country AS c\n",
        "GROUP BY country; # почему тут country ааааааааааааааааааааааааааааааааааааааааааааааааааааааааааааа"
      ],
      "metadata": {
        "id": "iblogQz_9eAX"
      },
      "execution_count": null,
      "outputs": []
    },
    {
      "cell_type": "markdown",
      "source": [
        "CTE (общие табличные выражения)"
      ],
      "metadata": {
        "id": "YLBdZtVqFKj0"
      }
    },
    {
      "cell_type": "code",
      "source": [
        "# это особый вид подзапроса\n",
        "WITH s AS (SELECT country_id, id\n",
        "           FROM match\n",
        "           WHERE (home_goal + away_goal) >= 10)\n",
        "\n",
        "SELECT c.name AS country,\n",
        "       COUNT(s.id) AS matches\n",
        "FROM country AS c\n",
        "INNER JOIN s\n",
        "ON c.id = s.country_id\n",
        "GROUP BY country;\n",
        "\n",
        "WITH s1 AS (SELECT country_id, id\n",
        "            FROM match\n",
        "            WHERE (home_goal + away_goal) >= 10),\n",
        "     s2 AS (SELECT country_id, id\n",
        "            FROM match\n",
        "            WHERE (home_goal + away_goal) <= 1)\n",
        "# CTE могут ссылаться на предыдущие и сами на себя (рекурсивный СТЕ)\n",
        "SELECT c.name AS country,\n",
        "       COUNT(s1.id) AS high_scores,\n",
        "       COUNT(s2.id) AS low_scores\n",
        "FROM country AS c\n",
        "INNER JOIN s1\n",
        "ON c.id = s1.country_id\n",
        "INNER JOIN s2\n",
        "ON c.id = s2.country_id\n",
        "GROUP BY country;"
      ],
      "metadata": {
        "id": "7qF9C_2EFQLT"
      },
      "execution_count": null,
      "outputs": []
    },
    {
      "cell_type": "markdown",
      "source": [
        "Оконные функции"
      ],
      "metadata": {
        "id": "LAUVim61HXEu"
      }
    },
    {
      "cell_type": "code",
      "source": [
        "# оплучаем статистические вычисления без группировки\n",
        "SELECT date, (home_goal + away_goal) AS goals,\n",
        "       (SELECT AVG(home_goal + away_goal)\n",
        "        FROM match\n",
        "        WHERE season = '2011/2012') AS overall_avg\n",
        "FROM match\n",
        "WHERE season = '2011/2012';\n",
        "# можно проще через оконные фнукции\n",
        "SELECT date,\n",
        "       (home_goal + away_goal) AS goals,\n",
        "        AVG(home_goal + away_goal) OVER() AS overall_avg\n",
        "FROM match\n",
        "WHERE season = '2011/2012';\n",
        "|       date | goals |  overall_avg |\n",
        "|------------|-------|--------------|\n",
        "| 2011-07-29 |     3 |      2.71646 |\n",
        "| 2011-07-30 |     2 |      2.71646 |\n",
        "\n",
        "# ранжирование\n",
        "SELECT date, (home_goal + away_goal) AS goals,\n",
        "       RANK() OVER(ORDER BY home_goal + away_goal) AS goals_rank\n",
        "FROM match\n",
        "WHERE season = '2011/2012'; #низкие значение и 1 ранг, одинаковые значения = одинаковый ранг\n",
        "\n",
        "SELECT date, (home_goal + away_goal) AS goals,\n",
        "       RANK() OVER(ORDER BY home_goal + away_goal DESC) AS goals_rank\n",
        "FROM match\n",
        "WHERE season = '2011/2012'; # высокие зачения и 1 ранг\n",
        "\n",
        "# с PARTITION\n",
        "SELECT date, (home_goal + away_goal) AS goals,\n",
        "       AVG(home_goal + away_goal) OVER(PARTITION BY season) AS season_avg\n",
        "FROM match; # считаем среднее по сезону"
      ],
      "metadata": {
        "id": "5yXv9AVNHYfH"
      },
      "execution_count": null,
      "outputs": []
    },
    {
      "cell_type": "markdown",
      "source": [
        "Параметры в OVER(ROWS BETWEEN):\n",
        "\n",
        "*   PRECEDING - строка до\n",
        "*   FOLLOWING - строка после\n",
        "*   UNBOUNDED PRECEDING - начало\n",
        "*   UNBOUNDED FOLLOWING - конец набора данных\n",
        "*   CURRENT ROW - остановить вычисления в текущей строке\n",
        "\n"
      ],
      "metadata": {
        "id": "9g09ldIqSGg3"
      }
    },
    {
      "cell_type": "code",
      "source": [
        "# скользящее окно - вычисления относительно текущей строки\n",
        "SELECT date, home_goal, away_goal,\n",
        "       SUM(home_goal) OVER(ORDER BY date ROWS BETWEEN\n",
        "       UNBOUNDED PRECEDING AND CURRENT ROW) AS running_total\n",
        "FROM match\n",
        "WHERE hometeam_id = 8456 AND season = '2011/2012';\n",
        "\n",
        "SELECT date, home_goal, away_goal, SUM(home_goal)\n",
        "       OVER(ORDER BY date ROWS BETWEEN 1 PRECEDING AND CURRENT ROW) AS last2\n",
        "FROM match\n",
        "WHERE hometeam_id = 8456 AND season = '2011/2012'; # скользящее окно"
      ],
      "metadata": {
        "id": "pzGbNLswNXqq"
      },
      "execution_count": null,
      "outputs": []
    },
    {
      "cell_type": "markdown",
      "source": [
        "**PostgreSQL Summary Stats and Window Functions**"
      ],
      "metadata": {
        "id": "zwg7-tYHWJI_"
      }
    },
    {
      "cell_type": "code",
      "source": [
        "SELECT Year, Event, Country,\n",
        "       ROW_NUMBER() OVER () AS Row_N\n",
        "FROM Summer_Medals\n",
        "WHERE Medal = 'Gold'; # ранжирование просто 1 2 3\n",
        "\n",
        "SELECT Year, Event, Country,\n",
        "       ROW_NUMBER() OVER (ORDER BY Year DESC) AS Row_N\n",
        "FROM Summer_Medals\n",
        "WHERE Medal = 'Gold'; # даты повторяются, ранги разные уникальные\n",
        "\n",
        "SELECT Year, Event, Country,\n",
        "       ROW_NUMBER() OVER(ORDER BY Year DESC, Event ASC) AS Row_N\n",
        "FROM Summer_Medals\n",
        "WHERE Medal = 'Gold';\n",
        "\n",
        "# использование LAG\n",
        "SELECT Year, Champion,\n",
        "       LAG(Champion, 1) OVER(ORDER BY Year ASC) AS Last_Champion\n",
        "FROM Discus_Gold\n",
        "ORDER BY Year ASC; # столбец с предыдущими значениями"
      ],
      "metadata": {
        "id": "92GjyJ_cWNnQ"
      },
      "execution_count": null,
      "outputs": []
    },
    {
      "cell_type": "code",
      "source": [
        "WITH Discus_Gold AS (...)\n",
        "SELECT Year, Event, Champion,\n",
        "       LAG(Champion) OVER(PARTITION BY Event ORDER BY Event ASC, Year ASC) AS Last_Champion\n",
        "FROM Discus_Gold # что если второй EVENT убрать\n",
        "ORDER BY Event ASC, Year ASC;\n",
        "| Year |        Event | Champion | Last_Champion |\n",
        "|------|--------------|----------|---------------|\n",
        "| 2004 | Discus Throw |      LTU |          null |\n",
        "| 2008 | Discus Throw |      EST |           LTU |\n",
        "| 2012 | Discus Throw |      GER |           EST |\n",
        "| 2004 |  Triple Jump |      SWE |          null |\n",
        "| 2008 |  Triple Jump |      POR |           SWE |\n",
        "| 2012 |  Triple Jump |      USA |           POR |"
      ],
      "metadata": {
        "id": "RWbQVZpjcUpY"
      },
      "execution_count": null,
      "outputs": []
    },
    {
      "cell_type": "code",
      "source": [
        "LAG() vs LEAD() # вперед\n",
        "FIRST_VALUE(column) # первое значение в столбце или секции\n",
        "LAST_VALUE(column) # последнее\n",
        "\n",
        "LEAD(City, 1) OVER (ORDER BY Year ASC) AS Next_City\n",
        "# LEAD(Champion, 1) with PARTITION BY Event\n",
        "# FIRST_VALUE(Champion) with PARTITION BY Event\n",
        "# наебка с LAST_VALUE\n",
        "SELECT Year, City, FIRST_VALUE(City) OVER(ORDER BY Year ASC) AS First_City,\n",
        "LAST_VALUE(City) OVER (ORDER BY Year ASC RANGE BETWEEN\n",
        "                       UNBOUNDED PRECEDING AND UNBOUNDED FOLLOWING) AS Last_City\n",
        "FROM Hosts\n",
        "ORDER BY Year ASC; # первое и последнее значение (тут RANGE BETWEEN без него нет)\n",
        "# расширяется окно"
      ],
      "metadata": {
        "id": "blTtY5BNidXy"
      },
      "execution_count": null,
      "outputs": []
    },
    {
      "cell_type": "code",
      "source": [
        "# ранжирование\n",
        "# ROW_NUMBER - всегда уникальные индексы\n",
        "# RANK - однинаковым значениям один индекс с пропуском индекса\n",
        "# DENSE_RANK - как RANK но без пропуска\n",
        "\n",
        "ROW_NUMBER() OVER (ORDER BY Games DESC) AS Row_N\n",
        "RANK() OVER (ORDER BY Games DESC) AS Rank_N\n",
        "DENSE_RANK() OVER (ORDER BY Games DESC) AS Dense_Rank_N"
      ],
      "metadata": {
        "id": "vvEs9F7imrOb"
      },
      "execution_count": null,
      "outputs": []
    },
    {
      "cell_type": "code",
      "source": [
        "# прикольный сценарий\n",
        "SELECT Country, Athlete, COUNT(*) AS Medals\n",
        "FROM Summer_Medals\n",
        "WHERE Country IN ('CHN', 'RUS') AND Year = 2012\n",
        "GROUP BY Country, Athlete\n",
        "HAVING COUNT(*) > 1 # это смотри\n",
        "ORDER BY Country ASC, Medals DESC;\n",
        "\n",
        "DENSE_RANK() OVER (PARTITION BY Country ORDER BY Medals DESC) AS Rank_N"
      ],
      "metadata": {
        "id": "r5N4Nfwqo_mp"
      },
      "execution_count": null,
      "outputs": []
    },
    {
      "cell_type": "code",
      "source": [
        "# еще одно применение оконных функций - paging (разбиение на страницы)\n",
        "WITH Disciplines AS (SELECT DISTINCT Discipline FROM Summer_Medals)\n",
        "SELECT Discipline, NTILE(15) OVER () AS Page\n",
        "From Disciplines\n",
        "ORDER BY Page ASC;\n",
        "\n",
        "|          Discipline | Page |\n",
        "|---------------------|------|\n",
        "| Wrestling Freestyle |    1 |\n",
        "|             Archery |    1 |\n",
        "|            Baseball |    1 |\n",
        "|            Lacrosse |    2 |\n",
        "|                Judo |    2 |\n",
        "# разеделение на трети и т.д\n",
        "WITH Country_Medals AS ( SELECT Country, COUNT(*) AS Medals\n",
        "                         FROM Summer_Medals\n",
        "                         GROUP BY Country),\n",
        "SELECT Country, Medals, NTILE(3) OVER (ORDER BY Medals DESC) AS Third\n",
        "FROM Country_Medals;"
      ],
      "metadata": {
        "id": "qVJ0raO8qaZ_"
      },
      "execution_count": null,
      "outputs": []
    },
    {
      "cell_type": "code",
      "source": [
        "WITH Brazil_Medals AS (...)\n",
        "SELECT Year, Medals,\n",
        "       MAX(Medals) OVER (ORDER BY Year ASC) AS Max_Medals #SUM(),\n",
        "FROM Brazil_Medals;\n",
        "\n",
        "WITH Medals AS (...)\n",
        "SELECT Year, Country, Medals,\n",
        "       SUM(Meals) OVER (PARTITION BY Country ...)\n",
        "FROM Medals;"
      ],
      "metadata": {
        "id": "ElZ4id7S1kxf"
      },
      "execution_count": null,
      "outputs": []
    },
    {
      "cell_type": "code",
      "source": [
        "#установка FRAME - изменение поведения оконной функции\n",
        "WITH Russia_Medals AS (...)\n",
        "\n",
        "SELECT Year, Medals, MAX(Medals) OVER (ORDER BY Year ASC) AS Max_Medals,\n",
        "MAX(Medals) OVER (ORDER BY Year ASC ROWS BETWEEN 1 PRECEDING AND CURRENT ROW) AS Max_Medals_Last\n",
        "MAX(Medals) OVER (ORDER BY Year ASC ROWS BETWEEN CURRENT ROW AND 1 FOLLOWING)\n",
        "FROM Russia_Medals\n",
        "ORDER BY Year ASC;\n",
        "\n",
        "WITH US_Medals AS (...)\n",
        "SELECT Year, Medals,\n",
        "AVG(Medals) OVER(ORDER BY Year ASC ROWS BETWEEN 2 PRECEDING AND CURRENT ROW) AS Medals_MA\n",
        "FROM US_Medals\n",
        "ORDER BY Year ASC;\n",
        "\n",
        "# разница между RANGE BETWEEN и ROWS BETWEEN\n",
        "# RANGE рассматривает дубликаты в столбцах предположения ORDER BY как отдельные сущности\n",
        "| Year | Medals | Rows_RT | Range_RT |\n",
        "|------|--------|---------|----------|\n",
        "| 1992 |     10 |      10 |       10 |\n",
        "| 1996 |     50 |      60 |      110 |\n",
        "| 2000 |     50 |     110 |      110 |\n",
        "| 2004 |     60 |     170 |      230 |\n",
        "| 2008 |     60 |     230 |      230 |\n",
        "| 2012 |     70 |     300 |      300 |"
      ],
      "metadata": {
        "id": "2NcS99Ov4p_3"
      },
      "execution_count": null,
      "outputs": []
    },
    {
      "cell_type": "code",
      "source": [
        "# преобразование из вертикальной в горизонтальную\n",
        "SELECT Country, Year, COUNT(*) AS Awards\n",
        "FROM Summer_Medals\n",
        "WHERE Country IN ('CHN', 'RUS', 'USA')\n",
        "      AND Year IN (2008, 2012) AND Medal = 'Gold'\n",
        "GROUP BY Country, Year\n",
        "ORDER BY Country ASC, Year ASC;\n",
        "| Country | Year | Awards |\n",
        "|---------|------|--------|\n",
        "|     CHN | 2008 |     74 |\n",
        "|     CHN | 2012 |     56 |\n",
        "|     RUS | 2008 |     43 |\n",
        "|     RUS | 2012 |     47 |\n",
        "|     USA | 2008 |    125 |\n",
        "|     USA | 2012 |    147 |\n",
        "\n",
        "CREATE EXTENSION IF NOT EXISTS tablefunc; # ставим расширение\n",
        "\n",
        "SELECT * FROM CROSSTAB($$\n",
        "  SELECT Country, Year, COUNT(*) :: INTEGER AS Awards\n",
        "  FROM Summer_Medals\n",
        "  WHERE Country IN ('CHN', 'RUS', 'USA')\n",
        "        AND Year IN (2008, 2012) AND Medal = 'Gold'\n",
        "  GROUP BY Country, Year\n",
        "  ORDER BY Country ASC, Year ASC;\n",
        "$$) AS ct (Country VARCHAR, \"2008\" INTEGER, \"2012\" INTEGER)\n",
        "ORDER BY Country ASC;\n",
        "\n",
        "| Country | 2008 | 2012 |\n",
        "|---------|------|------|\n",
        "|     CHN |   74 |   56 |\n",
        "|     RUS |   43 |   47 |\n",
        "|     USA |  125 |  147 |"
      ],
      "metadata": {
        "id": "fNR3sXRuXoxH"
      },
      "execution_count": null,
      "outputs": []
    },
    {
      "cell_type": "code",
      "source": [
        "WITH Country_Awards AS (SELECT Country, Year, COUNT(*) AS Awards\n",
        "                        FROM Summer_Medals\n",
        "                        WHERE Country IN ('CHN', 'RUS', 'USA')\n",
        "                              AND Year IN (2004, 2008, 2012)\n",
        "                              AND Medal = 'Gold' AND Sport = 'Gymnastics'\n",
        "                        GROUP BY Country, Year\n",
        "                        ORDER BY Country ASC, Year ASC)\n",
        "SELECT Country, Year,\n",
        "RANK() OVER (PARTITION BY Year ORDER BY Awards DESC) :: INTEGER AS rank\n",
        "FROM Country_Awards\n",
        "ORDER BY Country ASC, Year ASC;\n",
        "| Country | Year |Rank |\n",
        "|---------|------|-----|\n",
        "|     CHN | 2004 |   3 |\n",
        "|     CHN | 2008 |   1 |\n",
        "|     CHN | 2012 |   1 |\n",
        "|     RUS | 2004 |   1 |\n",
        "|     RUS | 2008 |   2 |\n",
        "\n",
        "CREATE EXTENSION IF NOT EXISTS tablefunc;\n",
        "SELECT * FROM CROSSTAB($$...$$) AS ct (\n",
        "    Country VARCHAR, \"2004\" INTEGER, \"2008\" INTEGER, \"2012\" INTEGER)\n",
        "ORDER BY Country ASC;\n",
        "\n",
        "| Country | 2004 | 2008 | 2012 |\n",
        "|---------|------|------|------|\n",
        "|     CHN |    3 |    1 |    1 |\n",
        "|     RUS |    1 |    2 |    2 |\n",
        "|     USA |    2 |    3 |    3 |"
      ],
      "metadata": {
        "id": "A36QrFZwdRmx"
      },
      "execution_count": null,
      "outputs": []
    },
    {
      "cell_type": "code",
      "source": [
        "# ROLLUP и CUBE вычисление промежуточных итогов (групповые и общие)\n",
        "SELECT Country, Medal, COUNT(*) AS Awards\n",
        "FROM Summer_Medals\n",
        "WHERE Year = 2008 AND Country IN ('CHN', 'RUS')\n",
        "GROUP BY Country, ROLLUP(Medal) # добавка\n",
        "ORDER BY Country ASC, Medal ASC;\n",
        "# итоги на уровне страны и медали, потом только на страны, а медали NULL\n",
        "\n",
        "# GROUP BY ROLLUP(Country, Medal) будут итоги на уровне страны\n",
        "# ROLLUP(Medal, Country) будут итоги на уровне медали\n",
        "\n",
        "SELECT Country, Medal, COUNT(*) AS Awards\n",
        "FROM summer_medals\n",
        "WHERE Year = 2008 AND Country IN ('CHN', 'RUS')\n",
        "GROUP BY CUBE(Country, Medal)\n",
        "ORDER BY Country ASC, Medal ASC; # подсчет всего\n",
        "\n",
        "SELECT COALESCE(Country, 'Both countries') AS Country,\n",
        "       COALESCE(Medal, 'All medals') AS Medal,\n",
        "       COUNT(*) AS Awards\n",
        "FROM summer_medals\n",
        "WHERE Year = 2008 AND Country IN ('CHN', 'RUS')\n",
        "GROUP BY ROLLUP(Country, Medal)\n",
        "ORDER BY Country ASC, Medal ASC;\n",
        "\n",
        "STRING_AGG(Letter, ',') # зачем она значения столбцов в строку с разделителем"
      ],
      "metadata": {
        "id": "rsDWokXkf2BY"
      },
      "execution_count": null,
      "outputs": []
    },
    {
      "cell_type": "markdown",
      "source": [
        "**Functions for Manipulating Data in PostgreSQL**"
      ],
      "metadata": {
        "id": "u4s3_2NEtTJp"
      }
    },
    {
      "cell_type": "code",
      "source": [
        "# инфа о базах данных в системной базе данных\n",
        "SELECT column_name, data_type\n",
        "FROM INFORMATION_SCHEMA.COLUMNS\n",
        "WHERE column_name in ('title', 'description', 'special_features')\n",
        "AND table_name ='film'; # тип столбцов"
      ],
      "metadata": {
        "id": "-n4-sjnQtWLT"
      },
      "execution_count": null,
      "outputs": []
    },
    {
      "cell_type": "code",
      "source": [
        "CREATE TABLE my_first_table (first_column text,\n",
        "                             second_column integer);\n",
        "# помещение данных\n",
        "INSERT INTO my_first_table\n",
        "      (first_column, second_column) VALUES ('text value', 12);"
      ],
      "metadata": {
        "id": "rTH1bMGNdAWg"
      },
      "execution_count": null,
      "outputs": []
    },
    {
      "cell_type": "code",
      "source": [
        "# создаем массив и вложенный массив\n",
        "CREATE TABLE grades (student_id int,\n",
        "                     email text[][],\n",
        "                     test_scores int[]);\n",
        "INSERT INTO grades\n",
        "       VALUES (1,\n",
        "       '{{\"work\", \"work1@datacamp.com\"}, {\"other\", \"other1@datacamp.com\"}}',\n",
        "       '{92,85,96,88}' ); # суть в кавычках ' '\n",
        "\n",
        "# доступ\n",
        "SELECT email[1][1] AS type, email[1][2] AS address, test_scores[1],\n",
        "FROM grades\n",
        "WHERE email[1][1] = 'work';\n",
        "\n",
        "# WHERE 'other' = ANY (email); # ищет в массиве 'other' и возврат строки инчае null\n",
        "#альтернатива (contains): WHERE email @> ARRAY['other'];"
      ],
      "metadata": {
        "id": "WfbCKo0IdblI"
      },
      "execution_count": null,
      "outputs": []
    },
    {
      "cell_type": "code",
      "source": [
        "SELECT date '2005-09-11' - date '2005-09-10'; # 1 целое\n",
        "SELECT date '2005-09-11' + integer '3'; # '2005-09-14'\n",
        "SELECT date '2005-09-11 00:00:00'-date '2005-09-09 12:00:00'; # интервал 1 day 12:00:00\n",
        "SELECT AGE(timestamp '2005-09-11 00:00:00', timestamp '2005-09-09 12:00:00');\n",
        "# операция для метки времени и получаем интервал\n",
        "SELECT rental_date + INTERVAL '3 days' as expected_return\n",
        "FROM rental; # 2005-05-27 22:53:30\n",
        "\n",
        "SELECT timestamp '2019-05-01' + 21 * INTERVAL '1 day'; #  2019-05-22 00:00:00"
      ],
      "metadata": {
        "id": "IQqOkavEkQyN"
      },
      "execution_count": null,
      "outputs": []
    },
    {
      "cell_type": "code",
      "source": [
        "SELECT NOW(); # текущая метка времени с поясом\n",
        "SELECT NOW()::timestamp; # преобразование без пояса (для PosrgreSQL)\n",
        "SELECT CAST(NOW() as timestamp); # аналогично\n",
        "SELECT CURRENT_TIMESTAMP(2); # для PostgreSQL но с контролем точности\n",
        "SELECT CURRENT_DATE;\n",
        "SELECT CURRENT_TIME;\n",
        "\n",
        "# извлечение информации\n",
        "SELECT EXTRACT(quarter FROM timestamp '2005-01-24 05:12:00') AS quarter;\n",
        "SELECT DATE_PART('quarter', timestamp '2005-01-24 05:12:00') AS quarter;\n",
        "# отнесет метку времени (времени и интервала) к кварталу\n",
        "\n",
        "SELECT EXTRACT(quarter FROM payment_date) AS quarter,\n",
        "       EXTRACT(year FROM payment_date) AS year,\n",
        "       SUM(amount) AS total_payments\n",
        "FROM payment\n",
        "GROUP BY 1, 2; # ааааааааааа\n",
        "\n",
        "SELECT DATE_TRUNC('year', TIMESTAMP '2005-05-21 15:30:30');\n",
        "# Result: 2005-01-01 00:00:00 (усечение до года) выход метка или интервал\n",
        "\n",
        "SELECT DATE_TRUNC('month', TIMESTAMP '2005-05-21 15:30:30');\n",
        "#Result: 2005-05-01 00:00:00 (усечение до месяца) выход метка или интервал"
      ],
      "metadata": {
        "id": "0ysCxynM4PHN"
      },
      "execution_count": null,
      "outputs": []
    },
    {
      "cell_type": "code",
      "source": [
        "# объединение строк\n",
        "SELECT first_name, last_name,\n",
        "       first_name || ' ' || last_name AS full_name\n",
        "FROM customer\n",
        "# аналогично\n",
        "SELECT CONCAT(first_name, ' ', last_name) AS full_name\n",
        "FROM customer;\n",
        "\n",
        "SELECT customer_id || ': ' || first_name || ' ' || last_name AS full_name\n",
        "FROM customer;\n",
        "\n",
        "SELECT\n",
        "UPPER(email), LOWER(title), INITCAP(title)#первые буквы большие даже после пробела\n",
        "FROM customer;\n",
        "\n",
        "SELECT # заменить в столбце это на это\n",
        "REPLACE(description, 'A Astounding', 'An Astounding') as description\n",
        "FROM film;\n",
        "\n",
        "SELECT title, REVERSE(title) # реверс слов\n",
        "FROM film AS f;\n",
        "\n",
        "SELECT CHAR_LENGTH(name), LENGTH(name) # длина текста\n",
        "SELECT POSITION('@' IN email), STRPOS(email, '@')\n",
        "\n",
        "SELECT LEFT(description, 50), RIGHT(description, 50) # первые и последние n слов\n",
        "SELECT SUBSTRING(description, 10, 50)\n",
        "SELECT SUBSTRING(email FROM 0 FOR POSITION('@' IN email))\n",
        "\n",
        "TRIM([leading | trailing | both] [characters] from string)\n",
        "# параметры: удаление в начале или конце (обычно везде)\n",
        "# символ который удалется\n",
        "# строка\n",
        "SELECT TRIM(' padded ');\n",
        "SELECT LTRIM(' padded '), RTRIM(' padded '); # удаляем из начала и конца\n",
        "\n",
        "SELECT LPAD('padded', 10),  LPAD('padded', 5); # добавление пробелов слева и справа\n",
        "SELECT RPAD('padded', 10, '#');"
      ],
      "metadata": {
        "id": "AOH-FugOORfo"
      },
      "execution_count": null,
      "outputs": []
    },
    {
      "cell_type": "code",
      "source": [
        "SELECT title\n",
        "FROM film\n",
        "WHERE title LIKE 'ELF%';\n",
        "# Полнотекстовый поиск\n",
        "SELECT title, description\n",
        "FROM film\n",
        "WHERE to_tsvector(title) @@ to_tsquery('elf');\n",
        "# процедура не чувствительна к регистру, есть ли в предложении elf"
      ],
      "metadata": {
        "id": "vRfjCN3Ik0pM"
      },
      "execution_count": null,
      "outputs": []
    },
    {
      "cell_type": "markdown",
      "source": [
        "Введение в расширения PostgreSQL"
      ],
      "metadata": {
        "id": "XgBCCrPRrghD"
      }
    },
    {
      "cell_type": "code",
      "source": [
        "# определяемые пользователем типы данных (регистрирует тип в системной таблице)\n",
        "CREATE TYPE dayofweek AS ENUM ('Monday', 'Tuesday', 'Wednesday', 'Thursday',\n",
        "                               'Friday', 'Saturday', 'Sunday');\n",
        "SELECT typname, typcategory\n",
        "FROM pg_type # системная таблица\n",
        "WHERE typname='dayofweek';\n",
        "+-----------+-------------+\n",
        "|   typname | typcategory |\n",
        "|-----------|-------------|\n",
        "| dayofweek |           E | #тип данных Е ENUM\n",
        "+-----------+-------------+\n",
        "\n",
        "SELECT column_name, data_type, udt_name #udt_name значение имени при создании CREATE TYPE\n",
        "FROM INFORMATION_SCHEMA.COLUMNS # системная таблица\n",
        "WHERE table_name ='film';\n",
        "+-----------------------------------------------+\n",
        "| column_name |         data_type |    udt_name |\n",
        "|-------------|-------------------|-------------|\n",
        "|       title | character varying |     varchar |\n",
        "|      rating |      USER-DEFINED | mpaa_rating |\n",
        "+-----------------------------------------------+"
      ],
      "metadata": {
        "id": "DCHE4vDfuCJ_"
      },
      "execution_count": null,
      "outputs": []
    },
    {
      "cell_type": "code",
      "source": [
        "# пользовательские функции\n",
        "CREATE FUNCTION squared(i integer) RETURNS integer AS $$\n",
        "        BEGIN\n",
        "            RETURN i * i;\n",
        "        END;\n",
        "$$ LANGUAGE plpgsql;\n",
        "SELECT squared(10);"
      ],
      "metadata": {
        "id": "dNm-Oyr3wQ97"
      },
      "execution_count": null,
      "outputs": []
    },
    {
      "cell_type": "code",
      "source": [
        "SELECT name # Available Extensions\n",
        "FROM pg_available_extensions;\n",
        "\n",
        "SELECT extname # Installed Extensions\n",
        "FROM pg_extension;\n",
        "\n",
        "# загрузка расширений в базу данных и включение\n",
        "CREATE EXTENSION IF NOT EXISTS fuzzystrmatch;\n",
        "SELECT extname FROM pg_extension;\n",
        "# функция из расширения\n",
        "SELECT levenshtein('GUMBO', 'GAMBOL');\n",
        "SELECT similarity('GUMBO', 'GAMBOL'); # сходство на триграммах"
      ],
      "metadata": {
        "id": "B99UJzforln8"
      },
      "execution_count": null,
      "outputs": []
    },
    {
      "cell_type": "markdown",
      "source": [
        "**Exploratory Data Analysis in SQL**"
      ],
      "metadata": {
        "id": "DyKHMNbW6ruh"
      }
    },
    {
      "cell_type": "code",
      "source": [
        "count(DISTINCT column_name) # не включает null\n",
        "DISTINCT column_name # включает null\n",
        "count(*) # включает\n",
        "\n",
        "# есть внешние включи которые ссылаются к другой таблице\n",
        "# и первичные ключи\n",
        "\n",
        "SELECT coalesce(column_1, column_2)\n",
        "FROM prices; # возврат значения отличного от null\n",
        " column_1 | column_2      coalesce\n",
        "----------+----------    ---------\n",
        "          | 10               10\n",
        "          |\n",
        "       22 |                  22\n",
        "        3 | 4                 3"
      ],
      "metadata": {
        "id": "wXlk-p1C6uSO"
      },
      "execution_count": null,
      "outputs": []
    },
    {
      "cell_type": "code",
      "source": [
        "# изменение типа\n",
        "SELECT CAST (3.7 AS integer); # 4\n",
        "SELECT CAST (total AS integer)\n",
        "FROM prices;\n",
        "Или SELECT 3.7 :: integer\n",
        "# Практика. Group by name :: int аааааааааааааааааааааааааааааааааааааааааааа"
      ],
      "metadata": {
        "id": "jGCHwe6AGi7m"
      },
      "execution_count": null,
      "outputs": []
    },
    {
      "cell_type": "code",
      "source": [
        "SELECT var_pop(question_pct) # дисперсия теоретическая\n",
        "SELECT var_samp(question_pct), variance(question_pct) # выборки\n",
        "SELECT stddev_samp(question_pct),  stddev_pop(question_pct), stddev(question_pct)\n",
        "\n",
        "SELECT trunc(42.1256, 2),  trunc(12345, -3); # 42.12 и 12000\n",
        "\n",
        "SELECT trunc(unanswered_count, -1) AS trunc_ua, count(*)\n",
        "FROM stackoverflow\n",
        "WHERE tag='amazon-ebs'\n",
        "GROUP BY trunc_ua\n",
        "ORDER BY trunc_ua; # можно и так аааааааааааааааааааааааааааааааааааааааааааааааа\n",
        "\n",
        "SELECT generate_series(0, 1, .1); # от до шаг"
      ],
      "metadata": {
        "id": "3j2UeGlcXEb7"
      },
      "execution_count": null,
      "outputs": []
    },
    {
      "cell_type": "code",
      "source": [
        "# пример подсчета сколько попадает между интервалами\n",
        "WITH bins AS (SELECT generate_series(30,60,5) AS lower,\n",
        "                     generate_series(35,65,5) AS upper),\n",
        "     ebs AS (SELECT unanswered_count\n",
        "             FROM stackoverflow\n",
        "             WHERE tag='amazon-ebs')\n",
        "\n",
        "SELECT lower, upper, count(unanswered_count)\n",
        "FROM bins\n",
        "LEFT JOIN ebs\n",
        "ON unanswered_count >= lower AND unanswered_count < upper\n",
        "GROUP BY lower, upper\n",
        "ORDER BY lower;"
      ],
      "metadata": {
        "id": "C--_X9rMaia6"
      },
      "execution_count": null,
      "outputs": []
    },
    {
      "cell_type": "code",
      "source": [
        "SELECT corr(assets, equity) # корреляция\n",
        "FROM fortune500;\n",
        "# медиана, важно упорядочить\n",
        "SELECT percentile_disc(.5) WITHIN GROUP (ORDER BY name) # выдаст что есть\n",
        "SELECT percentile_cont(.5) WITHIN GROUP (ORDER BY name) # придумает\n"
      ],
      "metadata": {
        "id": "Fs_MYxs4bHLW"
      },
      "execution_count": null,
      "outputs": []
    },
    {
      "cell_type": "code",
      "source": [
        "# создание временных таблиц (способ первый)\n",
        "CREATE TEMP TABLE new_tablename AS\n",
        "       SELECT column1, column2\n",
        "       FROM table;\n",
        "# создание временных таблиц (способ второй PostgreSQL)\n",
        "SELECT column1, column2\n",
        "INTO TEMP TABLE new_tablename\n",
        "FROM table;\n",
        "\n",
        "#добавление строк в временную таблицу\n",
        "INSERT INTO top_companies\n",
        "SELECT rank, title # столбцы должны совпадать\n",
        "FROM fortune500\n",
        "WHERE rank BETWEEN 11 AND 20;\n",
        "\n",
        "# удаление два способа\n",
        "DROP TABLE top_companies;\n",
        "DROP TABLE IF EXISTS top_companies;"
      ],
      "metadata": {
        "id": "A4lhuNb2dg1R"
      },
      "execution_count": null,
      "outputs": []
    },
    {
      "cell_type": "markdown",
      "source": [
        "Техt данные"
      ],
      "metadata": {
        "id": "XIEoJNvXtJ0r"
      }
    },
    {
      "cell_type": "code",
      "source": [
        "'apple' != 'Apple'\n",
        "'' != NULL\n",
        "' apple' != 'apple'\n",
        "'' != ' '\n",
        "'to-do' != 'to–do' # пунктуация\n",
        "#Практика. При group by null подсчитывается, даже если count(id)\n",
        "SELECT lower('aBc DeFg 7-'), upper('aBc DeFg 7-');\n",
        "# удаляет пробелы\n",
        "SELECT trim(' abc '), rtrim(' abc '), ltrim(' abc ')\n",
        "SELECT trim('Wow!', '!'), trim('Wow!', '!wW') #выход 'o'\n",
        "\n",
        "#взять только n в начале или конце\n",
        "SELECT left('abcde', 2), right('abcde', 2);\n",
        "SELECT substring('abcdef' FROM 2 FOR 3);\n",
        "SELECT substr('abcdef', 2, 3);\n",
        "\n",
        "SELECT split_part('a,bc,d', ',', 2); # откуда, как разбить, какую позицию взять\n",
        "SELECT split_part('cats and dogs and fish', ' and ', 1); # cats\n",
        "\n",
        "SELECT concat('a', 2, 'cc'), 'a' || 2 || 'cc'; # a2cc\n",
        "SELECT concat('a', NULL,'cc'),  'a' || NULL || 'cc'; # acc и ничего"
      ],
      "metadata": {
        "id": "fJ7trjUStNT4"
      },
      "execution_count": null,
      "outputs": []
    },
    {
      "cell_type": "code",
      "source": [
        "     id |                                    category | businesses\n",
        "--------+---------------------------------------------+------------\n",
        " 111110 |                Agriculture: Soybean Farming | 4788\n",
        " 111130 |      Agriculture | Dry Pea and Bean Farming | 3606\n",
        " 111140 |                  Agriculture: Wheat Farming | 6393\n",
        "\n",
        "SELECT CASE WHEN category LIKE '%: %' THEN split_part(category, ': ', 1)\n",
        "            WHEN category LIKE '% - %' THEN split_part(category, ' - ', 1)\n",
        "            ELSE split_part(category, ' | ', 1)\n",
        "      END AS major_category, # ты понимаешь о чем ааааааааааааааааааа\n",
        "      sum(businesses)\n",
        "FROM naics\n",
        "GROUP BY major_category; # можно"
      ],
      "metadata": {
        "id": "ZxTjgQNOL7kt"
      },
      "execution_count": null,
      "outputs": []
    },
    {
      "cell_type": "code",
      "source": [
        "CREATE TEMP TABLE recode AS\n",
        "       SELECT DISTINCT fav_fruit AS original, fav_fruit AS standardized\n",
        "       FROM fruit; # DISTINCT по обоим столбцам\n",
        " original | standardized\n",
        "----------+--------------\n",
        "   APPLES | APPLES\n",
        "    apple | apple\n",
        "    Apple | Apple\n",
        "  bannana | bannana\n",
        "\n",
        "# перезаписать столбец\n",
        "UPDATE recode\n",
        "SET standardized=trim(lower(original));\n",
        "\n",
        "UPDATE recode\n",
        "SET standardized='banana'\n",
        "WHERE standardized LIKE '%nn%'; # для строк с nn\n",
        "\n",
        "UPDATE recode\n",
        "SET standardized=rtrim(standardized, 's'); # удаляем s в конце\n",
        "\n",
        "SELECT standardized, count(*)\n",
        "FROM fruit\n",
        "LEFT JOIN recode ON fav_fruit=original\n",
        "GROUP BY standardized;"
      ],
      "metadata": {
        "id": "6_YllmOpNl1K"
      },
      "execution_count": null,
      "outputs": []
    },
    {
      "cell_type": "markdown",
      "source": [
        "Дата и время"
      ],
      "metadata": {
        "id": "C_6zFMHZPklt"
      }
    },
    {
      "cell_type": "code",
      "source": [
        "# date YYYY-MM-DD\n",
        "# timestamp YYYY-MM-DD HH:MM:SS (тут еще пояс бывает)\n",
        "SELECT '2018-01-01' > '2017-12-31';\n",
        "SELECT now() - '2015-01-01'; # 1439 days 21:32:22.616076\n",
        "\n",
        "SELECT '2010-01-01'::date + 1; # 2010-01-02 добавит дни\n",
        "# добавление целого числа к метке времени приведет к ошибке\n",
        "SELECT '2018-12-10'::date + '1 year'::interval; # 2019-12-10 00:00:00\n",
        "SELECT '2018-12-10'::date + '1 year 2 days 3 minutes'::interval;#2019-12-12 00:03:00"
      ],
      "metadata": {
        "id": "mnFMlTwRPmHb"
      },
      "execution_count": null,
      "outputs": []
    },
    {
      "cell_type": "code",
      "source": [
        "SELECT date_part('month', now()), EXTRACT(MONTH FROM now());\n",
        "# извлечение номер месяца\n",
        "SELECT date_part('month', date) AS month, sum(amt)\n",
        "FROM sales\n",
        "GROUP BY month\n",
        "ORDER BY month;\n",
        "\n",
        "-- now() is 2018-12-17 21:45:15.6829-06\n",
        "SELECT date_trunc('month', now()); # 2018-12-01 00:00:00-06\n",
        "\n",
        "SELECT generate_series('2018-01-01', '2018-01-15', '2 days'::interval);\n",
        "# генерирование интервала\n",
        "SELECT generate_series('2018-01-01', '2018-01-02', '5 hours'::interval);\n",
        "SELECT generate_series('2018-01-31', '2018-12-31', '1 month'::interval);\n",
        "\n",
        "# генерировать на конец месяца сложно так как 31 на 28 и дальше 28 28 28 поэтому\n",
        "SELECT generate_series('2018-02-01','2019-01-01', '1 month'::interval) - '1 day'::interval;"
      ],
      "metadata": {
        "id": "G76oJTjT3Hoz"
      },
      "execution_count": null,
      "outputs": []
    },
    {
      "cell_type": "code",
      "source": [
        "# добавить часы где не было продаж\n",
        "WITH hour_series AS (\n",
        "SELECT generate_series('2018-04-23 09:00:00', '2018-04-23 14:00:00', '1 hour'::interval) AS hours)\n",
        "\n",
        "SELECT hours, count(date)\n",
        "FROM hour_series\n",
        "    LEFT JOIN sales\n",
        "        ON hours=date_trunc('hour', date)\n",
        "GROUP BY hours\n",
        "ORDER BY hours;"
      ],
      "metadata": {
        "id": "-DZVvW6GALQL"
      },
      "execution_count": null,
      "outputs": []
    },
    {
      "cell_type": "code",
      "source": [
        "# еще пример\n",
        "WITH bins AS (SELECT generate_series('2018-04-23 09:00:00', '2018-04-23 15:00:00','3 hours'::interval) AS lower,\n",
        "                     generate_series('2018-04-23 12:00:00','2018-04-23 18:00:00','3 hours'::interval) AS upper)\n",
        "\n",
        "SELECT lower, upper, count(date)\n",
        "FROM bins\n",
        "     LEFT JOIN sales\n",
        "            ON date >= lower\n",
        "           AND date < upper\n",
        "GROUP BY lower, upper\n",
        "ORDER BY lower;"
      ],
      "metadata": {
        "id": "2r66X8fHg9sV"
      },
      "execution_count": null,
      "outputs": []
    },
    {
      "cell_type": "code",
      "source": [
        "SELECT date, lag(date) OVER (ORDER BY date),\n",
        "             lead(date) OVER (ORDER BY date)\n",
        "FROM sales;\n",
        "\n",
        "SELECT date,\n",
        "date - lag(date) OVER (ORDER BY date) AS gap\n",
        "FROM sales;\n",
        "\n",
        "                date | gap\n",
        "---------------------+----------\n",
        " 2018-04-23 09:07:33 |\n",
        " 2018-04-23 09:13:14 | 00:05:41\n",
        " 2018-04-23 09:35:16 | 00:22:02\n",
        " 2018-04-23 10:12:35 | 00:37:19\n",
        "\n",
        "SELECT avg(gap)\n",
        "FROM (SELECT date - lag(date) OVER (ORDER BY date) AS gap\n",
        "FROM sales) AS gaps;\n",
        "       avg\n",
        "-----------------\n",
        "00:32:15.555556\n",
        "\n",
        "SELECT date, amount,\n",
        "lag(amount) OVER (ORDER BY date), amount - lag(amount) OVER (ORDER BY date) AS change\n",
        "FROM sales;"
      ],
      "metadata": {
        "id": "flxc1fdukagG"
      },
      "execution_count": null,
      "outputs": []
    },
    {
      "cell_type": "markdown",
      "source": [
        "**Data-Driven Decision Making in SQL**"
      ],
      "metadata": {
        "id": "3z0lCx9_Pg5G"
      }
    },
    {
      "cell_type": "code",
      "source": [
        "SELECT *\n",
        "FROM movies as m\n",
        "WHERE 5 >\n",
        "    (SELECT COUNT(*)\n",
        "     FROM renting as r\n",
        "     WHERE r.movie_id = m.movie_id);"
      ],
      "metadata": {
        "id": "4DCIaYFwP0dK"
      },
      "execution_count": null,
      "outputs": []
    },
    {
      "cell_type": "code",
      "source": [
        "# TRUE возвращается, если результат\n",
        "# коррелированного вложенного запроса содержит хотя бы одну строку\n",
        "SELECT *\n",
        "FROM movies AS m\n",
        "WHERE EXISTS\n",
        "     (SELECT *\n",
        "      FROM renting AS r\n",
        "      WHERE rating IS NOT NULL\n",
        "      AND r.movie_id = m.movie_id);\n",
        "\n",
        "SELECT *\n",
        "FROM movies AS m\n",
        "WHERE NOT EXISTS # верент True если пусто\n",
        "      (SELECT *\n",
        "       FROM renting AS r\n",
        "       WHERE rating IS NOT NULL\n",
        "       AND r.movie_id = m.movie_id);"
      ],
      "metadata": {
        "id": "f2GV5VX_TxMr"
      },
      "execution_count": null,
      "outputs": []
    },
    {
      "cell_type": "code",
      "source": [
        "# UNION (без дубликатов)\n",
        "SELECT title, genre, renting_price\n",
        "FROM movies\n",
        "WHERE renting_price > 2.8\n",
        "UNION\n",
        "SELECT title, genre, renting_price\n",
        "FROM movies\n",
        "WHERE genre = 'Action & Adventure';\n",
        "\n",
        "# INTERSECT (пересечение)\n",
        "SELECT title, genre, renting_price\n",
        "FROM movies\n",
        "WHERE renting_price > 2.8\n",
        "INTERSECT\n",
        "SELECT title, genre, renting_price\n",
        "FROM movies\n",
        "WHERE genre = 'Action & Adventure';"
      ],
      "metadata": {
        "id": "BXOA_f9TWZNV"
      },
      "execution_count": null,
      "outputs": []
    },
    {
      "cell_type": "code",
      "source": [
        "# CUBE, ROLLUP, GROUPING SETS\n",
        "SELECT country, genre, COUNT(*) # длинный формат\n",
        "FROM renting_extended\n",
        "GROUP BY CUBE (country, genre);\n",
        "\n",
        "|  country |  genre | count |\n",
        "|----------|--------|-------|\n",
        "|  Austria | Comedy |     2 |\n",
        "|  Belgium |  Drama |    15 |\n",
        "|  Austria |  Drama |     4 |\n",
        "|  Belgium | Comedy |     1 |\n",
        "|  Belgium |   null |    16 |\n",
        "|  Austria |   null |     6 |\n",
        "|     null | Comedy |     3 |\n",
        "|     null |  Drama |    19 |\n",
        "|     null |   null |    22 |\n",
        "\n",
        "SELECT country, genre, COUNT(*)\n",
        "FROM renting_extended\n",
        "GROUP BY ROLLUP (country, genre);  GROUP BY ROLLUP (genre, country);\n",
        "\n",
        "| country |  genre | count |   | country |  genre | count |\n",
        "|---------|--------|-------|   |---------|--------|-------|\n",
        "|    null |   null |    22 |   |    null |   null |    22 |\n",
        "| Austria | Comedy |     2 |   | Austria | Comedy |     2 |\n",
        "| Belgium |  Drama |    15 |   | Belgium |  Drama |    15 |\n",
        "| Austria |  Drama |     4 |   | Austria |  Drama |     4 |\n",
        "| Belgium | Comedy |     1 |   | Belgium | Comedy |     1 |\n",
        "| Belgium |   null |    16 |   |    null | Comedy |     3 |\n",
        "| Austria |   null |     6 |   |    null |  Drama |    19 |\n",
        "\n",
        "SELECT country, genre, COUNT(*) # выбор уровней агрегации\n",
        "FROM rentings_extended\n",
        "GROUP BY GROUPING SETS ((country, genre), (country), (genre), ());\n",
        "\n",
        "| country |  genre |count|\n",
        "|---------|--------|-----|\n",
        "|    NULL |   NULL |  22 |\n",
        "| Austria | Comedy |   2 |\n",
        "| Belgium |  Drama |  15 |\n",
        "| Austria |  Drama |   4 |\n",
        "| Belgium | Comedy |   1 |\n",
        "| Belgium |   NULL |  16 |\n",
        "| Austria |   NULL |   6 |\n",
        "|    NULL | Comedy |   3 |\n",
        "|    NULL |  Drama |  19 |"
      ],
      "metadata": {
        "id": "obrF36_TkTGa"
      },
      "execution_count": null,
      "outputs": []
    }
  ]
}