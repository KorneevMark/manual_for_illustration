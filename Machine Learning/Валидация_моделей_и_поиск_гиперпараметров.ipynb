{
  "nbformat": 4,
  "nbformat_minor": 0,
  "metadata": {
    "colab": {
      "provenance": []
    },
    "kernelspec": {
      "name": "python3",
      "display_name": "Python 3"
    },
    "language_info": {
      "name": "python"
    }
  },
  "cells": [
    {
      "cell_type": "code",
      "execution_count": null,
      "metadata": {
        "id": "Zizzn0IConS5"
      },
      "outputs": [],
      "source": [
        "from sklearn.ensemble import RandomForestRegressor\n",
        "rfr = RandomForestRegressor(n_estimators=50, max_depth=10)\n",
        "#или параметры могут быть заданы\n",
        "rfr = RandomForestRegressor(random_state=1111)\n",
        "rfr.n_estimators = 50\n",
        "rfr.max_depth = 10\n",
        "\n",
        "for i, item in enumerate(rfr.feature_importances_): #получение важности признака\n",
        "    print(\"{0:s}: {1:.2f}\".format(X.columns[i], item))"
      ]
    },
    {
      "cell_type": "code",
      "source": [
        "#задача классификации, данные крестики-нолики\n",
        "from sklearn.ensemble import RandomForestClassifier\n",
        "rfc = RandomForestClassifier(random_state=1111)\n",
        "rfc.fit(X_train, y_train)\n",
        "rfc.predict(X_test)\n",
        "pd.Series(rfc.predict(X_test)).value_counts()\n",
        "rfc.predict_proba(X_test) #получение вероятности\n",
        "\n",
        "rfc = RandomForestClassifier(random_state=1111)\n",
        "rfc.get_params() #получение параметров модели и их значений\n",
        "rfc.fit(X_train, y_train)\n",
        "rfc.score(X_test, y_test) #точность классификации"
      ],
      "metadata": {
        "id": "7RejRkc-pfk-"
      },
      "execution_count": null,
      "outputs": []
    },
    {
      "cell_type": "markdown",
      "source": [
        "Разделение на train - validation - test"
      ],
      "metadata": {
        "id": "ghsH7kVKsVXX"
      }
    },
    {
      "cell_type": "code",
      "source": [
        "#разделение на train - validation - test (60-20-20)\n",
        "X_temp, X_test, y_temp, y_test = train_test_split(X, y,\n",
        "                                                  test_size=0.2, random_state=1111)\n",
        "X_train, X_val, y_train, y_val = train_test_split(X_temp, y_temp,\n",
        "                                                  test_size=0.25, random_state=11111)"
      ],
      "metadata": {
        "id": "pbjtNFxrfW69"
      },
      "execution_count": null,
      "outputs": []
    },
    {
      "cell_type": "code",
      "source": [
        "#MAE\n",
        "from sklearn.metrics import mean_absolute_error,  mean_squared_error\n",
        "mean_absolute_error(y_test, test_predictions)\n",
        "mean_squared_error(y_test, test_predictions)\n",
        "\n",
        "#оценка точности на подкатегориях\n",
        "chocolate_preds = rfr.predict(X_test[X_test[:, 1] == 1]) #для nonchocolate_preds 0\n",
        "mean_absolute_error(y_test[X_test[:, 1] == 1], chocolate_preds)"
      ],
      "metadata": {
        "id": "rV1ahkALg6a6"
      },
      "execution_count": null,
      "outputs": []
    },
    {
      "cell_type": "code",
      "source": [
        "#построение матрицы\n",
        "from sklearn.metrics import confusion_matrix\n",
        "cm = confusion_matrix(y_test, test_predictions)\n",
        "print(cm) # array([[ 23, 7], [ 8, 62]])\n",
        "cm[1, 0] # 8"
      ],
      "metadata": {
        "id": "yfhdL_s2r5cQ"
      },
      "execution_count": null,
      "outputs": []
    },
    {
      "cell_type": "code",
      "source": [
        "from sklearn.metrics import accuracy_score, precision_score, recall_score\n",
        "accuracy_score(y_test, test_predictions)\n",
        "precision_score(y_test, test_predictions)\n",
        "recall_score(y_test, test_predictions)"
      ],
      "metadata": {
        "id": "DIEssc163L-7"
      },
      "execution_count": null,
      "outputs": []
    },
    {
      "cell_type": "code",
      "source": [
        "from sklearn.model_selection import cross_val_score\n",
        "from sklearn.ensemble import RandomForestClassifier\n",
        "rfc = RandomForestClassifier()\n",
        "cross_val_score(estimator=rfc, X=X, y=y, cv=5) #по умолчанию использует\n",
        "# функцию оценки по умолчанию для любой указанной модели\n",
        "\n",
        "#если хотим использовать определенную оценку\n",
        "from sklearn.metrics import mean_absolute_error, make_scorer\n",
        "mae_scorer = make_scorer(mean_absolute_error)\n",
        "cross_val_score(<estimator>, <X>, <y>, cv=5, scoring=mae_scorer)"
      ],
      "metadata": {
        "id": "WFvOvKG6FbnW"
      },
      "execution_count": null,
      "outputs": []
    },
    {
      "cell_type": "code",
      "source": [
        "#LOOCV\n",
        "mse = make_scorer(mean_squared_error)\n",
        "cv_results = cross_val_score(estimator, X, y, scoring=mse, cv= X.shape[0])\n",
        "print(cv_results.mean())"
      ],
      "metadata": {
        "id": "ucfMchv-K2Ly"
      },
      "execution_count": null,
      "outputs": []
    },
    {
      "cell_type": "markdown",
      "source": [
        "Настройка гиперпараметров"
      ],
      "metadata": {
        "id": "cRYAE0IP-tDK"
      }
    },
    {
      "cell_type": "code",
      "source": [
        "from sklearn.linear_model import LinearRegression\n",
        "lr = LinearRegression()\n",
        "lr.fit(X, y)\n",
        "print(lr.coef_, lr.intercept_)\n",
        "\n",
        "rfc = RandomForestRegressor(...)\n",
        "rfc.get_params() # гиперпараметры"
      ],
      "metadata": {
        "id": "4QaTRj19-sQZ"
      },
      "execution_count": null,
      "outputs": []
    },
    {
      "cell_type": "code",
      "source": [
        "#RandomizedSearchCV\n",
        "from sklearn.model_selection import RandomizedSearchCV\n",
        "random_search = RandomizedSearchCV()\n",
        "param_dist = {\"max_depth\": [4, 6, 8, None], \"max_features\": range(2, 11), \"min_samples_split\": range(2, 11)}\n",
        "\n",
        "from sklearn.ensemble import RandomForestRegressor\n",
        "from sklearn.metrics import make_scorer, mean_absolute_error\n",
        "rfr = RandomForestRegressor(n_estimators=20, random_state=1111)\n",
        "scorer = make_scorer(mean_absolute_error)\n",
        "\n",
        "random_search = RandomizedSearchCV(estimator=rfr, param_distributions=param_dist, n_iter=40, cv=5)\n",
        "random_search.fit(X, y)\n",
        "\n",
        "#rs - реализация RandomizedSearchCV()\n",
        "rs.best_score_\n",
        "rs.best_params_ #{'max_depth': 4, 'max_features': 8, 'min_samples_split': 4}\n",
        "rs.best_estimator_\n",
        "\n",
        "rs.cv_results_ # словарь\n",
        "rs.cv_results_['mean_test_score'] #для каждого запуска средняя оценка теста CV\n",
        "rs.cv_results_['params'] #для каждого запуска все выбранные параметры\n",
        "\n",
        "max_depth = [item['max_depth'] for item in rs.cv_results_['params']]\n",
        "scores = list(rs.cv_results_['mean_test_score'])\n",
        "d = pd.DataFrame([max_depth, scores]).T\n",
        "d.columns = ['Max Depth', 'Score']\n",
        "d.groupby(['Max Depth']).mean()\n",
        "\n",
        "rs.best_estimator_ #содержит модель, которая показала наилучшие результаты во время перекрестной проверки\n",
        "rs.best_estimator_.predict(<new_data>) #предсказать новые данные\n",
        "random_search.best_estimator_.get_params() #проверить все параметры\n",
        "\n",
        "from sklearn.externals import joblib\n",
        "joblib.dump(rfr, 'rfr_best_<date>.pkl') # сохранить модель в формате pickle"
      ],
      "metadata": {
        "id": "4fNvLAaGNSVc"
      },
      "execution_count": null,
      "outputs": []
    },
    {
      "cell_type": "markdown",
      "source": [
        "Таблица оценки название признаков"
      ],
      "metadata": {
        "id": "fN27fD3AnpjJ"
      }
    },
    {
      "cell_type": "code",
      "execution_count": null,
      "metadata": {
        "id": "9KvyG_BwL8zX"
      },
      "outputs": [],
      "source": [
        "log_reg_clf = LogisticRegression() # красиво переменная и оценка\n",
        "log_reg_clf.fit(X_train, y_train)\n",
        "print(log_reg_clf.coef_)\n",
        "# array([[-2.886, -8.231, 7.50,..., -4.393, cont... ]])\n",
        "\n",
        "original_variables = list(X_train.columns)\n",
        "zipped_together = list(zip(original_variables, log_reg_clf.coef_[0]))\n",
        "coefs = [list(x) for x in zipped_together]\n",
        "coefs = pd.DataFrame(coefs, columns=[\"Variable\", \"Coefficient\"])\n",
        "\n",
        "coefs.sort_values(by=[\"Coefficient\"], axis=0, inplace=True, ascending=False)\n",
        "print(coefs.head(3)) # переменная коэффциент"
      ]
    },
    {
      "cell_type": "markdown",
      "source": [
        "Извлечение решений узла"
      ],
      "metadata": {
        "id": "WSJ8htBtuVD1"
      }
    },
    {
      "cell_type": "code",
      "source": [
        "import numpy as np\n",
        "from sklearn.model_selection import train_test_split\n",
        "from sklearn import datasets\n",
        "from sklearn.ensemble import RandomForestClassifier\n",
        "X, y = datasets.load_iris(return_X_y=True, as_frame = True)\n",
        "X_train, X_test, y_train, y_test = train_test_split(X, y, test_size=0.8, train_size=0.2,\n",
        "                                                    random_state=42, shuffle=True, stratify=y)"
      ],
      "metadata": {
        "id": "GyrMFPAyntYf"
      },
      "execution_count": 6,
      "outputs": []
    },
    {
      "cell_type": "code",
      "source": [
        "#параметры дерева - переменная и значение разеделения (параметры в узлах)\n",
        "rf_clf = RandomForestClassifier(max_depth=2)\n",
        "rf_clf.fit(X_train, y_train)\n",
        "chosen_tree = rf_clf.estimators_[7] # выбрали дерево из ансамбля\n",
        "# дерево, которое мы вытащили, является «древовидным» объектом\n",
        "split_column = chosen_tree.tree_.feature[1]\n",
        "split_column_name = X_train.columns[split_column]\n",
        "# сопоставляя его с нашими X_train столбцами, чтобы получить имя\n",
        "split_value = chosen_tree.tree_.threshold[1] # уровень разделения\n",
        "print(\"This node split on feature {}, at a value of {}\".format(split_column_name, split_value))\n",
        "# \"This node split on feature PAY_0, at a value of 1.5\""
      ],
      "metadata": {
        "id": "5uJIckqhWKKv",
        "colab": {
          "base_uri": "https://localhost:8080/"
        },
        "outputId": "5305026e-06c7-48d6-ab09-bfcc55c29a60"
      },
      "execution_count": 10,
      "outputs": [
        {
          "output_type": "stream",
          "name": "stdout",
          "text": [
            "This node split on feature petal width (cm), at a value of 0.75\n"
          ]
        }
      ]
    },
    {
      "cell_type": "markdown",
      "source": [
        "Объект GridSearchCV аргументы:\n",
        "*   estimator - наш алгоритм\n",
        "*   param_grid\n",
        "*   cv - можно указать различные типы перекрестной проверки но и число\n",
        "*   scoring\n",
        "*   refit - true, означает, что для подгонки к обучающим данным используются наилучшие комбинации гиперпараметров. Объект GridSearchCV можно использовать непосредственно в качестве оценщика Это очень удобно, так как вам не нужно сохранять наши лучшие гиперпараметры и обучать другую модель.\n",
        "*   n_jobs - помогает при параллельном выполнении\n",
        "*   return_train_score - полезно для построения графика и понимания производительности теста и обучающего набора\n",
        "\n"
      ],
      "metadata": {
        "id": "XIpIrvY2_zz2"
      }
    },
    {
      "cell_type": "code",
      "source": [
        "sklearn.model_selection.GridSearchCV(estimator, param_grid, scoring=None, fit_params=None, n_jobs=None,\n",
        "                                     refit=True, cv='warn', verbose=0, pre_dispatch='2*n_jobs',\n",
        "                                     error_score='raise-deprecating', return_train_score='warn')"
      ],
      "metadata": {
        "id": "VynpFtif1LKs"
      },
      "execution_count": null,
      "outputs": []
    },
    {
      "cell_type": "code",
      "source": [
        "import os\n",
        "print(os.cpu_count()) # проверить, сколько ядер\n",
        "\n",
        "from sklearn.model_selection import GridSearchCV\n",
        "param_grid = {'max_depth': [2, 4, 6, 8], 'min_samples_leaf': [1, 2, 4, 6]}\n",
        "rf_class = RandomForestClassifier(criterion='entropy', max_features='auto')\n",
        "grid_rf_class = GridSearchCV(estimator = rf_class, param_grid = param_grid,\n",
        "                scoring='accuracy',n_jobs=4, cv = 10, refit=True, return_train_score=True)\n",
        "grid_rf_class.fit(X_train, y_train)\n",
        "grid_rf_class.predict(X_test) # если для refit = True то можно использовать лучшую"
      ],
      "metadata": {
        "id": "B7kCs2vO_A_B",
        "colab": {
          "base_uri": "https://localhost:8080/"
        },
        "outputId": "f88b9b5f-d8e8-4569-8c7a-67603bd0464d"
      },
      "execution_count": 7,
      "outputs": [
        {
          "output_type": "stream",
          "name": "stdout",
          "text": [
            "2\n"
          ]
        },
        {
          "output_type": "stream",
          "name": "stderr",
          "text": [
            "/usr/local/lib/python3.10/dist-packages/sklearn/ensemble/_forest.py:424: FutureWarning: `max_features='auto'` has been deprecated in 1.1 and will be removed in 1.3. To keep the past behaviour, explicitly set `max_features='sqrt'` or remove this parameter as it is also the default value for RandomForestClassifiers and ExtraTreesClassifiers.\n",
            "  warn(\n"
          ]
        },
        {
          "output_type": "execute_result",
          "data": {
            "text/plain": [
              "array([0, 0, 0, 0, 1, 0, 2, 0, 2, 1, 0, 1, 1, 2, 0, 0, 0, 1, 1, 2, 1, 0,\n",
              "       1, 1, 1, 2, 1, 1, 1, 2, 1, 2, 2, 0, 2, 1, 2, 2, 2, 1, 0, 1, 0, 0,\n",
              "       0, 0, 0, 1, 2, 2, 0, 2, 0, 0, 1, 2, 0, 1, 1, 1, 1, 0, 2, 0, 2, 0,\n",
              "       2, 2, 0, 0, 2, 1, 2, 0, 0, 2, 1, 1, 1, 2, 1, 2, 2, 1, 2, 0, 0, 2,\n",
              "       1, 2, 2, 1, 1, 1, 2, 0, 0, 0, 2, 1, 2, 1, 2, 2, 0, 1, 1, 0, 2, 1,\n",
              "       2, 2, 0, 1, 0, 0, 1, 1, 2, 0])"
            ]
          },
          "metadata": {},
          "execution_count": 7
        }
      ]
    },
    {
      "cell_type": "markdown",
      "source": [
        "Свойства объекта (GridSearchCV) можно разделить на три различные группы:\n",
        "* A results log\n",
        "\n",
        "    cv_results_\n",
        "* The best results\n",
        "\n",
        "    best_index_ , best_params_& best_score_\n",
        "* 'Extra information'\n",
        "\n",
        "    scorer_ , n_splits_ & refit_time_\n"
      ],
      "metadata": {
        "id": "qSgo05fBIo5t"
      }
    },
    {
      "cell_type": "code",
      "source": [
        "import pandas as pd\n",
        "cv_results_df = pd.DataFrame(grid_rf_class.cv_results_)\n",
        "print(cv_results_df.shape) # (12, 23) 12 кавадратов\n",
        "#есть столбцы время, столбцы param и есть prams словарь всех параметров\n",
        "cv_results_df.T.head()"
      ],
      "metadata": {
        "id": "TVF22IaKJVvA",
        "colab": {
          "base_uri": "https://localhost:8080/",
          "height": 243
        },
        "outputId": "34106f2b-f00c-4ac9-98df-08aa227902dc"
      },
      "execution_count": 16,
      "outputs": [
        {
          "output_type": "stream",
          "name": "stdout",
          "text": [
            "(16, 32)\n"
          ]
        },
        {
          "output_type": "execute_result",
          "data": {
            "text/plain": [
              "                       0         1         2         3         4         5   \\\n",
              "mean_fit_time    0.511103  0.526153  0.715394  0.957369  0.858333  0.502308   \n",
              "std_fit_time     0.045916  0.061828  0.200116  0.099006  0.088445  0.030333   \n",
              "mean_score_time  0.026875  0.026816  0.034425  0.039197  0.029384  0.024206   \n",
              "std_score_time   0.004045  0.008727   0.00641  0.010809  0.011695  0.003602   \n",
              "param_max_depth         2         2         2         2         4         4   \n",
              "\n",
              "                       6         7         8         9         10        11  \\\n",
              "mean_fit_time    0.518504  0.516663  0.498831  0.509396  0.508556  0.524297   \n",
              "std_fit_time      0.02901  0.038435  0.067707  0.054816  0.046438  0.058007   \n",
              "mean_score_time   0.02232  0.023896  0.023839  0.021446  0.025087  0.025315   \n",
              "std_score_time   0.003505  0.006429  0.004247  0.008502   0.00831  0.006282   \n",
              "param_max_depth         4         4         6         6         6         6   \n",
              "\n",
              "                       12        13        14        15  \n",
              "mean_fit_time     0.91202  0.942994   0.60076  0.460606  \n",
              "std_fit_time     0.125714  0.079947  0.101935  0.091521  \n",
              "mean_score_time  0.044317  0.039782  0.024236  0.023238  \n",
              "std_score_time   0.006981  0.010769  0.005609  0.010841  \n",
              "param_max_depth         8         8         8         8  "
            ],
            "text/html": [
              "\n",
              "  <div id=\"df-673fc09d-1390-4c1c-888b-b1193270f033\" class=\"colab-df-container\">\n",
              "    <div>\n",
              "<style scoped>\n",
              "    .dataframe tbody tr th:only-of-type {\n",
              "        vertical-align: middle;\n",
              "    }\n",
              "\n",
              "    .dataframe tbody tr th {\n",
              "        vertical-align: top;\n",
              "    }\n",
              "\n",
              "    .dataframe thead th {\n",
              "        text-align: right;\n",
              "    }\n",
              "</style>\n",
              "<table border=\"1\" class=\"dataframe\">\n",
              "  <thead>\n",
              "    <tr style=\"text-align: right;\">\n",
              "      <th></th>\n",
              "      <th>0</th>\n",
              "      <th>1</th>\n",
              "      <th>2</th>\n",
              "      <th>3</th>\n",
              "      <th>4</th>\n",
              "      <th>5</th>\n",
              "      <th>6</th>\n",
              "      <th>7</th>\n",
              "      <th>8</th>\n",
              "      <th>9</th>\n",
              "      <th>10</th>\n",
              "      <th>11</th>\n",
              "      <th>12</th>\n",
              "      <th>13</th>\n",
              "      <th>14</th>\n",
              "      <th>15</th>\n",
              "    </tr>\n",
              "  </thead>\n",
              "  <tbody>\n",
              "    <tr>\n",
              "      <th>mean_fit_time</th>\n",
              "      <td>0.511103</td>\n",
              "      <td>0.526153</td>\n",
              "      <td>0.715394</td>\n",
              "      <td>0.957369</td>\n",
              "      <td>0.858333</td>\n",
              "      <td>0.502308</td>\n",
              "      <td>0.518504</td>\n",
              "      <td>0.516663</td>\n",
              "      <td>0.498831</td>\n",
              "      <td>0.509396</td>\n",
              "      <td>0.508556</td>\n",
              "      <td>0.524297</td>\n",
              "      <td>0.91202</td>\n",
              "      <td>0.942994</td>\n",
              "      <td>0.60076</td>\n",
              "      <td>0.460606</td>\n",
              "    </tr>\n",
              "    <tr>\n",
              "      <th>std_fit_time</th>\n",
              "      <td>0.045916</td>\n",
              "      <td>0.061828</td>\n",
              "      <td>0.200116</td>\n",
              "      <td>0.099006</td>\n",
              "      <td>0.088445</td>\n",
              "      <td>0.030333</td>\n",
              "      <td>0.02901</td>\n",
              "      <td>0.038435</td>\n",
              "      <td>0.067707</td>\n",
              "      <td>0.054816</td>\n",
              "      <td>0.046438</td>\n",
              "      <td>0.058007</td>\n",
              "      <td>0.125714</td>\n",
              "      <td>0.079947</td>\n",
              "      <td>0.101935</td>\n",
              "      <td>0.091521</td>\n",
              "    </tr>\n",
              "    <tr>\n",
              "      <th>mean_score_time</th>\n",
              "      <td>0.026875</td>\n",
              "      <td>0.026816</td>\n",
              "      <td>0.034425</td>\n",
              "      <td>0.039197</td>\n",
              "      <td>0.029384</td>\n",
              "      <td>0.024206</td>\n",
              "      <td>0.02232</td>\n",
              "      <td>0.023896</td>\n",
              "      <td>0.023839</td>\n",
              "      <td>0.021446</td>\n",
              "      <td>0.025087</td>\n",
              "      <td>0.025315</td>\n",
              "      <td>0.044317</td>\n",
              "      <td>0.039782</td>\n",
              "      <td>0.024236</td>\n",
              "      <td>0.023238</td>\n",
              "    </tr>\n",
              "    <tr>\n",
              "      <th>std_score_time</th>\n",
              "      <td>0.004045</td>\n",
              "      <td>0.008727</td>\n",
              "      <td>0.00641</td>\n",
              "      <td>0.010809</td>\n",
              "      <td>0.011695</td>\n",
              "      <td>0.003602</td>\n",
              "      <td>0.003505</td>\n",
              "      <td>0.006429</td>\n",
              "      <td>0.004247</td>\n",
              "      <td>0.008502</td>\n",
              "      <td>0.00831</td>\n",
              "      <td>0.006282</td>\n",
              "      <td>0.006981</td>\n",
              "      <td>0.010769</td>\n",
              "      <td>0.005609</td>\n",
              "      <td>0.010841</td>\n",
              "    </tr>\n",
              "    <tr>\n",
              "      <th>param_max_depth</th>\n",
              "      <td>2</td>\n",
              "      <td>2</td>\n",
              "      <td>2</td>\n",
              "      <td>2</td>\n",
              "      <td>4</td>\n",
              "      <td>4</td>\n",
              "      <td>4</td>\n",
              "      <td>4</td>\n",
              "      <td>6</td>\n",
              "      <td>6</td>\n",
              "      <td>6</td>\n",
              "      <td>6</td>\n",
              "      <td>8</td>\n",
              "      <td>8</td>\n",
              "      <td>8</td>\n",
              "      <td>8</td>\n",
              "    </tr>\n",
              "  </tbody>\n",
              "</table>\n",
              "</div>\n",
              "    <div class=\"colab-df-buttons\">\n",
              "\n",
              "  <div class=\"colab-df-container\">\n",
              "    <button class=\"colab-df-convert\" onclick=\"convertToInteractive('df-673fc09d-1390-4c1c-888b-b1193270f033')\"\n",
              "            title=\"Convert this dataframe to an interactive table.\"\n",
              "            style=\"display:none;\">\n",
              "\n",
              "  <svg xmlns=\"http://www.w3.org/2000/svg\" height=\"24px\" viewBox=\"0 -960 960 960\">\n",
              "    <path d=\"M120-120v-720h720v720H120Zm60-500h600v-160H180v160Zm220 220h160v-160H400v160Zm0 220h160v-160H400v160ZM180-400h160v-160H180v160Zm440 0h160v-160H620v160ZM180-180h160v-160H180v160Zm440 0h160v-160H620v160Z\"/>\n",
              "  </svg>\n",
              "    </button>\n",
              "\n",
              "  <style>\n",
              "    .colab-df-container {\n",
              "      display:flex;\n",
              "      gap: 12px;\n",
              "    }\n",
              "\n",
              "    .colab-df-convert {\n",
              "      background-color: #E8F0FE;\n",
              "      border: none;\n",
              "      border-radius: 50%;\n",
              "      cursor: pointer;\n",
              "      display: none;\n",
              "      fill: #1967D2;\n",
              "      height: 32px;\n",
              "      padding: 0 0 0 0;\n",
              "      width: 32px;\n",
              "    }\n",
              "\n",
              "    .colab-df-convert:hover {\n",
              "      background-color: #E2EBFA;\n",
              "      box-shadow: 0px 1px 2px rgba(60, 64, 67, 0.3), 0px 1px 3px 1px rgba(60, 64, 67, 0.15);\n",
              "      fill: #174EA6;\n",
              "    }\n",
              "\n",
              "    .colab-df-buttons div {\n",
              "      margin-bottom: 4px;\n",
              "    }\n",
              "\n",
              "    [theme=dark] .colab-df-convert {\n",
              "      background-color: #3B4455;\n",
              "      fill: #D2E3FC;\n",
              "    }\n",
              "\n",
              "    [theme=dark] .colab-df-convert:hover {\n",
              "      background-color: #434B5C;\n",
              "      box-shadow: 0px 1px 3px 1px rgba(0, 0, 0, 0.15);\n",
              "      filter: drop-shadow(0px 1px 2px rgba(0, 0, 0, 0.3));\n",
              "      fill: #FFFFFF;\n",
              "    }\n",
              "  </style>\n",
              "\n",
              "    <script>\n",
              "      const buttonEl =\n",
              "        document.querySelector('#df-673fc09d-1390-4c1c-888b-b1193270f033 button.colab-df-convert');\n",
              "      buttonEl.style.display =\n",
              "        google.colab.kernel.accessAllowed ? 'block' : 'none';\n",
              "\n",
              "      async function convertToInteractive(key) {\n",
              "        const element = document.querySelector('#df-673fc09d-1390-4c1c-888b-b1193270f033');\n",
              "        const dataTable =\n",
              "          await google.colab.kernel.invokeFunction('convertToInteractive',\n",
              "                                                    [key], {});\n",
              "        if (!dataTable) return;\n",
              "\n",
              "        const docLinkHtml = 'Like what you see? Visit the ' +\n",
              "          '<a target=\"_blank\" href=https://colab.research.google.com/notebooks/data_table.ipynb>data table notebook</a>'\n",
              "          + ' to learn more about interactive tables.';\n",
              "        element.innerHTML = '';\n",
              "        dataTable['output_type'] = 'display_data';\n",
              "        await google.colab.output.renderOutput(dataTable, element);\n",
              "        const docLink = document.createElement('div');\n",
              "        docLink.innerHTML = docLinkHtml;\n",
              "        element.appendChild(docLink);\n",
              "      }\n",
              "    </script>\n",
              "  </div>\n",
              "\n",
              "\n",
              "<div id=\"df-a197ce38-b404-4359-bf0e-8a496c0334d3\">\n",
              "  <button class=\"colab-df-quickchart\" onclick=\"quickchart('df-a197ce38-b404-4359-bf0e-8a496c0334d3')\"\n",
              "            title=\"Suggest charts\"\n",
              "            style=\"display:none;\">\n",
              "\n",
              "<svg xmlns=\"http://www.w3.org/2000/svg\" height=\"24px\"viewBox=\"0 0 24 24\"\n",
              "     width=\"24px\">\n",
              "    <g>\n",
              "        <path d=\"M19 3H5c-1.1 0-2 .9-2 2v14c0 1.1.9 2 2 2h14c1.1 0 2-.9 2-2V5c0-1.1-.9-2-2-2zM9 17H7v-7h2v7zm4 0h-2V7h2v10zm4 0h-2v-4h2v4z\"/>\n",
              "    </g>\n",
              "</svg>\n",
              "  </button>\n",
              "\n",
              "<style>\n",
              "  .colab-df-quickchart {\n",
              "      --bg-color: #E8F0FE;\n",
              "      --fill-color: #1967D2;\n",
              "      --hover-bg-color: #E2EBFA;\n",
              "      --hover-fill-color: #174EA6;\n",
              "      --disabled-fill-color: #AAA;\n",
              "      --disabled-bg-color: #DDD;\n",
              "  }\n",
              "\n",
              "  [theme=dark] .colab-df-quickchart {\n",
              "      --bg-color: #3B4455;\n",
              "      --fill-color: #D2E3FC;\n",
              "      --hover-bg-color: #434B5C;\n",
              "      --hover-fill-color: #FFFFFF;\n",
              "      --disabled-bg-color: #3B4455;\n",
              "      --disabled-fill-color: #666;\n",
              "  }\n",
              "\n",
              "  .colab-df-quickchart {\n",
              "    background-color: var(--bg-color);\n",
              "    border: none;\n",
              "    border-radius: 50%;\n",
              "    cursor: pointer;\n",
              "    display: none;\n",
              "    fill: var(--fill-color);\n",
              "    height: 32px;\n",
              "    padding: 0;\n",
              "    width: 32px;\n",
              "  }\n",
              "\n",
              "  .colab-df-quickchart:hover {\n",
              "    background-color: var(--hover-bg-color);\n",
              "    box-shadow: 0 1px 2px rgba(60, 64, 67, 0.3), 0 1px 3px 1px rgba(60, 64, 67, 0.15);\n",
              "    fill: var(--button-hover-fill-color);\n",
              "  }\n",
              "\n",
              "  .colab-df-quickchart-complete:disabled,\n",
              "  .colab-df-quickchart-complete:disabled:hover {\n",
              "    background-color: var(--disabled-bg-color);\n",
              "    fill: var(--disabled-fill-color);\n",
              "    box-shadow: none;\n",
              "  }\n",
              "\n",
              "  .colab-df-spinner {\n",
              "    border: 2px solid var(--fill-color);\n",
              "    border-color: transparent;\n",
              "    border-bottom-color: var(--fill-color);\n",
              "    animation:\n",
              "      spin 1s steps(1) infinite;\n",
              "  }\n",
              "\n",
              "  @keyframes spin {\n",
              "    0% {\n",
              "      border-color: transparent;\n",
              "      border-bottom-color: var(--fill-color);\n",
              "      border-left-color: var(--fill-color);\n",
              "    }\n",
              "    20% {\n",
              "      border-color: transparent;\n",
              "      border-left-color: var(--fill-color);\n",
              "      border-top-color: var(--fill-color);\n",
              "    }\n",
              "    30% {\n",
              "      border-color: transparent;\n",
              "      border-left-color: var(--fill-color);\n",
              "      border-top-color: var(--fill-color);\n",
              "      border-right-color: var(--fill-color);\n",
              "    }\n",
              "    40% {\n",
              "      border-color: transparent;\n",
              "      border-right-color: var(--fill-color);\n",
              "      border-top-color: var(--fill-color);\n",
              "    }\n",
              "    60% {\n",
              "      border-color: transparent;\n",
              "      border-right-color: var(--fill-color);\n",
              "    }\n",
              "    80% {\n",
              "      border-color: transparent;\n",
              "      border-right-color: var(--fill-color);\n",
              "      border-bottom-color: var(--fill-color);\n",
              "    }\n",
              "    90% {\n",
              "      border-color: transparent;\n",
              "      border-bottom-color: var(--fill-color);\n",
              "    }\n",
              "  }\n",
              "</style>\n",
              "\n",
              "  <script>\n",
              "    async function quickchart(key) {\n",
              "      const quickchartButtonEl =\n",
              "        document.querySelector('#' + key + ' button');\n",
              "      quickchartButtonEl.disabled = true;  // To prevent multiple clicks.\n",
              "      quickchartButtonEl.classList.add('colab-df-spinner');\n",
              "      try {\n",
              "        const charts = await google.colab.kernel.invokeFunction(\n",
              "            'suggestCharts', [key], {});\n",
              "      } catch (error) {\n",
              "        console.error('Error during call to suggestCharts:', error);\n",
              "      }\n",
              "      quickchartButtonEl.classList.remove('colab-df-spinner');\n",
              "      quickchartButtonEl.classList.add('colab-df-quickchart-complete');\n",
              "    }\n",
              "    (() => {\n",
              "      let quickchartButtonEl =\n",
              "        document.querySelector('#df-a197ce38-b404-4359-bf0e-8a496c0334d3 button');\n",
              "      quickchartButtonEl.style.display =\n",
              "        google.colab.kernel.accessAllowed ? 'block' : 'none';\n",
              "    })();\n",
              "  </script>\n",
              "</div>\n",
              "    </div>\n",
              "  </div>\n"
            ]
          },
          "metadata": {},
          "execution_count": 16
        }
      ]
    },
    {
      "cell_type": "code",
      "source": [
        "pd.set_option(\"display.max_colwidth\", -1) # печать всего\n",
        "print(cv_results_df.loc[:,\"params\"])\n",
        "# столбцы: test и train score для каждого сгиба и среднее и стандартное отклонение\n",
        "# последний столбец - ранжирование по mean_test_score"
      ],
      "metadata": {
        "colab": {
          "base_uri": "https://localhost:8080/"
        },
        "id": "Nk7JbT8Z8pd2",
        "outputId": "df416a07-34d6-4f54-af68-decdb4f6f1f6"
      },
      "execution_count": 17,
      "outputs": [
        {
          "output_type": "stream",
          "name": "stdout",
          "text": [
            "0     {'max_depth': 2, 'min_samples_leaf': 1}\n",
            "1     {'max_depth': 2, 'min_samples_leaf': 2}\n",
            "2     {'max_depth': 2, 'min_samples_leaf': 4}\n",
            "3     {'max_depth': 2, 'min_samples_leaf': 6}\n",
            "4     {'max_depth': 4, 'min_samples_leaf': 1}\n",
            "5     {'max_depth': 4, 'min_samples_leaf': 2}\n",
            "6     {'max_depth': 4, 'min_samples_leaf': 4}\n",
            "7     {'max_depth': 4, 'min_samples_leaf': 6}\n",
            "8     {'max_depth': 6, 'min_samples_leaf': 1}\n",
            "9     {'max_depth': 6, 'min_samples_leaf': 2}\n",
            "10    {'max_depth': 6, 'min_samples_leaf': 4}\n",
            "11    {'max_depth': 6, 'min_samples_leaf': 6}\n",
            "12    {'max_depth': 8, 'min_samples_leaf': 1}\n",
            "13    {'max_depth': 8, 'min_samples_leaf': 2}\n",
            "14    {'max_depth': 8, 'min_samples_leaf': 4}\n",
            "15    {'max_depth': 8, 'min_samples_leaf': 6}\n",
            "Name: params, dtype: object\n"
          ]
        },
        {
          "output_type": "stream",
          "name": "stderr",
          "text": [
            "<ipython-input-17-286ec9caf1b3>:1: FutureWarning: Passing a negative integer is deprecated in version 1.0 and will not be supported in future version. Instead, use None to not limit the column width.\n",
            "  pd.set_option(\"display.max_colwidth\", -1) # печать всего\n"
          ]
        }
      ]
    },
    {
      "cell_type": "code",
      "source": [
        "best_row = cv_results_df[cv_results_df[\"rank_test_score\"] == 1]\n",
        "print(best_row)\n",
        "#установили return_train_score значение True, это не включало бы оценки обучения"
      ],
      "metadata": {
        "id": "fVWb4R8K-NI4"
      },
      "execution_count": 21,
      "outputs": []
    },
    {
      "cell_type": "markdown",
      "source": [
        "\n",
        "\n",
        "*   best_params_ - словарь параметров\n",
        "*   best_score_ - лучший результат\n",
        "*   best_index_ - строка по лучшему mean_test_score\n",
        "\n"
      ],
      "metadata": {
        "id": "zLPURkt9R_Vn"
      }
    },
    {
      "cell_type": "code",
      "source": [
        "print(grid_rf_class.best_estimator_) # благодаря refit=True при создании поиска\n",
        "#sklearn.ensemble.forest.RandomForestClassifier"
      ],
      "metadata": {
        "id": "yvoDD9TESSDB",
        "colab": {
          "base_uri": "https://localhost:8080/"
        },
        "outputId": "c2512f2e-ca3f-413d-f7c5-f86a65713f53"
      },
      "execution_count": 23,
      "outputs": [
        {
          "output_type": "stream",
          "name": "stdout",
          "text": [
            "RandomForestClassifier(criterion='entropy', max_depth=2, max_features='auto')\n"
          ]
        }
      ]
    },
    {
      "cell_type": "markdown",
      "source": [
        "* scorer_ - функция оценки\n",
        "\n",
        "* n_splits_ -количество разделов перекрестной проверки\n",
        "\n",
        "* refit_time_ - количество секунд, затраченных на переоборудование лучшей модели для всего набора данных\n",
        "\n",
        "\n"
      ],
      "metadata": {
        "id": "6evdmvbrelfi"
      }
    },
    {
      "cell_type": "markdown",
      "source": [
        "Random Search"
      ],
      "metadata": {
        "id": "14NCgyNg-36s"
      }
    },
    {
      "cell_type": "markdown",
      "source": [
        "Различия в n_iter и param_distributiobs - при необходимости вы можете предоставить информацию о том, как выполнить выборку, например, с использованием определенного предоставленного вами дистрибутива"
      ],
      "metadata": {
        "id": "GdlywPXuUI7r"
      }
    },
    {
      "cell_type": "code",
      "source": [
        "from sklearn.ensemble import GradientBoostingClassifier\n",
        "from sklearn.model_selection import RandomizedSearchCV\n",
        "learn_rate_list = np.linspace(0.001,2,150)\n",
        "min_samples_leaf_list = list(range(1,51))\n",
        "parameter_grid = {'learning_rate' : learn_rate_list, 'min_samples_leaf' : min_samples_leaf_list}\n",
        "number_models = 10\n",
        "\n",
        "random_GBM_class = RandomizedSearchCV(estimator = GradientBoostingClassifier(), param_distributions = parameter_grid,\n",
        "                                      n_iter = number_models, scoring='accuracy', n_jobs=4, cv = 10,\n",
        "                                      refit=True, return_train_score = True)\n",
        "random_GBM_class.fit(X_train, y_train)"
      ],
      "metadata": {
        "id": "BSLX5XgdUbtJ",
        "colab": {
          "base_uri": "https://localhost:8080/",
          "height": 117
        },
        "outputId": "4211e5bf-6d04-44b9-8fe1-95361c77a7eb"
      },
      "execution_count": 25,
      "outputs": [
        {
          "output_type": "execute_result",
          "data": {
            "text/plain": [
              "RandomizedSearchCV(cv=10, estimator=GradientBoostingClassifier(), n_jobs=4,\n",
              "                   param_distributions={'learning_rate': array([1.00000000e-03, 1.44161074e-02, 2.78322148e-02, 4.12483221e-02,\n",
              "       5.46644295e-02, 6.80805369e-02, 8.14966443e-02, 9.49127517e-02,\n",
              "       1.08328859e-01, 1.21744966e-01, 1.35161074e-01, 1.48577181e-01,\n",
              "       1.61993289e-01, 1.75409396e-01, 1.88825503e-01, 2.022416...\n",
              "       1.82559060e+00, 1.83900671e+00, 1.85242282e+00, 1.86583893e+00,\n",
              "       1.87925503e+00, 1.89267114e+00, 1.90608725e+00, 1.91950336e+00,\n",
              "       1.93291946e+00, 1.94633557e+00, 1.95975168e+00, 1.97316779e+00,\n",
              "       1.98658389e+00, 2.00000000e+00]),\n",
              "                                        'min_samples_leaf': [1, 2, 3, 4, 5, 6,\n",
              "                                                             7, 8, 9, 10, 11,\n",
              "                                                             12, 13, 14, 15, 16,\n",
              "                                                             17, 18, 19, 20, 21,\n",
              "                                                             22, 23, 24, 25, 26,\n",
              "                                                             27, 28, 29, 30, ...]},\n",
              "                   return_train_score=True, scoring='accuracy')"
            ],
            "text/html": [
              "<style>#sk-container-id-1 {color: black;background-color: white;}#sk-container-id-1 pre{padding: 0;}#sk-container-id-1 div.sk-toggleable {background-color: white;}#sk-container-id-1 label.sk-toggleable__label {cursor: pointer;display: block;width: 100%;margin-bottom: 0;padding: 0.3em;box-sizing: border-box;text-align: center;}#sk-container-id-1 label.sk-toggleable__label-arrow:before {content: \"▸\";float: left;margin-right: 0.25em;color: #696969;}#sk-container-id-1 label.sk-toggleable__label-arrow:hover:before {color: black;}#sk-container-id-1 div.sk-estimator:hover label.sk-toggleable__label-arrow:before {color: black;}#sk-container-id-1 div.sk-toggleable__content {max-height: 0;max-width: 0;overflow: hidden;text-align: left;background-color: #f0f8ff;}#sk-container-id-1 div.sk-toggleable__content pre {margin: 0.2em;color: black;border-radius: 0.25em;background-color: #f0f8ff;}#sk-container-id-1 input.sk-toggleable__control:checked~div.sk-toggleable__content {max-height: 200px;max-width: 100%;overflow: auto;}#sk-container-id-1 input.sk-toggleable__control:checked~label.sk-toggleable__label-arrow:before {content: \"▾\";}#sk-container-id-1 div.sk-estimator input.sk-toggleable__control:checked~label.sk-toggleable__label {background-color: #d4ebff;}#sk-container-id-1 div.sk-label input.sk-toggleable__control:checked~label.sk-toggleable__label {background-color: #d4ebff;}#sk-container-id-1 input.sk-hidden--visually {border: 0;clip: rect(1px 1px 1px 1px);clip: rect(1px, 1px, 1px, 1px);height: 1px;margin: -1px;overflow: hidden;padding: 0;position: absolute;width: 1px;}#sk-container-id-1 div.sk-estimator {font-family: monospace;background-color: #f0f8ff;border: 1px dotted black;border-radius: 0.25em;box-sizing: border-box;margin-bottom: 0.5em;}#sk-container-id-1 div.sk-estimator:hover {background-color: #d4ebff;}#sk-container-id-1 div.sk-parallel-item::after {content: \"\";width: 100%;border-bottom: 1px solid gray;flex-grow: 1;}#sk-container-id-1 div.sk-label:hover label.sk-toggleable__label {background-color: #d4ebff;}#sk-container-id-1 div.sk-serial::before {content: \"\";position: absolute;border-left: 1px solid gray;box-sizing: border-box;top: 0;bottom: 0;left: 50%;z-index: 0;}#sk-container-id-1 div.sk-serial {display: flex;flex-direction: column;align-items: center;background-color: white;padding-right: 0.2em;padding-left: 0.2em;position: relative;}#sk-container-id-1 div.sk-item {position: relative;z-index: 1;}#sk-container-id-1 div.sk-parallel {display: flex;align-items: stretch;justify-content: center;background-color: white;position: relative;}#sk-container-id-1 div.sk-item::before, #sk-container-id-1 div.sk-parallel-item::before {content: \"\";position: absolute;border-left: 1px solid gray;box-sizing: border-box;top: 0;bottom: 0;left: 50%;z-index: -1;}#sk-container-id-1 div.sk-parallel-item {display: flex;flex-direction: column;z-index: 1;position: relative;background-color: white;}#sk-container-id-1 div.sk-parallel-item:first-child::after {align-self: flex-end;width: 50%;}#sk-container-id-1 div.sk-parallel-item:last-child::after {align-self: flex-start;width: 50%;}#sk-container-id-1 div.sk-parallel-item:only-child::after {width: 0;}#sk-container-id-1 div.sk-dashed-wrapped {border: 1px dashed gray;margin: 0 0.4em 0.5em 0.4em;box-sizing: border-box;padding-bottom: 0.4em;background-color: white;}#sk-container-id-1 div.sk-label label {font-family: monospace;font-weight: bold;display: inline-block;line-height: 1.2em;}#sk-container-id-1 div.sk-label-container {text-align: center;}#sk-container-id-1 div.sk-container {/* jupyter's `normalize.less` sets `[hidden] { display: none; }` but bootstrap.min.css set `[hidden] { display: none !important; }` so we also need the `!important` here to be able to override the default hidden behavior on the sphinx rendered scikit-learn.org. See: https://github.com/scikit-learn/scikit-learn/issues/21755 */display: inline-block !important;position: relative;}#sk-container-id-1 div.sk-text-repr-fallback {display: none;}</style><div id=\"sk-container-id-1\" class=\"sk-top-container\"><div class=\"sk-text-repr-fallback\"><pre>RandomizedSearchCV(cv=10, estimator=GradientBoostingClassifier(), n_jobs=4,\n",
              "                   param_distributions={&#x27;learning_rate&#x27;: array([1.00000000e-03, 1.44161074e-02, 2.78322148e-02, 4.12483221e-02,\n",
              "       5.46644295e-02, 6.80805369e-02, 8.14966443e-02, 9.49127517e-02,\n",
              "       1.08328859e-01, 1.21744966e-01, 1.35161074e-01, 1.48577181e-01,\n",
              "       1.61993289e-01, 1.75409396e-01, 1.88825503e-01, 2.022416...\n",
              "       1.82559060e+00, 1.83900671e+00, 1.85242282e+00, 1.86583893e+00,\n",
              "       1.87925503e+00, 1.89267114e+00, 1.90608725e+00, 1.91950336e+00,\n",
              "       1.93291946e+00, 1.94633557e+00, 1.95975168e+00, 1.97316779e+00,\n",
              "       1.98658389e+00, 2.00000000e+00]),\n",
              "                                        &#x27;min_samples_leaf&#x27;: [1, 2, 3, 4, 5, 6,\n",
              "                                                             7, 8, 9, 10, 11,\n",
              "                                                             12, 13, 14, 15, 16,\n",
              "                                                             17, 18, 19, 20, 21,\n",
              "                                                             22, 23, 24, 25, 26,\n",
              "                                                             27, 28, 29, 30, ...]},\n",
              "                   return_train_score=True, scoring=&#x27;accuracy&#x27;)</pre><b>In a Jupyter environment, please rerun this cell to show the HTML representation or trust the notebook. <br />On GitHub, the HTML representation is unable to render, please try loading this page with nbviewer.org.</b></div><div class=\"sk-container\" hidden><div class=\"sk-item sk-dashed-wrapped\"><div class=\"sk-label-container\"><div class=\"sk-label sk-toggleable\"><input class=\"sk-toggleable__control sk-hidden--visually\" id=\"sk-estimator-id-1\" type=\"checkbox\" ><label for=\"sk-estimator-id-1\" class=\"sk-toggleable__label sk-toggleable__label-arrow\">RandomizedSearchCV</label><div class=\"sk-toggleable__content\"><pre>RandomizedSearchCV(cv=10, estimator=GradientBoostingClassifier(), n_jobs=4,\n",
              "                   param_distributions={&#x27;learning_rate&#x27;: array([1.00000000e-03, 1.44161074e-02, 2.78322148e-02, 4.12483221e-02,\n",
              "       5.46644295e-02, 6.80805369e-02, 8.14966443e-02, 9.49127517e-02,\n",
              "       1.08328859e-01, 1.21744966e-01, 1.35161074e-01, 1.48577181e-01,\n",
              "       1.61993289e-01, 1.75409396e-01, 1.88825503e-01, 2.022416...\n",
              "       1.82559060e+00, 1.83900671e+00, 1.85242282e+00, 1.86583893e+00,\n",
              "       1.87925503e+00, 1.89267114e+00, 1.90608725e+00, 1.91950336e+00,\n",
              "       1.93291946e+00, 1.94633557e+00, 1.95975168e+00, 1.97316779e+00,\n",
              "       1.98658389e+00, 2.00000000e+00]),\n",
              "                                        &#x27;min_samples_leaf&#x27;: [1, 2, 3, 4, 5, 6,\n",
              "                                                             7, 8, 9, 10, 11,\n",
              "                                                             12, 13, 14, 15, 16,\n",
              "                                                             17, 18, 19, 20, 21,\n",
              "                                                             22, 23, 24, 25, 26,\n",
              "                                                             27, 28, 29, 30, ...]},\n",
              "                   return_train_score=True, scoring=&#x27;accuracy&#x27;)</pre></div></div></div><div class=\"sk-parallel\"><div class=\"sk-parallel-item\"><div class=\"sk-item\"><div class=\"sk-label-container\"><div class=\"sk-label sk-toggleable\"><input class=\"sk-toggleable__control sk-hidden--visually\" id=\"sk-estimator-id-2\" type=\"checkbox\" ><label for=\"sk-estimator-id-2\" class=\"sk-toggleable__label sk-toggleable__label-arrow\">estimator: GradientBoostingClassifier</label><div class=\"sk-toggleable__content\"><pre>GradientBoostingClassifier()</pre></div></div></div><div class=\"sk-serial\"><div class=\"sk-item\"><div class=\"sk-estimator sk-toggleable\"><input class=\"sk-toggleable__control sk-hidden--visually\" id=\"sk-estimator-id-3\" type=\"checkbox\" ><label for=\"sk-estimator-id-3\" class=\"sk-toggleable__label sk-toggleable__label-arrow\">GradientBoostingClassifier</label><div class=\"sk-toggleable__content\"><pre>GradientBoostingClassifier()</pre></div></div></div></div></div></div></div></div></div></div>"
            ]
          },
          "metadata": {},
          "execution_count": 25
        }
      ]
    },
    {
      "cell_type": "code",
      "source": [
        "rand_x = list(random_GBM_class.cv_results_['param_learning_rate'])\n",
        "rand_y = list(random_GBM_class.cv_results_['param_min_samples_leaf'])\n",
        "\n",
        "x_lims = [np.min(learn_rate_list), np.max(learn_rate_list)]\n",
        "y_lims = [np.min(min_samples_leaf_list), np.max(min_samples_leaf_list)]\n",
        "\n",
        "import matplotlib.pyplot as plt\n",
        "plt.scatter(rand_y, rand_x, c=['blue']*10)\n",
        "plt.gca().set(xlabel='learn_rate', ylabel='min_samples_leaf', title='Random Search Hyperparameters')\n",
        "plt.show()"
      ],
      "metadata": {
        "id": "Tpu-U63_UZiu",
        "colab": {
          "base_uri": "https://localhost:8080/",
          "height": 472
        },
        "outputId": "1e004fb5-c641-4925-b641-0a27509c92df"
      },
      "execution_count": 26,
      "outputs": [
        {
          "output_type": "display_data",
          "data": {
            "text/plain": [
              "<Figure size 640x480 with 1 Axes>"
            ],
            "image/png": "[encoded data removed]"
          },
          "metadata": {}
        }
      ]
    },
    {
      "cell_type": "markdown",
      "source": [
        "То что было неинформированный поиск. Информированный это случайный поиск + определяем границы и добиваем локально. К примеру, байесовский подход."
      ],
      "metadata": {
        "id": "amFGq0oZLjX5"
      }
    },
    {
      "cell_type": "markdown",
      "source": [
        "Байесовская настройка гиперпараметров"
      ],
      "metadata": {
        "id": "0m1OkpfpUB2D"
      }
    },
    {
      "cell_type": "markdown",
      "source": [
        "Правило Байеса на самом деле является методом, с помощью которого мы можем итеративно использовать новые доказательства, чтобы обновить наши убеждения о результате"
      ],
      "metadata": {
        "id": "Z6YnJJHTynkr"
      }
    },
    {
      "cell_type": "markdown",
      "source": [
        "Пакет для байесовской настройки гиперпараметров - Hyperopt\n",
        "\n",
        "* установить домен (сетку)\n",
        "* установить алгоритм оптимизации\n",
        "* целевая функция для минимизации\n",
        "\n"
      ],
      "metadata": {
        "id": "rtGDG7nxYI5R"
      }
    },
    {
      "cell_type": "code",
      "source": [
        "space = {'max_depth': hp.quniform('max_depth', 2, 10, 2),\n",
        "          'min_samples_leaf': hp.quniform('min_samples_leaf', 2, 8, 2),\n",
        "          'learning_rate': hp.uniform('learning_rate', 0.01, 1, 55)}\n",
        "# домен = сетка где каждая точка вероятность гиперпараметра\n",
        "# quniform означает однородный, но квантованный (или биннированный) указанным третьим числом"
      ],
      "metadata": {
        "id": "p6DtCrYPfvHM"
      },
      "execution_count": null,
      "outputs": []
    },
    {
      "cell_type": "code",
      "source": [
        "# целевую функцию для запуска алгоритма (конспект)\n",
        "def objective(params):\n",
        "    params = {'max_depth': int(params['max_depth']), 'min_samples_leaf': int(params['min_sampes_leaf']),\n",
        "    'learning_rate': params['learning_rate']}\n",
        "    gbm_clf = GradientBoostingClassifier(n_estimators=500, **params)\n",
        "    best_score = cross_val_score(gbm_clf, X_train, y_train, scoring='accuracy', cv=10, n_jobs=4).mean()\n",
        "    loss = 1 - best_score\n",
        "    write_results(best_score, params, iteration)\n",
        "    return loss\n",
        "# нужно вызвать алгоритм\n",
        "best_result = fmin(fn=objective, space=space, max_evals=500, rstate=np.random.default_rng(42),\n",
        "                    algo=tpe.suggest)"
      ],
      "metadata": {
        "id": "YSZBjaJUzkyC"
      },
      "execution_count": null,
      "outputs": []
    },
    {
      "cell_type": "markdown",
      "source": [
        "Информированный поиска с использованием настройки генетических гиперпараметров"
      ],
      "metadata": {
        "id": "xTmc1kt_3Smw"
      }
    },
    {
      "cell_type": "code",
      "source": [
        "from tpot import TPOTClassifier\n",
        "tpot = TPOTClassifier(generations=3, population_size=5, verbosity=2,\n",
        "                      offspring_size=10, scoring='accuracy', cv=5)\n",
        "tpot.fit(X_train, y_train)\n",
        "print(tpot.score(X_test, y_test))"
      ],
      "metadata": {
        "id": "RK4TVVxt1mBp"
      },
      "execution_count": null,
      "outputs": []
    }
  ]
}