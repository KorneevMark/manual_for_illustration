{
  "nbformat": 4,
  "nbformat_minor": 0,
  "metadata": {
    "colab": {
      "provenance": []
    },
    "kernelspec": {
      "name": "python3",
      "display_name": "Python 3"
    },
    "language_info": {
      "name": "python"
    }
  },
  "cells": [
    {
      "cell_type": "code",
      "execution_count": 45,
      "metadata": {
        "colab": {
          "base_uri": "https://localhost:8080/"
        },
        "id": "TMRof7ZszSQK",
        "outputId": "660279c2-ec71-4d1c-8b4c-051f1d4ee904"
      },
      "outputs": [
        {
          "output_type": "stream",
          "name": "stdout",
          "text": [
            "  Prop_ID                     Name  \\\n",
            "0    B057  Salt Marsh Nature Trail   \n",
            "1    B073                Lullwater   \n",
            "2    B073                  Midwood   \n",
            "3    B073                Peninsula   \n",
            "4    B073                Waterfall   \n",
            "\n",
            "                                            Location      Park_Name  \\\n",
            "0  Enter behind the Salt Marsh Nature Center, loc...    Marine Park   \n",
            "1  Enter Park at Lincoln Road and Ocean Avenue en...  Prospect Park   \n",
            "2  Enter Park at Lincoln Road and Ocean Avenue en...  Prospect Park   \n",
            "3  Enter Park at Lincoln Road and Ocean Avenue en...  Prospect Park   \n",
            "4  Enter Park at Lincoln Road and Ocean Avenue en...  Prospect Park   \n",
            "\n",
            "       Length Difficulty                                      Other_Details  \\\n",
            "0   0.8 miles       None  <p>The first half of this mile-long trail foll...   \n",
            "1    1.0 mile       Easy  Explore the Lullwater to see how nature thrive...   \n",
            "2  0.75 miles       Easy  Step back in time with a walk through Brooklyn...   \n",
            "3   0.5 miles       Easy  Discover how the Peninsula has changed over th...   \n",
            "4   0.5 miles       Easy  Trace the source of the Lake on the Waterfall ...   \n",
            "\n",
            "  Accessible Limited_Access  lat  lon  \n",
            "0          Y              N  NaN  NaN  \n",
            "1          N              N  NaN  NaN  \n",
            "2          N              N  NaN  NaN  \n",
            "3          N              N  NaN  NaN  \n",
            "4          N              N  NaN  NaN  \n"
          ]
        }
      ],
      "source": [
        "import pandas as pd\n",
        "hiking = pd.read_json(\"hiking.json\")\n",
        "print(hiking.head())"
      ]
    },
    {
      "cell_type": "code",
      "source": [
        "print(hiking.info())"
      ],
      "metadata": {
        "colab": {
          "base_uri": "https://localhost:8080/"
        },
        "id": "In5kogGHJCKT",
        "outputId": "905bfdd4-4b17-41c1-95bd-1890092edaad"
      },
      "execution_count": 3,
      "outputs": [
        {
          "output_type": "stream",
          "name": "stdout",
          "text": [
            "<class 'pandas.core.frame.DataFrame'>\n",
            "RangeIndex: 33 entries, 0 to 32\n",
            "Data columns (total 11 columns):\n",
            " #   Column          Non-Null Count  Dtype  \n",
            "---  ------          --------------  -----  \n",
            " 0   Prop_ID         33 non-null     object \n",
            " 1   Name            33 non-null     object \n",
            " 2   Location        33 non-null     object \n",
            " 3   Park_Name       33 non-null     object \n",
            " 4   Length          29 non-null     object \n",
            " 5   Difficulty      27 non-null     object \n",
            " 6   Other_Details   31 non-null     object \n",
            " 7   Accessible      33 non-null     object \n",
            " 8   Limited_Access  33 non-null     object \n",
            " 9   lat             0 non-null      float64\n",
            " 10  lon             0 non-null      float64\n",
            "dtypes: float64(2), object(9)\n",
            "memory usage: 3.0+ KB\n",
            "None\n"
          ]
        }
      ]
    },
    {
      "cell_type": "code",
      "source": [
        "import numpy as np\n",
        "df = pd.DataFrame({'A': [1.0, 4.0, 7.0, np.NAN, 5.0], 'B' : [np.NAN, 7.0, np.NAN, 7.0, 9.0],\n",
        "                   'C':[2.0, 3.0, np.NAN, np.NAN, 7.0]})"
      ],
      "metadata": {
        "id": "_Bk5sFhLJSOu"
      },
      "execution_count": 35,
      "outputs": []
    },
    {
      "cell_type": "code",
      "source": [
        "df.dropna()"
      ],
      "metadata": {
        "colab": {
          "base_uri": "https://localhost:8080/",
          "height": 112
        },
        "id": "ZihUYgN3udjY",
        "outputId": "f62284cd-2222-4f44-a595-2036e5aecb50"
      },
      "execution_count": 34,
      "outputs": [
        {
          "output_type": "execute_result",
          "data": {
            "text/plain": [
              "     A    B    C\n",
              "1  4.0  7.0  3.0\n",
              "4  5.0  9.0  7.0"
            ],
            "text/html": [
              "\n",
              "  <div id=\"df-49d0774b-2c2e-4e70-9682-27085cba3030\" class=\"colab-df-container\">\n",
              "    <div>\n",
              "<style scoped>\n",
              "    .dataframe tbody tr th:only-of-type {\n",
              "        vertical-align: middle;\n",
              "    }\n",
              "\n",
              "    .dataframe tbody tr th {\n",
              "        vertical-align: top;\n",
              "    }\n",
              "\n",
              "    .dataframe thead th {\n",
              "        text-align: right;\n",
              "    }\n",
              "</style>\n",
              "<table border=\"1\" class=\"dataframe\">\n",
              "  <thead>\n",
              "    <tr style=\"text-align: right;\">\n",
              "      <th></th>\n",
              "      <th>A</th>\n",
              "      <th>B</th>\n",
              "      <th>C</th>\n",
              "    </tr>\n",
              "  </thead>\n",
              "  <tbody>\n",
              "    <tr>\n",
              "      <th>1</th>\n",
              "      <td>4.0</td>\n",
              "      <td>7.0</td>\n",
              "      <td>3.0</td>\n",
              "    </tr>\n",
              "    <tr>\n",
              "      <th>4</th>\n",
              "      <td>5.0</td>\n",
              "      <td>9.0</td>\n",
              "      <td>7.0</td>\n",
              "    </tr>\n",
              "  </tbody>\n",
              "</table>\n",
              "</div>\n",
              "    <div class=\"colab-df-buttons\">\n",
              "\n",
              "  <div class=\"colab-df-container\">\n",
              "    <button class=\"colab-df-convert\" onclick=\"convertToInteractive('df-49d0774b-2c2e-4e70-9682-27085cba3030')\"\n",
              "            title=\"Convert this dataframe to an interactive table.\"\n",
              "            style=\"display:none;\">\n",
              "\n",
              "  <svg xmlns=\"http://www.w3.org/2000/svg\" height=\"24px\" viewBox=\"0 -960 960 960\">\n",
              "    <path d=\"M120-120v-720h720v720H120Zm60-500h600v-160H180v160Zm220 220h160v-160H400v160Zm0 220h160v-160H400v160ZM180-400h160v-160H180v160Zm440 0h160v-160H620v160ZM180-180h160v-160H180v160Zm440 0h160v-160H620v160Z\"/>\n",
              "  </svg>\n",
              "    </button>\n",
              "\n",
              "  <style>\n",
              "    .colab-df-container {\n",
              "      display:flex;\n",
              "      gap: 12px;\n",
              "    }\n",
              "\n",
              "    .colab-df-convert {\n",
              "      background-color: #E8F0FE;\n",
              "      border: none;\n",
              "      border-radius: 50%;\n",
              "      cursor: pointer;\n",
              "      display: none;\n",
              "      fill: #1967D2;\n",
              "      height: 32px;\n",
              "      padding: 0 0 0 0;\n",
              "      width: 32px;\n",
              "    }\n",
              "\n",
              "    .colab-df-convert:hover {\n",
              "      background-color: #E2EBFA;\n",
              "      box-shadow: 0px 1px 2px rgba(60, 64, 67, 0.3), 0px 1px 3px 1px rgba(60, 64, 67, 0.15);\n",
              "      fill: #174EA6;\n",
              "    }\n",
              "\n",
              "    .colab-df-buttons div {\n",
              "      margin-bottom: 4px;\n",
              "    }\n",
              "\n",
              "    [theme=dark] .colab-df-convert {\n",
              "      background-color: #3B4455;\n",
              "      fill: #D2E3FC;\n",
              "    }\n",
              "\n",
              "    [theme=dark] .colab-df-convert:hover {\n",
              "      background-color: #434B5C;\n",
              "      box-shadow: 0px 1px 3px 1px rgba(0, 0, 0, 0.15);\n",
              "      filter: drop-shadow(0px 1px 2px rgba(0, 0, 0, 0.3));\n",
              "      fill: #FFFFFF;\n",
              "    }\n",
              "  </style>\n",
              "\n",
              "    <script>\n",
              "      const buttonEl =\n",
              "        document.querySelector('#df-49d0774b-2c2e-4e70-9682-27085cba3030 button.colab-df-convert');\n",
              "      buttonEl.style.display =\n",
              "        google.colab.kernel.accessAllowed ? 'block' : 'none';\n",
              "\n",
              "      async function convertToInteractive(key) {\n",
              "        const element = document.querySelector('#df-49d0774b-2c2e-4e70-9682-27085cba3030');\n",
              "        const dataTable =\n",
              "          await google.colab.kernel.invokeFunction('convertToInteractive',\n",
              "                                                    [key], {});\n",
              "        if (!dataTable) return;\n",
              "\n",
              "        const docLinkHtml = 'Like what you see? Visit the ' +\n",
              "          '<a target=\"_blank\" href=https://colab.research.google.com/notebooks/data_table.ipynb>data table notebook</a>'\n",
              "          + ' to learn more about interactive tables.';\n",
              "        element.innerHTML = '';\n",
              "        dataTable['output_type'] = 'display_data';\n",
              "        await google.colab.output.renderOutput(dataTable, element);\n",
              "        const docLink = document.createElement('div');\n",
              "        docLink.innerHTML = docLinkHtml;\n",
              "        element.appendChild(docLink);\n",
              "      }\n",
              "    </script>\n",
              "  </div>\n",
              "\n",
              "\n",
              "<div id=\"df-b8a723c9-7605-4ea1-90d8-039fe5fed55a\">\n",
              "  <button class=\"colab-df-quickchart\" onclick=\"quickchart('df-b8a723c9-7605-4ea1-90d8-039fe5fed55a')\"\n",
              "            title=\"Suggest charts\"\n",
              "            style=\"display:none;\">\n",
              "\n",
              "<svg xmlns=\"http://www.w3.org/2000/svg\" height=\"24px\"viewBox=\"0 0 24 24\"\n",
              "     width=\"24px\">\n",
              "    <g>\n",
              "        <path d=\"M19 3H5c-1.1 0-2 .9-2 2v14c0 1.1.9 2 2 2h14c1.1 0 2-.9 2-2V5c0-1.1-.9-2-2-2zM9 17H7v-7h2v7zm4 0h-2V7h2v10zm4 0h-2v-4h2v4z\"/>\n",
              "    </g>\n",
              "</svg>\n",
              "  </button>\n",
              "\n",
              "<style>\n",
              "  .colab-df-quickchart {\n",
              "      --bg-color: #E8F0FE;\n",
              "      --fill-color: #1967D2;\n",
              "      --hover-bg-color: #E2EBFA;\n",
              "      --hover-fill-color: #174EA6;\n",
              "      --disabled-fill-color: #AAA;\n",
              "      --disabled-bg-color: #DDD;\n",
              "  }\n",
              "\n",
              "  [theme=dark] .colab-df-quickchart {\n",
              "      --bg-color: #3B4455;\n",
              "      --fill-color: #D2E3FC;\n",
              "      --hover-bg-color: #434B5C;\n",
              "      --hover-fill-color: #FFFFFF;\n",
              "      --disabled-bg-color: #3B4455;\n",
              "      --disabled-fill-color: #666;\n",
              "  }\n",
              "\n",
              "  .colab-df-quickchart {\n",
              "    background-color: var(--bg-color);\n",
              "    border: none;\n",
              "    border-radius: 50%;\n",
              "    cursor: pointer;\n",
              "    display: none;\n",
              "    fill: var(--fill-color);\n",
              "    height: 32px;\n",
              "    padding: 0;\n",
              "    width: 32px;\n",
              "  }\n",
              "\n",
              "  .colab-df-quickchart:hover {\n",
              "    background-color: var(--hover-bg-color);\n",
              "    box-shadow: 0 1px 2px rgba(60, 64, 67, 0.3), 0 1px 3px 1px rgba(60, 64, 67, 0.15);\n",
              "    fill: var(--button-hover-fill-color);\n",
              "  }\n",
              "\n",
              "  .colab-df-quickchart-complete:disabled,\n",
              "  .colab-df-quickchart-complete:disabled:hover {\n",
              "    background-color: var(--disabled-bg-color);\n",
              "    fill: var(--disabled-fill-color);\n",
              "    box-shadow: none;\n",
              "  }\n",
              "\n",
              "  .colab-df-spinner {\n",
              "    border: 2px solid var(--fill-color);\n",
              "    border-color: transparent;\n",
              "    border-bottom-color: var(--fill-color);\n",
              "    animation:\n",
              "      spin 1s steps(1) infinite;\n",
              "  }\n",
              "\n",
              "  @keyframes spin {\n",
              "    0% {\n",
              "      border-color: transparent;\n",
              "      border-bottom-color: var(--fill-color);\n",
              "      border-left-color: var(--fill-color);\n",
              "    }\n",
              "    20% {\n",
              "      border-color: transparent;\n",
              "      border-left-color: var(--fill-color);\n",
              "      border-top-color: var(--fill-color);\n",
              "    }\n",
              "    30% {\n",
              "      border-color: transparent;\n",
              "      border-left-color: var(--fill-color);\n",
              "      border-top-color: var(--fill-color);\n",
              "      border-right-color: var(--fill-color);\n",
              "    }\n",
              "    40% {\n",
              "      border-color: transparent;\n",
              "      border-right-color: var(--fill-color);\n",
              "      border-top-color: var(--fill-color);\n",
              "    }\n",
              "    60% {\n",
              "      border-color: transparent;\n",
              "      border-right-color: var(--fill-color);\n",
              "    }\n",
              "    80% {\n",
              "      border-color: transparent;\n",
              "      border-right-color: var(--fill-color);\n",
              "      border-bottom-color: var(--fill-color);\n",
              "    }\n",
              "    90% {\n",
              "      border-color: transparent;\n",
              "      border-bottom-color: var(--fill-color);\n",
              "    }\n",
              "  }\n",
              "</style>\n",
              "\n",
              "  <script>\n",
              "    async function quickchart(key) {\n",
              "      const quickchartButtonEl =\n",
              "        document.querySelector('#' + key + ' button');\n",
              "      quickchartButtonEl.disabled = true;  // To prevent multiple clicks.\n",
              "      quickchartButtonEl.classList.add('colab-df-spinner');\n",
              "      try {\n",
              "        const charts = await google.colab.kernel.invokeFunction(\n",
              "            'suggestCharts', [key], {});\n",
              "      } catch (error) {\n",
              "        console.error('Error during call to suggestCharts:', error);\n",
              "      }\n",
              "      quickchartButtonEl.classList.remove('colab-df-spinner');\n",
              "      quickchartButtonEl.classList.add('colab-df-quickchart-complete');\n",
              "    }\n",
              "    (() => {\n",
              "      let quickchartButtonEl =\n",
              "        document.querySelector('#df-b8a723c9-7605-4ea1-90d8-039fe5fed55a button');\n",
              "      quickchartButtonEl.style.display =\n",
              "        google.colab.kernel.accessAllowed ? 'block' : 'none';\n",
              "    })();\n",
              "  </script>\n",
              "</div>\n",
              "    </div>\n",
              "  </div>\n"
            ]
          },
          "metadata": {},
          "execution_count": 34
        }
      ]
    },
    {
      "cell_type": "code",
      "source": [
        "print(df.drop([1, 2, 3])) # удалить строки"
      ],
      "metadata": {
        "colab": {
          "base_uri": "https://localhost:8080/"
        },
        "id": "0k1QPsYOKmk1",
        "outputId": "596508d9-6352-4f1d-fdff-259950d69226"
      },
      "execution_count": 24,
      "outputs": [
        {
          "output_type": "stream",
          "name": "stdout",
          "text": [
            "     A    B    C\n",
            "0  1.0  NaN  2.0\n",
            "4  5.0  9.0  7.0\n"
          ]
        }
      ]
    },
    {
      "cell_type": "code",
      "source": [
        "print(df.drop(\"A\", axis=1))"
      ],
      "metadata": {
        "colab": {
          "base_uri": "https://localhost:8080/"
        },
        "id": "roSsKSMDKw_C",
        "outputId": "0edad648-71b7-455b-970f-c477a4c22bcf"
      },
      "execution_count": 25,
      "outputs": [
        {
          "output_type": "stream",
          "name": "stdout",
          "text": [
            "     B    C\n",
            "0  NaN  2.0\n",
            "1  7.0  3.0\n",
            "2  NaN  NaN\n",
            "3  7.0  NaN\n",
            "4  9.0  7.0\n"
          ]
        }
      ]
    },
    {
      "cell_type": "code",
      "source": [
        "print(df.isna().sum())"
      ],
      "metadata": {
        "colab": {
          "base_uri": "https://localhost:8080/"
        },
        "id": "HBjSvl-dK1yK",
        "outputId": "ceddc09e-a465-4c1e-dec0-95bf8f73fe22"
      },
      "execution_count": 26,
      "outputs": [
        {
          "output_type": "stream",
          "name": "stdout",
          "text": [
            "A    1\n",
            "B    2\n",
            "C    2\n",
            "dtype: int64\n"
          ]
        }
      ]
    },
    {
      "cell_type": "code",
      "source": [
        "print(df.dropna(subset=[\"B\"]))"
      ],
      "metadata": {
        "colab": {
          "base_uri": "https://localhost:8080/"
        },
        "id": "Vb-VTcVcK6_X",
        "outputId": "f16066ce-7589-4435-c3dd-59e0b7cb7db5"
      },
      "execution_count": 30,
      "outputs": [
        {
          "output_type": "stream",
          "name": "stdout",
          "text": [
            "     A    B    C\n",
            "1  4.0  7.0  3.0\n",
            "3  NaN  7.0  NaN\n",
            "4  5.0  9.0  7.0\n"
          ]
        }
      ]
    },
    {
      "cell_type": "code",
      "source": [
        "print(df.dropna(thresh=2)) #удаляем те строки где 2> NaN"
      ],
      "metadata": {
        "colab": {
          "base_uri": "https://localhost:8080/"
        },
        "id": "kHFTwDKjK-f2",
        "outputId": "a6277fda-f319-4592-9d18-fcf399f9acb1"
      },
      "execution_count": 28,
      "outputs": [
        {
          "output_type": "stream",
          "name": "stdout",
          "text": [
            "     A    B    C\n",
            "0  1.0  NaN  2.0\n",
            "1  4.0  7.0  3.0\n",
            "4  5.0  9.0  7.0\n"
          ]
        }
      ]
    },
    {
      "cell_type": "code",
      "source": [
        "df.dropna(how='any') #удаляются все строки с хотя бы одним NaN"
      ],
      "metadata": {
        "colab": {
          "base_uri": "https://localhost:8080/",
          "height": 112
        },
        "id": "06ltubdgsWyu",
        "outputId": "ec31bd0f-c0cb-4069-f42f-6d16a4bfc10f"
      },
      "execution_count": 29,
      "outputs": [
        {
          "output_type": "execute_result",
          "data": {
            "text/plain": [
              "     A    B    C\n",
              "1  4.0  7.0  3.0\n",
              "4  5.0  9.0  7.0"
            ],
            "text/html": [
              "\n",
              "  <div id=\"df-b27229a1-1b8a-43f3-9f09-b0bb5d45c0ab\" class=\"colab-df-container\">\n",
              "    <div>\n",
              "<style scoped>\n",
              "    .dataframe tbody tr th:only-of-type {\n",
              "        vertical-align: middle;\n",
              "    }\n",
              "\n",
              "    .dataframe tbody tr th {\n",
              "        vertical-align: top;\n",
              "    }\n",
              "\n",
              "    .dataframe thead th {\n",
              "        text-align: right;\n",
              "    }\n",
              "</style>\n",
              "<table border=\"1\" class=\"dataframe\">\n",
              "  <thead>\n",
              "    <tr style=\"text-align: right;\">\n",
              "      <th></th>\n",
              "      <th>A</th>\n",
              "      <th>B</th>\n",
              "      <th>C</th>\n",
              "    </tr>\n",
              "  </thead>\n",
              "  <tbody>\n",
              "    <tr>\n",
              "      <th>1</th>\n",
              "      <td>4.0</td>\n",
              "      <td>7.0</td>\n",
              "      <td>3.0</td>\n",
              "    </tr>\n",
              "    <tr>\n",
              "      <th>4</th>\n",
              "      <td>5.0</td>\n",
              "      <td>9.0</td>\n",
              "      <td>7.0</td>\n",
              "    </tr>\n",
              "  </tbody>\n",
              "</table>\n",
              "</div>\n",
              "    <div class=\"colab-df-buttons\">\n",
              "\n",
              "  <div class=\"colab-df-container\">\n",
              "    <button class=\"colab-df-convert\" onclick=\"convertToInteractive('df-b27229a1-1b8a-43f3-9f09-b0bb5d45c0ab')\"\n",
              "            title=\"Convert this dataframe to an interactive table.\"\n",
              "            style=\"display:none;\">\n",
              "\n",
              "  <svg xmlns=\"http://www.w3.org/2000/svg\" height=\"24px\" viewBox=\"0 -960 960 960\">\n",
              "    <path d=\"M120-120v-720h720v720H120Zm60-500h600v-160H180v160Zm220 220h160v-160H400v160Zm0 220h160v-160H400v160ZM180-400h160v-160H180v160Zm440 0h160v-160H620v160ZM180-180h160v-160H180v160Zm440 0h160v-160H620v160Z\"/>\n",
              "  </svg>\n",
              "    </button>\n",
              "\n",
              "  <style>\n",
              "    .colab-df-container {\n",
              "      display:flex;\n",
              "      gap: 12px;\n",
              "    }\n",
              "\n",
              "    .colab-df-convert {\n",
              "      background-color: #E8F0FE;\n",
              "      border: none;\n",
              "      border-radius: 50%;\n",
              "      cursor: pointer;\n",
              "      display: none;\n",
              "      fill: #1967D2;\n",
              "      height: 32px;\n",
              "      padding: 0 0 0 0;\n",
              "      width: 32px;\n",
              "    }\n",
              "\n",
              "    .colab-df-convert:hover {\n",
              "      background-color: #E2EBFA;\n",
              "      box-shadow: 0px 1px 2px rgba(60, 64, 67, 0.3), 0px 1px 3px 1px rgba(60, 64, 67, 0.15);\n",
              "      fill: #174EA6;\n",
              "    }\n",
              "\n",
              "    .colab-df-buttons div {\n",
              "      margin-bottom: 4px;\n",
              "    }\n",
              "\n",
              "    [theme=dark] .colab-df-convert {\n",
              "      background-color: #3B4455;\n",
              "      fill: #D2E3FC;\n",
              "    }\n",
              "\n",
              "    [theme=dark] .colab-df-convert:hover {\n",
              "      background-color: #434B5C;\n",
              "      box-shadow: 0px 1px 3px 1px rgba(0, 0, 0, 0.15);\n",
              "      filter: drop-shadow(0px 1px 2px rgba(0, 0, 0, 0.3));\n",
              "      fill: #FFFFFF;\n",
              "    }\n",
              "  </style>\n",
              "\n",
              "    <script>\n",
              "      const buttonEl =\n",
              "        document.querySelector('#df-b27229a1-1b8a-43f3-9f09-b0bb5d45c0ab button.colab-df-convert');\n",
              "      buttonEl.style.display =\n",
              "        google.colab.kernel.accessAllowed ? 'block' : 'none';\n",
              "\n",
              "      async function convertToInteractive(key) {\n",
              "        const element = document.querySelector('#df-b27229a1-1b8a-43f3-9f09-b0bb5d45c0ab');\n",
              "        const dataTable =\n",
              "          await google.colab.kernel.invokeFunction('convertToInteractive',\n",
              "                                                    [key], {});\n",
              "        if (!dataTable) return;\n",
              "\n",
              "        const docLinkHtml = 'Like what you see? Visit the ' +\n",
              "          '<a target=\"_blank\" href=https://colab.research.google.com/notebooks/data_table.ipynb>data table notebook</a>'\n",
              "          + ' to learn more about interactive tables.';\n",
              "        element.innerHTML = '';\n",
              "        dataTable['output_type'] = 'display_data';\n",
              "        await google.colab.output.renderOutput(dataTable, element);\n",
              "        const docLink = document.createElement('div');\n",
              "        docLink.innerHTML = docLinkHtml;\n",
              "        element.appendChild(docLink);\n",
              "      }\n",
              "    </script>\n",
              "  </div>\n",
              "\n",
              "\n",
              "<div id=\"df-be5474b5-072e-4ef8-a233-24a9575a4fef\">\n",
              "  <button class=\"colab-df-quickchart\" onclick=\"quickchart('df-be5474b5-072e-4ef8-a233-24a9575a4fef')\"\n",
              "            title=\"Suggest charts\"\n",
              "            style=\"display:none;\">\n",
              "\n",
              "<svg xmlns=\"http://www.w3.org/2000/svg\" height=\"24px\"viewBox=\"0 0 24 24\"\n",
              "     width=\"24px\">\n",
              "    <g>\n",
              "        <path d=\"M19 3H5c-1.1 0-2 .9-2 2v14c0 1.1.9 2 2 2h14c1.1 0 2-.9 2-2V5c0-1.1-.9-2-2-2zM9 17H7v-7h2v7zm4 0h-2V7h2v10zm4 0h-2v-4h2v4z\"/>\n",
              "    </g>\n",
              "</svg>\n",
              "  </button>\n",
              "\n",
              "<style>\n",
              "  .colab-df-quickchart {\n",
              "      --bg-color: #E8F0FE;\n",
              "      --fill-color: #1967D2;\n",
              "      --hover-bg-color: #E2EBFA;\n",
              "      --hover-fill-color: #174EA6;\n",
              "      --disabled-fill-color: #AAA;\n",
              "      --disabled-bg-color: #DDD;\n",
              "  }\n",
              "\n",
              "  [theme=dark] .colab-df-quickchart {\n",
              "      --bg-color: #3B4455;\n",
              "      --fill-color: #D2E3FC;\n",
              "      --hover-bg-color: #434B5C;\n",
              "      --hover-fill-color: #FFFFFF;\n",
              "      --disabled-bg-color: #3B4455;\n",
              "      --disabled-fill-color: #666;\n",
              "  }\n",
              "\n",
              "  .colab-df-quickchart {\n",
              "    background-color: var(--bg-color);\n",
              "    border: none;\n",
              "    border-radius: 50%;\n",
              "    cursor: pointer;\n",
              "    display: none;\n",
              "    fill: var(--fill-color);\n",
              "    height: 32px;\n",
              "    padding: 0;\n",
              "    width: 32px;\n",
              "  }\n",
              "\n",
              "  .colab-df-quickchart:hover {\n",
              "    background-color: var(--hover-bg-color);\n",
              "    box-shadow: 0 1px 2px rgba(60, 64, 67, 0.3), 0 1px 3px 1px rgba(60, 64, 67, 0.15);\n",
              "    fill: var(--button-hover-fill-color);\n",
              "  }\n",
              "\n",
              "  .colab-df-quickchart-complete:disabled,\n",
              "  .colab-df-quickchart-complete:disabled:hover {\n",
              "    background-color: var(--disabled-bg-color);\n",
              "    fill: var(--disabled-fill-color);\n",
              "    box-shadow: none;\n",
              "  }\n",
              "\n",
              "  .colab-df-spinner {\n",
              "    border: 2px solid var(--fill-color);\n",
              "    border-color: transparent;\n",
              "    border-bottom-color: var(--fill-color);\n",
              "    animation:\n",
              "      spin 1s steps(1) infinite;\n",
              "  }\n",
              "\n",
              "  @keyframes spin {\n",
              "    0% {\n",
              "      border-color: transparent;\n",
              "      border-bottom-color: var(--fill-color);\n",
              "      border-left-color: var(--fill-color);\n",
              "    }\n",
              "    20% {\n",
              "      border-color: transparent;\n",
              "      border-left-color: var(--fill-color);\n",
              "      border-top-color: var(--fill-color);\n",
              "    }\n",
              "    30% {\n",
              "      border-color: transparent;\n",
              "      border-left-color: var(--fill-color);\n",
              "      border-top-color: var(--fill-color);\n",
              "      border-right-color: var(--fill-color);\n",
              "    }\n",
              "    40% {\n",
              "      border-color: transparent;\n",
              "      border-right-color: var(--fill-color);\n",
              "      border-top-color: var(--fill-color);\n",
              "    }\n",
              "    60% {\n",
              "      border-color: transparent;\n",
              "      border-right-color: var(--fill-color);\n",
              "    }\n",
              "    80% {\n",
              "      border-color: transparent;\n",
              "      border-right-color: var(--fill-color);\n",
              "      border-bottom-color: var(--fill-color);\n",
              "    }\n",
              "    90% {\n",
              "      border-color: transparent;\n",
              "      border-bottom-color: var(--fill-color);\n",
              "    }\n",
              "  }\n",
              "</style>\n",
              "\n",
              "  <script>\n",
              "    async function quickchart(key) {\n",
              "      const quickchartButtonEl =\n",
              "        document.querySelector('#' + key + ' button');\n",
              "      quickchartButtonEl.disabled = true;  // To prevent multiple clicks.\n",
              "      quickchartButtonEl.classList.add('colab-df-spinner');\n",
              "      try {\n",
              "        const charts = await google.colab.kernel.invokeFunction(\n",
              "            'suggestCharts', [key], {});\n",
              "      } catch (error) {\n",
              "        console.error('Error during call to suggestCharts:', error);\n",
              "      }\n",
              "      quickchartButtonEl.classList.remove('colab-df-spinner');\n",
              "      quickchartButtonEl.classList.add('colab-df-quickchart-complete');\n",
              "    }\n",
              "    (() => {\n",
              "      let quickchartButtonEl =\n",
              "        document.querySelector('#df-be5474b5-072e-4ef8-a233-24a9575a4fef button');\n",
              "      quickchartButtonEl.style.display =\n",
              "        google.colab.kernel.accessAllowed ? 'block' : 'none';\n",
              "    })();\n",
              "  </script>\n",
              "</div>\n",
              "    </div>\n",
              "  </div>\n"
            ]
          },
          "metadata": {},
          "execution_count": 29
        }
      ]
    },
    {
      "cell_type": "code",
      "source": [
        "#заполнение NaN\n",
        "df['B'].fillna(value='None Given', inplace=True)\n",
        "df"
      ],
      "metadata": {
        "colab": {
          "base_uri": "https://localhost:8080/",
          "height": 206
        },
        "id": "CAzy3UrNuSHm",
        "outputId": "ae62cd83-112b-4d8a-b255-2474cc59904e"
      },
      "execution_count": 38,
      "outputs": [
        {
          "output_type": "execute_result",
          "data": {
            "text/plain": [
              "     A           B    C\n",
              "0  1.0  None Given  2.0\n",
              "1  4.0         7.0  3.0\n",
              "2  7.0  None Given  NaN\n",
              "3  NaN         7.0  NaN\n",
              "4  5.0         9.0  7.0"
            ],
            "text/html": [
              "\n",
              "  <div id=\"df-45a5d023-d90b-4866-9641-79a3c14c3605\" class=\"colab-df-container\">\n",
              "    <div>\n",
              "<style scoped>\n",
              "    .dataframe tbody tr th:only-of-type {\n",
              "        vertical-align: middle;\n",
              "    }\n",
              "\n",
              "    .dataframe tbody tr th {\n",
              "        vertical-align: top;\n",
              "    }\n",
              "\n",
              "    .dataframe thead th {\n",
              "        text-align: right;\n",
              "    }\n",
              "</style>\n",
              "<table border=\"1\" class=\"dataframe\">\n",
              "  <thead>\n",
              "    <tr style=\"text-align: right;\">\n",
              "      <th></th>\n",
              "      <th>A</th>\n",
              "      <th>B</th>\n",
              "      <th>C</th>\n",
              "    </tr>\n",
              "  </thead>\n",
              "  <tbody>\n",
              "    <tr>\n",
              "      <th>0</th>\n",
              "      <td>1.0</td>\n",
              "      <td>None Given</td>\n",
              "      <td>2.0</td>\n",
              "    </tr>\n",
              "    <tr>\n",
              "      <th>1</th>\n",
              "      <td>4.0</td>\n",
              "      <td>7.0</td>\n",
              "      <td>3.0</td>\n",
              "    </tr>\n",
              "    <tr>\n",
              "      <th>2</th>\n",
              "      <td>7.0</td>\n",
              "      <td>None Given</td>\n",
              "      <td>NaN</td>\n",
              "    </tr>\n",
              "    <tr>\n",
              "      <th>3</th>\n",
              "      <td>NaN</td>\n",
              "      <td>7.0</td>\n",
              "      <td>NaN</td>\n",
              "    </tr>\n",
              "    <tr>\n",
              "      <th>4</th>\n",
              "      <td>5.0</td>\n",
              "      <td>9.0</td>\n",
              "      <td>7.0</td>\n",
              "    </tr>\n",
              "  </tbody>\n",
              "</table>\n",
              "</div>\n",
              "    <div class=\"colab-df-buttons\">\n",
              "\n",
              "  <div class=\"colab-df-container\">\n",
              "    <button class=\"colab-df-convert\" onclick=\"convertToInteractive('df-45a5d023-d90b-4866-9641-79a3c14c3605')\"\n",
              "            title=\"Convert this dataframe to an interactive table.\"\n",
              "            style=\"display:none;\">\n",
              "\n",
              "  <svg xmlns=\"http://www.w3.org/2000/svg\" height=\"24px\" viewBox=\"0 -960 960 960\">\n",
              "    <path d=\"M120-120v-720h720v720H120Zm60-500h600v-160H180v160Zm220 220h160v-160H400v160Zm0 220h160v-160H400v160ZM180-400h160v-160H180v160Zm440 0h160v-160H620v160ZM180-180h160v-160H180v160Zm440 0h160v-160H620v160Z\"/>\n",
              "  </svg>\n",
              "    </button>\n",
              "\n",
              "  <style>\n",
              "    .colab-df-container {\n",
              "      display:flex;\n",
              "      gap: 12px;\n",
              "    }\n",
              "\n",
              "    .colab-df-convert {\n",
              "      background-color: #E8F0FE;\n",
              "      border: none;\n",
              "      border-radius: 50%;\n",
              "      cursor: pointer;\n",
              "      display: none;\n",
              "      fill: #1967D2;\n",
              "      height: 32px;\n",
              "      padding: 0 0 0 0;\n",
              "      width: 32px;\n",
              "    }\n",
              "\n",
              "    .colab-df-convert:hover {\n",
              "      background-color: #E2EBFA;\n",
              "      box-shadow: 0px 1px 2px rgba(60, 64, 67, 0.3), 0px 1px 3px 1px rgba(60, 64, 67, 0.15);\n",
              "      fill: #174EA6;\n",
              "    }\n",
              "\n",
              "    .colab-df-buttons div {\n",
              "      margin-bottom: 4px;\n",
              "    }\n",
              "\n",
              "    [theme=dark] .colab-df-convert {\n",
              "      background-color: #3B4455;\n",
              "      fill: #D2E3FC;\n",
              "    }\n",
              "\n",
              "    [theme=dark] .colab-df-convert:hover {\n",
              "      background-color: #434B5C;\n",
              "      box-shadow: 0px 1px 3px 1px rgba(0, 0, 0, 0.15);\n",
              "      filter: drop-shadow(0px 1px 2px rgba(0, 0, 0, 0.3));\n",
              "      fill: #FFFFFF;\n",
              "    }\n",
              "  </style>\n",
              "\n",
              "    <script>\n",
              "      const buttonEl =\n",
              "        document.querySelector('#df-45a5d023-d90b-4866-9641-79a3c14c3605 button.colab-df-convert');\n",
              "      buttonEl.style.display =\n",
              "        google.colab.kernel.accessAllowed ? 'block' : 'none';\n",
              "\n",
              "      async function convertToInteractive(key) {\n",
              "        const element = document.querySelector('#df-45a5d023-d90b-4866-9641-79a3c14c3605');\n",
              "        const dataTable =\n",
              "          await google.colab.kernel.invokeFunction('convertToInteractive',\n",
              "                                                    [key], {});\n",
              "        if (!dataTable) return;\n",
              "\n",
              "        const docLinkHtml = 'Like what you see? Visit the ' +\n",
              "          '<a target=\"_blank\" href=https://colab.research.google.com/notebooks/data_table.ipynb>data table notebook</a>'\n",
              "          + ' to learn more about interactive tables.';\n",
              "        element.innerHTML = '';\n",
              "        dataTable['output_type'] = 'display_data';\n",
              "        await google.colab.output.renderOutput(dataTable, element);\n",
              "        const docLink = document.createElement('div');\n",
              "        docLink.innerHTML = docLinkHtml;\n",
              "        element.appendChild(docLink);\n",
              "      }\n",
              "    </script>\n",
              "  </div>\n",
              "\n",
              "\n",
              "<div id=\"df-570a663d-e04f-4bd2-8ca5-4ac9b3c6ba75\">\n",
              "  <button class=\"colab-df-quickchart\" onclick=\"quickchart('df-570a663d-e04f-4bd2-8ca5-4ac9b3c6ba75')\"\n",
              "            title=\"Suggest charts\"\n",
              "            style=\"display:none;\">\n",
              "\n",
              "<svg xmlns=\"http://www.w3.org/2000/svg\" height=\"24px\"viewBox=\"0 0 24 24\"\n",
              "     width=\"24px\">\n",
              "    <g>\n",
              "        <path d=\"M19 3H5c-1.1 0-2 .9-2 2v14c0 1.1.9 2 2 2h14c1.1 0 2-.9 2-2V5c0-1.1-.9-2-2-2zM9 17H7v-7h2v7zm4 0h-2V7h2v10zm4 0h-2v-4h2v4z\"/>\n",
              "    </g>\n",
              "</svg>\n",
              "  </button>\n",
              "\n",
              "<style>\n",
              "  .colab-df-quickchart {\n",
              "      --bg-color: #E8F0FE;\n",
              "      --fill-color: #1967D2;\n",
              "      --hover-bg-color: #E2EBFA;\n",
              "      --hover-fill-color: #174EA6;\n",
              "      --disabled-fill-color: #AAA;\n",
              "      --disabled-bg-color: #DDD;\n",
              "  }\n",
              "\n",
              "  [theme=dark] .colab-df-quickchart {\n",
              "      --bg-color: #3B4455;\n",
              "      --fill-color: #D2E3FC;\n",
              "      --hover-bg-color: #434B5C;\n",
              "      --hover-fill-color: #FFFFFF;\n",
              "      --disabled-bg-color: #3B4455;\n",
              "      --disabled-fill-color: #666;\n",
              "  }\n",
              "\n",
              "  .colab-df-quickchart {\n",
              "    background-color: var(--bg-color);\n",
              "    border: none;\n",
              "    border-radius: 50%;\n",
              "    cursor: pointer;\n",
              "    display: none;\n",
              "    fill: var(--fill-color);\n",
              "    height: 32px;\n",
              "    padding: 0;\n",
              "    width: 32px;\n",
              "  }\n",
              "\n",
              "  .colab-df-quickchart:hover {\n",
              "    background-color: var(--hover-bg-color);\n",
              "    box-shadow: 0 1px 2px rgba(60, 64, 67, 0.3), 0 1px 3px 1px rgba(60, 64, 67, 0.15);\n",
              "    fill: var(--button-hover-fill-color);\n",
              "  }\n",
              "\n",
              "  .colab-df-quickchart-complete:disabled,\n",
              "  .colab-df-quickchart-complete:disabled:hover {\n",
              "    background-color: var(--disabled-bg-color);\n",
              "    fill: var(--disabled-fill-color);\n",
              "    box-shadow: none;\n",
              "  }\n",
              "\n",
              "  .colab-df-spinner {\n",
              "    border: 2px solid var(--fill-color);\n",
              "    border-color: transparent;\n",
              "    border-bottom-color: var(--fill-color);\n",
              "    animation:\n",
              "      spin 1s steps(1) infinite;\n",
              "  }\n",
              "\n",
              "  @keyframes spin {\n",
              "    0% {\n",
              "      border-color: transparent;\n",
              "      border-bottom-color: var(--fill-color);\n",
              "      border-left-color: var(--fill-color);\n",
              "    }\n",
              "    20% {\n",
              "      border-color: transparent;\n",
              "      border-left-color: var(--fill-color);\n",
              "      border-top-color: var(--fill-color);\n",
              "    }\n",
              "    30% {\n",
              "      border-color: transparent;\n",
              "      border-left-color: var(--fill-color);\n",
              "      border-top-color: var(--fill-color);\n",
              "      border-right-color: var(--fill-color);\n",
              "    }\n",
              "    40% {\n",
              "      border-color: transparent;\n",
              "      border-right-color: var(--fill-color);\n",
              "      border-top-color: var(--fill-color);\n",
              "    }\n",
              "    60% {\n",
              "      border-color: transparent;\n",
              "      border-right-color: var(--fill-color);\n",
              "    }\n",
              "    80% {\n",
              "      border-color: transparent;\n",
              "      border-right-color: var(--fill-color);\n",
              "      border-bottom-color: var(--fill-color);\n",
              "    }\n",
              "    90% {\n",
              "      border-color: transparent;\n",
              "      border-bottom-color: var(--fill-color);\n",
              "    }\n",
              "  }\n",
              "</style>\n",
              "\n",
              "  <script>\n",
              "    async function quickchart(key) {\n",
              "      const quickchartButtonEl =\n",
              "        document.querySelector('#' + key + ' button');\n",
              "      quickchartButtonEl.disabled = true;  // To prevent multiple clicks.\n",
              "      quickchartButtonEl.classList.add('colab-df-spinner');\n",
              "      try {\n",
              "        const charts = await google.colab.kernel.invokeFunction(\n",
              "            'suggestCharts', [key], {});\n",
              "      } catch (error) {\n",
              "        console.error('Error during call to suggestCharts:', error);\n",
              "      }\n",
              "      quickchartButtonEl.classList.remove('colab-df-spinner');\n",
              "      quickchartButtonEl.classList.add('colab-df-quickchart-complete');\n",
              "    }\n",
              "    (() => {\n",
              "      let quickchartButtonEl =\n",
              "        document.querySelector('#df-570a663d-e04f-4bd2-8ca5-4ac9b3c6ba75 button');\n",
              "      quickchartButtonEl.style.display =\n",
              "        google.colab.kernel.accessAllowed ? 'block' : 'none';\n",
              "    })();\n",
              "  </script>\n",
              "</div>\n",
              "    </div>\n",
              "  </div>\n"
            ]
          },
          "metadata": {},
          "execution_count": 38
        }
      ]
    },
    {
      "cell_type": "code",
      "source": [
        "# Record where the values are not missing\n",
        "df['SalaryGiven'] = df['ConvertedSalary'].notnull()\n",
        "# Drop a specific column\n",
        "df.drop(columns=['ConvertedSalary'])"
      ],
      "metadata": {
        "id": "X9vkS94su-v3"
      },
      "execution_count": null,
      "outputs": []
    },
    {
      "cell_type": "markdown",
      "source": [
        "Работа с типами данных"
      ],
      "metadata": {
        "id": "zN2842ZcLrAH"
      }
    },
    {
      "cell_type": "code",
      "source": [
        "df = pd.read_csv('/content/volunteer_opportunities.csv')\n",
        "df.info() # object: string/mixed types, int64, float64, datetime64"
      ],
      "metadata": {
        "colab": {
          "base_uri": "https://localhost:8080/"
        },
        "id": "-IIfjlXxLhWE",
        "outputId": "2b945bb6-4306-4fe7-c19c-2032a7d64c27"
      },
      "execution_count": null,
      "outputs": [
        {
          "output_type": "stream",
          "name": "stdout",
          "text": [
            "<class 'pandas.core.frame.DataFrame'>\n",
            "RangeIndex: 665 entries, 0 to 664\n",
            "Data columns (total 35 columns):\n",
            " #   Column              Non-Null Count  Dtype  \n",
            "---  ------              --------------  -----  \n",
            " 0   opportunity_id      665 non-null    int64  \n",
            " 1   content_id          665 non-null    int64  \n",
            " 2   vol_requests        665 non-null    int64  \n",
            " 3   event_time          665 non-null    int64  \n",
            " 4   title               665 non-null    object \n",
            " 5   hits                665 non-null    int64  \n",
            " 6   summary             665 non-null    object \n",
            " 7   is_priority         62 non-null     object \n",
            " 8   category_id         617 non-null    float64\n",
            " 9   category_desc       617 non-null    object \n",
            " 10  amsl                0 non-null      float64\n",
            " 11  amsl_unit           0 non-null      float64\n",
            " 12  org_title           665 non-null    object \n",
            " 13  org_content_id      665 non-null    int64  \n",
            " 14  addresses_count     665 non-null    int64  \n",
            " 15  locality            595 non-null    object \n",
            " 16  region              665 non-null    object \n",
            " 17  postalcode          659 non-null    float64\n",
            " 18  primary_loc         0 non-null      float64\n",
            " 19  display_url         665 non-null    object \n",
            " 20  recurrence_type     665 non-null    object \n",
            " 21  hours               665 non-null    int64  \n",
            " 22  created_date        665 non-null    object \n",
            " 23  last_modified_date  665 non-null    object \n",
            " 24  start_date_date     665 non-null    object \n",
            " 25  end_date_date       665 non-null    object \n",
            " 26  status              665 non-null    object \n",
            " 27  Latitude            0 non-null      float64\n",
            " 28  Longitude           0 non-null      float64\n",
            " 29  Community Board     0 non-null      float64\n",
            " 30  Community Council   0 non-null      float64\n",
            " 31  Census Tract        0 non-null      float64\n",
            " 32  BIN                 0 non-null      float64\n",
            " 33  BBL                 0 non-null      float64\n",
            " 34  NTA                 0 non-null      float64\n",
            "dtypes: float64(13), int64(8), object(14)\n",
            "memory usage: 182.0+ KB\n"
          ]
        }
      ]
    },
    {
      "cell_type": "code",
      "source": [
        "df = pd.DataFrame({'A':[1, 2, 3], 'B': ['string', 'string2', 'string3'], 'C': [1.0, 2.0, 3.0]})\n",
        "df.dtypes"
      ],
      "metadata": {
        "colab": {
          "base_uri": "https://localhost:8080/"
        },
        "id": "lx_3lLIhL1J2",
        "outputId": "2a83a188-06ce-4bd7-fca1-b91edb182090"
      },
      "execution_count": 8,
      "outputs": [
        {
          "output_type": "execute_result",
          "data": {
            "text/plain": [
              "A      int64\n",
              "B     object\n",
              "C    float64\n",
              "dtype: object"
            ]
          },
          "metadata": {},
          "execution_count": 8
        }
      ]
    },
    {
      "cell_type": "code",
      "source": [
        "df['C'] = df['C'].astype('float32')\n",
        "df.dtypes"
      ],
      "metadata": {
        "colab": {
          "base_uri": "https://localhost:8080/"
        },
        "id": "E_o9IJpAMrpu",
        "outputId": "867612b8-ff48-408d-fdb7-a8e2803fe23e"
      },
      "execution_count": 9,
      "outputs": [
        {
          "output_type": "execute_result",
          "data": {
            "text/plain": [
              "A      int64\n",
              "B     object\n",
              "C    float32\n",
              "dtype: object"
            ]
          },
          "metadata": {},
          "execution_count": 9
        }
      ]
    },
    {
      "cell_type": "code",
      "source": [
        "only_ints = df.select_dtypes(include=['int']) #выбрать специальный тип данных\n",
        "print(only_ints.columns)"
      ],
      "metadata": {
        "colab": {
          "base_uri": "https://localhost:8080/"
        },
        "id": "o6zlS0zBllk3",
        "outputId": "5bd5c418-f128-40cc-d958-919b5b427b05"
      },
      "execution_count": 12,
      "outputs": [
        {
          "output_type": "stream",
          "name": "stdout",
          "text": [
            "Index(['A'], dtype='object')\n"
          ]
        }
      ]
    },
    {
      "cell_type": "markdown",
      "source": [
        "Удаление выбросов (и на тесте)"
      ],
      "metadata": {
        "id": "SQwfVEkG1XDC"
      }
    },
    {
      "cell_type": "code",
      "source": [
        "train_mean = train[['col']].mean()\n",
        "train_std = train[['col']].std()\n",
        "cut_off = train_std * 3\n",
        "train_lower = train_mean - cut_off\n",
        "train_upper = train_mean + cut_off\n",
        "# Subset train data\n",
        "test = pd.read_csv('test_csv')\n",
        "test = test[(test[['col']] < train_upper) & (test[['col']] > train_lower)]"
      ],
      "metadata": {
        "id": "SY54AIll1a66"
      },
      "execution_count": null,
      "outputs": []
    },
    {
      "cell_type": "markdown",
      "source": [
        "Log нормализация"
      ],
      "metadata": {
        "id": "2c-5_gwsOnmm"
      }
    },
    {
      "cell_type": "code",
      "source": [
        "df = pd.DataFrame({'col1': [1.00, 1.20, 0.75, 1.60], 'col2': [3.0, 45.5, 28.0, 100.0]})\n",
        "df.var()"
      ],
      "metadata": {
        "colab": {
          "base_uri": "https://localhost:8080/"
        },
        "id": "d3wFVq_wOql-",
        "outputId": "659192c4-c536-488a-c8cd-79d17303553f"
      },
      "execution_count": null,
      "outputs": [
        {
          "output_type": "execute_result",
          "data": {
            "text/plain": [
              "col1       0.128958\n",
              "col2    1691.729167\n",
              "dtype: float64"
            ]
          },
          "metadata": {},
          "execution_count": 24
        }
      ]
    },
    {
      "cell_type": "code",
      "source": [
        "import numpy as np\n",
        "df[\"log_2\"] = np.log(df[\"col2\"])\n",
        "print(df[[\"col1\", \"log_2\"]].var()) # дисперсия"
      ],
      "metadata": {
        "colab": {
          "base_uri": "https://localhost:8080/"
        },
        "id": "7L20ZT5XN2kS",
        "outputId": "95c3e3f9-8291-4649-9b01-fbff06558a4f"
      },
      "execution_count": null,
      "outputs": [
        {
          "output_type": "stream",
          "name": "stdout",
          "text": [
            "col1     0.128958\n",
            "log_2    2.262886\n",
            "dtype: float64\n"
          ]
        }
      ]
    },
    {
      "cell_type": "code",
      "source": [
        "from sklearn.preprocessing import PowerTransformer\n",
        "log = PowerTransformer()\n",
        "log.fit(df[['ConvertedSalary']])\n",
        "df['log_ConvertedSalary'] = log.transform(df[['ConvertedSalary']])"
      ],
      "metadata": {
        "id": "gMK9CDOW0UdH"
      },
      "execution_count": null,
      "outputs": []
    },
    {
      "cell_type": "markdown",
      "source": [
        "Scaling data"
      ],
      "metadata": {
        "id": "tJfaUkOMPxLY"
      }
    },
    {
      "cell_type": "code",
      "source": [
        "df = pd.DataFrame({'col1': [1.00, 1.20, 0.75, 1.60], 'col2': [48.0, 45.5, 46.2, 50.0],\n",
        "                   'col3' : [100.0, 101.3, 103.5, 104.0]})\n",
        "df.var()"
      ],
      "metadata": {
        "colab": {
          "base_uri": "https://localhost:8080/"
        },
        "id": "UrbKWBmIPzt9",
        "outputId": "7789e0c9-a1d3-4d01-d63e-433a661987b2"
      },
      "execution_count": null,
      "outputs": [
        {
          "output_type": "execute_result",
          "data": {
            "text/plain": [
              "col1    0.128958\n",
              "col2    4.055833\n",
              "col3    3.526667\n",
              "dtype: float64"
            ]
          },
          "metadata": {},
          "execution_count": 28
        }
      ]
    },
    {
      "cell_type": "code",
      "source": [
        "from sklearn.preprocessing import StandardScaler\n",
        "scaler = StandardScaler()\n",
        "df_scaled = pd.DataFrame(scaler.fit_transform(df), columns=df.columns)\n",
        "print(df_scaled.var())"
      ],
      "metadata": {
        "colab": {
          "base_uri": "https://localhost:8080/"
        },
        "id": "ekKZ7kPKPO05",
        "outputId": "7a3e5ff6-7a56-427c-ef42-6f64263319f8"
      },
      "execution_count": null,
      "outputs": [
        {
          "output_type": "stream",
          "name": "stdout",
          "text": [
            "col1    1.333333\n",
            "col2    1.333333\n",
            "col3    1.333333\n",
            "dtype: float64\n"
          ]
        }
      ]
    },
    {
      "cell_type": "markdown",
      "source": [
        "Создание категориальных признаков"
      ],
      "metadata": {
        "id": "e4xng3LvQwwU"
      }
    },
    {
      "cell_type": "code",
      "source": [
        "users = pd.DataFrame({'user':[1, 2, 3, 4],\n",
        "                   'subscribed': ['y', 'n', 'n', 'y'],\n",
        "                   'fav_color': ['blue', 'green', 'orange', 'green']})\n",
        "users[\"sub_enc\"] = users[\"subscribed\"].apply(lambda val: 1 if val == \"y\" else 0)\n",
        "print(users[[\"subscribed\", \"sub_enc\"]])"
      ],
      "metadata": {
        "colab": {
          "base_uri": "https://localhost:8080/"
        },
        "id": "1lLO_ZY-QQR3",
        "outputId": "b167c9a0-f372-483a-e537-05e4bee86460"
      },
      "execution_count": 13,
      "outputs": [
        {
          "output_type": "stream",
          "name": "stdout",
          "text": [
            "  subscribed  sub_enc\n",
            "0          y        1\n",
            "1          n        0\n",
            "2          n        0\n",
            "3          y        1\n"
          ]
        }
      ]
    },
    {
      "cell_type": "code",
      "source": [
        "from sklearn.preprocessing import LabelEncoder\n",
        "le = LabelEncoder()\n",
        "users[\"sub_enc_le\"] = le.fit_transform(users[\"subscribed\"])\n",
        "print(users[[\"subscribed\", \"sub_enc_le\"]])"
      ],
      "metadata": {
        "colab": {
          "base_uri": "https://localhost:8080/"
        },
        "id": "CXSJnx7MRqy8",
        "outputId": "409eafc3-409f-46ad-ffd5-b445b7774d8f"
      },
      "execution_count": null,
      "outputs": [
        {
          "output_type": "stream",
          "name": "stdout",
          "text": [
            "  subscribed  sub_enc_le\n",
            "0          y           1\n",
            "1          n           0\n",
            "2          n           0\n",
            "3          y           1\n"
          ]
        }
      ]
    },
    {
      "cell_type": "code",
      "source": [
        "print(pd.get_dummies(users[\"fav_color\"])) # более двух"
      ],
      "metadata": {
        "colab": {
          "base_uri": "https://localhost:8080/"
        },
        "id": "v8gypGkUSGlp",
        "outputId": "c6f782b3-3fe5-4081-c73f-37b0749bbd12"
      },
      "execution_count": null,
      "outputs": [
        {
          "output_type": "stream",
          "name": "stdout",
          "text": [
            "   blue  green  orange\n",
            "0     1      0       0\n",
            "1     0      1       0\n",
            "2     0      0       1\n",
            "3     0      1       0\n"
          ]
        }
      ]
    },
    {
      "cell_type": "code",
      "source": [
        "pd.get_dummies(users, columns=['fav_color'], drop_first=True, prefix='C') #3 категории - 2 столбца"
      ],
      "metadata": {
        "colab": {
          "base_uri": "https://localhost:8080/",
          "height": 175
        },
        "id": "pEIijnEYm6oT",
        "outputId": "75f8c318-4366-4e56-ae5b-d50f29fe54ec"
      },
      "execution_count": 16,
      "outputs": [
        {
          "output_type": "execute_result",
          "data": {
            "text/plain": [
              "   user subscribed  sub_enc  C_green  C_orange\n",
              "0     1          y        1        0         0\n",
              "1     2          n        0        1         0\n",
              "2     3          n        0        0         1\n",
              "3     4          y        1        1         0"
            ],
            "text/html": [
              "\n",
              "  <div id=\"df-cb606067-3501-4dc6-86fa-1c5bab1b3d53\" class=\"colab-df-container\">\n",
              "    <div>\n",
              "<style scoped>\n",
              "    .dataframe tbody tr th:only-of-type {\n",
              "        vertical-align: middle;\n",
              "    }\n",
              "\n",
              "    .dataframe tbody tr th {\n",
              "        vertical-align: top;\n",
              "    }\n",
              "\n",
              "    .dataframe thead th {\n",
              "        text-align: right;\n",
              "    }\n",
              "</style>\n",
              "<table border=\"1\" class=\"dataframe\">\n",
              "  <thead>\n",
              "    <tr style=\"text-align: right;\">\n",
              "      <th></th>\n",
              "      <th>user</th>\n",
              "      <th>subscribed</th>\n",
              "      <th>sub_enc</th>\n",
              "      <th>C_green</th>\n",
              "      <th>C_orange</th>\n",
              "    </tr>\n",
              "  </thead>\n",
              "  <tbody>\n",
              "    <tr>\n",
              "      <th>0</th>\n",
              "      <td>1</td>\n",
              "      <td>y</td>\n",
              "      <td>1</td>\n",
              "      <td>0</td>\n",
              "      <td>0</td>\n",
              "    </tr>\n",
              "    <tr>\n",
              "      <th>1</th>\n",
              "      <td>2</td>\n",
              "      <td>n</td>\n",
              "      <td>0</td>\n",
              "      <td>1</td>\n",
              "      <td>0</td>\n",
              "    </tr>\n",
              "    <tr>\n",
              "      <th>2</th>\n",
              "      <td>3</td>\n",
              "      <td>n</td>\n",
              "      <td>0</td>\n",
              "      <td>0</td>\n",
              "      <td>1</td>\n",
              "    </tr>\n",
              "    <tr>\n",
              "      <th>3</th>\n",
              "      <td>4</td>\n",
              "      <td>y</td>\n",
              "      <td>1</td>\n",
              "      <td>1</td>\n",
              "      <td>0</td>\n",
              "    </tr>\n",
              "  </tbody>\n",
              "</table>\n",
              "</div>\n",
              "    <div class=\"colab-df-buttons\">\n",
              "\n",
              "  <div class=\"colab-df-container\">\n",
              "    <button class=\"colab-df-convert\" onclick=\"convertToInteractive('df-cb606067-3501-4dc6-86fa-1c5bab1b3d53')\"\n",
              "            title=\"Convert this dataframe to an interactive table.\"\n",
              "            style=\"display:none;\">\n",
              "\n",
              "  <svg xmlns=\"http://www.w3.org/2000/svg\" height=\"24px\" viewBox=\"0 -960 960 960\">\n",
              "    <path d=\"M120-120v-720h720v720H120Zm60-500h600v-160H180v160Zm220 220h160v-160H400v160Zm0 220h160v-160H400v160ZM180-400h160v-160H180v160Zm440 0h160v-160H620v160ZM180-180h160v-160H180v160Zm440 0h160v-160H620v160Z\"/>\n",
              "  </svg>\n",
              "    </button>\n",
              "\n",
              "  <style>\n",
              "    .colab-df-container {\n",
              "      display:flex;\n",
              "      gap: 12px;\n",
              "    }\n",
              "\n",
              "    .colab-df-convert {\n",
              "      background-color: #E8F0FE;\n",
              "      border: none;\n",
              "      border-radius: 50%;\n",
              "      cursor: pointer;\n",
              "      display: none;\n",
              "      fill: #1967D2;\n",
              "      height: 32px;\n",
              "      padding: 0 0 0 0;\n",
              "      width: 32px;\n",
              "    }\n",
              "\n",
              "    .colab-df-convert:hover {\n",
              "      background-color: #E2EBFA;\n",
              "      box-shadow: 0px 1px 2px rgba(60, 64, 67, 0.3), 0px 1px 3px 1px rgba(60, 64, 67, 0.15);\n",
              "      fill: #174EA6;\n",
              "    }\n",
              "\n",
              "    .colab-df-buttons div {\n",
              "      margin-bottom: 4px;\n",
              "    }\n",
              "\n",
              "    [theme=dark] .colab-df-convert {\n",
              "      background-color: #3B4455;\n",
              "      fill: #D2E3FC;\n",
              "    }\n",
              "\n",
              "    [theme=dark] .colab-df-convert:hover {\n",
              "      background-color: #434B5C;\n",
              "      box-shadow: 0px 1px 3px 1px rgba(0, 0, 0, 0.15);\n",
              "      filter: drop-shadow(0px 1px 2px rgba(0, 0, 0, 0.3));\n",
              "      fill: #FFFFFF;\n",
              "    }\n",
              "  </style>\n",
              "\n",
              "    <script>\n",
              "      const buttonEl =\n",
              "        document.querySelector('#df-cb606067-3501-4dc6-86fa-1c5bab1b3d53 button.colab-df-convert');\n",
              "      buttonEl.style.display =\n",
              "        google.colab.kernel.accessAllowed ? 'block' : 'none';\n",
              "\n",
              "      async function convertToInteractive(key) {\n",
              "        const element = document.querySelector('#df-cb606067-3501-4dc6-86fa-1c5bab1b3d53');\n",
              "        const dataTable =\n",
              "          await google.colab.kernel.invokeFunction('convertToInteractive',\n",
              "                                                    [key], {});\n",
              "        if (!dataTable) return;\n",
              "\n",
              "        const docLinkHtml = 'Like what you see? Visit the ' +\n",
              "          '<a target=\"_blank\" href=https://colab.research.google.com/notebooks/data_table.ipynb>data table notebook</a>'\n",
              "          + ' to learn more about interactive tables.';\n",
              "        element.innerHTML = '';\n",
              "        dataTable['output_type'] = 'display_data';\n",
              "        await google.colab.output.renderOutput(dataTable, element);\n",
              "        const docLink = document.createElement('div');\n",
              "        docLink.innerHTML = docLinkHtml;\n",
              "        element.appendChild(docLink);\n",
              "      }\n",
              "    </script>\n",
              "  </div>\n",
              "\n",
              "\n",
              "<div id=\"df-aa0b2c09-be2f-4713-8562-4a6ecaeb3590\">\n",
              "  <button class=\"colab-df-quickchart\" onclick=\"quickchart('df-aa0b2c09-be2f-4713-8562-4a6ecaeb3590')\"\n",
              "            title=\"Suggest charts\"\n",
              "            style=\"display:none;\">\n",
              "\n",
              "<svg xmlns=\"http://www.w3.org/2000/svg\" height=\"24px\"viewBox=\"0 0 24 24\"\n",
              "     width=\"24px\">\n",
              "    <g>\n",
              "        <path d=\"M19 3H5c-1.1 0-2 .9-2 2v14c0 1.1.9 2 2 2h14c1.1 0 2-.9 2-2V5c0-1.1-.9-2-2-2zM9 17H7v-7h2v7zm4 0h-2V7h2v10zm4 0h-2v-4h2v4z\"/>\n",
              "    </g>\n",
              "</svg>\n",
              "  </button>\n",
              "\n",
              "<style>\n",
              "  .colab-df-quickchart {\n",
              "      --bg-color: #E8F0FE;\n",
              "      --fill-color: #1967D2;\n",
              "      --hover-bg-color: #E2EBFA;\n",
              "      --hover-fill-color: #174EA6;\n",
              "      --disabled-fill-color: #AAA;\n",
              "      --disabled-bg-color: #DDD;\n",
              "  }\n",
              "\n",
              "  [theme=dark] .colab-df-quickchart {\n",
              "      --bg-color: #3B4455;\n",
              "      --fill-color: #D2E3FC;\n",
              "      --hover-bg-color: #434B5C;\n",
              "      --hover-fill-color: #FFFFFF;\n",
              "      --disabled-bg-color: #3B4455;\n",
              "      --disabled-fill-color: #666;\n",
              "  }\n",
              "\n",
              "  .colab-df-quickchart {\n",
              "    background-color: var(--bg-color);\n",
              "    border: none;\n",
              "    border-radius: 50%;\n",
              "    cursor: pointer;\n",
              "    display: none;\n",
              "    fill: var(--fill-color);\n",
              "    height: 32px;\n",
              "    padding: 0;\n",
              "    width: 32px;\n",
              "  }\n",
              "\n",
              "  .colab-df-quickchart:hover {\n",
              "    background-color: var(--hover-bg-color);\n",
              "    box-shadow: 0 1px 2px rgba(60, 64, 67, 0.3), 0 1px 3px 1px rgba(60, 64, 67, 0.15);\n",
              "    fill: var(--button-hover-fill-color);\n",
              "  }\n",
              "\n",
              "  .colab-df-quickchart-complete:disabled,\n",
              "  .colab-df-quickchart-complete:disabled:hover {\n",
              "    background-color: var(--disabled-bg-color);\n",
              "    fill: var(--disabled-fill-color);\n",
              "    box-shadow: none;\n",
              "  }\n",
              "\n",
              "  .colab-df-spinner {\n",
              "    border: 2px solid var(--fill-color);\n",
              "    border-color: transparent;\n",
              "    border-bottom-color: var(--fill-color);\n",
              "    animation:\n",
              "      spin 1s steps(1) infinite;\n",
              "  }\n",
              "\n",
              "  @keyframes spin {\n",
              "    0% {\n",
              "      border-color: transparent;\n",
              "      border-bottom-color: var(--fill-color);\n",
              "      border-left-color: var(--fill-color);\n",
              "    }\n",
              "    20% {\n",
              "      border-color: transparent;\n",
              "      border-left-color: var(--fill-color);\n",
              "      border-top-color: var(--fill-color);\n",
              "    }\n",
              "    30% {\n",
              "      border-color: transparent;\n",
              "      border-left-color: var(--fill-color);\n",
              "      border-top-color: var(--fill-color);\n",
              "      border-right-color: var(--fill-color);\n",
              "    }\n",
              "    40% {\n",
              "      border-color: transparent;\n",
              "      border-right-color: var(--fill-color);\n",
              "      border-top-color: var(--fill-color);\n",
              "    }\n",
              "    60% {\n",
              "      border-color: transparent;\n",
              "      border-right-color: var(--fill-color);\n",
              "    }\n",
              "    80% {\n",
              "      border-color: transparent;\n",
              "      border-right-color: var(--fill-color);\n",
              "      border-bottom-color: var(--fill-color);\n",
              "    }\n",
              "    90% {\n",
              "      border-color: transparent;\n",
              "      border-bottom-color: var(--fill-color);\n",
              "    }\n",
              "  }\n",
              "</style>\n",
              "\n",
              "  <script>\n",
              "    async function quickchart(key) {\n",
              "      const quickchartButtonEl =\n",
              "        document.querySelector('#' + key + ' button');\n",
              "      quickchartButtonEl.disabled = true;  // To prevent multiple clicks.\n",
              "      quickchartButtonEl.classList.add('colab-df-spinner');\n",
              "      try {\n",
              "        const charts = await google.colab.kernel.invokeFunction(\n",
              "            'suggestCharts', [key], {});\n",
              "      } catch (error) {\n",
              "        console.error('Error during call to suggestCharts:', error);\n",
              "      }\n",
              "      quickchartButtonEl.classList.remove('colab-df-spinner');\n",
              "      quickchartButtonEl.classList.add('colab-df-quickchart-complete');\n",
              "    }\n",
              "    (() => {\n",
              "      let quickchartButtonEl =\n",
              "        document.querySelector('#df-aa0b2c09-be2f-4713-8562-4a6ecaeb3590 button');\n",
              "      quickchartButtonEl.style.display =\n",
              "        google.colab.kernel.accessAllowed ? 'block' : 'none';\n",
              "    })();\n",
              "  </script>\n",
              "</div>\n",
              "    </div>\n",
              "  </div>\n"
            ]
          },
          "metadata": {},
          "execution_count": 16
        }
      ]
    },
    {
      "cell_type": "markdown",
      "source": [
        "Редкие значения столбца в other"
      ],
      "metadata": {
        "id": "5D6at_6hoTRy"
      }
    },
    {
      "cell_type": "code",
      "source": [
        "df = pd.DataFrame({'Country': ['USA', 'USA', 'USA', 'USA', 'USA', 'USA', 'USA', 'USA',\n",
        "                               'UK', 'UK', 'UK', 'UK', 'UK', 'UK',\n",
        "                               'India', 'India', 'France']})\n",
        "counts = df['Country'].value_counts() #категории - кол-во\n",
        "counts"
      ],
      "metadata": {
        "colab": {
          "base_uri": "https://localhost:8080/"
        },
        "id": "ZjSGJsKsoenP",
        "outputId": "2e101bc4-c85b-4a42-f0d2-07adc86fda70"
      },
      "execution_count": 21,
      "outputs": [
        {
          "output_type": "execute_result",
          "data": {
            "text/plain": [
              "USA       8\n",
              "UK        6\n",
              "India     2\n",
              "France    1\n",
              "Name: Country, dtype: int64"
            ]
          },
          "metadata": {},
          "execution_count": 21
        }
      ]
    },
    {
      "cell_type": "code",
      "source": [
        "mask = df['Country'].isin(counts[counts < 5].index) #index - категории\n",
        "df['Country'][mask] = 'Other'\n",
        "print(df.value_counts())"
      ],
      "metadata": {
        "colab": {
          "base_uri": "https://localhost:8080/"
        },
        "id": "UwrkjWQGoT3x",
        "outputId": "fa6448e3-f406-421e-e522-01a8bba1d366"
      },
      "execution_count": 22,
      "outputs": [
        {
          "output_type": "stream",
          "name": "stdout",
          "text": [
            "Country\n",
            "USA        8\n",
            "UK         6\n",
            "Other      3\n",
            "dtype: int64\n"
          ]
        }
      ]
    },
    {
      "cell_type": "markdown",
      "source": [
        "Если 0 то 0 если больше 0 то 1"
      ],
      "metadata": {
        "id": "wWGTvFPNrBkG"
      }
    },
    {
      "cell_type": "code",
      "source": [
        "df['Binary_Violation'] = 0\n",
        "df.loc[df['Number_of_Violations'] > 0, 'Binary_Violation'] = 1"
      ],
      "metadata": {
        "id": "5h9p1GparB5Q"
      },
      "execution_count": null,
      "outputs": []
    },
    {
      "cell_type": "markdown",
      "source": [
        "Категоризация данных по интервалам"
      ],
      "metadata": {
        "id": "RyxyYuymrKIl"
      }
    },
    {
      "cell_type": "code",
      "source": [
        "import numpy as np\n",
        "df['Binned_Group'] = pd.cut(df['Number_of_Violations'],\n",
        "                            bins=[-np.inf, 0, 2, np.inf], labels=[1, 2, 3])"
      ],
      "metadata": {
        "id": "2V4eHQVHrLp8"
      },
      "execution_count": null,
      "outputs": []
    },
    {
      "cell_type": "markdown",
      "source": [
        "Генерирование численных признаков"
      ],
      "metadata": {
        "id": "15UsmsiYStuX"
      }
    },
    {
      "cell_type": "code",
      "source": [
        "temps = pd.DataFrame({'city': ['NYC', 'SF', 'LA', 'Boston'],\n",
        "                      'day1': [68.3, 75.1, 80.3, 63.0],\n",
        "                      'day2': [67.9, 75.5, 84.0, 61.0],\n",
        "                      'day3': [67.8, 74.9, 81.3, 61.2]})\n",
        "temps[\"mean\"] = temps.loc[:, \"day1\":\"day3\"].mean(axis=1)\n",
        "print(temps)"
      ],
      "metadata": {
        "colab": {
          "base_uri": "https://localhost:8080/"
        },
        "id": "z5-ZO9IrSLyj",
        "outputId": "74826d3b-4297-4291-8ee3-6fc80efab258"
      },
      "execution_count": null,
      "outputs": [
        {
          "output_type": "stream",
          "name": "stdout",
          "text": [
            "     city  day1  day2  day3       mean\n",
            "0     NYC  68.3  67.9  67.8  68.000000\n",
            "1      SF  75.1  75.5  74.9  75.166667\n",
            "2      LA  80.3  84.0  81.3  81.866667\n",
            "3  Boston  63.0  61.0  61.2  61.733333\n"
          ]
        }
      ]
    },
    {
      "cell_type": "markdown",
      "source": [
        "Заполнение непрерывных пропущенных данных"
      ],
      "metadata": {
        "id": "1i9fa-pwvoTI"
      }
    },
    {
      "cell_type": "code",
      "source": [
        "df['ConvertedSalary'] = df['ConvertedSalary'].fillna(df['ConvertedSalary'].mean())\n",
        "df['ConvertedSalary'] = df['ConvertedSalary'].astype('int64')"
      ],
      "metadata": {
        "id": "GTzSlJ-9vo_H"
      },
      "execution_count": null,
      "outputs": []
    },
    {
      "cell_type": "markdown",
      "source": [
        "Удаление запятых в числах"
      ],
      "metadata": {
        "id": "lg8-RAHqxXhC"
      }
    },
    {
      "cell_type": "code",
      "source": [
        "df = pd.DataFrame({'RawSalary': [np.NAN,'70,841.00', np.NAN, '21,426.00', '41,671.00']})\n",
        "df['RawSalary'] = df['RawSalary'].str.replace(',', '')\n",
        "df['RawSalary'] = df['RawSalary'].astype('float')\n",
        "df # или\n",
        "coerced_vals = pd.to_numeric(df['RawSalary'], errors='coerce') #всё что может в числовой, а что нет то NaN"
      ],
      "metadata": {
        "colab": {
          "base_uri": "https://localhost:8080/",
          "height": 206
        },
        "id": "1EFRJdKXxYLX",
        "outputId": "448036c5-597d-4faa-844c-9c2d50d6c484"
      },
      "execution_count": 40,
      "outputs": [
        {
          "output_type": "execute_result",
          "data": {
            "text/plain": [
              "   RawSalary\n",
              "0        NaN\n",
              "1    70841.0\n",
              "2        NaN\n",
              "3    21426.0\n",
              "4    41671.0"
            ],
            "text/html": [
              "\n",
              "  <div id=\"df-f51304c2-9b35-4a48-9d19-e1d6b92531e8\" class=\"colab-df-container\">\n",
              "    <div>\n",
              "<style scoped>\n",
              "    .dataframe tbody tr th:only-of-type {\n",
              "        vertical-align: middle;\n",
              "    }\n",
              "\n",
              "    .dataframe tbody tr th {\n",
              "        vertical-align: top;\n",
              "    }\n",
              "\n",
              "    .dataframe thead th {\n",
              "        text-align: right;\n",
              "    }\n",
              "</style>\n",
              "<table border=\"1\" class=\"dataframe\">\n",
              "  <thead>\n",
              "    <tr style=\"text-align: right;\">\n",
              "      <th></th>\n",
              "      <th>RawSalary</th>\n",
              "    </tr>\n",
              "  </thead>\n",
              "  <tbody>\n",
              "    <tr>\n",
              "      <th>0</th>\n",
              "      <td>NaN</td>\n",
              "    </tr>\n",
              "    <tr>\n",
              "      <th>1</th>\n",
              "      <td>70841.0</td>\n",
              "    </tr>\n",
              "    <tr>\n",
              "      <th>2</th>\n",
              "      <td>NaN</td>\n",
              "    </tr>\n",
              "    <tr>\n",
              "      <th>3</th>\n",
              "      <td>21426.0</td>\n",
              "    </tr>\n",
              "    <tr>\n",
              "      <th>4</th>\n",
              "      <td>41671.0</td>\n",
              "    </tr>\n",
              "  </tbody>\n",
              "</table>\n",
              "</div>\n",
              "    <div class=\"colab-df-buttons\">\n",
              "\n",
              "  <div class=\"colab-df-container\">\n",
              "    <button class=\"colab-df-convert\" onclick=\"convertToInteractive('df-f51304c2-9b35-4a48-9d19-e1d6b92531e8')\"\n",
              "            title=\"Convert this dataframe to an interactive table.\"\n",
              "            style=\"display:none;\">\n",
              "\n",
              "  <svg xmlns=\"http://www.w3.org/2000/svg\" height=\"24px\" viewBox=\"0 -960 960 960\">\n",
              "    <path d=\"M120-120v-720h720v720H120Zm60-500h600v-160H180v160Zm220 220h160v-160H400v160Zm0 220h160v-160H400v160ZM180-400h160v-160H180v160Zm440 0h160v-160H620v160ZM180-180h160v-160H180v160Zm440 0h160v-160H620v160Z\"/>\n",
              "  </svg>\n",
              "    </button>\n",
              "\n",
              "  <style>\n",
              "    .colab-df-container {\n",
              "      display:flex;\n",
              "      gap: 12px;\n",
              "    }\n",
              "\n",
              "    .colab-df-convert {\n",
              "      background-color: #E8F0FE;\n",
              "      border: none;\n",
              "      border-radius: 50%;\n",
              "      cursor: pointer;\n",
              "      display: none;\n",
              "      fill: #1967D2;\n",
              "      height: 32px;\n",
              "      padding: 0 0 0 0;\n",
              "      width: 32px;\n",
              "    }\n",
              "\n",
              "    .colab-df-convert:hover {\n",
              "      background-color: #E2EBFA;\n",
              "      box-shadow: 0px 1px 2px rgba(60, 64, 67, 0.3), 0px 1px 3px 1px rgba(60, 64, 67, 0.15);\n",
              "      fill: #174EA6;\n",
              "    }\n",
              "\n",
              "    .colab-df-buttons div {\n",
              "      margin-bottom: 4px;\n",
              "    }\n",
              "\n",
              "    [theme=dark] .colab-df-convert {\n",
              "      background-color: #3B4455;\n",
              "      fill: #D2E3FC;\n",
              "    }\n",
              "\n",
              "    [theme=dark] .colab-df-convert:hover {\n",
              "      background-color: #434B5C;\n",
              "      box-shadow: 0px 1px 3px 1px rgba(0, 0, 0, 0.15);\n",
              "      filter: drop-shadow(0px 1px 2px rgba(0, 0, 0, 0.3));\n",
              "      fill: #FFFFFF;\n",
              "    }\n",
              "  </style>\n",
              "\n",
              "    <script>\n",
              "      const buttonEl =\n",
              "        document.querySelector('#df-f51304c2-9b35-4a48-9d19-e1d6b92531e8 button.colab-df-convert');\n",
              "      buttonEl.style.display =\n",
              "        google.colab.kernel.accessAllowed ? 'block' : 'none';\n",
              "\n",
              "      async function convertToInteractive(key) {\n",
              "        const element = document.querySelector('#df-f51304c2-9b35-4a48-9d19-e1d6b92531e8');\n",
              "        const dataTable =\n",
              "          await google.colab.kernel.invokeFunction('convertToInteractive',\n",
              "                                                    [key], {});\n",
              "        if (!dataTable) return;\n",
              "\n",
              "        const docLinkHtml = 'Like what you see? Visit the ' +\n",
              "          '<a target=\"_blank\" href=https://colab.research.google.com/notebooks/data_table.ipynb>data table notebook</a>'\n",
              "          + ' to learn more about interactive tables.';\n",
              "        element.innerHTML = '';\n",
              "        dataTable['output_type'] = 'display_data';\n",
              "        await google.colab.output.renderOutput(dataTable, element);\n",
              "        const docLink = document.createElement('div');\n",
              "        docLink.innerHTML = docLinkHtml;\n",
              "        element.appendChild(docLink);\n",
              "      }\n",
              "    </script>\n",
              "  </div>\n",
              "\n",
              "\n",
              "<div id=\"df-7b666019-8322-4c95-bc6e-3dd2284a5f97\">\n",
              "  <button class=\"colab-df-quickchart\" onclick=\"quickchart('df-7b666019-8322-4c95-bc6e-3dd2284a5f97')\"\n",
              "            title=\"Suggest charts\"\n",
              "            style=\"display:none;\">\n",
              "\n",
              "<svg xmlns=\"http://www.w3.org/2000/svg\" height=\"24px\"viewBox=\"0 0 24 24\"\n",
              "     width=\"24px\">\n",
              "    <g>\n",
              "        <path d=\"M19 3H5c-1.1 0-2 .9-2 2v14c0 1.1.9 2 2 2h14c1.1 0 2-.9 2-2V5c0-1.1-.9-2-2-2zM9 17H7v-7h2v7zm4 0h-2V7h2v10zm4 0h-2v-4h2v4z\"/>\n",
              "    </g>\n",
              "</svg>\n",
              "  </button>\n",
              "\n",
              "<style>\n",
              "  .colab-df-quickchart {\n",
              "      --bg-color: #E8F0FE;\n",
              "      --fill-color: #1967D2;\n",
              "      --hover-bg-color: #E2EBFA;\n",
              "      --hover-fill-color: #174EA6;\n",
              "      --disabled-fill-color: #AAA;\n",
              "      --disabled-bg-color: #DDD;\n",
              "  }\n",
              "\n",
              "  [theme=dark] .colab-df-quickchart {\n",
              "      --bg-color: #3B4455;\n",
              "      --fill-color: #D2E3FC;\n",
              "      --hover-bg-color: #434B5C;\n",
              "      --hover-fill-color: #FFFFFF;\n",
              "      --disabled-bg-color: #3B4455;\n",
              "      --disabled-fill-color: #666;\n",
              "  }\n",
              "\n",
              "  .colab-df-quickchart {\n",
              "    background-color: var(--bg-color);\n",
              "    border: none;\n",
              "    border-radius: 50%;\n",
              "    cursor: pointer;\n",
              "    display: none;\n",
              "    fill: var(--fill-color);\n",
              "    height: 32px;\n",
              "    padding: 0;\n",
              "    width: 32px;\n",
              "  }\n",
              "\n",
              "  .colab-df-quickchart:hover {\n",
              "    background-color: var(--hover-bg-color);\n",
              "    box-shadow: 0 1px 2px rgba(60, 64, 67, 0.3), 0 1px 3px 1px rgba(60, 64, 67, 0.15);\n",
              "    fill: var(--button-hover-fill-color);\n",
              "  }\n",
              "\n",
              "  .colab-df-quickchart-complete:disabled,\n",
              "  .colab-df-quickchart-complete:disabled:hover {\n",
              "    background-color: var(--disabled-bg-color);\n",
              "    fill: var(--disabled-fill-color);\n",
              "    box-shadow: none;\n",
              "  }\n",
              "\n",
              "  .colab-df-spinner {\n",
              "    border: 2px solid var(--fill-color);\n",
              "    border-color: transparent;\n",
              "    border-bottom-color: var(--fill-color);\n",
              "    animation:\n",
              "      spin 1s steps(1) infinite;\n",
              "  }\n",
              "\n",
              "  @keyframes spin {\n",
              "    0% {\n",
              "      border-color: transparent;\n",
              "      border-bottom-color: var(--fill-color);\n",
              "      border-left-color: var(--fill-color);\n",
              "    }\n",
              "    20% {\n",
              "      border-color: transparent;\n",
              "      border-left-color: var(--fill-color);\n",
              "      border-top-color: var(--fill-color);\n",
              "    }\n",
              "    30% {\n",
              "      border-color: transparent;\n",
              "      border-left-color: var(--fill-color);\n",
              "      border-top-color: var(--fill-color);\n",
              "      border-right-color: var(--fill-color);\n",
              "    }\n",
              "    40% {\n",
              "      border-color: transparent;\n",
              "      border-right-color: var(--fill-color);\n",
              "      border-top-color: var(--fill-color);\n",
              "    }\n",
              "    60% {\n",
              "      border-color: transparent;\n",
              "      border-right-color: var(--fill-color);\n",
              "    }\n",
              "    80% {\n",
              "      border-color: transparent;\n",
              "      border-right-color: var(--fill-color);\n",
              "      border-bottom-color: var(--fill-color);\n",
              "    }\n",
              "    90% {\n",
              "      border-color: transparent;\n",
              "      border-bottom-color: var(--fill-color);\n",
              "    }\n",
              "  }\n",
              "</style>\n",
              "\n",
              "  <script>\n",
              "    async function quickchart(key) {\n",
              "      const quickchartButtonEl =\n",
              "        document.querySelector('#' + key + ' button');\n",
              "      quickchartButtonEl.disabled = true;  // To prevent multiple clicks.\n",
              "      quickchartButtonEl.classList.add('colab-df-spinner');\n",
              "      try {\n",
              "        const charts = await google.colab.kernel.invokeFunction(\n",
              "            'suggestCharts', [key], {});\n",
              "      } catch (error) {\n",
              "        console.error('Error during call to suggestCharts:', error);\n",
              "      }\n",
              "      quickchartButtonEl.classList.remove('colab-df-spinner');\n",
              "      quickchartButtonEl.classList.add('colab-df-quickchart-complete');\n",
              "    }\n",
              "    (() => {\n",
              "      let quickchartButtonEl =\n",
              "        document.querySelector('#df-7b666019-8322-4c95-bc6e-3dd2284a5f97 button');\n",
              "      quickchartButtonEl.style.display =\n",
              "        google.colab.kernel.accessAllowed ? 'block' : 'none';\n",
              "    })();\n",
              "  </script>\n",
              "</div>\n",
              "    </div>\n",
              "  </div>\n"
            ]
          },
          "metadata": {},
          "execution_count": 40
        }
      ]
    },
    {
      "cell_type": "markdown",
      "source": [
        "Получение признаков дат"
      ],
      "metadata": {
        "id": "JJvtgM_RTpZ2"
      }
    },
    {
      "cell_type": "code",
      "source": [
        "purchases = pd.DataFrame({'date': ['July 30 2011', 'February 01 2011', 'January 29 2011', 'March 31 2012', 'February 05 2011'],\n",
        "                          'purchase' : ['$45.08', '$19.48', '$76.09', '$32.61', '$75.98']})\n",
        "purchases[\"date_converted\"] = pd.to_datetime(purchases[\"date\"])\n",
        "purchases['month'] = purchases[\"date_converted\"].dt.month\n",
        "print(purchases)"
      ],
      "metadata": {
        "colab": {
          "base_uri": "https://localhost:8080/"
        },
        "id": "4gwUWR4_TXR6",
        "outputId": "7b5f25e6-5864-4d20-a85f-b2cbd9e1781a"
      },
      "execution_count": null,
      "outputs": [
        {
          "output_type": "stream",
          "name": "stdout",
          "text": [
            "               date purchase date_converted  month\n",
            "0      July 30 2011   $45.08     2011-07-30      7\n",
            "1  February 01 2011   $19.48     2011-02-01      2\n",
            "2   January 29 2011   $76.09     2011-01-29      1\n",
            "3     March 31 2012   $32.61     2012-03-31      3\n",
            "4  February 05 2011   $75.98     2011-02-05      2\n"
          ]
        }
      ]
    },
    {
      "cell_type": "markdown",
      "source": [
        "Генерирование текстовых признаков"
      ],
      "metadata": {
        "id": "21gCI_HiUyTc"
      }
    },
    {
      "cell_type": "code",
      "source": [
        "import re\n",
        "my_string = \"temperature:75.6 F\"\n",
        "temp = re.search(\"\\d+\\.\\d+\", my_string)\n",
        "print(float(temp.group(0)))"
      ],
      "metadata": {
        "colab": {
          "base_uri": "https://localhost:8080/"
        },
        "id": "H14bn8cTUh3O",
        "outputId": "f67d5a7b-7e92-4a0c-efa9-8eadfd1e24f8"
      },
      "execution_count": null,
      "outputs": [
        {
          "output_type": "stream",
          "name": "stdout",
          "text": [
            "75.6\n"
          ]
        }
      ]
    },
    {
      "cell_type": "code",
      "source": [
        "documents = pd.read_csv('/content/volunteer_opportunities.csv')\n",
        "documents = documents['summary']\n",
        "from sklearn.feature_extraction.text import TfidfVectorizer\n",
        "tfidf_vec = TfidfVectorizer()\n",
        "text_tfidf = tfidf_vec.fit_transform(documents)"
      ],
      "metadata": {
        "id": "ddmOus3qVUdq"
      },
      "execution_count": null,
      "outputs": []
    },
    {
      "cell_type": "code",
      "source": [
        "print(tfidf_vec.vocabulary_)"
      ],
      "metadata": {
        "colab": {
          "base_uri": "https://localhost:8080/"
        },
        "id": "NQuhxE6eXBK-",
        "outputId": "44bb33ce-0bf6-4f9a-8bf9-dc1d7eade26d"
      },
      "execution_count": null,
      "outputs": [
        {
          "output_type": "stream",
          "name": "stdout",
          "text": [
            "{'building': 485, 'on': 2033, 'successful': 2821, 'events': 1083, 'last': 1686, 'summer': 2827, 'and': 243, 'earlier': 965, 'this': 2923, 'year': 3224, 'in': 1519, 'the': 2909, 'bronx': 477, 'queens': 2348, 'center': 545, 'for': 1229, 'nyc': 2000, 'neighborhoods': 1958, 'cnycn': 621, 'its': 1620, 'partners': 2130, 'are': 281, 'now': 1989, 'organizing': 2065, '2011': 38, 'rise': 2513, 'up': 3049, 'stay': 2771, 'put': 2342, 'home': 1451, 'rescue': 2461, 'fair': 1148, 'it': 1618, 'will': 3181, 'be': 383, 'saturday': 2554, 'july': 1642, '30': 60, 'at': 330, 'long': 1766, 'island': 1613, 'university': 3044, 'brooklyn': 478, 'build': 484, 'website': 3143, 'an': 240, 'afghan': 190, 'business': 489, 'please': 2212, 'join': 1635, 'us': 3060, 'students': 2810, 'from': 1263, 'mott': 1916, 'hall': 1384, 'january': 1626, '29th': 58, 'ice': 1494, 'skating': 2672, 'trip': 3003, 'to': 2949, 'lasker': 1685, 'lanes': 1679, 'oxfam': 2091, 'action': 143, 'corps': 737, 'is': 1612, 'group': 1365, 'of': 2018, 'dedicated': 827, 'volunteers': 3113, 'that': 2908, 'raise': 2360, 'awareness': 354, 'by': 495, 'holding': 1448, 'reaching': 2373, 'out': 2072, 'people': 2151, 'our': 2071, 'town': 2966, 'rock': 2521, 'concerts': 681, 'most': 1911, 'importantly': 1514, 'halls': 1386, 'congress': 691, 'sign': 2658, 'february': 1169, '14': 23, 'http': 1481, 'www': 3221, 'oxfamactioncorps': 2092, 'org': 2055, 'stop': 2780, 'swap': 2852, 'reduces': 2407, 'waste': 3131, 'finding': 1197, 'new': 1964, 'homes': 1455, 'unwanted': 3048, 'but': 493, 'usable': 3061, 'items': 1619, 'help': 1420, 'sort': 2707, 'fold': 1221, 'display': 910, 'make': 1799, 'fun': 1272, 'free': 1251, 'reuse': 2495, 'experience': 1116, 'all': 215, 'jewish': 1631, 'museum': 1934, 'seeks': 2591, 'volunteer': 3111, 'staff': 2751, 'development': 869, 'trainer': 2980, 'provide': 2320, 'legal': 1707, 'advice': 179, 'information': 1541, 'resources': 2472, 'individuals': 1535, 'facing': 1146, 'consumer': 707, 'debt': 819, 'cases': 527, 'kings': 1662, 'county': 750, 'civil': 589, 'court': 754, 'use': 3062, 'your': 3236, 'skills': 2676, 'give': 1315, 'self': 2595, 'represented': 2453, 'litigants': 1749, 'tools': 2955, 'they': 2918, 'need': 1954, 'effectively': 987, 'represent': 2451, 'themselves': 2914, 'cents': 548, 'ability': 109, 'teach': 2876, 'mentor': 1862, 'coach': 623, 'young': 3234, 'achieve': 133, 'their': 2912, 'financial': 1194, 'goals': 1324, 'community': 663, 'health': 1408, 'advocates': 184, 'cha': 555, 'formerly': 1237, 'managed': 1805, 'care': 520, 'assistance': 320, 'program': 2299, 'or': 2051, 'mccap': 1839, 'provides': 2323, 'navigational': 1950, 'yorkers': 3231, 'garden': 1295, 'with': 3189, 'children': 576, 'supervise': 2831, 'activities': 150, 'saturdays': 2555, 'cloisters': 610, 'wall': 3122, 'street': 2793, 'wom': 3193, 'youth': 3238, 'teams': 2882, 'receive': 2383, 'clues': 619, 'then': 2915, 'dash': 804, 'each': 964, 'historical': 1444, 'landmark': 1678, 'cultural': 785, 'institution': 1561, 'where': 3167, 'perform': 2154, 'tasks': 2872, 'worldofmoney': 3210, 'has': 1398, 'five': 1204, 'proven': 2319, 'track': 2968, 'record': 2391, 'delivering': 839, 'empowering': 1015, 'education': 983, 'underserved': 3034, 'ages': 205, '12': 17, '18': 31, 'change': 559, 'life': 1728, 'changing': 560, 'someone': 2702, 'else': 1006, 'tutor': 3019, 'adult': 170, 'males': 1803, 'high': 1434, 'school': 2567, 'who': 3171, 'aging': 206, 'foster': 1242, 'system': 2856, 'you': 3232, 'reliable': 2433, 'social': 2691, 'do': 920, 'have': 1402, 'positive': 2232, 'attitude': 340, 'if': 1503, 'was': 3130, 'resounding': 2469, 'yes': 3226, 'see': 2588, 'full': 1270, 'description': 848, 'position': 2231, 'entails': 1044, 'completing': 670, 'mental': 1860, 'claim': 590, 'forms': 1238, 'monthly': 1906, 'tracking': 2969, 'payments': 2145, 'interfacing': 1580, 'insurance': 1566, 'companies': 664, 'regarding': 2413, 'etc': 1076, 'largest': 1683, 'timebanking': 2943, 'event': 1082, 'york': 3229, 'city': 588, 'clean': 597, 'abandoned': 108, 'cemetery': 543, 'staten': 2766, 'decrease': 825, 'isolation': 1615, 'within': 3190, 'senior': 2602, 'citizen': 585, 'population': 2227, 'visiting': 3103, 'friend': 1259, 'once': 2034, 'week': 3151, 'about': 112, 'hour': 1469, 'retail': 2490, 'sales': 2546, 'support': 2834, 'shop': 2639, 'rma': 2518, 'water': 3133, '70': 91, '000': 1, 'trees': 3001, 'been': 395, 'planted': 2203, 'across': 141, 'milliontreesnyc': 1879, 'stewardship': 2777, 'keep': 1648, 'green': 1350, 'coming': 650, 'workshop': 3207, 'can': 508, 'screen': 2574, 'movies': 1919, 'nutrition': 1994, 'fitness': 1203, 'low': 1776, 'income': 1528, 'seniors': 2603, 'assist': 319, 'farmers': 1158, 'weeding': 3150, 'mulching': 1925, 'planting': 2204, 'harvesting': 1397, 'two': 3026, 'acre': 139, 'vegetable': 3079, 'production': 2291, 'design': 849, 'outdoor': 2073, 'signs': 2661, 'promotional': 2308, 'flyers': 1216, 'moving': 1920, 'lifting': 1733, 'rearranging': 2380, 'needed': 1955, 'various': 3076, 'repairs': 2446, 'opportunity': 2047, 'adults': 171, 'obtain': 2009, 'opportunities': 2046, 'hospital': 1463, 'healthcare': 1409, 'environment': 1058, 'drupal': 958, 'php': 2181, 'other': 2069, 'programming': 2300, 'wanted': 3126, 'end': 1023, 'poverty': 2242, 'campaign': 502, 'recycling': 2404, 'declined': 823, 'we': 3140, 'get': 1309, 'again': 199, 'cool': 724, 'culture': 787, 'catch': 531, 'family': 1153, 'june': 1644, '19': 32, 'take': 2863, 'place': 2195, 'art': 290, 'flushing': 1214, 'meadows': 1840, 'corona': 733, 'park': 2116, 'families': 1152, 'part': 2119, 'tours': 2963, 'storytelling': 2786, 'making': 1802, 'filing': 1186, 'mailings': 1790, 'clerical': 600, 'duties': 962, 'hope': 1459, 'heroes': 1431, 'looking': 1769, 'walk': 3118, 'may': 1836, '21': 42, 'riverside': 2517, 'learn': 1702, 'more': 1908, 'go': 1322, 'hopeandheroeswalk': 1460, 'ways': 3137, 'physically': 2183, 'active': 146, 'want': 3125, 'groundwork': 1364, 'inc': 1520, 'hosting': 1466, 'decision': 821, 'day': 812, 'pep': 2152, 'rally': 2364, 'barbeque': 366, 'honor': 1457, 'college': 641, 'bound': 452, 'also': 222, 'serves': 2612, 'as': 300, 'advocate': 183, 'enrollment': 1042, 'throughout': 2935, 'gain': 1290, 'anywhere': 258, 'experiencing': 1119, 'some': 2701, 'form': 1234, 'personal': 2164, 'crisis': 771, 'bad': 360, 'broken': 476, 'heart': 1416, 'major': 1798, 'loss': 1770, 'depressive': 846, 'illness': 1506, 'gallery': 1292, 'needs': 1956, 'table': 2857, 'set': 2618, 'exhibit': 1107, 'atlantic': 333, 'terminal': 2902, 'goal': 1323, 'loving': 1775, 'well': 3159, 'recruit': 2397, 'prospective': 2312, 'adoptive': 169, 'parents': 2115, 'paired': 2105, 'one': 2035, 'tutees': 3018, 'explain': 1122, 'homework': 1456, 'assignments': 318, 'had': 1380, 'difficulty': 880, 'skilled': 2675, 'rebuilding': 2381, 'together': 2951, '25th': 53, 'parks': 2118, 'adventures': 175, 'greenteam': 1356, 'there': 2916, 'keeping': 1649, 'environmentally': 1060, 'friendly': 1260, 'things': 2919, 'organized': 2062, 'bring': 470, 'working': 3204, 'portable': 2228, 'no': 1975, 'longer': 1767, 'share': 2628, 'others': 2070, 'swimsuit': 2854, 'dip': 889, 'ocean': 2014, 'when': 3166, 'over': 2084, 'break': 461, 'down': 943, 'streets': 2795, 'invaluable': 1597, 'best': 411, 'masa': 1826, 'mexed': 1872, 'seeking': 2590, 'tutoring': 3021, 'services': 2614, 'elementary': 1003, 'middle': 1873, 'south': 2713, 'particularly': 2126, 'tuesday': 3010, 'evenings': 1081, 'celebration': 541, 'father': 1162, 'invite': 1604, 'fathers': 1163, 'son': 2704, 'daughter': 810, 'lunch': 1779, 'sunday': 2829, '19th': 33, '12pm': 20, 'work': 3200, 'oroe': 2068, 'borough': 446, 'wide': 3174, 'coordinators': 729, 'recycle': 2403, 'less': 1712, 'smart': 2680, 'recovery': 2394, 'solid': 2698, 'those': 2925, 'suffering': 2823, 'addictive': 154, 'behavior': 398, 'problems': 2283, 'range': 2365, 'cognitive': 632, 'behavioral': 399, 'techniques': 2886, 'manage': 1804, 'urges': 3059, 'modulate': 1897, 'emotions': 1012, 'problem': 2282, 'solve': 2700, 'strength': 2797, 'coalition': 626, 'against': 200, 'hunger': 1489, 'harvest': 1396, 'food': 1227, 'bank': 364, 'citizens': 586, 'committee': 655, '16th': 28, '10': 4, 'meals': 1842, 'prepared': 2256, 'emergency': 1010, 'red': 2405, 'cross': 775, 'centennial': 544, 'circle': 584, 'ready': 2378, 'ny': 1997, 'presentation': 2264, 'bag': 361, 'presentations': 2265, '45': 75, 'minutes': 1886, 'held': 1419, 'english': 1035, 'spanish': 2716, 'compost': 672, 'project': 2302, 'master': 1829, 'composter': 673, 'certificate': 552, 'course': 753, 'train': 2978, 'persons': 2166, 'interested': 1577, 'volunteering': 3112, 'advance': 172, 'site': 2667, 'composting': 674, 'nyjtl': 2003, 'designated': 850, 'promoter': 2305, 'beneficiary': 406, 'professsional': 2295, 'tennis': 2897, 'tournament': 2962, 'crotona': 777, 'jcc': 1629, 'members': 1856, 'neighbors': 1959, 'tenth': 2899, 'anniversary': 246, 'tragedies': 2975, 'september': 2608, '11': 14, 'service': 2613, 'outside': 2081, 'remembrance': 2437, 'choose': 581, 'morning': 1909, 'registration': 2418, 'girls': 1314, 'only': 2038, 'leadership': 1697, 'lead': 1694, 'courage': 752, 'confidence': 688, 'character': 563, 'communities': 662, 'world': 3209, 'better': 412, 'deliver': 836, 'holiday': 1449, 'package': 2094, 'express': 1128, 'through': 2934, 'painting': 2104, 'august': 345, '20th': 41, 'cooper': 725, 'hewitt': 1433, 'national': 1942, 'third': 2922, 'annual': 249, 'flyny': 1217, 'kite': 1665, 'festival': 1175, 'tbl': 2875, 'apply': 266, 'fall': 1149, 'spring': 2742, '2012': 39, 'academic': 115, 'come': 648, 'jingle': 1632, '5k': 83, 'bell': 402, 'run': 2538, 'december': 820, '4th': 78, 'fight': 1182, 'arthritis': 291, 'ft': 1268, 'tryon': 3009, 'first': 1202, 'time': 2941, 'gardener': 1296, 'whom': 3172, 'never': 1963, 'done': 936, 'any': 256, 'gardening': 1297, 'welcome': 3157, 'groups': 1366, 'flexible': 1208, 'dress': 949, 'accordingly': 127, 'doing': 927, 'poetry': 2217, 'class': 591, 'state': 2764, 'aid': 207, 'administrators': 165, 'association': 327, 'higher': 1435, 'corp': 734, 'agency': 204, 'pal': 2108, 'brownsville': 479, 'beacon': 385, 'bbc': 380, 'dance': 801, 'instructor': 1564, '20': 36, 'teen': 2888, 'participants': 2120, 'without': 3191, 'formal': 1235, 'latino': 1689, 'expo': 1124, 'which': 3169, 'takes': 2864, 'organizers': 2063, 'pre': 2248, 'include': 1524, 'recruiting': 2398, 'colleges': 642, 'schools': 2569, 'during': 960, 'tutorial': 3020, 'professional': 2292, 'teacher': 2877, 'models': 1895, 'lesson': 1713, 'activity': 151, 'classroom': 594, 'tutors': 3022, 'continue': 715, 'small': 2678, 'providing': 2324, 'individualized': 1534, 'attention': 339, 'allows': 217, 'thrive': 2932, 'artichoke': 292, 'company': 666, 'performs': 2159, 'planet': 2198, 'human': 1486, 'mapping': 1817, 'culmination': 782, 'beach': 384, 'days': 813, 'celebrate': 539, 'earth': 967, 'reading': 2377, 'space': 2714, 'fraction': 1249, 'student': 2809, 'using': 3067, 'structured': 2808, 'easy': 971, 'follow': 1222, 'curriculum': 792, 'literacy': 1746, 'read': 2375, 'books': 442, 'aloud': 221, 'hand': 1388, 'sew': 2624, 'costumes': 744, 'should': 2643, 'able': 110, 'childen': 575, '17': 29, '24': 49, 'oct': 2015, 'helping': 1423, 'stage': 2753, 'what': 3164, '10th': 13, 'why': 3173, 'not': 1983, 'become': 390, 'situations': 2669, 'create': 762, 'distribute': 912, 'preparedness': 2257, 'materials': 1831, 'housing': 1473, 'sites': 2668, 'enjoy': 1038, 'little': 1750, 'country': 749, 'right': 2509, 'here': 1428, 'manhattan': 1811, 'live': 1751, 'performances': 2156, 'carnival': 525, 'rides': 2507, 'reptile': 2455, 'show': 2646, 'hudson': 1484, '9th': 105, 'west': 3162, 'side': 2655, 'pm': 2216, 'addition': 155, 'classes': 592, 'many': 1815, 'benefits': 409, 'expanding': 1112, 'programs': 2301, 'nutritional': 1995, 'counseling': 747, 'constituents': 704, 'so': 2689, 'reach': 2372, 'levels': 1718, 'being': 401, 'strive': 2803, 'recreation': 2395, 'participation': 2124, 'enrich': 1040, 'facilities': 1144, 'shape': 2627, 'additional': 156, 'instructors': 1565, 'east': 970, '54th': 80, 'st': 2747, '348': 67, '10022': 8, 'accessible': 121, 'trains': 2982, 'asser': 313, 'levy': 1721, '392': 70, '10010': 7, 'm23': 1784, 'bus': 487, 'publicolor': 2332, 'engages': 1029, 'catalyze': 530, 'them': 2913, 'residents': 2466, 'inner': 1550, 'transform': 2984, 'environments': 1061, 'power': 2243, 'color': 643, 'collaboration': 635, 'under': 3032, 'served': 2611, 'weeks': 3156, 'readers': 2376, 'trained': 2979, 'research': 2462, 'based': 371, 'real': 2379, 'impact': 1511, 'child': 573, 'bayswater': 379, 'october': 2016, '16': 26, 'crafts': 761, 'games': 1294, 'face': 1138, 'popcorn': 2225, 'far': 1156, 'rockaway': 2522, 'jackie': 1622, 'robinson': 2520, '89': 100, 'bradhurst': 457, 'ave': 350, '10031': 9, 'dancing': 802, 'techiques': 2884, 'grades': 1337, 'basic': 372, 'math': 1832, 'acquire': 137, 'language': 1680, 'arts': 297, 'climb': 604, 'top': 2956, 'unique': 3040, 'stair': 2756, 'climbing': 605, 'hosted': 1465, 'ms': 1921, 'society': 2693, 'sny': 2688, 'chapter': 562, '27': 55, '66': 89, 'flights': 1209, 'stairs': 2757, 'individual': 1533, 'role': 2523, 'closely': 613, 'director': 894, 'communications': 661, 'outreach': 2079, 'nip': 1974, 'psychotherapy': 2327, 'blue': 436, 'engine': 1031, 'recruits': 2400, 'selects': 2594, 'supports': 2839, 'recent': 2385, 'graduates': 1339, 'dedicate': 826, 'accelerate': 118, 'achievement': 134, 'public': 2328, 'since': 2664, 'still': 2778, 'early': 966, 'stages': 2755, 'growth': 1369, 'driven': 953, 'word': 3197, 'attend': 336, 'breakfast': 462, 'orientation': 2066, 'rewarding': 2502, 'must': 1938, 'age': 201, '55': 81, 'member': 1855, 'retired': 2491, 'rsvp': 2536, 'american': 232, 'clubs': 618, 'greater': 1348, 'region': 2414, 'plan': 2197, 'own': 2089, 'fundraising': 1284, 'projects': 2303, 'participate': 2121, 'club': 617, 'planned': 2199, 'leaders': 1696, 'person': 2162, 'would': 3214, 'like': 1735, 'informing': 1543, 'availability': 347, 'communicating': 659, 'directly': 893, 'patients': 2140, 'referal': 2408, 'sources': 2712, 'marketing': 1823, 'media': 1847, 'special': 2720, 'warm': 3128, 'visit': 3102, 'older': 2028, 'jan': 1625, '2010': 37, '00': 0, 'am': 226, 'noon': 1980, 'dorot': 939, '171': 30, '85': 98, 'off': 2019, 'amsterdam': 239, 'photo': 2175, 'id': 1496, 'required': 2457, 'knowledge': 1671, 'exercising': 1106, 'exercise': 1105, 'evening': 1080, 'boardwalk': 438, 'paint': 2102, 'faces': 1140, 'refreshments': 2412, 'artworks': 299, 'consciousness': 698, 'important': 1513, 'issues': 1617, 'nylag': 2004, 'non': 1977, 'profit': 2297, 'law': 1692, 'firm': 1201, 'protection': 2316, 'did': 875, 'know': 1669, 'united': 3042, 'states': 2767, 'future': 1289, 'liver': 1752, 'disease': 907, 'foundation': 1244, 'toward': 2964, 'difference': 878, 'crew': 770, 'leader': 1695, 'co': 622, 'enter': 1045, 'into': 1595, 'next': 1971, 'phase': 2172, 'expand': 1111, 'job': 1633, 'found': 1243, 'below': 404, 'contact': 709, 'envisionwilliamsburg': 1062, 'wiggiomail': 3177, 'com': 645, 're': 2371, 'meet': 1852, 'criteria': 772, 'identified': 1499, 'every': 1085, 'cathedral': 536, 'cares': 523, 'referrals': 2409, 'clients': 603, 'soup': 2710, 'kitchen': 1664, 'restore': 2486, 'forest': 1232, 'invasive': 1598, 'removal': 2438, 'tree': 3000, 'maintenance': 1797, 'along': 219, 'trail': 2976, 'itself': 1621, 'vendors': 3083, 'rights': 2510, 'responsibilities': 2479, 'another': 250, 'dimension': 886, 'execute': 1100, 'cinco': 583, 'de': 814, 'mayo': 1837, 'supporting': 2837, 'global': 1321, 'workers': 3202, 'computer': 676, 'such': 2822, 'browsing': 480, 'excel': 1095, 'comprised': 675, 'local': 1758, 'professionals': 2293, 'seek': 2589, 'funds': 1285, 'council': 746, 'celebrates': 540, 'idea': 1497, 'passionate': 2137, 'commitment': 653, 'serve': 2610, 'sharing': 2630, 'energy': 1025, 'advocacy': 182, 'assistant': 321, 'per': 2153, 'harlem': 1395, 'scholars': 2566, 'academy': 117, 'helpers': 1422, 'brilliant': 469, 'kindergarten': 1658, 'grade': 1335, 'pack': 2093, 'nutritious': 1996, 'groceries': 1362, 'zone': 3239, 'choice': 579, 'river': 2515, 'll': 1755, 'regular': 2419, 'basis': 374, 'maintain': 1794, 'specific': 2724, 'area': 282, 'april': 272, '30th': 63, 'both': 450, 'computers': 677, 'technical': 2885, 'windows': 3184, 'desktop': 858, 'administration': 162, 'networking': 1961, 'software': 2694, 'updating': 3054, 'configuration': 689, 'office': 2024, 'equipment': 1064, 'troubleshooting': 3004, 'editing': 978, 'html': 1480, 'database': 806, 'management': 1806, 'promotion': 2307, 'training': 2981, 'finance': 1193, 'voulnteers': 3114, 'afterschool': 197, '9am': 104, '4pm': 77, 'starting': 2763, '13': 22, 'useful': 3064, 'nothing': 1985, 'says': 2559, 'bicycles': 416, 'dinner': 887, 'loads': 1757, 'transportation': 2993, 'alternatives': 223, 've': 3078, 'got': 1329, 'bike': 421, 'valet': 3070, 'bridge': 465, 'view': 3096, 'stations': 2769, 'video': 3093, 'powerful': 2244, 'medium': 1851, 'helps': 1425, 'organization': 2058, 'tell': 2894, 'engaging': 1030, 'stories': 2784, 'cause': 537, 'communicate': 657, 'value': 3072, 'effectiveness': 988, 'audience': 343, 'mentors': 1864, 'fraught': 1250, 'bushwick': 488, 'bedford': 393, 'stuyvesant': 2814, 'attain': 335, 'educational': 984, 'offer': 2020, '125': 18, '250': 52, 'month': 1905, 'monday': 1901, 'friday': 1256, 'least': 1705, 'hours': 1470, 'met': 1869, 'practice': 2247, 'bowling': 453, 'kids': 1656, 'consists': 703, 'ranging': 2366, 'years': 3225, 'healthy': 1411, 'competition': 668, 'grab': 1334, 'pizza': 2194, 'afterwards': 198, 'wish': 3187, 'cost': 742, '50': 79, 'mainchance': 1792, 'drop': 957, 'homeless': 1453, 'hungry': 1490, 'yoga': 3228, 'lenox': 1709, 'hill': 1439, 'neighborhood': 1957, 'house': 1471, 'widely': 3175, 'recognized': 2388, 'premier': 2251, 'providers': 2322, '117': 15, 'old': 2027, 'settlement': 2620, 'extensive': 1132, 'array': 287, 'effective': 986, 'integrated': 1569, 'meal': 1841, 'delivery': 840, 'route': 2532, 'close': 611, 'employment': 1013, 'representative': 2452, 'phone': 2173, 'organizations': 2060, 'promote': 2304, 'upcoming': 3050, 'businesses': 490, 'makes': 1801, 'standard': 2761, 'pediatric': 2147, 'primary': 2275, 'grow': 1367, 'access': 120, 'cultivate': 783, 'love': 1773, 'camp': 501, 'disabilities': 897, 'find': 1196, 'breast': 464, 'cancer': 510, 'komen': 1672, 'advertise': 176, 'race': 2356, 'cure': 789, 'farmer': 1157, 'market': 1822, 'initiatives': 1548, 'weekend': 3153, '23': 47, 'searching': 2580, 'devote': 873, 'between': 413, 'thursday': 2938, '22nd': 46, 'three': 2931, 'operating': 2043, 'budget': 482, 'focus': 1218, 'analyze': 242, 'key': 1650, 'strategic': 2787, 'involves': 1608, 'stakeholders': 2758, 'budgeting': 483, 'process': 2284, 'move': 1918, 'reactive': 2374, 'proactive': 2281, 'profitable': 2298, 'money': 1903, 'big': 419, 'apple': 262, 'greeter': 1358, 'videographer': 3094, 'videos': 3095, 'fundraisers': 1283, 'outings': 2076, 'fly': 1215, 'night': 1973, 'grant': 1342, 'writer': 3216, 'fund': 1276, 'raising': 2362, 'securing': 2587, 'after': 194, 'muscota': 1932, 'focused': 1219, 'intellectually': 1572, 'team': 2881, 'planning': 2200, 'nonprofit': 1978, 'proposal': 2310, 'preparation': 2253, 'requires': 2460, 'deep': 829, 'understanding': 3037, 'preparing': 2258, 'grantmakers': 1343, 'expectations': 1114, 'prepare': 2255, 'attack': 334, 'hrc': 1478, 'enthusiastic': 1050, 'committed': 654, 'overdose': 2085, 'policy': 2220, 'loud': 1772, 'connects': 696, 'lgbt': 1723, 'dynamic': 963, 'intern': 1583, 'develop': 866, 'strategies': 2788, 'gift': 1312, 'independence': 1531, 'smaller': 2679, 'carbon': 518, 'footprint': 1228, 'nyawc': 1998, 'abused': 114, 'women': 3195, 'funded': 1278, 'combination': 646, 'private': 2280, 'coney': 686, 'line': 1740, 'cook': 721, 'fridays': 1257, 'certified': 553, 'cooking': 722, 'giving': 1320, 'back': 356, 'alongside': 220, 'rowing': 2534, 'succeed': 2819, 'academics': 116, 'going': 1325, 'running': 2539, 'november': 1988, '5th': 86, 'open': 2039, 'means': 1844, 'twice': 3023, 'creating': 765, 'boston': 448, 'fundraiser': 1282, 'coupons': 751, '12th': 21, 'shower': 2649, 'department': 844, 'phones': 2174, 'cards': 519, 'maintaining': 1796, 'printer': 2278, 'logs': 1765, 'mayor': 1838, 'immigrant': 1509, 'affairs': 186, 'citizenship': 587, 'eligible': 1005, 'haitian': 1383, 'nationals': 1944, 'temporary': 2895, 'protected': 2315, 'status': 2770, 'tps': 2967, 'extension': 1131, 'residential': 2465, 'substance': 2818, 'abuse': 113, 'treatment': 2999, 'men': 1859, '2071': 40, 'fulton': 1271, 'multiple': 1929, 'preferred': 2250, 'minimum': 1883, 'smells': 2681, 'sounds': 2709, 'sights': 2657, 'astoria': 329, 'broadway': 474, 'while': 3170, 'serving': 2615, '25': 51, 'due': 959, 'popular': 2226, 'demand': 841, 'friends': 1261, 'pleased': 2213, 'plant': 2202, 'property': 2309, 'outstanding': 2082, 'collaborate': 634, 'boldest': 440, 'initiative': 1547, 'exceptional': 1097, 'different': 879, 'innovative': 1552, 'start': 2762, 'turn': 3013, 'shovel': 2644, 'snow': 2685, 'islans': 1614, 'arab': 275, 'immigrants': 1510, 'applying': 267, 'provided': 2321, 'requirements': 2459, 'weekly': 3155, 'sensitivity': 2605, 'press': 2269, 'list': 1745, 'outlets': 2077, 'contacts': 711, 'wants': 3127, 'target': 2871, 'ongoing': 2036, 'designed': 851, 'news': 1965, 'announcement': 247, 'reporters': 2448, 'publications': 2329, 'relevant': 2432, 'types': 3027, 'wishes': 3188, 'publicize': 2331, 'feet': 1170, 'entitlement': 1053, 'aces': 132, 'benefit': 407, 'counselors': 748, 'financially': 1195, 'disadvantaged': 900, 'relations': 2426, 'outlines': 2078, 'objectives': 2008, 'creates': 764, 'road': 2519, 'map': 1816, 'conducting': 685, 'external': 1133, 'messages': 1867, 'influence': 1537, 'opinions': 2045, 'actions': 145, 'document': 923, 'how': 1474, 'accomplish': 125, 'potential': 2238, 'investors': 1601, 'funders': 1280, 'advisers': 181, 'board': 437, 'jumpstart': 1643, 'john': 1634, 'friendship': 1262, 'bracelets': 456, 'collages': 636, 'preschool': 2260, 'kit': 1663, 'collection': 639, 'compelling': 667, 'mission': 1888, 'accomplishments': 126, 'easily': 969, 'distributed': 913, 'parties': 2127, 'lives': 1753, 'excited': 1098, 'career': 521, 'mary': 1825, 'ann': 245, 'avenue': 351, '145th': 24, '10455': 11, 'international': 1585, 'prospect': 2311, 'heights': 1418, 'currently': 791, 'un': 3031, 'paid': 2101, 'march': 1818, 'search': 2579, 'strategy': 2789, 'strong': 2805, 'directors': 895, 'furthering': 1287, 'nys': 2005, 'licensed': 1727, 'esl': 1068, 'instruction': 1563, 'recently': 2386, 'arrived': 289, 'mornings': 1910, 'teaching': 2880, 'story': 2785, 'vital': 3109, 'almost': 218, 'communication': 660, 'product': 2290, 'told': 2952, 'short': 2642, 'enable': 1018, 'supporters': 2836, 'manner': 1813, 'thousands': 2929, 'aren': 284, 'dig': 881, 'shoveling': 2645, 'bringing': 471, 'traveling': 2996, 'mass': 1827, 'transit': 2986, 'hubs': 1483, 'bodied': 439, 'yorker': 3230, 'few': 1176, 'spare': 2717, 'yours': 3237, 'drivers': 955, 'medical': 1849, 'appointments': 268, 'very': 3087, '21st': 44, 'america': 231, 'works': 3206, 'hra': 1477, 'stamp': 2759, 'fsnop': 1267, 'veterans': 3088, 'mova': 1917, '346': 66, 'room': 2528, '817': 97, 'stamps': 2760, 'translate': 2989, 'written': 3220, 'chinese': 578, 'artists': 296, 'educators': 985, 'engagement': 1028, 'connecting': 695, 'teens': 2890, 'membership': 1857, 'recruitment': 2399, 'encouraging': 1022, 'represents': 2454, 'responsible': 2481, 'educating': 982, 'promoting': 2306, 'beautify': 388, 'transitional': 2988, 'residence': 2464, '75': 94, 'interior': 1581, 'walls': 3124, 'spruce': 2743, 'gorman': 1328, 'tank': 2869, 'following': 1224, 'categories': 533, 'coordinator': 728, 'artistic': 295, 'liaison': 1725, 'manager': 1807, 'executive': 1103, 'founder': 1246, 'level': 1717, 'tracks': 2970, 'turtles': 3017, 'wcs': 3139, 'wild': 3179, 'aquarium': 273, 'saving': 2557, 'backbone': 357, 'enrichment': 1041, 'subjects': 2817, 'science': 2570, 'history': 1445, 'sat': 2553, 'prep': 2252, 'religion': 2434, 'efforts': 994, 'heaf': 1407, 'nycservice': 2002, 'mentoring': 1863, 'placed': 2196, 'renaissance': 2441, 'military': 1877, 'order': 2053, 'positively': 2233, 'emotional': 1011, 'pursuit': 2340, 'adminstrative': 166, 'answering': 253, 'data': 805, 'entry': 1055, 'processing': 2285, 'asa': 301, 'alliance': 216, 'registrars': 2417, 'greeting': 1360, 'registering': 2416, 'daily': 800, 'mature': 1834, 'look': 1768, 'forward': 1241, 'hearing': 1414, 'functions': 1275, 'reviewing': 2498, 'résumés': 2542, 'coverletters': 758, 'interview': 1593, 'tips': 2947, 'woman': 3194, 'mock': 1893, 'interviews': 1594, 'informational': 1542, 'chance': 558, 'improve': 1515, 'brighten': 467, 'passover': 2138, 'register': 2415, 'online': 2037, 'dorotusa': 940, 'usher': 3066, 'youngest': 3235, 'learners': 1703, 'union': 3039, 'sculpture': 2576, 'plastic': 2207, 'bottles': 451, 'quality': 2346, 'broad': 473, 'channel': 561, 'snack': 2683, 'distribution': 915, 'pride': 2274, 'marches': 1819, 'rallies': 2363, 'today': 2950, 'fresh': 1254, 'air': 210, 'forever': 1233, 'test': 2903, 'writing': 3218, 'critical': 773, 'thinking': 2921, 'vrc': 3115, 'agencies': 203, 'depend': 845, 'match': 1830, 'interests': 1579, 'schedule': 2561, 'developmental': 870, 'disability': 898, 'fulfill': 1269, 'his': 1442, 'passing': 2135, 'he': 1404, 'remedial': 2436, 'leukemia': 1716, 'lymphoma': 1782, 'energetic': 1024, 'personable': 2163, 'detail': 859, 'oriented': 2067, 'operations': 2044, 'writers': 3217, 'craft': 760, 'aspiring': 309, 'extended': 1130, 'deadline': 815, 'girl': 1313, 'entering': 1046, 'donations': 935, 'pledges': 2214, 'thank': 2907, 'letters': 1715, 'donor': 937, 'reports': 2450, 'reconciling': 2390, 'statements': 2765, 'assisting': 323, 'activism': 148, 'launch': 1690, 'photographers': 2177, 'capture': 516, 'images': 1507, 'workday': 3201, 'these': 2917, 'photographs': 2178, 'used': 3063, 'websites': 3144, 'databases': 807, 'necessary': 1953, 'large': 1682, 'amounts': 237, 'relationships': 2428, 'amongst': 236, 'kinds': 1660, 'eg': 995, 'parent': 2114, 'her': 1427, 'tenants': 2896, 'photography': 2179, 'way': 3136, 'showcase': 2647, 'visual': 3107, 'appeal': 260, 'ensure': 1043, 'compliance': 671, 'applicable': 263, 'laws': 1693, 'provisions': 2325, 'functioning': 1274, 'van': 3074, 'cortlandt': 740, 'participating': 2123, 'hike': 1438, 'coordinate': 726, 'enjoying': 1039, 'laser': 1684, 'tag': 2861, 'paintball': 2103, 'network': 1960, 'partnering': 2129, 'igotittoo': 1504, 'season': 2581, 'areas': 283, 'trevor': 3002, 'lifeline': 1732, '866': 99, '488': 76, '7386': 93, 'nationwide': 1946, 'around': 285, 'clock': 609, 'suicide': 2824, 'prevention': 2273, 'lesbian': 1711, 'gay': 1300, 'bisexual': 427, 'transgender': 2985, 'questioning': 2352, 'lgbtq': 1724, 'brings': 472, 'alike': 214, 'relive': 2435, 'classic': 593, '60': 87, 'reintroduce': 2423, 'generation': 1307, 'modern': 1896, 'twist': 3024, 'thomas': 2924, 'jefferson': 1630, '7th': 96, 'review': 2497, 'existing': 1110, 'documents': 924, 'message': 1866, 'delivered': 837, 'via': 3090, 'background': 358, 'speeches': 2728, 'photos': 2180, 'internships': 1589, 'require': 2456, 'occasional': 2011, 'interns': 1587, 'report': 2447, 'aspects': 307, 'funder': 1279, 'drafting': 945, 'packaging': 2095, 'good': 1326, 'either': 997, 'workings': 3205, 'haunted': 1401, 'lantern': 1681, 'tour': 2961, 'fort': 1239, 'totten': 2960, 'singers': 2665, 'clowns': 616, 'magicians': 1787, 'rainn': 2359, 'rape': 2369, 'incest': 1522, 'sexual': 2625, 'assault': 310, 'hotline': 1468, 'guest': 1370, 'check': 566, 'cocktail': 629, '15': 25, 'sessions': 2617, 'preventing': 2272, 'responding': 2476, 'emergencies': 1009, 'facilitate': 1141, 'institute': 1560, 'seminars': 2599, 'travel': 2995, 'africa': 191, 'latin': 1688, 'memorial': 1858, 'kicks': 1655, 'clothing': 615, 'drive': 952, 'heel': 1417, 'sole': 2696, 'revitalize': 2501, 'leake': 1701, 'watts': 3135, 'biondi': 426, 'campus': 507, 'flowers': 1212, 'veggies': 3081, 'living': 1754, 'houses': 1472, 'round': 2530, 'environmental': 1059, 'mobile': 1892, 'docents': 922, 'maritime': 1821, 'pirates': 2192, 'fest': 1174, 'ikea': 1505, 'erie': 1066, 'basin': 373, 'outfitted': 2074, 'pirate': 2191, 'costume': 743, 'diabetes': 874, 'feria': 1173, 'salud': 2547, 'scheduled': 2562, 'speak': 2718, 'asian': 302, 'snacks': 2684, 'distributing': 914, 'insuring': 1567, 'tent': 2898, 'spread': 2739, 'capoeira': 515, 'among': 235, 'proud': 2317, 'journey': 1639, 'afro': 193, 'brazil': 460, 'loved': 1774, 'dispatcher': 908, 'calls': 499, 'efficiently': 992, 'smoothly': 2682, 'caller': 498, 'receiving': 2384, 'dispatching': 909, 'field': 1179, 'units': 3043, 'organize': 2061, 'dear': 817, 'sensitive': 2604, 'question': 2351, 'answer': 251, 'resource': 2470, 'questions': 2353, 'surrounding': 2844, 'gender': 1303, 'identity': 1502, 'scheuer': 2565, 'merchandise': 1865, 'designs': 855, 'shirts': 2636, 'pins': 2189, 'hats': 1399, 'giveaways': 1316, 'logo': 1764, 'created': 763, 'note': 1984, 'setup': 2621, 'guests': 1371, 'battery': 375, 'gala': 1291, 'lend': 1708, 'hands': 1391, 'coasts': 627, 'debris': 818, 'date': 808, 'location': 1760, 'clinics': 607, 'esteem': 1072, 'playing': 2210, 'coaching': 625, 'soccer': 2690, 'interest': 1576, 'futsal': 1288, 'plus': 2215, 'educate': 981, 'game': 1293, 'aaany': 107, 'workshops': 3208, 'covering': 757, 'empowerment': 1016, 'topics': 2958, 'regulations': 2421, 'performing': 2158, 'singing': 2666, 'acting': 142, 'four': 1247, 'strengthen': 2798, 'upper': 3056, 'advanced': 173, 'returning': 2494, 'sweeping': 2853, 'cutting': 795, 'edge': 976, 'esoteric': 1069, 'understandable': 3036, 'familiar': 1151, 'fascinating': 1159, 'assemble': 311, 'experienced': 1117, 'graphic': 1345, 'designer': 852, 'donate': 931, 'skill': 2674, 'restaurant': 2483, 'owner': 2090, 'manual': 1814, 'remove': 2439, 'plants': 2206, 'native': 1947, 'shrubs': 2653, 'teachers': 2878, 'instruct': 1562, 'mill': 1878, 'centers': 546, 'momentum': 1899, 'hot': 1467, 'pantry': 2111, 'operates': 2042, 'tuesdays': 3011, 'lexington': 1722, 'vision': 3101, 'analysis': 241, 'identify': 1500, 'often': 2026, 'revise': 2500, 'aspirations': 308, 'milestones': 1876, 'locations': 1761, 'try': 3008, 'accomindate': 122, 'supportive': 2838, 'meaningful': 1843, 'dime': 885, 'seventh': 2622, 'features': 1167, 'than': 2906, 'designers': 853, 'vignettes': 3097, 'donated': 932, 'sold': 2695, 'revenue': 2496, 'client': 602, 'construct': 705, 'resumes': 2489, 'coaches': 624, 'vs': 3116, 'leverages': 1719, 'experiences': 1118, 'excellence': 1096, 'athletes': 331, 'fans': 1154, 'russian': 2541, 'defines': 833, 'funding': 1281, 'includes': 1525, 'tactics': 2860, 'actively': 147, 'increase': 1530, 'discussing': 905, 'addressed': 158, 'gp': 1333, 'motivated': 1915, 'administrative': 163, 'matters': 1833, 'oversee': 2087, 'variety': 3075, 'general': 1304, 'pager': 2099, 'communicates': 658, 'concise': 682, 'overview': 2088, 'runs': 2540, 'brief': 466, 'messaging': 1868, 'direction': 892, 'audiences': 344, 'donation': 934, 'meeting': 1853, 'donors': 938, 'tax': 2874, 'receipts': 2382, 'sorting': 2708, 'select': 2593, 'success': 2820, 'fill': 1187, 'quickly': 2355, 'soon': 2706, 'limbs': 1738, 'came': 500, 'hurricane': 1491, 'irene': 1609, 'pieces': 2186, 'including': 1526, 'venue': 3084, 'logistics': 1763, 'invitation': 1602, 'entertainment': 1048, 'caterers': 535, 'sponsors': 2735, 'ticketing': 2939, 'bags': 362, 'auctions': 342, 'raffles': 2358, 'television': 2893, 'station': 2768, 'sure': 2840, 'comes': 649, 'accounting': 130, 'update': 3051, 'afternoons': 196, 'developmentally': 871, 'disabled': 899, 'graduating': 1340, 'jasa': 1627, 'square': 2744, 'flea': 1206, 'markets': 1824, 'architecture': 277, 'great': 1347, 'contribute': 716, 'suit': 2825, 'plantings': 2205, 'pots': 2239, 'case': 526, 'managers': 1808, 'helped': 1421, '100': 5, '315': 65, '300': 61, 'barriers': 368, 'stability': 2748, 'steps': 2776, 'address': 157, '369': 68, 'were': 3161, 'link': 1741, 'detox': 865, 'shelter': 2632, 'trails': 2977, 'significant': 2660, 'prior': 2279, 'offered': 2021, 'format': 1236, 'organizational': 2059, 'execution': 1102, 'halloween': 1385, 'slope': 2677, 'feasibility': 1166, 'study': 2812, 'determine': 862, 'whether': 3168, 'walkathon': 3119, 'guidance': 1372, 'preserve': 2267, 'oldest': 2029, 'police': 2219, 'establishments': 1071, 'docent': 921, 'wonderful': 3196, 'se': 2577, 'economics': 974, 'downtown': 944, 'wednesday': 3147, 'eight': 996, 'module': 1898, 'metropolitan': 1871, 'effects': 989, 'flexibility': 1207, 'shift': 2634, 'leave': 1706, 'chhaya': 571, 'cdc': 538, 'exciting': 1099, 'called': 497, 'retrofit': 2492, 'block': 432, 'linking': 1742, 'homeowners': 1454, 'assessments': 315, 'improvements': 1516, 'save': 2556, 'utility': 3069, 'bills': 423, 'greening': 1355, 'taste': 2873, 'cortandt': 739, 'medicaid': 1848, 'boroughs': 447, 'bi': 414, 'reside': 2463, 'practical': 2246, 'diets': 877, '26th': 54, 'related': 2425, 'creation': 766, 'official': 2025, 'drill': 950, 'copywriting': 732, 'articulation': 293, 'words': 3199, 'powerfully': 2245, 'scheduling': 2564, 'camps': 506, 'leagues': 1700, 'creative': 767, 'likes': 1736, 'functional': 1273, 'title': 2948, 'mostly': 1912, 'associate': 325, 'inventory': 1599, 'stores': 2783, 'storage': 2782, '28': 56, '3pm': 72, 'unlimited': 3046, 'theatre': 2911, 'multicultural': 1927, 'northeast': 1982, 'evoke': 1089, 'dignity': 884, 'sanctity': 2548, 'spirit': 2732, 'renowned': 2443, 'partnership': 2131, 'pencil': 2148, 'builds': 486, 'customized': 794, 'principals': 2276, 'inspire': 1557, 'innovation': 1551, 'packing': 2096, 'grocery': 1363, 'produce': 2286, 'orders': 2054, 'restructuring': 2487, 'writning': 3219, 'plans': 2201, 'sector': 2586, 'having': 1403, 'sports': 2738, 'huge': 1485, 'joining': 1636, 'cuny': 788, 'thrives': 2933, 'featuring': 1168, 'screening': 2575, 'integral': 1568, 'introduce': 1596, 'cheer': 568, 'hundreds': 1488, 'sus': 2850, 'olympics': 2032, 'riverbank': 2516, 'timers': 2945, 'measuring': 1845, 'throws': 2936, 'awarding': 353, 'medals': 1846, 'habitat': 1378, 'pound': 2241, 'haul': 1400, 'hammer': 1387, 'construction': 706, 'minded': 1880, 'further': 1286, 'ethic': 1077, 'willingness': 3183, 'explore': 1123, 'tool': 2954, 'americans': 233, 'coffee': 631, 'conversation': 717, 'preparations': 2254, 'coordination': 727, 'honoring': 1458, 'david': 811, 'seidler': 2592, 'king': 1661, 'speech': 2727, 'fashion': 1160, 'urban': 3057, 'assembly': 312, 'strawberry': 2790, 'eating': 972, 'contest': 714, 'highland': 1436, 'fine': 1198, 'guide': 1373, 'mentee': 1861, 'bicycling': 417, 'knowing': 1670, 'ride': 2505, 'head': 1405, 'resolve': 2467, 'issue': 1616, 'think': 2920, 'fixed': 1205, 'ring': 2511, 'central': 547, 'zoo': 3240, 'dowling': 942, '125th': 19, 'quick': 2354, 'before': 396, 'heading': 1406, 'return': 2493, '218': 43, '1st': 35, 'performers': 2157, 'entrepreneurs': 1054, 'bideawee': 418, 'greeters': 1359, 'visitors': 3105, '38th': 69, 'veterinary': 3089, 'directory': 896, 'ease': 968, 'visitor': 3104, 'transition': 2987, 'thousand': 2928, 'imentor': 1508, 'model': 1894, 'gave': 1299, 'pajama': 2107, 'identifying': 1501, 'cultivating': 784, 'term': 2901, 'aligned': 213, 'tackle': 2859, 'warming': 3129, 'pollution': 2222, 'naumberg': 1949, 'bandshell': 363, '72nd': 92, 'transverse': 2994, 'lifebeat': 1729, 'hiv': 1446, 'aids': 208, 'music': 1935, 'lots': 1771, 'winter': 3186, 'squash': 2745, 'streetsquash': 2796, 'discovery': 904, 'learning': 1704, 'olds': 2030, 'courts': 755, 'bca': 381, 'details': 861, 'trafficking': 2974, 'ins': 1554, 'outs': 2080, 'putting': 2343, 'profiles': 2296, 'appear': 261, 'bigapplegreeter': 420, 'hero': 1430, 'anti': 255, 'violence': 3098, 'technology': 2887, 'efficiency': 990, 'yet': 3227, 'nonprofits': 1979, 'enterprises': 1047, 'challenges': 556, 'determining': 864, 'applications': 265, 'infrastructure': 1544, 'located': 1759, 'canarsie': 509, 'crowdfunding': 779, 'pooling': 2223, 'usually': 3068, 'internet': 1586, 'effort': 993, 'initiated': 1546, 'crowdfunders': 778, 'nurture': 1993, 'genuinely': 1308, 'urgently': 3058, '106th': 12, 'offering': 2022, 'common': 656, 'teenagers': 2889, 'cleaning': 598, 'parkland': 2117, 'removing': 2440, 'collecting': 638, 'recyclables': 2402, 'taking': 2865, 'greenery': 1353, 'chefs': 569, 'culinary': 781, 'dietitians': 876, 'cooks': 723, 'affordable': 189, 'boom': 443, 'amazing': 228, 'guides': 1375, 'newsletter': 1966, 'developments': 872, 'timely': 2944, 'thoughtful': 2927, 'newsletters': 1967, 'engage': 1026, 'enhancing': 1037, 'brand': 458, 'subject': 2816, 'commercial': 651, 'studio': 2811, 'conducted': 684, 'strides': 2802, 'months': 1907, 'towards': 2965, 'cystic': 799, 'fibrosis': 1178, 'cf': 554, 'inherited': 1545, 'chronic': 582, 'affects': 188, 'lungs': 1780, 'digestive': 882, 'asked': 304, 'times': 2946, 'email': 1007, 'ssp': 2746, 'organizes': 2064, 'childcare': 574, 'chilcare': 572, 'push': 2341, 'boosting': 445, 'attendance': 337, 'spreading': 2740, 'overnight': 2086, 'beds': 394, 'pantries': 2110, 'vary': 3077, 'generally': 1305, 'period': 2160, 'wednesdays': 3148, 'collect': 637, 'names': 1940, 'safe': 2543, 'welcoming': 3158, 'fridge': 1258, 'stocked': 2779, 'cold': 633, 'drinks': 951, 'dreams': 948, 'several': 2623, 'party': 2132, 'benefiting': 408, 'boxes': 454, 'turkey': 3012, 'dinners': 888, 'nov': 1987, '22': 45, 'write': 3215, 'accepting': 119, 'credit': 769, 'valuable': 3071, 'fast': 1161, 'growing': 1368, 'nationally': 1943, 'enhance': 1036, 'literary': 1747, 'professions': 2294, 'surveys': 2847, 'evaluate': 1078, 'publicity': 2330, 'generates': 1306, 'buzz': 494, 'numbers': 1991, 'attendees': 338, 'traditionally': 2972, 'coverage': 756, 'caregivers': 522, 'travelled': 2997, 'staying': 2772, 'miracle': 1887, 'facility': 1145, 'fantastic': 1155, 'pairs': 2106, 'elderly': 999, 'visits': 3106, 'busy': 492, 'schedules': 2563, 'could': 745, 'complete': 669, 'exams': 1094, 'proudly': 2318, 'presents': 2266, 'forum': 1240, 'hear': 1413, 'current': 790, 'mingle': 1881, 'chat': 565, '6th': 90, '8th': 102, 'graders': 1336, 'conquer': 697, 'fear': 1165, 'examples': 1093, 'optimization': 2049, 'advertising': 178, 'partner': 2128, 'integration': 1570, 'blasts': 431, 'renovation': 2442, 'beautification': 386, 'oval': 2083, 'behind': 400, 'sara': 2552, 'delano': 835, 'roosevelt': 2529, 'hq': 1476, '102': 10, 'hester': 1432, '10002': 6, '11am': 16, '1pm': 34, 'greets': 1361, 'lifecare': 1730, 'transport': 2992, 'activiteis': 149, 'holidays': 1450, 'weekends': 3154, 'objective': 2007, 'stable': 2749, 'caring': 524, 'baw': 377, 'animals': 244, 'interaction': 1574, 'extra': 1134, 'nursing': 1992, 'trust': 3007, '400': 74, 'acres': 140, 'estuarine': 1075, 'sanctuary': 2549, 'floatables': 1210, 'arrive': 288, 'tide': 2940, 'portside': 2230, 'newyork': 1970, 'sponsoring': 2734, 'multimedia': 1928, 'marine': 1820, 'response': 2478, 'shown': 2650, 'aboard': 111, 'lilac': 1737, 'pier': 2187, 'sep': 2607, 'extend': 1129, 'iridescent': 1610, 'iridescentlearning': 1611, 'aims': 209, 'evolve': 1090, 'watch': 3132, 'hub': 1482, 'creativity': 768, 'operate': 2041, 'exhibits': 1109, 'efficient': 991, 'division': 919, 'second': 2583, 'timebank': 2942, 'companionship': 665, 'foundations': 1245, 'direct': 890, 'mail': 1788, 'solicitation': 2697, 'government': 1330, 'a0nd': 106, 'joins': 1637, 'followed': 1223, 'roller': 2526, 'spend': 2729, 'afternoon': 195, 'kindly': 1659, 'pay': 2144, 'expenses': 1115, 'finish': 1199, 'assign': 316, 'classwork': 596, 'finished': 1200, 'extracurricular': 1135, 'always': 224, 'prepositions': 2259, 'adjectives': 160, 'expert': 1120, 'ecosystems': 975, 'ever': 1084, 'considered': 701, 'becoming': 391, 'deaf': 816, 'advertised': 177, 'everywhere': 1088, 'hoping': 1461, 'turnout': 3015, 'selling': 2597, 'breaking': 463, 'asl': 306, 'elections': 1001, 'poll': 2221, 'bilingual': 422, 'fluent': 1213, 'korean': 1673, 'interpreters': 1591, 'election': 1000, 'accompanies': 124, 'ask': 303, 'amplifies': 238, 'thought': 2926, 'tangible': 2868, 'scenes': 2560, 'exposed': 1126, 'number': 1990, 'discipline': 902, 'bookkeeping': 441, 'reporting': 2449, 'socially': 2692, 'investing': 1600, 'athletic': 332, 'league': 1699, 'imput': 1518, 'survey': 2846, 'unicef': 3038, 'inviting': 1606, 'inspiring': 1559, 'host': 1464, 'tap': 2870, 'deeply': 830, 'appreciated': 269, 'jbfcs': 1628, 'westchester': 3163, 'just': 1646, 'release': 2430, 'directed': 891, 'containing': 712, 'something': 2703, 'newsworthy': 1969, 'announces': 248, 'encourage': 1020, 'pick': 2185, 'dedication': 828, 'nottage': 1986, 'ruby': 2537, 'mother': 1913, 'famed': 1150, 'playwright': 2211, 'lynn': 1783, 'incatnation': 1521, 'icc': 1493, 'physical': 2182, 'sustaining': 2851, 'acquiring': 138, 'structure': 2807, 'appropriate': 270, 'driver': 954, 'occasionally': 2012, 'journalism': 1638, 'beautiful': 387, 'kieran': 1657, 'nature': 1948, 'obtaining': 2010, 'corporate': 735, 'sponsorship': 2736, 'fundamental': 1277, 'however': 1475, 'sponsorships': 2737, 'challenging': 557, 'involved': 1607, 'everyday': 1086, 'highly': 1437, 'executing': 1101, 'edit': 977, 'releases': 2431, 'arrange': 286, 'relationship': 2427, 'producers': 2287, 'front': 1265, 'leading': 1698, 'opera': 2040, 'gear': 1301, 'vehicle': 3082, 'whatever': 3165, 'cyclist': 797, 'print': 2277, 'brochures': 475, 'pagers': 2100, 'invitations': 1603, 'posters': 2236, 'combines': 647, 'copy': 731, 'content': 713, 'visually': 3108, 'interesting': 1578, 'healthier': 1410, 'choices': 580, 'desk': 857, 'engineers': 1033, 'users': 3065, 'hai': 1381, 'contacting': 710, 'discover': 903, 'recreational': 2396, 'expose': 1125, 'exposure': 1127, 'penny': 2150, 'pin': 2188, 'made': 1785, 'pennies': 2149, 'given': 1317, 'acts': 152, 'grants': 1344, 'interact': 1573, 'protect': 2314, 'shredded': 2652, 'shred': 2651, 'setting': 2619, 'telephone': 2892, 'file': 1185, 'entire': 1052, 'minimally': 1882, 'custom': 793, 'point': 2218, 'connect': 694, 'fruits': 1266, 'vegetables': 3080, 'csa': 780, 'shareholders': 2629, 'portion': 2229, 'sun': 2828, 'nychc': 2001, 'hemophilia': 1426, 'walks': 3121, 'nhf': 1972, 'surgical': 2842, 'suites': 2826, 'physicians': 2184, 'post': 2235, 'surgically': 2843, 'guiding': 1376, 'homebound': 1452, 'bay': 378, 'ridge': 2508, 'bensonhurst': 410, 'aged': 202, 'stronger': 2806, 'resourced': 2471, 'autism': 346, 'douglaston': 941, 'qsac': 2345, 'emails': 1008, 'designing': 854, 'uja': 3030, 'governor': 1331, 'ambassador': 229, 'staffing': 2752, 'flower': 1211, 'historic': 1443, 'district': 916, 'harbor': 1394, 'bit': 428, 'ly': 1781, 'giavolunteer': 1311, 'followup': 1225, 'prescreen': 2261, 'mailing': 1789, 'stuff': 2813, 'seal': 2578, 'approximately': 271, 'envelopes': 1056, 'purim': 2337, 'estimate': 1074, 'sponsored': 2733, '31': 64, 'from10': 1264, '30pm': 62, '00am': 2, 'intellectual': 1571, 'syndrome': 2855, 'skiing': 2673, 'snowboarding': 2686, 'snowshoeing': 2687, '23rd': 48, 'consist': 702, 'tents': 2900, 'occuring': 2013, 'rest': 2482, 'stops': 2781, 'campaigners': 503, 'session': 2616, 'safer': 2544, 'reform': 2410, 'consumers': 708, 'answers': 254, 'helpline': 1424, 'passion': 2136, 'chelsea': 570, 'artist': 294, 'paws': 2143, 'truck': 3006, 'petfood': 2168, 'enviorment': 1057, 'availible': 349, 'consider': 700, 'advise': 180, 'fellowship': 1172, 'translator': 2991, 'translation': 2990, 'aka': 211, 'sheets': 2631, 'mlk': 1891, 'turtle': 3016, 'conversational': 718, 'speaker': 2719, 'preferably': 2249, 'enthusiasm': 1049, 'implementation': 1512, 'resonations': 2468, 'telematic': 2891, 'concert': 680, 'peace': 2146, 'nations': 1945, 'nairobi': 1939, 'performance': 2155, 'african': 192, 'descent': 847, 'declared': 822, 'commission': 652, 'send': 2600, 'topic': 2957, 'click': 601, 'posting': 2237, 'battled': 376, 'reduce': 2406, 'risk': 2514, 'empower': 1014, 'seo': 2606, 'rank': 2367, 'organically': 2057, 'engines': 1034, 'google': 1327, 'yahoo': 3222, 'bing': 424, 'organic': 2056, 'ranking': 2368, 'determined': 863, 'factors': 1147, 'page': 2097, 'elements': 1004, 'treatement': 2998, 'donating': 933, 'blood': 435, 'platelets': 2208, 'lower': 1777, 'musical': 1936, 'prospects': 2313, 'greenhouse': 1354, 'ubuntu': 3029, 'produces': 2288, 'stagehands': 2754, 'available': 348, 'inside': 1555, 'assigned': 317, 'justice': 1647, 'qfjc': 2344, 'spent': 2730, 'result': 2488, 'wake': 3117, 'assesses': 314, 'recommendations': 2389, 'streamline': 2792, 'capacity': 514, 'facilitators': 1143, 'economic': 973, 'sift': 2656, 'bins': 425, 'play': 2209, 'foremost': 1231, '00pm': 3, 'tech': 2883, 'application': 264, 'supported': 2835, 'encouraged': 1021, 'mural': 1930, 'schoolers': 2568, 'handle': 1389, 'quarterly': 2347, 'shoppers': 2640, 'shopping': 2641, 'boost': 444, 'catchafire': 532, 'steppers': 2774, 'step': 2773, 'stepping': 2775, 'faber': 1137, 'solution': 2699, 'clinic': 606, 'potsbronx': 2240, 'indicated': 1532, 'teaches': 2879, 'associated': 326, 'assists': 324, 'campers': 505, 'achieving': 136, 'motion': 1914, 'graphics': 1346, 'offers': 2023, 'simple': 2663, 'wider': 3176, 'unlike': 3045, 'traditional': 2971, 'focuses': 1220, 'film': 1189, 'shoot': 2638, 'buddies': 481, 'closer': 614, 'inclusive': 1527, 'hills': 1441, 'accounts': 131, 'hanging': 1392, 'drapes': 947, 'fibar': 1177, 'mulch': 1924, 'paths': 2139, 'walking': 3120, 'surface': 2841, '2pm': 59, '5pm': 85, 'assistanted': 322, 'typing': 3028, 'receptionist': 2387, 'scope': 2572, 'invited': 1605, 'icouldbe': 1495, 'award': 352, 'winning': 3185, 'diverse': 917, 'cosmetology': 741, 'barber': 367, 'hair': 1382, 'beauty': 389, 'demonstrate': 843, 'methods': 1870, 'apartment': 259, 'escape': 1067, 'bustling': 491, 'surroundings': 2845, 'greatest': 1349, 'botanical': 449, 'vocational': 3110, 'greenbelt': 1351, 'junior': 1645, 'figure': 1184, 'pioneering': 2190, 'worth': 3213, 'restoration': 2485, 'croton': 776, 'aqueduct': 274, 'roy': 2535, 'wilkins': 3180, 'jamaica': 1624, 'cancercare': 511, 'cvm': 796, 'americorps': 234, 'chinatown': 577, 'les': 1710, 'beginner': 397, 'intermediate': 1582, 'electronic': 1002, 'checkers': 567, 'wii': 3178, 'sizes': 2670, 'tailored': 2862, 'corporations': 736, 'blogs': 434, 'publish': 2333, 'stream': 2791, 'wordpress': 3198, 'source': 2711, 'blogging': 433, 'regularly': 2420, 'updated': 3052, 'lacking': 1675, 'hsd': 1479, 'ged': 1302, 'exam': 1092, 'restoratio': 2484, 'muir': 1923, 'divert': 918, 'textile': 2904, 'landfill': 1676, 'textiles': 2905, 'load': 1756, 'updates': 3053, 'ceos': 551, 'executives': 1104, 'log': 1762, 'clip': 608, 'campaigns': 504, 'newspapers': 1968, 'magazines': 1786, 'radio': 2357, 'accommodate': 123, 'mondays': 1902, 'drama': 946, 'mon': 1900, 'wed': 3146, '3p': 71, '5p': 84, 'wiz': 3192, 'artseastny': 298, 'lp': 1778, 'laundromat': 1691, 'too': 2953, 'addresses': 159, 'leveraging': 1720, 'limited': 1739, 'maximum': 1835, 'nazi': 1951, 'victim': 3091, 'surviving': 2849, 'relative': 2429, 'victims': 3092, 'persecution': 2161, 'fellow': 1171, '90': 103, 'minute': 1885, 'meetings': 1854, 'inspiration': 1556, 'internship': 1588, 'virtually': 3100, 'ideal': 1498, 'candidate': 512, 'fpcj': 1248, 'worship': 3212, 'undergraduate': 3033, 'graduate': 1338, 'industries': 1536, 'roundtable': 2531, 'discussions': 906, 'shani': 2626, 'peters': 2167, 'interactive': 1575, 'sandwich': 2551, 'stack': 2750, 'rich': 2504, 'multi': 1926, 'heritage': 1429, 'musicians': 1937, 'archivist': 280, 'lighthouse': 1734, 'archives': 279, 'cataloging': 529, 'displaying': 911, 'archival': 278, 'handling': 1390, 'incoming': 1529, 'requirement': 2458, 'kickoff': 1654, 'dollars': 928, 'keyword': 1651, 'ad': 153, 'account': 128, 'guidelines': 1374, 'freedom': 1252, 'greener': 1352, 'mile': 1874, 'charity': 564, 'century': 549, 'rolling': 2527, 'esteemed': 1073, 'cyclists': 798, 'dangerous': 803, 'intersections': 1592, 'riders': 2506, 'yalla': 3223, 'arabs': 276, 'advancing': 174, 'patrol': 2141, 'congressionally': 693, 'mandated': 1810, 'missions': 1889, 'aerospace': 185, 'cadet': 496, 'ms131': 1922, 'knit': 1667, 'crochet': 774, 'copies': 730, 'sending': 2601, 'faxes': 1164, 'presence': 2262, 'digital': 883, 'sphere': 2731, 'facebook': 1139, 'twitter': 3025, 'shoestring': 2637, 'knitting': 1668, 'gives': 1318, 'rare': 2370, 'seasoned': 2582, 'ceo': 550, 'equivalent': 1065, 'conveys': 720, 'values': 3073, 'branding': 459, 'fonts': 1226, 'colors': 644, 'enthusiasts': 1051, 'accountant': 129, 'series': 2609, 'reinforcing': 2422, 'links': 1743, 'influential': 1538, 'base': 370, 'showcasing': 2648, 'achievements': 135, 'beneficiaries': 405, 'conference': 687, 'later': 1687, 'khcc': 1653, 'horace': 1462, 'mann': 1812, 'bicycle': 415, 'dates': 809, '8pm': 101, 'pursue': 2339, 'developed': 867, 'literature': 1748, 'reviews': 2499, 'deliveries': 838, 'roll': 2525, 'prevent': 2271, 'respond': 2475, 'disasters': 901, 'info': 1539, 'asking': 305, 'anyone': 257, 'wcc': 3138, 'everyone': 1087, 'giveways': 1319, 'pitch': 2193, 'reorganize': 2445, 'library': 1726, 'freshen': 1255, 'dusty': 961, 'shelves': 2633, 'actionable': 144, 'clear': 599, 'improving': 1517, 'wendy': 3160, 'hilliard': 1440, 'gymnastics': 1377, 'affected': 187, 'domestic': 929, 'final': 1192, 'admission': 167, 'rink': 2512, 'skate': 2671, 'rental': 2444, 'respectively': 2473, 'cocktails': 630, 'cobwebs': 628, 'decorating': 824, 'joy': 1640, 'alzheimer': 225, 'dementia': 842, 'spaces': 2715, 'informal': 1540, 'amateurs': 227, 'passers': 2134, 'turning': 3014, 'backpacks': 359, 'adolescents': 168, 'inpatient': 1553, 'psychiatry': 2326, 'unit': 3041, 'bellevue': 403, 'does': 925, 'patrons': 2142, 'developing': 868, 'culturally': 786, 'publishing': 2334, 'personnel': 2165, 'bklyn': 429, 'optimal': 2048, 'experts': 1121, 'fields': 1180, 'conservation': 699, 'virtual': 3099, 'networks': 1962, 'web': 3142, 'options': 2050, 'savvy': 2558, 'administer': 161, 'engaged': 1027, 'celebrations': 542, '3rd': 73, 'pageant': 2098, 'species': 2723, 'puppets': 2336, 'puppet': 2335, 'spectacular': 2726, 'parade': 2113, 'inspired': 1558, 'habitats': 1379, 'interpersonal': 1590, 'willing': 3182, 'happen': 1393, 'understand': 3035, 'attractiveness': 341, 'evolving': 1091, 'threats': 2930, 'relate': 2424, 'internal': 1584, 'strengths': 2800, 'weaknesses': 3141, 'streetfest': 2794, 'silkscreen': 2662, 'totebags': 2959, 'songs': 2705, 'mixtape': 1890, 'sell': 2596, 'survival': 2848, 'kits': 1666, 'filled': 1188, 'cpr': 759, 'blank': 430, 'brighton': 468, 'particular': 2125, 'specifically': 2725, 'talents': 2867, 'trans': 2983, 'queer': 2350, 'roles': 2524, 'queenspridehouse': 2349, 'el': 998, 'museo': 1933, 'del': 834, 'barrio': 369, 'recording': 2392, 'waterkeeper': 3134, 'petition': 2169, 'signers': 2659, 'spreadsheet': 2741, 'uploaded': 3055, 'petitions': 2170, 'maker': 1800, 'epa': 1063, 'administrator': 164, 'lisa': 1744, 'jackson': 1623, 'president': 2268, 'barack': 365, 'obama': 2006, '24th': 50, 'sand': 2550, 'castle': 528, 'refreshment': 2411, 'judging': 1641, 'classwish': 595, 'empowers': 1017, 'supplies': 2833, 'desirable': 856, 'essential': 1070, 'verbal': 3086, 'oral': 2052, 'kft': 1652, 'fifteen': 1181, '59': 82, 'present': 2263, 'lessons': 1714, 'babies': 355, 'sundays': 2830, 'greet': 1357, 'exhibition': 1108, 'al': 212, 'oerter': 2017, 'secondary': 2584, 'enact': 1019, 'supplement': 2832, 'strengthening': 2799, 'photographer': 2176, 'secretary': 2585, 'managing': 1809, 'correspondences': 738, 'main': 1791, 'purpose': 2338, 'define': 832, 'expectation': 1113, 'responds': 2477, 'governors': 1332, '28th': 57, 'nolan': 1976, 'theater': 2910, 'foreclosure': 1230, 'defense': 831, 'zumba': 3241, 'wallenburg': 3123, 'concern': 679, 'worldwide': 3211, 'humanitarian': 1487, 'fighting': 1183, 'extreme': 1136, 'closed': 612, 'car': 517, 'traffic': 2973, 'miles': 1875, 'massive': 1828, 'heaps': 1412, 'recyclable': 2401, 'landfills': 1677, 'incinerators': 1523, 'monitor': 1904, 'evaluation': 1079, 'strenuous': 2801, 'webster': 3145, 'striving': 2804, 'rewrite': 2503, 'convert': 719, 'cms': 620, 'possible': 2234, 'getting': 1310, 'nation': 1941, 'collects': 640, 'workforce': 3203, 'bcs': 382, 'outgoing': 2075, 'unltd': 3047, 'sub': 2815, 'shipping': 2635, 'labeling': 1674, 'lifeguard': 1731, 'venues': 3085, '165th': 27, 'near': 1952, 'grand': 1341, 'concourse': 683, 'semester': 2598, 'routes': 2533, '62': 88, 'maintained': 1795, 'answered': 252, 'inmotion': 1549, 'north': 1981, 'canned': 513, 'drives': 956, 'talented': 2866, 'cater': 534, 'weds': 3149, '7pm': 95, 'si': 2654, 'pass': 2133, 'editor': 979, 'conceptual': 678, 'detailed': 860, 'records': 2393, 'paper': 2112, 'assume': 328, 'responsibility': 2480, 'safety': 2545, 'weekdays': 3152, 'pharmacy': 2171, 'medications': 1850, 'minor': 1884, 'nybg': 1999, 'olivieri': 2031, 'participates': 2122, 'respite': 2474, 'bed': 392, 'congregations': 690, 'prestigious': 2270, 'gathering': 1298, 'scientists': 2571, 'don': 930, 'thumb': 2937, 'doesn': 926, 'hurt': 1492, 'muscle': 1931, 'raised': 2361, 'mainly': 1793, 'boys': 455, 'scout': 2573, 'troup': 3005, 'specialized': 2722, 'facilitation': 1142, 'specialist': 2721, 'ambassadors': 230, 'hearings': 1415, 'hold': 1447, 'tables': 2858, 'engineering': 1032, 'poorest': 2224, 'congressional': 692, 'french': 1253, 'producing': 2289, 'pamphlets': 2109, 'filmmakers': 1191, 'editors': 980, 'filming': 1190, 'youcantoo': 3233}\n"
          ]
        }
      ]
    },
    {
      "cell_type": "code",
      "source": [
        "print(text_tfidf[3].data)"
      ],
      "metadata": {
        "colab": {
          "base_uri": "https://localhost:8080/"
        },
        "id": "r5kWPIx_XuwX",
        "outputId": "df316944-1a61-4350-b241-6a29451286d1"
      },
      "execution_count": null,
      "outputs": [
        {
          "output_type": "stream",
          "name": "stdout",
          "text": [
            "[0.1548618  0.2028046  0.16548663 0.19072639 0.17550964 0.17550964\n",
            " 0.16150892 0.2028046  0.2028046  0.2028046  0.15800034 0.18215676\n",
            " 0.2028046  0.2028046  0.07540898 0.12878287 0.12021324 0.18215676\n",
            " 0.2028046  0.19551897 0.14483879 0.1548618  0.10148791 0.07439221\n",
            " 0.14483879 0.11607581 0.1548618  0.06810714 0.17007855 0.2028046\n",
            " 0.2028046  0.04345125 0.10518326 0.19072639 0.09285029 0.11425652\n",
            " 0.08072458 0.24042649]\n"
          ]
        }
      ]
    },
    {
      "cell_type": "code",
      "source": [
        "print(text_tfidf[3].indices)"
      ],
      "metadata": {
        "colab": {
          "base_uri": "https://localhost:8080/"
        },
        "id": "qKYD3yTlX7cW",
        "outputId": "5993e424-6830-44ee-9acc-60446f410759"
      },
      "execution_count": null,
      "outputs": [
        {
          "output_type": "stream",
          "name": "stdout",
          "text": [
            "[2055 2092 3221 1481   23 1169 2658  691 1386 1514 1911  681 2521 2966\n",
            " 2071 2151 2072 2373 1448  495  354 2360 2908 3113  827 2018 1365 1612\n",
            "  737  143 2091 2949 3049 1958 2909 1519  243 1083]\n"
          ]
        }
      ]
    },
    {
      "cell_type": "code",
      "source": [
        "vocab = {v:k for k,v in tfidf_vec.vocabulary_.items()}\n",
        "zipped_row = dict(zip(text_tfidf[3].indices, text_tfidf[3].data))\n",
        "print(zipped_row)"
      ],
      "metadata": {
        "colab": {
          "base_uri": "https://localhost:8080/"
        },
        "id": "_Pfq2OB4YDct",
        "outputId": "f652cd8c-327b-494e-d425-acfae806d9bf"
      },
      "execution_count": null,
      "outputs": [
        {
          "output_type": "stream",
          "name": "stdout",
          "text": [
            "{2055: 0.15486180372998468, 2092: 0.20280460455530128, 3221: 0.1654866284992569, 1481: 0.19072639217477794, 23: 0.17550964417383025, 1169: 0.17550964417383025, 2658: 0.1615089236676101, 691: 0.20280460455530128, 1386: 0.20280460455530128, 1514: 0.20280460455530128, 1911: 0.15800033935040905, 681: 0.1821567641114557, 2521: 0.20280460455530128, 2966: 0.20280460455530128, 2071: 0.07540897757502674, 2151: 0.12878287084324122, 2072: 0.12021324277991896, 2373: 0.1821567641114557, 1448: 0.20280460455530128, 495: 0.195518967090342, 354: 0.14483878805541134, 2360: 0.15486180372998468, 2908: 0.1014879104617702, 3113: 0.07439220525141141, 827: 0.14483878805541134, 2018: 0.11607580573956121, 1365: 0.15486180372998468, 1612: 0.06810713816109494, 737: 0.17007855173093236, 143: 0.20280460455530128, 2091: 0.20280460455530128, 2949: 0.04345125317459749, 3049: 0.1051832573782865, 1958: 0.19072639217477794, 2909: 0.09285029169991875, 1519: 0.11425651708161301, 243: 0.08072457682103536, 1083: 0.24042648555983792}\n"
          ]
        }
      ]
    },
    {
      "cell_type": "code",
      "source": [
        "def return_weights(vocab, vector, vector_index):\n",
        "    zipped = dict(zip(vector[vector_index].indices, vector[vector_index].data))\n",
        "    return {vocab[i]:zipped[i] for i in vector[vector_index].indices}\n",
        "print(return_weights(vocab, text_tfidf, 3))"
      ],
      "metadata": {
        "colab": {
          "base_uri": "https://localhost:8080/"
        },
        "id": "kCPlRPgSYZZr",
        "outputId": "872d5d10-3152-4e11-af63-26b062d40eed"
      },
      "execution_count": null,
      "outputs": [
        {
          "output_type": "stream",
          "name": "stdout",
          "text": [
            "{'org': 0.15486180372998468, 'oxfamactioncorps': 0.20280460455530128, 'www': 0.1654866284992569, 'http': 0.19072639217477794, '14': 0.17550964417383025, 'february': 0.17550964417383025, 'sign': 0.1615089236676101, 'congress': 0.20280460455530128, 'halls': 0.20280460455530128, 'importantly': 0.20280460455530128, 'most': 0.15800033935040905, 'concerts': 0.1821567641114557, 'rock': 0.20280460455530128, 'town': 0.20280460455530128, 'our': 0.07540897757502674, 'people': 0.12878287084324122, 'out': 0.12021324277991896, 'reaching': 0.1821567641114557, 'holding': 0.20280460455530128, 'by': 0.195518967090342, 'awareness': 0.14483878805541134, 'raise': 0.15486180372998468, 'that': 0.1014879104617702, 'volunteers': 0.07439220525141141, 'dedicated': 0.14483878805541134, 'of': 0.11607580573956121, 'group': 0.15486180372998468, 'is': 0.06810713816109494, 'corps': 0.17007855173093236, 'action': 0.20280460455530128, 'oxfam': 0.20280460455530128, 'to': 0.04345125317459749, 'up': 0.1051832573782865, 'neighborhoods': 0.19072639217477794, 'the': 0.09285029169991875, 'in': 0.11425651708161301, 'and': 0.08072457682103536, 'events': 0.24042648555983792}\n"
          ]
        }
      ]
    },
    {
      "cell_type": "code",
      "source": [
        "speech_df = pd.read_csv('/content/inaugural_speeches.csv')\n",
        "speech_df['text'] = speech_df['text'].str.replace('[^a-zA-Z]', ' ')\n",
        "speech_df['text'] = speech_df['text'].str.lower() #уменьшение регистра\n",
        "print(speech_df['text'][0])"
      ],
      "metadata": {
        "id": "E4zanxX4YvMY",
        "colab": {
          "base_uri": "https://localhost:8080/"
        },
        "outputId": "402cec00-622a-4b85-e57f-9585a635890e"
      },
      "execution_count": 46,
      "outputs": [
        {
          "output_type": "stream",
          "name": "stdout",
          "text": [
            "fellow citizens of the senate and of the house of representatives   among the vicissitudes incident to life no event could have filled me with greater anxieties than that of which the notification was transmitted by your order  and received on the   th day of the present month  on the one hand  i was summoned by my country  whose voice i can never hear but with veneration and love  from a retreat which i had chosen with the fondest predilection  and  in my flattering hopes  with an immutable decision  as the asylum of my declining years u      a retreat which was rendered every day more necessary as well as more dear to me by the addition of habit to inclination  and of frequent interruptions in my health to the gradual waste committed on it by time  on the other hand  the magnitude and difficulty of the trust to which the voice of my country called me  being sufficient to awaken in the wisest and most experienced of her citizens a distrustful scrutiny into his qualifications  could not but overwhelm with despondence one who  inheriting inferior endowments from nature and unpracticed in the duties of civil administration  ought to be peculiarly conscious of his own deficiencies  in this conflict of emotions all i dare aver is that it has been my faithful study to collect my duty from a just appreciation of every circumstance by which it might be affected  all i dare hope is that if  in executing this task  i have been too much swayed by a grateful remembrance of former instances  or by an affectionate sensibility to this transcendent proof of the confidence of my fellow citizens  and have thence too little consulted my incapacity as well as disinclination for the weighty and untried cares before me  my error will be palliated by the motives which mislead me  and its consequences be judged by my country with some share of the partiality in which they originated  such being the impressions under which i have  in obedience to the public summons  repaired to the present station  it would be peculiarly improper to omit in this first official act my fervent supplications to that almighty being who rules over the universe  who presides in the councils of nations  and whose providential aids can supply every human defect  that his benediction may consecrate to the liberties and happiness of the people of the united states a government instituted by themselves for these essential purposes  and may enable every instrument employed in its administration to execute with success the functions allotted to his charge  in tendering this homage to the great author of every public and private good  i assure myself that it expresses your sentiments not less than my own  nor those of my fellow citizens at large less than either  no people can be bound to acknowledge and adore the invisible hand which conducts the affairs of men more than those of the united states  every step by which they have advanced to the character of an independent nation seems to have been distinguished by some token of providential agency  and in the important revolution just accomplished in the system of their united government the tranquil deliberations and voluntary consent of so many distinct communities from which the event has resulted can not be compared with the means by which most governments have been established without some return of pious gratitude  along with an humble anticipation of the future blessings which the past seem to presage  these reflections  arising out of the present crisis  have forced themselves too strongly on my mind to be suppressed  you will join with me  i trust  in thinking that there are none under the influence of which the proceedings of a new and free government can more auspiciously commence  by the article establishing the executive department it is made the duty of the president  to recommend to your consideration such measures as he shall judge necessary and expedient   the circumstances under which i now meet you will acquit me from entering into that subject further than to refer to the great constitutional charter under which you are assembled  and which  in defining your powers  designates the objects to which your attention is to be given  it will be more consistent with those circumstances  and far more congenial with the feelings which actuate me  to substitute  in place of a recommendation of particular measures  the tribute that is due to the talents  the rectitude  and the patriotism which adorn the characters selected to devise and adopt them  in these honorable qualifications i behold the surest pledges that as on one side no local prejudices or attachments  no separate views nor party animosities  will misdirect the comprehensive and equal eye which ought to watch over this great assemblage of communities and interests  so  on another  that the foundation of our national policy will be laid in the pure and immutable principles of private morality  and the preeminence of free government be exemplified by all the attributes which can win the affections of its citizens and command the respect of the world  i dwell on this prospect with every satisfaction which an ardent love for my country can inspire  since there is no truth more thoroughly established than that there exists in the economy and course of nature an indissoluble union between virtue and happiness  between duty and advantage  between the genuine maxims of an honest and magnanimous policy and the solid rewards of public prosperity and felicity  since we ought to be no less persuaded that the propitious smiles of heaven can never be expected on a nation that disregards the eternal rules of order and right which heaven itself has ordained  and since the preservation of the sacred fire of liberty and the destiny of the republican model of government are justly considered  perhaps  as deeply  as finally  staked on the experiment entrusted to the hands of the american people  besides the ordinary objects submitted to your care  it will remain with your judgment to decide how far an exercise of the occasional power delegated by the fifth article of the constitution is rendered expedient at the present juncture by the nature of objections which have been urged against the system  or by the degree of inquietude which has given birth to them  instead of undertaking particular recommendations on this subject  in which i could be guided by no lights derived from official opportunities  i shall again give way to my entire confidence in your discernment and pursuit of the public good  for i assure myself that whilst you carefully avoid every alteration which might endanger the benefits of an united and effective government  or which ought to await the future lessons of experience  a reverence for the characteristic rights of freemen and a regard for the public harmony will sufficiently influence your deliberations on the question how far the former can be impregnably fortified or the latter be safely and advantageously promoted  to the foregoing observations i have one to add  which will be most properly addressed to the house of representatives  it concerns myself  and will therefore be as brief as possible  when i was first honored with a call into the service of my country  then on the eve of an arduous struggle for its liberties  the light in which i contemplated my duty required that i should renounce every pecuniary compensation  from this resolution i have in no instance departed  and being still under the impressions which produced it  i must decline as inapplicable to myself any share in the personal emoluments which may be indispensably included in a permanent provision for the executive department  and must accordingly pray that the pecuniary estimates for the station in which i am placed may during my continuance in it be limited to such actual expenditures as the public good may be thought to require  having thus imparted to you my sentiments as they have been awakened by the occasion which brings us together  i shall take my present leave  but not without resorting once more to the benign parent of the human race in humble supplication that  since he has been pleased to favor the american people with opportunities for deliberating in perfect tranquillity  and dispositions for deciding with unparalleled unanimity on a form of government for the security of their union and the advancement of their happiness  so his divine blessing may be equally conspicuous in the enlarged views  the temperate consultations  and the wise measures on which the success of this government must depend \n"
          ]
        },
        {
          "output_type": "stream",
          "name": "stderr",
          "text": [
            "<ipython-input-46-a9e1d74078eb>:2: FutureWarning: The default value of regex will change from True to False in a future version.\n",
            "  speech_df['text'] = speech_df['text'].str.replace('[^a-zA-Z]', ' ')\n"
          ]
        }
      ]
    },
    {
      "cell_type": "code",
      "source": [
        "speech_df['char_cnt'] = speech_df['text'].str.len() #подсчет общего кол-ва слов с пробелами\n",
        "speech_df['char_cnt'].head()"
      ],
      "metadata": {
        "colab": {
          "base_uri": "https://localhost:8080/"
        },
        "id": "WyjACXBaCZDC",
        "outputId": "1cc64c5c-af09-4fd9-95c7-ac533df122e8"
      },
      "execution_count": 48,
      "outputs": [
        {
          "output_type": "execute_result",
          "data": {
            "text/plain": [
              "0     8616\n",
              "1      787\n",
              "2    13871\n",
              "3    10144\n",
              "4    12902\n",
              "Name: char_cnt, dtype: int64"
            ]
          },
          "metadata": {},
          "execution_count": 48
        }
      ]
    },
    {
      "cell_type": "code",
      "source": [
        "speech_df['word_cnt'] = speech_df['text'].str.split().str.len()\n",
        "speech_df['word_cnt'].head(3)"
      ],
      "metadata": {
        "colab": {
          "base_uri": "https://localhost:8080/"
        },
        "id": "NnBN0-rSC_YZ",
        "outputId": "f4c5c7eb-49b4-4248-c216-25b4c6123c27"
      },
      "execution_count": 50,
      "outputs": [
        {
          "output_type": "execute_result",
          "data": {
            "text/plain": [
              "0    1432\n",
              "1     135\n",
              "2    2323\n",
              "Name: word_cnt, dtype: int64"
            ]
          },
          "metadata": {},
          "execution_count": 50
        }
      ]
    },
    {
      "cell_type": "code",
      "source": [
        "speech_df['avg_word_len'] = speech_df['char_cnt'] / speech_df['word_cnt'] #средняя длина слова"
      ],
      "metadata": {
        "id": "vzeogpWGDJum"
      },
      "execution_count": 51,
      "outputs": []
    },
    {
      "cell_type": "code",
      "source": [
        "#получение матрицы с количеством слов\n",
        "from sklearn.feature_extraction.text import CountVectorizer\n",
        "cv = CountVectorizer(min_df=0.1, max_df=0.9) #максимальная и минимальная частоты слов в документах\n",
        "cv.fit(speech_df['text_clean'])\n",
        "cv_transformed = cv.transform(speech_df['text_clean']) #строки для столбца\n",
        "cv_transformed.toarray() # чтобы перейти в неразреженный массив\n",
        "\n",
        "cv_df = pd.DataFrame(cv_transformed.toarray(), columns=cv.get_feature_names()).add_prefix('Counts_')\n",
        "speech_df = pd.concat([speech_df, cv_df], axis=1, sort=False)\n",
        "print(speech_df.shape)"
      ],
      "metadata": {
        "id": "965vaxrDDoT-"
      },
      "execution_count": null,
      "outputs": []
    },
    {
      "cell_type": "code",
      "source": [
        "from sklearn.feature_extraction.text import TfidfVectorizer\n",
        "tv = TfidfVectorizer(max_features=100, stop_words='english') # ограничение на max число признаков и стоп слова\n",
        "tv.fit(train_speech_df['text'])\n",
        "train_tv_transformed = tv.transform(train_speech_df['text'])\n",
        "train_tv_df = pd.DataFrame(train_tv_transformed.toarray(), columns=tv.get_feature_names()).add_prefix('TFIDF_')\n",
        "train_speech_df = pd.concat([train_speech_df, train_tv_df], axis=1, sort=False)\n",
        "\n",
        "examine_row = train_tv_df.iloc[0]\n",
        "print(examine_row.sort_values(ascending=False))\n",
        "\n",
        "#векторизатор к новым данным (tv из обучающих данных)\n",
        "test_tv_transformed = tv.transform(test_df['text_clean'])\n",
        "test_tv_df = pd.DataFrame(test_tv_transformed.toarray(), columns=tv.get_feature_names()).add_prefix('TFIDF_')\n",
        "test_speech_df = pd.concat([test_speech_df, test_tv_df], axis=1, sort=False)"
      ],
      "metadata": {
        "id": "OkZ24ZFaYcJi"
      },
      "execution_count": null,
      "outputs": []
    },
    {
      "cell_type": "code",
      "source": [
        "tv_bi_gram_vec = TfidfVectorizer(ngram_range = (2,2)) #N-gramm (min и max длина n-грамм)\n",
        "tv_bi_gram = tv_bi_gram_vec.fit_transform(speech_df['text'])\n",
        "print(tv_bi_gram_vec.get_feature_names()) #видим пары слов\n",
        "\n",
        "tv_df = pd.DataFrame(tv_bi_gram.toarray(), columns=tv_bi_gram_vec.get_feature_names()).add_prefix('Counts_')\n",
        "tv_sums = tv_df.sum()\n",
        "print(tv_sums.head())\n",
        "\n",
        "print(tv_sums.sort_values(ascending=False)).head()"
      ],
      "metadata": {
        "id": "oXm7FWHBb3WC"
      },
      "execution_count": null,
      "outputs": []
    }
  ]
}