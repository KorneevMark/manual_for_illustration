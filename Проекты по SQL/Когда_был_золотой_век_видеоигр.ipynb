{
  "cells": [
    {
      "cell_type": "markdown",
      "source": [
        "**Описание данных**: таблица game_sales с количеством проданных игр с 1977 года (400 видеоигр) и reviews c оценки критиков и пользователей видеоигр.\n",
        "\n",
        "**План решения**:\n",
        "1. Из таблицы game_sold выведем десять продаваемых видеоигр\n",
        "2. Посчитаем количество игр из таблицы game_sold без оценок критикой и пользователей (таблица reviews)\n",
        "3. Year, которые понравились критикам видеоигр\n",
        "4. Скорректируем на количество выпускаемых игр\n",
        "5. Выведем year где меньше 4 игр\n",
        "6. Year, которые понравились игрокам видеоигр\n",
        "7. Year, которые понравились и игрокам, и критикам (пересечение из топ 10 тех и других)\n",
        "8. Количество продаж по годам из пункта 7\n",
        "\n",
        "**Инструменты**: LEFT JOIN, INNER JOIN, HAVING, EXCEPT, INTERSECT"
      ],
      "metadata": {
        "id": "CFoUjL10HIMl"
      }
    },
    {
      "cell_type": "code",
      "execution_count": null,
      "metadata": {
        "dc": {
          "key": "7"
        },
        "tags": [
          "sample_code"
        ],
        "id": "3ls-_IoNG8rS",
        "outputId": "69ff5136-f526-4f15-c6fd-afe2ef5ab652"
      },
      "outputs": [
        {
          "name": "stdout",
          "output_type": "stream",
          "text": [
            "10 rows affected.\n"
          ]
        },
        {
          "data": {
            "text/html": [
              "<table>\n",
              "    <tr>\n",
              "        <th>game</th>\n",
              "        <th>platform</th>\n",
              "        <th>publisher</th>\n",
              "        <th>developer</th>\n",
              "        <th>games_sold</th>\n",
              "        <th>year</th>\n",
              "    </tr>\n",
              "    <tr>\n",
              "        <td>Wii Sports for Wii</td>\n",
              "        <td>Wii</td>\n",
              "        <td>Nintendo</td>\n",
              "        <td>Nintendo EAD</td>\n",
              "        <td>82.90</td>\n",
              "        <td>2006</td>\n",
              "    </tr>\n",
              "    <tr>\n",
              "        <td>Super Mario Bros. for NES</td>\n",
              "        <td>NES</td>\n",
              "        <td>Nintendo</td>\n",
              "        <td>Nintendo EAD</td>\n",
              "        <td>40.24</td>\n",
              "        <td>1985</td>\n",
              "    </tr>\n",
              "    <tr>\n",
              "        <td>Counter-Strike: Global Offensive for PC</td>\n",
              "        <td>PC</td>\n",
              "        <td>Valve</td>\n",
              "        <td>Valve Corporation</td>\n",
              "        <td>40.00</td>\n",
              "        <td>2012</td>\n",
              "    </tr>\n",
              "    <tr>\n",
              "        <td>Mario Kart Wii for Wii</td>\n",
              "        <td>Wii</td>\n",
              "        <td>Nintendo</td>\n",
              "        <td>Nintendo EAD</td>\n",
              "        <td>37.32</td>\n",
              "        <td>2008</td>\n",
              "    </tr>\n",
              "    <tr>\n",
              "        <td>PLAYERUNKNOWN&#x27;S BATTLEGROUNDS for PC</td>\n",
              "        <td>PC</td>\n",
              "        <td>PUBG Corporation</td>\n",
              "        <td>PUBG Corporation</td>\n",
              "        <td>36.60</td>\n",
              "        <td>2017</td>\n",
              "    </tr>\n",
              "    <tr>\n",
              "        <td>Minecraft for PC</td>\n",
              "        <td>PC</td>\n",
              "        <td>Mojang</td>\n",
              "        <td>Mojang AB</td>\n",
              "        <td>33.15</td>\n",
              "        <td>2010</td>\n",
              "    </tr>\n",
              "    <tr>\n",
              "        <td>Wii Sports Resort for Wii</td>\n",
              "        <td>Wii</td>\n",
              "        <td>Nintendo</td>\n",
              "        <td>Nintendo EAD</td>\n",
              "        <td>33.13</td>\n",
              "        <td>2009</td>\n",
              "    </tr>\n",
              "    <tr>\n",
              "        <td>Pokemon Red / Green / Blue Version for GB</td>\n",
              "        <td>GB</td>\n",
              "        <td>Nintendo</td>\n",
              "        <td>Game Freak</td>\n",
              "        <td>31.38</td>\n",
              "        <td>1998</td>\n",
              "    </tr>\n",
              "    <tr>\n",
              "        <td>New Super Mario Bros. for DS</td>\n",
              "        <td>DS</td>\n",
              "        <td>Nintendo</td>\n",
              "        <td>Nintendo EAD</td>\n",
              "        <td>30.80</td>\n",
              "        <td>2006</td>\n",
              "    </tr>\n",
              "    <tr>\n",
              "        <td>New Super Mario Bros. Wii for Wii</td>\n",
              "        <td>Wii</td>\n",
              "        <td>Nintendo</td>\n",
              "        <td>Nintendo EAD</td>\n",
              "        <td>30.30</td>\n",
              "        <td>2009</td>\n",
              "    </tr>\n",
              "</table>"
            ],
            "text/plain": [
              "[('Wii Sports for Wii', 'Wii', 'Nintendo', 'Nintendo EAD', Decimal('82.90'), 2006),\n",
              " ('Super Mario Bros. for NES', 'NES', 'Nintendo', 'Nintendo EAD', Decimal('40.24'), 1985),\n",
              " ('Counter-Strike: Global Offensive for PC', 'PC', 'Valve', 'Valve Corporation', Decimal('40.00'), 2012),\n",
              " ('Mario Kart Wii for Wii', 'Wii', 'Nintendo', 'Nintendo EAD', Decimal('37.32'), 2008),\n",
              " (\"PLAYERUNKNOWN'S BATTLEGROUNDS for PC\", 'PC', 'PUBG Corporation', 'PUBG Corporation', Decimal('36.60'), 2017),\n",
              " ('Minecraft for PC', 'PC', 'Mojang', 'Mojang AB', Decimal('33.15'), 2010),\n",
              " ('Wii Sports Resort for Wii', 'Wii', 'Nintendo', 'Nintendo EAD', Decimal('33.13'), 2009),\n",
              " ('Pokemon Red / Green / Blue Version for GB', 'GB', 'Nintendo', 'Game Freak', Decimal('31.38'), 1998),\n",
              " ('New Super Mario Bros. for DS', 'DS', 'Nintendo', 'Nintendo EAD', Decimal('30.80'), 2006),\n",
              " ('New Super Mario Bros. Wii for Wii', 'Wii', 'Nintendo', 'Nintendo EAD', Decimal('30.30'), 2009)]"
            ]
          },
          "execution_count": 77,
          "metadata": {},
          "output_type": "execute_result"
        }
      ],
      "source": [
        "%%sql\n",
        "postgresql:///games\n",
        "\n",
        "SELECT *\n",
        "FROM game_sales\n",
        "ORDER BY games_sold DESC\n",
        "LIMIT 10;"
      ]
    },
    {
      "cell_type": "code",
      "execution_count": null,
      "metadata": {
        "dc": {
          "key": "14"
        },
        "tags": [
          "sample_code"
        ],
        "id": "PmyZfkXkG8ra",
        "outputId": "7dc5dd7a-0782-4f47-e76f-4ce95bb4df64"
      },
      "outputs": [
        {
          "name": "stdout",
          "output_type": "stream",
          "text": [
            " * postgresql:///games\n",
            "1 rows affected.\n"
          ]
        },
        {
          "data": {
            "text/html": [
              "<table>\n",
              "    <tr>\n",
              "        <th>count</th>\n",
              "    </tr>\n",
              "    <tr>\n",
              "        <td>31</td>\n",
              "    </tr>\n",
              "</table>"
            ],
            "text/plain": [
              "[(31,)]"
            ]
          },
          "execution_count": 79,
          "metadata": {},
          "output_type": "execute_result"
        }
      ],
      "source": [
        "%%sql\n",
        "\n",
        "SELECT COUNT(*)\n",
        "FROM game_sales\n",
        "LEFT JOIN reviews\n",
        "USING (game)\n",
        "WHERE critic_score IS NULL AND user_score IS NULL"
      ]
    },
    {
      "cell_type": "code",
      "execution_count": null,
      "metadata": {
        "dc": {
          "key": "21"
        },
        "tags": [
          "sample_code"
        ],
        "id": "O5mNBp-RG8rc",
        "outputId": "c96f8158-2340-4519-f84b-8888f555ea3a"
      },
      "outputs": [
        {
          "name": "stdout",
          "output_type": "stream",
          "text": [
            " * postgresql:///games\n",
            "10 rows affected.\n"
          ]
        },
        {
          "data": {
            "text/html": [
              "<table>\n",
              "    <tr>\n",
              "        <th>year</th>\n",
              "        <th>count</th>\n",
              "        <th>avg_critic_score</th>\n",
              "    </tr>\n",
              "    <tr>\n",
              "        <td>1990</td>\n",
              "        <td>1</td>\n",
              "        <td>9.80</td>\n",
              "    </tr>\n",
              "    <tr>\n",
              "        <td>1992</td>\n",
              "        <td>3</td>\n",
              "        <td>9.67</td>\n",
              "    </tr>\n",
              "    <tr>\n",
              "        <td>1998</td>\n",
              "        <td>10</td>\n",
              "        <td>9.32</td>\n",
              "    </tr>\n",
              "    <tr>\n",
              "        <td>2020</td>\n",
              "        <td>2</td>\n",
              "        <td>9.20</td>\n",
              "    </tr>\n",
              "    <tr>\n",
              "        <td>1993</td>\n",
              "        <td>2</td>\n",
              "        <td>9.10</td>\n",
              "    </tr>\n",
              "    <tr>\n",
              "        <td>1995</td>\n",
              "        <td>3</td>\n",
              "        <td>9.07</td>\n",
              "    </tr>\n",
              "    <tr>\n",
              "        <td>2004</td>\n",
              "        <td>11</td>\n",
              "        <td>9.03</td>\n",
              "    </tr>\n",
              "    <tr>\n",
              "        <td>1982</td>\n",
              "        <td>1</td>\n",
              "        <td>9.00</td>\n",
              "    </tr>\n",
              "    <tr>\n",
              "        <td>2002</td>\n",
              "        <td>9</td>\n",
              "        <td>8.99</td>\n",
              "    </tr>\n",
              "    <tr>\n",
              "        <td>1999</td>\n",
              "        <td>11</td>\n",
              "        <td>8.93</td>\n",
              "    </tr>\n",
              "</table>"
            ],
            "text/plain": [
              "[(1990, 1, Decimal('9.80')),\n",
              " (1992, 3, Decimal('9.67')),\n",
              " (1998, 10, Decimal('9.32')),\n",
              " (2020, 2, Decimal('9.20')),\n",
              " (1993, 2, Decimal('9.10')),\n",
              " (1995, 3, Decimal('9.07')),\n",
              " (2004, 11, Decimal('9.03')),\n",
              " (1982, 1, Decimal('9.00')),\n",
              " (2002, 9, Decimal('8.99')),\n",
              " (1999, 11, Decimal('8.93'))]"
            ]
          },
          "execution_count": 93,
          "metadata": {},
          "output_type": "execute_result"
        }
      ],
      "source": [
        "%%sql\n",
        "\n",
        "SELECT year, COUNT(game), ROUND(AVG(critic_score),2) AS avg_critic_score\n",
        "FROM game_sales\n",
        "INNER JOIN reviews\n",
        "USING (game)\n",
        "GROUP BY year\n",
        "ORDER BY avg_critic_score DESC\n",
        "LIMIT 10;"
      ]
    },
    {
      "cell_type": "code",
      "execution_count": null,
      "metadata": {
        "dc": {
          "key": "28"
        },
        "tags": [
          "sample_code"
        ],
        "id": "ImqV0hHLG8rg",
        "outputId": "28499d10-c227-405e-afbb-1a0e57677681"
      },
      "outputs": [
        {
          "name": "stdout",
          "output_type": "stream",
          "text": [
            " * postgresql:///games\n",
            "10 rows affected.\n"
          ]
        },
        {
          "data": {
            "text/html": [
              "<table>\n",
              "    <tr>\n",
              "        <th>year</th>\n",
              "        <th>num_games</th>\n",
              "        <th>avg_critic_score</th>\n",
              "    </tr>\n",
              "    <tr>\n",
              "        <td>1998</td>\n",
              "        <td>10</td>\n",
              "        <td>9.32</td>\n",
              "    </tr>\n",
              "    <tr>\n",
              "        <td>2004</td>\n",
              "        <td>11</td>\n",
              "        <td>9.03</td>\n",
              "    </tr>\n",
              "    <tr>\n",
              "        <td>2002</td>\n",
              "        <td>9</td>\n",
              "        <td>8.99</td>\n",
              "    </tr>\n",
              "    <tr>\n",
              "        <td>1999</td>\n",
              "        <td>11</td>\n",
              "        <td>8.93</td>\n",
              "    </tr>\n",
              "    <tr>\n",
              "        <td>2001</td>\n",
              "        <td>13</td>\n",
              "        <td>8.82</td>\n",
              "    </tr>\n",
              "    <tr>\n",
              "        <td>2011</td>\n",
              "        <td>26</td>\n",
              "        <td>8.76</td>\n",
              "    </tr>\n",
              "    <tr>\n",
              "        <td>2016</td>\n",
              "        <td>13</td>\n",
              "        <td>8.67</td>\n",
              "    </tr>\n",
              "    <tr>\n",
              "        <td>2013</td>\n",
              "        <td>18</td>\n",
              "        <td>8.66</td>\n",
              "    </tr>\n",
              "    <tr>\n",
              "        <td>2008</td>\n",
              "        <td>20</td>\n",
              "        <td>8.63</td>\n",
              "    </tr>\n",
              "    <tr>\n",
              "        <td>2017</td>\n",
              "        <td>13</td>\n",
              "        <td>8.62</td>\n",
              "    </tr>\n",
              "</table>"
            ],
            "text/plain": [
              "[(1998, 10, Decimal('9.32')),\n",
              " (2004, 11, Decimal('9.03')),\n",
              " (2002, 9, Decimal('8.99')),\n",
              " (1999, 11, Decimal('8.93')),\n",
              " (2001, 13, Decimal('8.82')),\n",
              " (2011, 26, Decimal('8.76')),\n",
              " (2016, 13, Decimal('8.67')),\n",
              " (2013, 18, Decimal('8.66')),\n",
              " (2008, 20, Decimal('8.63')),\n",
              " (2017, 13, Decimal('8.62'))]"
            ]
          },
          "execution_count": 83,
          "metadata": {},
          "output_type": "execute_result"
        }
      ],
      "source": [
        "%%sql\n",
        "\n",
        "SELECT year, COUNT(game) AS num_games, ROUND(AVG(critic_score),2) AS avg_critic_score\n",
        "FROM game_sales\n",
        "INNER JOIN reviews\n",
        "USING (game)\n",
        "GROUP BY year\n",
        "HAVING COUNT(game) > 4\n",
        "ORDER BY avg_critic_score DESC\n",
        "LIMIT 10;"
      ]
    },
    {
      "cell_type": "code",
      "execution_count": null,
      "metadata": {
        "dc": {
          "key": "35"
        },
        "tags": [
          "sample_code"
        ],
        "id": "PRROqk3eG8rj",
        "outputId": "b59534b5-89da-4ca4-e30b-daf05245eac2"
      },
      "outputs": [
        {
          "name": "stdout",
          "output_type": "stream",
          "text": [
            " * postgresql:///games\n",
            "6 rows affected.\n"
          ]
        },
        {
          "data": {
            "text/html": [
              "<table>\n",
              "    <tr>\n",
              "        <th>year</th>\n",
              "        <th>avg_critic_score</th>\n",
              "    </tr>\n",
              "    <tr>\n",
              "        <td>1990</td>\n",
              "        <td>9.80</td>\n",
              "    </tr>\n",
              "    <tr>\n",
              "        <td>1992</td>\n",
              "        <td>9.67</td>\n",
              "    </tr>\n",
              "    <tr>\n",
              "        <td>2020</td>\n",
              "        <td>9.20</td>\n",
              "    </tr>\n",
              "    <tr>\n",
              "        <td>1993</td>\n",
              "        <td>9.10</td>\n",
              "    </tr>\n",
              "    <tr>\n",
              "        <td>1995</td>\n",
              "        <td>9.07</td>\n",
              "    </tr>\n",
              "    <tr>\n",
              "        <td>1982</td>\n",
              "        <td>9.00</td>\n",
              "    </tr>\n",
              "</table>"
            ],
            "text/plain": [
              "[(1990, Decimal('9.80')),\n",
              " (1992, Decimal('9.67')),\n",
              " (2020, Decimal('9.20')),\n",
              " (1993, Decimal('9.10')),\n",
              " (1995, Decimal('9.07')),\n",
              " (1982, Decimal('9.00'))]"
            ]
          },
          "execution_count": 85,
          "metadata": {},
          "output_type": "execute_result"
        }
      ],
      "source": [
        "%%sql\n",
        "\n",
        "SELECT year, avg_critic_score\n",
        "FROM top_critic_years\n",
        "EXCEPT\n",
        "SELECT year, avg_critic_score\n",
        "FROM top_critic_years_more_than_four_games\n",
        "ORDER BY avg_critic_score DESC;"
      ]
    },
    {
      "cell_type": "code",
      "execution_count": null,
      "metadata": {
        "dc": {
          "key": "42"
        },
        "tags": [
          "sample_code"
        ],
        "id": "SWH4kO5-G8rm",
        "outputId": "beac3f8a-90ef-4e81-9476-3fbefa0b7f5c"
      },
      "outputs": [
        {
          "name": "stdout",
          "output_type": "stream",
          "text": [
            " * postgresql:///games\n",
            "10 rows affected.\n"
          ]
        },
        {
          "data": {
            "text/html": [
              "<table>\n",
              "    <tr>\n",
              "        <th>year</th>\n",
              "        <th>num_games</th>\n",
              "        <th>avg_user_score</th>\n",
              "    </tr>\n",
              "    <tr>\n",
              "        <td>1997</td>\n",
              "        <td>8</td>\n",
              "        <td>9.50</td>\n",
              "    </tr>\n",
              "    <tr>\n",
              "        <td>1998</td>\n",
              "        <td>10</td>\n",
              "        <td>9.40</td>\n",
              "    </tr>\n",
              "    <tr>\n",
              "        <td>2010</td>\n",
              "        <td>23</td>\n",
              "        <td>9.24</td>\n",
              "    </tr>\n",
              "    <tr>\n",
              "        <td>2009</td>\n",
              "        <td>20</td>\n",
              "        <td>9.18</td>\n",
              "    </tr>\n",
              "    <tr>\n",
              "        <td>2008</td>\n",
              "        <td>20</td>\n",
              "        <td>9.03</td>\n",
              "    </tr>\n",
              "    <tr>\n",
              "        <td>1996</td>\n",
              "        <td>5</td>\n",
              "        <td>9.00</td>\n",
              "    </tr>\n",
              "    <tr>\n",
              "        <td>2005</td>\n",
              "        <td>13</td>\n",
              "        <td>8.95</td>\n",
              "    </tr>\n",
              "    <tr>\n",
              "        <td>2006</td>\n",
              "        <td>16</td>\n",
              "        <td>8.95</td>\n",
              "    </tr>\n",
              "    <tr>\n",
              "        <td>2000</td>\n",
              "        <td>8</td>\n",
              "        <td>8.80</td>\n",
              "    </tr>\n",
              "    <tr>\n",
              "        <td>2002</td>\n",
              "        <td>9</td>\n",
              "        <td>8.80</td>\n",
              "    </tr>\n",
              "</table>"
            ],
            "text/plain": [
              "[(1997, 8, Decimal('9.50')),\n",
              " (1998, 10, Decimal('9.40')),\n",
              " (2010, 23, Decimal('9.24')),\n",
              " (2009, 20, Decimal('9.18')),\n",
              " (2008, 20, Decimal('9.03')),\n",
              " (1996, 5, Decimal('9.00')),\n",
              " (2005, 13, Decimal('8.95')),\n",
              " (2006, 16, Decimal('8.95')),\n",
              " (2000, 8, Decimal('8.80')),\n",
              " (2002, 9, Decimal('8.80'))]"
            ]
          },
          "execution_count": 87,
          "metadata": {},
          "output_type": "execute_result"
        }
      ],
      "source": [
        "%%sql\n",
        "\n",
        "SELECT year, COUNT(game) AS num_games, ROUND(AVG(user_score),2) AS avg_user_score\n",
        "FROM game_sales\n",
        "INNER JOIN reviews\n",
        "USING (game)\n",
        "GROUP BY year\n",
        "HAVING COUNT(game) > 4\n",
        "ORDER BY avg_user_score DESC\n",
        "LIMIT 10;"
      ]
    },
    {
      "cell_type": "code",
      "execution_count": null,
      "metadata": {
        "dc": {
          "key": "49"
        },
        "tags": [
          "sample_code"
        ],
        "id": "zaz24fC9G8ro",
        "outputId": "a6299e81-aad9-40b7-8c77-36034f1493a6"
      },
      "outputs": [
        {
          "name": "stdout",
          "output_type": "stream",
          "text": [
            " * postgresql:///games\n",
            "3 rows affected.\n"
          ]
        },
        {
          "data": {
            "text/html": [
              "<table>\n",
              "    <tr>\n",
              "        <th>year</th>\n",
              "    </tr>\n",
              "    <tr>\n",
              "        <td>1998</td>\n",
              "    </tr>\n",
              "    <tr>\n",
              "        <td>2002</td>\n",
              "    </tr>\n",
              "    <tr>\n",
              "        <td>2008</td>\n",
              "    </tr>\n",
              "</table>"
            ],
            "text/plain": [
              "[(1998,), (2002,), (2008,)]"
            ]
          },
          "execution_count": 89,
          "metadata": {},
          "output_type": "execute_result"
        }
      ],
      "source": [
        "%%sql\n",
        "\n",
        "SELECT year\n",
        "FROM (SELECT year, COUNT(game) AS num_games, ROUND(AVG(user_score),2) AS avg_user_score\n",
        "      FROM game_sales\n",
        "      INNER JOIN reviews\n",
        "      USING (game)\n",
        "      GROUP BY year\n",
        "      HAVING COUNT(game) > 4\n",
        "      ORDER BY avg_user_score DESC\n",
        "      LIMIT 10) as t1\n",
        "INTERSECT\n",
        "SELECT year\n",
        "FROM (SELECT year, COUNT(game), ROUND(AVG(critic_score),2) AS avg_critic_score\n",
        "      FROM game_sales\n",
        "      INNER JOIN reviews\n",
        "      USING (game)\n",
        "      GROUP BY year\n",
        "      HAVING COUNT(game) > 4\n",
        "      ORDER BY avg_critic_score DESC\n",
        "      LIMIT 10) as t2\n",
        "ORDER BY year ASC;"
      ]
    },
    {
      "cell_type": "code",
      "execution_count": null,
      "metadata": {
        "dc": {
          "key": "56"
        },
        "tags": [
          "sample_code"
        ],
        "id": "LAlF-pOuG8rq",
        "outputId": "1e77468f-f4e7-4039-cb1d-9d426060ad40"
      },
      "outputs": [
        {
          "name": "stdout",
          "output_type": "stream",
          "text": [
            " * postgresql:///games\n",
            "3 rows affected.\n"
          ]
        },
        {
          "data": {
            "text/html": [
              "<table>\n",
              "    <tr>\n",
              "        <th>year</th>\n",
              "        <th>total_games_sold</th>\n",
              "    </tr>\n",
              "    <tr>\n",
              "        <td>2008</td>\n",
              "        <td>175.07</td>\n",
              "    </tr>\n",
              "    <tr>\n",
              "        <td>1998</td>\n",
              "        <td>101.52</td>\n",
              "    </tr>\n",
              "    <tr>\n",
              "        <td>2002</td>\n",
              "        <td>58.67</td>\n",
              "    </tr>\n",
              "</table>"
            ],
            "text/plain": [
              "[(2008, Decimal('175.07')),\n",
              " (1998, Decimal('101.52')),\n",
              " (2002, Decimal('58.67'))]"
            ]
          },
          "execution_count": 91,
          "metadata": {},
          "output_type": "execute_result"
        }
      ],
      "source": [
        "%%sql\n",
        "\n",
        "SELECT year, SUM(games_sold) AS total_games_sold\n",
        "FROM game_sales\n",
        "WHERE year IN (SELECT year\n",
        "               FROM top_user_years_more_than_four_games\n",
        "               INTERSECT\n",
        "               SELECT year\n",
        "               FROM top_critic_years_more_than_four_games)\n",
        "GROUP BY year\n",
        "ORDER BY total_games_sold DESC;"
      ]
    }
  ],
  "metadata": {
    "kernelspec": {
      "display_name": "Python 3 (ipykernel)",
      "language": "python",
      "name": "python3"
    },
    "language_info": {
      "codemirror_mode": {
        "name": "ipython",
        "version": 3
      },
      "file_extension": ".py",
      "mimetype": "text/x-python",
      "name": "python",
      "nbconvert_exporter": "python",
      "pygments_lexer": "ipython3",
      "version": "3.9.7"
    },
    "colab": {
      "provenance": []
    }
  },
  "nbformat": 4,
  "nbformat_minor": 0
}