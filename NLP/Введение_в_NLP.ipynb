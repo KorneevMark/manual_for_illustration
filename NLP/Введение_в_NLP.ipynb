{
  "nbformat": 4,
  "nbformat_minor": 0,
  "metadata": {
    "colab": {
      "provenance": []
    },
    "kernelspec": {
      "name": "python3",
      "display_name": "Python 3"
    },
    "language_info": {
      "name": "python"
    }
  },
  "cells": [
    {
      "cell_type": "markdown",
      "source": [
        "Регулярные выражение"
      ],
      "metadata": {
        "id": "bHk3iUonRzpD"
      }
    },
    {
      "cell_type": "code",
      "execution_count": null,
      "metadata": {
        "id": "7GPQ0_NGM8sH",
        "colab": {
          "base_uri": "https://localhost:8080/"
        },
        "outputId": "6bb40aca-6c59-4808-f298-bd9d464de4d9"
      },
      "outputs": [
        {
          "output_type": "execute_result",
          "data": {
            "text/plain": [
              "['Split', 'on', 'spaces.']"
            ]
          },
          "metadata": {},
          "execution_count": 9
        }
      ],
      "source": [
        "import re\n",
        "re.match('abc', 'abcdef') #сопоставление шаблон со строкой, возврат объект соответствия\n",
        "# <_sre.SRE_Match object; span=(0, 3), match='abc'>\n",
        "\n",
        "word_regex = '\\w+' #соответствует слову\n",
        "re.match(word_regex, 'hi there!')\n",
        "# <_sre.SRE_Match object; span=(0, 2), match='hi'>\n",
        "\n",
        "re.split('\\s+', 'Split on spaces.') #['Split', 'on', 'spaces.']\n",
        "# если сплировать на основе знаков припинания то они не войдут"
      ]
    },
    {
      "cell_type": "code",
      "source": [
        "my_string = \"Let's write RegEx!  Won't that be fun?  I sure think so. Can you find 4 sentences?  Or perhaps, all 19 words?\"\n",
        "# разделение стороки на основе: . ? !\n",
        "sentence_endings = r\"[.?!]\"\n",
        "print(re.split(sentence_endings, my_string))\n",
        "\n",
        "# поиск слов с заглавной буквы\n",
        "capitalized_words = r\"[A-Z]\\w+\"\n",
        "print(re.findall(capitalized_words, my_string))\n",
        "# ['Let', 'RegEx', 'Won', 'Can', 'Or']\n",
        "\n",
        "spaces = r\"\\s+\" # разеделение на основе пробела\n",
        "print(re.split(spaces, my_string))\n",
        "\n",
        "digits = r\"\\d+\" # поиск всех чисел\n",
        "print(re.findall(digits, my_string))"
      ],
      "metadata": {
        "id": "ad5xzWFRi6lL",
        "colab": {
          "base_uri": "https://localhost:8080/"
        },
        "outputId": "5f2d35a6-11bb-4ecb-81be-48988ef27f17"
      },
      "execution_count": null,
      "outputs": [
        {
          "output_type": "stream",
          "name": "stdout",
          "text": [
            "[\"Let's write RegEx\", \"  Won't that be fun\", '  I sure think so', ' Can you find 4 sentences', '  Or perhaps, all 19 words', '']\n",
            "['Let', 'RegEx', 'Won', 'Can', 'Or']\n",
            "[\"Let's\", 'write', 'RegEx!', \"Won't\", 'that', 'be', 'fun?', 'I', 'sure', 'think', 'so.', 'Can', 'you', 'find', '4', 'sentences?', 'Or', 'perhaps,', 'all', '19', 'words?']\n",
            "['4', '19']\n"
          ]
        }
      ]
    },
    {
      "cell_type": "markdown",
      "source": [
        "Разница между search и match"
      ],
      "metadata": {
        "id": "a4eNKFB9Ux6w"
      }
    },
    {
      "cell_type": "code",
      "source": [
        "#разница между search и match\n",
        "print(re.match('cd', 'abcde')) # в середине не находит\n",
        "print(re.search('cd', 'abcde'))\n",
        "\n",
        "#пример\n",
        "scene_one = \"SCENE 1: [wind] [clop clop clop] \\nKING ARTHUR: Whoa there!  [clop clop clop] \\nSOLDIER #1: Halt!  Who goes there?\\nARTHUR: It is I, Arthur, son of Uther Pendragon, from the castle of Camelot.  King of the Britons, defeator of the Saxons, sovereign of all England!\\nSOLDIER #1: Pull the other one!\\nARTHUR: I am, ...  and this is my trusty servant Patsy.  We have ridden the length and breadth of the land in search of knights who will join me in my court at Camelot.  I must speak with your lord and master.\\nSOLDIER #1: What?  Ridden on a horse?\\nARTHUR: Yes!\\nSOLDIER #1: You're using coconuts!\\nARTHUR: What?\\nSOLDIER #1: You've got two empty halves of coconut and you're bangin' 'em together.\\nARTHUR: So?  We have ridden since the snows of winter covered this land, through the kingdom of Mercea, through--\\nSOLDIER #1: Where'd you get the coconuts?\\nARTHUR: We found them.\\nSOLDIER #1: Found them?  In Mercea?  The coconut's tropical!\\nARTHUR: What do you mean?\\nSOLDIER #1: Well, this is a temperate zone.\\nARTHUR: The swallow may fly south with the sun or the house martin or the plover may seek warmer climes in winter, yet these are not strangers to our land?\\nSOLDIER #1: Are you suggesting coconuts migrate?\\nARTHUR: Not at all.  They could be carried.\\nSOLDIER #1: What?  A swallow carrying a coconut?\\nARTHUR: It could grip it by the husk!\\nSOLDIER #1: It's not a question of where he grips it!  It's a simple question of weight ratios!  A five ounce bird could not carry a one pound coconut.\\nARTHUR: Well, it doesn't matter.  Will you go and tell your master that Arthur from the Court of Camelot is here.\\nSOLDIER #1: Listen.  In order to maintain air-speed velocity, a swallow needs to beat its wings forty-three times every second, right?\\nARTHUR: Please!\\nSOLDIER #1: Am I right?\\nARTHUR: I'm not interested!\\nSOLDIER #2: It could be carried by an African swallow!\\nSOLDIER #1: Oh, yeah, an African swallow maybe, but not a European swallow.  That's my point.\\nSOLDIER #2: Oh, yeah, I agree with that.\\nARTHUR: Will you ask your master if he wants to join my court at Camelot?!\\nSOLDIER #1: But then of course a-- African swallows are non-migratory.\\nSOLDIER #2: Oh, yeah...\\nSOLDIER #1: So they couldn't bring a coconut back anyway...  [clop clop clop] \\nSOLDIER #2: Wait a minute!  Supposing two swallows carried it together?\\nSOLDIER #1: No, they'd have to have it on a line.\\nSOLDIER #2: Well, simple!  They'd just use a strand of creeper!\\nSOLDIER #1: What, held under the dorsal guiding feathers?\\nSOLDIER #2: Well, why not?\\n\"\n",
        "match = re.search(\"coconuts\", scene_one)\n",
        "print(match.start(), match.end()) # индексы\n",
        "\n",
        "\n",
        "pattern1 = r\"\\[.*]\"\n",
        "print(re.search(pattern1, scene_one))\n",
        "#<re.Match object; span=(9, 32), match='[wind] [clop clop clop]'>\n",
        "# In [2]: print(len('SCENE 1: [wind] [clop clop clop] \\nKING ARTHUR: Whoa there!  [clop clop clop]'))\n",
        "#          76\n",
        "#In [3]: len('SCENE 1: [wind] [clop clop clop]')\n",
        "#Out[3]: 32\n",
        "\n",
        "pattern2 = r\"[\\w\\s]+:\"\n",
        "print(re.match(pattern2, 'ARTHUR: It is I, Arthur, son of Uther Pendragon, from the castle of Camelot.'))\n",
        "#<re.Match object; span=(0, 7), match='ARTHUR:'>\n",
        "#'ARTHUR: It is I, Arthur, son of Uther Pendragon, from the castle of Camelot.'\n",
        "#Помните, что вам нужно будет сопоставить любые слова или пробелы, которые предшествуют:(например, пробел внутри SOLDIER #1:)."
      ],
      "metadata": {
        "id": "yq5BlgXvpmAr",
        "colab": {
          "base_uri": "https://localhost:8080/"
        },
        "outputId": "d6c9bc7e-37ba-4b98-a1f0-e46f30715e0b"
      },
      "execution_count": null,
      "outputs": [
        {
          "output_type": "stream",
          "name": "stdout",
          "text": [
            "None\n",
            "<re.Match object; span=(2, 4), match='cd'>\n",
            "580 588\n",
            "<re.Match object; span=(9, 32), match='[wind] [clop clop clop]'>\n",
            "<re.Match object; span=(0, 7), match='ARTHUR:'>\n"
          ]
        }
      ]
    },
    {
      "cell_type": "code",
      "source": [
        "#OR в токенизации\n",
        "import re\n",
        "match_digits_and_words = ('(\\d+|\\w+)')\n",
        "re.findall(match_digits_and_words, 'He has 11 cats.') #['He', 'has', '11', 'cats']"
      ],
      "metadata": {
        "id": "SutWTEN2tJai",
        "colab": {
          "base_uri": "https://localhost:8080/"
        },
        "outputId": "e47e5c8d-a087-4019-b11d-2c3e8d3cae12"
      },
      "execution_count": null,
      "outputs": [
        {
          "output_type": "execute_result",
          "data": {
            "text/plain": [
              "['He', 'has', '11', 'cats']"
            ]
          },
          "metadata": {},
          "execution_count": 14
        }
      ]
    },
    {
      "cell_type": "code",
      "source": [
        "#range (квадратные (от и до)) и groups (круглые (только то что внутри))\n",
        "import re\n",
        "my_str = 'match lowercase spaces nums like 12, but no commas' # стоп у запятой\n",
        "re.match('[a-z0-9 ]+', my_str) #<_sre.SRE_Match object; span=(0, 42), match='match lowercase spaces nums like 12'>\n",
        "\n",
        "#пример\n",
        "regexp_tokenize(my_string, pattern2) # '(\\w+|#\\d|\\?|!)'\n",
        "#Out[3]:\n",
        "#['SOLDIER','#1','Found','them','?','In','Mercea','?','The','coconut','s','tropical','!']"
      ],
      "metadata": {
        "id": "KiV0colnyQKU",
        "colab": {
          "base_uri": "https://localhost:8080/"
        },
        "outputId": "a95f8ab7-8dfd-420e-e8fe-91efc36a5d4a"
      },
      "execution_count": null,
      "outputs": [
        {
          "output_type": "execute_result",
          "data": {
            "text/plain": [
              "<re.Match object; span=(0, 35), match='match lowercase spaces nums like 12'>"
            ]
          },
          "metadata": {},
          "execution_count": 19
        }
      ]
    },
    {
      "cell_type": "markdown",
      "source": [
        "Токенизация"
      ],
      "metadata": {
        "id": "qo4GeAlFRuQl"
      }
    },
    {
      "cell_type": "code",
      "source": [
        "from nltk.tokenize import word_tokenize\n",
        "import nltk\n",
        "nltk.download('punkt')\n",
        "word_tokenize(\"Hi there!\")\n",
        "#sent_tokenize - разбивает документ на предложения\n",
        "#regexp_tokenize - использует регулярные выражения для токенизации строки\n",
        "#TweetTokenizer - делает аккуратные вещи, такие как распознавание хэштегов, упоминаний и когда у вас слишком много знаков препинания после предложения"
      ],
      "metadata": {
        "colab": {
          "base_uri": "https://localhost:8080/"
        },
        "id": "aqHtBbMsRwOb",
        "outputId": "cd131ae8-5cab-4dd4-c40d-db051938fa24"
      },
      "execution_count": null,
      "outputs": [
        {
          "output_type": "stream",
          "name": "stderr",
          "text": [
            "[nltk_data] Downloading package punkt to /root/nltk_data...\n",
            "[nltk_data]   Package punkt is already up-to-date!\n"
          ]
        },
        {
          "output_type": "execute_result",
          "data": {
            "text/plain": [
              "['Hi', 'there', '!']"
            ]
          },
          "metadata": {},
          "execution_count": 7
        }
      ]
    },
    {
      "cell_type": "code",
      "source": [
        "#новые функции (порядок изменился) ffffffffffffffffffffffffffffffffffffffffffffff\n",
        "from nltk.tokenize import regexp_tokenize\n",
        "from nltk.tokenize import TweetTokenizer\n",
        "\n",
        "pattern2 = r\"([\\@\\#]\\w+)\" #можно без ()# если r\"(\\@|\\#)\\w+\" то ['@', '#', '#']\n",
        "\n",
        "mentions_hashtags = regexp_tokenize(tweets[-1], pattern2)\n",
        "print(mentions_hashtags) # ['@datacamp', '#nlp', '#python']\n",
        "\n",
        "# ['This is the best #nlp exercise ive found online! #python',\n",
        "# '#NLP is super fun! <3 #learning',\n",
        "# 'Thanks @datacamp :) #nlp #python']\n",
        "tknzr = TweetTokenizer()\n",
        "all_tokens = [tknzr.tokenize(t) for t in tweets]\n",
        "print(all_tokens) #[['This', 'is', 'the', 'best', '#nlp', 'exercise', 'ive', 'found', 'online', '!', '#python'],\n",
        " #['#NLP', 'is', 'super', 'fun', '!', '<3', '#learning'], ['Thanks', '@datacamp', ':)', '#nlp', '#python']]\n",
        "\n",
        "capital_words = r\"[A-ZÜ]\\w+\"\n",
        "print(regexp_tokenize(german_text, capital_words)) #['Wann', 'Pizza', 'Und', 'Über']"
      ],
      "metadata": {
        "id": "U6fIXD3i8LVs"
      },
      "execution_count": null,
      "outputs": []
    },
    {
      "cell_type": "code",
      "source": [
        "import matplotlib.pyplot as plt\n",
        "import nltk\n",
        "nltk.download('punkt')\n",
        "from matplotlib import pyplot as plt\n",
        "from nltk.tokenize import word_tokenize\n",
        "words = word_tokenize(\"This is a pretty cool tool!\")\n",
        "word_lengths = [len(w) for w in words]\n",
        "plt.hist(word_lengths)\n",
        "plt.show()"
      ],
      "metadata": {
        "colab": {
          "base_uri": "https://localhost:8080/",
          "height": 465
        },
        "id": "9dZhJNpc3DWb",
        "outputId": "feb86849-a2ff-4965-e7b8-e8bc0bb63b50"
      },
      "execution_count": 2,
      "outputs": [
        {
          "output_type": "stream",
          "name": "stderr",
          "text": [
            "[nltk_data] Downloading package punkt to /root/nltk_data...\n",
            "[nltk_data]   Unzipping tokenizers/punkt.zip.\n"
          ]
        },
        {
          "output_type": "display_data",
          "data": {
            "text/plain": [
              "<Figure size 640x480 with 1 Axes>"
            ],
            "image/png": "[encoded data removed]"
          },
          "metadata": {}
        }
      ]
    },
    {
      "cell_type": "code",
      "source": [
        "from nltk.tokenize import word_tokenize # bag-of-words\n",
        "from collections import Counter\n",
        "counter = Counter(word_tokenize(\"\"\"The cat is in the box. The cat likes the box. The box is over the cat.\"\"\"))\n",
        "#Counter({'.': 3,'The': 3, 'box': 3, 'cat': 3})\n",
        "counter.most_common(2) #[('The', 3), ('box', 3)]"
      ],
      "metadata": {
        "id": "8LVUBYoT6bf1",
        "colab": {
          "base_uri": "https://localhost:8080/"
        },
        "outputId": "e75a7fb9-8305-4388-a131-674ff06de606"
      },
      "execution_count": 3,
      "outputs": [
        {
          "output_type": "execute_result",
          "data": {
            "text/plain": [
              "[('The', 3), ('cat', 3)]"
            ]
          },
          "metadata": {},
          "execution_count": 3
        }
      ]
    },
    {
      "cell_type": "code",
      "source": [
        "#препроцессинг (множественное в единственное, прописные в строчные, стоп слова)\n",
        "from nltk.corpus import stopwords\n",
        "import nltk\n",
        "nltk.download(\"stopwords\")\n",
        "\n",
        "text = \"\"\"The cat is in the box. The cat likes the box. The box is over the cat.\"\"\"\n",
        "tokens = [w for w in word_tokenize(text.lower()) if w.isalpha()] #isalpha True если это в строке только буквы\n",
        "no_stops = [t for t in tokens if t not in stopwords.words('english')] #удаление стоп-слов которые встрены\n",
        "Counter(no_stops).most_common(2) #[('cat', 3), ('box', 3)]"
      ],
      "metadata": {
        "id": "z14KZKcm_ZKz",
        "colab": {
          "base_uri": "https://localhost:8080/"
        },
        "outputId": "04e8840c-a280-4f8e-c7e8-2a4ed3de7a1c"
      },
      "execution_count": 6,
      "outputs": [
        {
          "output_type": "stream",
          "name": "stderr",
          "text": [
            "[nltk_data] Downloading package stopwords to /root/nltk_data...\n",
            "[nltk_data]   Unzipping corpora/stopwords.zip.\n"
          ]
        },
        {
          "output_type": "execute_result",
          "data": {
            "text/plain": [
              "[('cat', 3), ('box', 3)]"
            ]
          },
          "metadata": {},
          "execution_count": 6
        }
      ]
    },
    {
      "cell_type": "code",
      "source": [
        "# пример с лимматизацией\n",
        "from nltk.stem import WordNetLemmatizer\n",
        "alpha_only = [t for t in lower_tokens if t.isalpha()]\n",
        "no_stops = [t for t in alpha_only if t not in english_stops]\n",
        "wordnet_lemmatizer = WordNetLemmatizer()\n",
        "lemmatized = [wordnet_lemmatizer.lemmatize(t) for t in no_stops]\n",
        "bow = Counter(lemmatized)\n",
        "print(bow.most_common(10))"
      ],
      "metadata": {
        "id": "5-g8qHuYUT7_"
      },
      "execution_count": null,
      "outputs": []
    },
    {
      "cell_type": "markdown",
      "source": [
        "Introduction to gensim"
      ],
      "metadata": {
        "id": "ytlI9Pwpk5gs"
      }
    },
    {
      "cell_type": "code",
      "source": [
        "from gensim.corpora.dictionary import Dictionary\n",
        "from nltk.tokenize import word_tokenize\n",
        "my_documents = ['The movie was about a spaceship and aliens.', 'I really liked the movie!',\n",
        "                'Awesome action scenes, but boring characters.', 'The movie was awful! I hate alien films.',\n",
        "                'Space is cool! I liked the movie.', 'More space films, please!']\n",
        "tokenized_docs = [word_tokenize(doc.lower()) for doc in my_documents]\n",
        "dictionary = Dictionary(tokenized_docs)\n",
        "dictionary.token2id # {'!': 11,',': 17,'.': 7, 'a': 2...}\n",
        "\n",
        "corpus = [dictionary.doc2bow(doc) for doc in tokenized_docs]\n",
        "#[[(0, 1), (1, 1), (2, 1), (3, 1), (4, 1), (5, 1), (6, 1), (7, 1), (8, 1)],\n",
        "#[(0, 1), (1, 1), (9, 1), (10, 1), (11, 1), (12, 1)]\n",
        "# каждый список это предложение, (номер слова и частота)\n",
        "# создали корпус Gensim - продвинутую и многофункциональную модель набора слов\n",
        "corpus"
      ],
      "metadata": {
        "id": "N7fEuDB0Br4r",
        "colab": {
          "base_uri": "https://localhost:8080/"
        },
        "outputId": "23727192-a504-452c-8bab-c46cd088ce89"
      },
      "execution_count": 8,
      "outputs": [
        {
          "output_type": "execute_result",
          "data": {
            "text/plain": [
              "[[(0, 1), (1, 1), (2, 1), (3, 1), (4, 1), (5, 1), (6, 1), (7, 1), (8, 1)],\n",
              " [(5, 1), (7, 1), (9, 1), (10, 1), (11, 1), (12, 1)],\n",
              " [(0, 1), (13, 1), (14, 1), (15, 1), (16, 1), (17, 1), (18, 1), (19, 1)],\n",
              " [(0, 1),\n",
              "  (5, 1),\n",
              "  (7, 1),\n",
              "  (8, 1),\n",
              "  (9, 1),\n",
              "  (10, 1),\n",
              "  (20, 1),\n",
              "  (21, 1),\n",
              "  (22, 1),\n",
              "  (23, 1)],\n",
              " [(0, 1), (5, 1), (7, 1), (9, 1), (10, 1), (11, 1), (24, 1), (25, 1), (26, 1)],\n",
              " [(9, 1), (13, 1), (22, 1), (26, 1), (27, 1), (28, 1)]]"
            ]
          },
          "metadata": {},
          "execution_count": 8
        }
      ]
    },
    {
      "cell_type": "markdown",
      "source": [
        "Пример"
      ],
      "metadata": {
        "id": "w-schychs91c"
      }
    },
    {
      "cell_type": "code",
      "source": [
        "from gensim.corpora.dictionary import Dictionary\n",
        "my_documents = ['The movie was about a spaceship and aliens.', 'I really liked the movie!',\n",
        "                'Awesome action scenes, but boring characters.', 'The movie was awful! I hate alien films.',\n",
        "                'Space is cool! I liked the movie.', 'More space films, please!']\n",
        "articles = [word_tokenize(doc.lower()) for doc in my_documents]\n",
        "dictionary = Dictionary(articles)\n",
        "computer_id = dictionary.token2id.get(\"space\") # индекс слова\n",
        "print(dictionary.get(computer_id)) # по индексу слово"
      ],
      "metadata": {
        "id": "iG5l-kjDdy_d",
        "colab": {
          "base_uri": "https://localhost:8080/"
        },
        "outputId": "e266df8a-bac9-4139-f8c2-840bb770f76a"
      },
      "execution_count": 12,
      "outputs": [
        {
          "output_type": "stream",
          "name": "stdout",
          "text": [
            "space\n"
          ]
        }
      ]
    },
    {
      "cell_type": "code",
      "source": [
        "articles"
      ],
      "metadata": {
        "id": "rywdY02mSXkk",
        "colab": {
          "base_uri": "https://localhost:8080/"
        },
        "outputId": "191acb1f-bc13-4751-e4e6-d86e2683aa8a"
      },
      "execution_count": 11,
      "outputs": [
        {
          "output_type": "execute_result",
          "data": {
            "text/plain": [
              "[['the', 'movie', 'was', 'about', 'a', 'spaceship', 'and', 'aliens', '.'],\n",
              " ['i', 'really', 'liked', 'the', 'movie', '!'],\n",
              " ['awesome', 'action', 'scenes', ',', 'but', 'boring', 'characters', '.'],\n",
              " ['the', 'movie', 'was', 'awful', '!', 'i', 'hate', 'alien', 'films', '.'],\n",
              " ['space', 'is', 'cool', '!', 'i', 'liked', 'the', 'movie', '.'],\n",
              " ['more', 'space', 'films', ',', 'please', '!']]"
            ]
          },
          "metadata": {},
          "execution_count": 11
        }
      ]
    },
    {
      "cell_type": "code",
      "source": [
        "computer_id"
      ],
      "metadata": {
        "colab": {
          "base_uri": "https://localhost:8080/"
        },
        "id": "SkyKHS1IsqwU",
        "outputId": "c5a44eca-5956-482c-fd0d-404848ba8177"
      },
      "execution_count": 14,
      "outputs": [
        {
          "output_type": "execute_result",
          "data": {
            "text/plain": [
              "26"
            ]
          },
          "metadata": {},
          "execution_count": 14
        }
      ]
    },
    {
      "cell_type": "code",
      "source": [
        "doc = corpus[4] #ааааааааааааааааааааааааааааааааааааааааааааааааааааааааааааааааааааааааааааааа\n",
        "bow_doc = sorted(doc, key=lambda w: w[1], reverse=True) # сортировка по частоте\n",
        "\n",
        "for word_id, word_count in bow_doc[:5]:\n",
        "    print(dictionary.get(word_id), word_count) # вывести 5 слов\n",
        "\n",
        "total_word_count = defaultdict(int) # посчитать кол-во каждого слова везде\n",
        "\n",
        "for word_id, word_count in itertools.chain.from_iterable(corpus):\n",
        "    total_word_count[word_id] += word_count\n",
        "\n",
        "sorted_word_count = sorted(total_word_count.items(), key=lambda w: w[1], reverse=True)\n",
        "#In [14]: total_word_count.items()\n",
        "#Out[14]: dict_items([(0, 1006), (1, 1), (2, 1), (3, 2), (4, 1), (5, 1), (6, 1)\n",
        "\n",
        "#In [14]: total_word_count\n",
        "#Out[14]: defaultdict(int, {0: 1006, 1: 1, 2: 1, 3: 2, 4: 1, 5: 1, 6: 1,\n",
        "                            7: 1, 8: 177, 9: 2, 10: 59, 11: 5...\n",
        "for word_id, word_count in sorted_word_count[:5]:\n",
        "    print(dictionary.get(word_id), word_count)\n",
        "# engineering 91\n",
        "#    '' 85\n",
        "#    reverse 73"
      ],
      "metadata": {
        "id": "kpz1oj3Vs2Xg"
      },
      "execution_count": null,
      "outputs": []
    },
    {
      "cell_type": "markdown",
      "source": [
        "Tf-idf с gensim"
      ],
      "metadata": {
        "id": "Sa8fa_SCIbYS"
      }
    },
    {
      "cell_type": "code",
      "source": [
        "from gensim.models.tfidfmodel import TfidfModel\n",
        "tfidf = TfidfModel(corpus) # используем Gensim корпус\n",
        "tfidf[corpus[1]] # выбрать документ\n",
        "# [(0, 0.1746),(1, 0.1746), (9, 0.2985), (10, 0.7716),...]"
      ],
      "metadata": {
        "id": "P3MJebisIcY7"
      },
      "execution_count": null,
      "outputs": []
    },
    {
      "cell_type": "code",
      "source": [
        "tfidf = TfidfModel(corpus)\n",
        "tfidf_weights = tfidf[doc]\n",
        "print(tfidf_weights[:5])\n",
        "\n",
        "sorted_tfidf_weights = sorted(tfidf_weights, key=lambda w: w[1], reverse=True)\n",
        "\n",
        "for term_id, weight in sorted_tfidf_weights[:5]:\n",
        "    print(dictionary.get(term_id), weight)"
      ],
      "metadata": {
        "id": "0GKHgPTEqjBC"
      },
      "execution_count": null,
      "outputs": []
    },
    {
      "cell_type": "markdown",
      "source": [
        "Распознавание именованных сущностей (Named Entity Recognition)"
      ],
      "metadata": {
        "id": "HmZHcP8wNCso"
      }
    },
    {
      "cell_type": "code",
      "source": [
        "#отвечаем на вопрос кто? что? когда? и где?\n",
        "import nltk # Стэнфордская библиотека CoreNLP\n",
        "#nltk.download('all')\n",
        "sentence = '''In New York, I like to ride the Metro to visit MOMA and some restaurants rated well by Ruth Reichl.'''\n",
        "tokenized_sent = nltk.word_tokenize(sentence)\n",
        "tagged_sent = nltk.pos_tag(tokenized_sent) #распознаем части речи\n",
        "tagged_sent[:3] #[('In', 'IN'), ('New', 'NNP'), ('York', 'NNP')]\n",
        "# NNP - собственного существительного единственного числа\n",
        "print(nltk.ne_chunk(tagged_sent)) # вернет предложение в виде дерева\n",
        "# (S\n",
        "#In/IN\n",
        "# (GPE New/NNP York/NNP)\n",
        "#  ,/,\n",
        "#  I/PRP\n",
        "#  like/VBP\n",
        "#  to/TO\n",
        "#  ride/VB\n",
        "#  the/DT\n",
        "#  (ORGANIZATION Metro/NNP)"
      ],
      "metadata": {
        "id": "zEKqW2Q9NHFf",
        "colab": {
          "base_uri": "https://localhost:8080/"
        },
        "outputId": "c1e00803-11b7-42c8-d982-af13606027ea"
      },
      "execution_count": 17,
      "outputs": [
        {
          "output_type": "stream",
          "name": "stdout",
          "text": [
            "(S\n",
            "  In/IN\n",
            "  (GPE New/NNP York/NNP)\n",
            "  ,/,\n",
            "  I/PRP\n",
            "  like/VBP\n",
            "  to/TO\n",
            "  ride/VB\n",
            "  the/DT\n",
            "  (ORGANIZATION Metro/NNP)\n",
            "  to/TO\n",
            "  visit/VB\n",
            "  (ORGANIZATION MOMA/NNP)\n",
            "  and/CC\n",
            "  some/DT\n",
            "  restaurants/NNS\n",
            "  rated/VBN\n",
            "  well/RB\n",
            "  by/IN\n",
            "  (PERSON Ruth/NNP Reichl/NNP)\n",
            "  ./.)\n"
          ]
        }
      ]
    },
    {
      "cell_type": "code",
      "source": [
        "# пример\n",
        "sentences = nltk.sent_tokenize(article) # разделение предложений на ['...', '...']\n",
        "token_sentences = [nltk.word_tokenize(sent) for sent in sentences] # [['...'], ['...']]\n",
        "pos_sentences = [nltk.pos_tag(sent) for sent in token_sentences]\n",
        "\n",
        "chunked_sentences = nltk.ne_chunk_sents(pos_sentences, binary=True)\n",
        "# (S\n",
        "  Yet/RB\n",
        "  there/EX\n",
        "  ’/NNP\n",
        "  task/NN\n",
        " ...\n",
        "  ./.)\n",
        "for sent in chunked_sentences:\n",
        "    for chunk in sent:\n",
        "        if hasattr(chunk, \"label\") and chunk.label() == \"NE\":\n",
        "            print(chunk)\n",
        "#является ли это фрагментом именованной сущности, проверив, есть ли у него метка атрибута и является ли фрагмент.label() равно \"NE\"\n",
        "(NE CEO/NNP)\n",
        "(NE Yahoo/NNP)\n",
        "(NE Marissa/NNP Mayer/NNP)"
      ],
      "metadata": {
        "id": "XliRyOiKFh6Q"
      },
      "execution_count": null,
      "outputs": []
    },
    {
      "cell_type": "code",
      "source": [
        "# на вход  Tree('S', [('“', 'NN'), ('One', 'CD'), ('has', 'VBZ'), ('benefits', 'NNS'), ('and', 'CC'), ('risks', 'NNS'), ('.', '.'), ('”', 'NN')])]\n",
        "ner_categories = defaultdict(int)\n",
        "\n",
        "for sent in chunked_sentences: # выход (S “/NN  One/CD has/VBZ to/TO ./. ”/NN)\n",
        "    for chunk in sent: # ('ensure', 'VB') ('the', 'DT') ('best', 'JJS') ('exploitation', 'NN')\n",
        "        if hasattr(chunk, 'label'): # проверяет существование атрибута с именем name в объекте object\n",
        "            ner_categories[chunk.label()] += 1\n",
        "#defaultdict(<class 'int'>, {'ORGANIZATION': 33, 'GPE': 115, 'PERSON': 70, 'LOCATION': 1, 'FACILITY': 1})\n",
        "        print(chunk)\n",
        "\n",
        "labels = list(ner_categories.keys())\n",
        "values = [ner_categories.get(v) for v in labels] # [33, 115, 70, 1, 1]\n",
        "\n",
        "plt.pie(values, labels=labels, autopct='%1.1f%%', startangle=140)\n",
        "plt.show()"
      ],
      "metadata": {
        "id": "50gadOvZLSpj"
      },
      "execution_count": null,
      "outputs": []
    },
    {
      "cell_type": "markdown",
      "source": [
        "Introduction to\n",
        "SpaCy"
      ],
      "metadata": {
        "id": "8Xkll8MmSEl1"
      }
    },
    {
      "cell_type": "code",
      "source": [
        "import spacy # это библиотека NLP, похожая на Gensim\n",
        "nlp = spacy.load('en_core_web_sm') #загрузить все соответствующие предварительно обученные векторы слов\n",
        "nlp.entity #функционирует аналогично нашему словарю и корпусу Gensim\n",
        "\n",
        "doc = nlp(\"\"\"Berlin is the capital of Germany; and the residence of Chancellor Angela Merkel.\"\"\")\n",
        "doc.ents #(Berlin, Germany, Angela Merkel) именованные сущности\n",
        "\n",
        "print(doc.ents[0], doc.ents[0].label_) #Berlin GPE\n",
        "\n",
        "#пример\n",
        "import spacy\n",
        "nlp = spacy.load('en_core_web_sm', disable=['tagger', 'parser', 'matcher'])\n",
        "doc = nlp(article)\n",
        "for ent in doc.ents:\n",
        "    print(ent.label_, ent.text) #ORG Apple  PERSON Travis Kalanick of Uber   PERSON Tim Cook\n",
        "# если print(ent) Apple Travis Kalanick of Uber Tim Cook Apple"
      ],
      "metadata": {
        "id": "0CDG3f2cSFru"
      },
      "execution_count": null,
      "outputs": []
    },
    {
      "cell_type": "markdown",
      "source": [
        "Polyglot"
      ],
      "metadata": {
        "id": "jozzbWrzbZb0"
      }
    },
    {
      "cell_type": "code",
      "source": [
        "from polyglot.text import Text # именнованные сущности других языков\n",
        "text = \"\"\"El presidente de la Generalitat de Cataluña, Carles Puigdemont, ha afirmado hoy a la alcaldesa de Madrid, Manuela Carmena, que en su etapa de alcalde de Girona (de julio de 2011 a enero de 2016) hizo una gran promoción de Madrid.\"\"\"\n",
        "ptext = Text(text)\n",
        "ptext.entities\n",
        "# [I-ORG(['Generalitat','de']),\n",
        "# I-LOC(['Generalitat','de','Cataluña']),\n",
        "# I-PER(['Carles','Puigdemont']),\n",
        "# I-LOC(['Madrid']),"
      ],
      "metadata": {
        "id": "02VsD9V-bcGE"
      },
      "execution_count": null,
      "outputs": []
    },
    {
      "cell_type": "markdown",
      "source": [
        "Классификация фейковых новостей с помощью контролируемого обучения с НЛП"
      ],
      "metadata": {
        "id": "MaptSWLwcp8F"
      }
    },
    {
      "cell_type": "code",
      "source": [
        "import pandas as pd\n",
        "from sklearn.model_selection import train_test_split\n",
        "from sklearn.feature_extraction.text import CountVectorizer\n",
        "df =...\n",
        "y = df['Sci-Fi'] # REAL FAKE REAL REAL\n",
        "X_train, X_test, y_train, y_test = train_test_split(df['plot'], y, test_size=0.33, random_state=53)\n",
        "count_vectorizer = CountVectorizer(stop_words='english')\n",
        "count_train = count_vectorizer.fit_transform(X_train.values)\n",
        "count_test = count_vectorizer.transform(X_test.values)\n",
        "\n",
        "print(count_vectorizer.get_feature_names()[:10])"
      ],
      "metadata": {
        "id": "SEQvCalBcqvl"
      },
      "execution_count": null,
      "outputs": []
    },
    {
      "cell_type": "code",
      "source": [
        "from sklearn.feature_extraction.text import TfidfVectorizer\n",
        "tfidf_vectorizer = TfidfVectorizer(stop_words='english', max_df=0.7)\n",
        "tfidf_train = tfidf_vectorizer.fit_transform(X_train)\n",
        "tfidf_test = tfidf_vectorizer.transform(X_test)\n",
        "\n",
        "print(tfidf_vectorizer.get_feature_names()[:10])\n",
        "\n",
        "print(tfidf_train.A[:5])\n",
        "#['00', '000', '001', '008s', '00am', '00pm', '01', '01am', '02', '024']\n",
        "#[[0.         0.01928563 0.         ... 0.         0.         0.        ]\n",
        "# [0.         0.         0.         ... 0.         0.         0.        ]\n",
        "\n",
        "count_df = pd.DataFrame(count_train.A, columns=count_vectorizer.get_feature_names())\n",
        "tfidf_df = pd.DataFrame(tfidf_train.A, columns=tfidf_vectorizer.get_feature_names())\n",
        "print(count_df.head())\n",
        "print(tfidf_df.head())\n",
        "\n",
        "difference = set(count_df.columns) - set(tfidf_df.columns)\n",
        "print(difference)\n",
        "print(count_df.equals(tfidf_df))"
      ],
      "metadata": {
        "id": "RXCq0DeAuE4w"
      },
      "execution_count": null,
      "outputs": []
    },
    {
      "cell_type": "markdown",
      "source": [
        "Naive Bayes classifier"
      ],
      "metadata": {
        "id": "F86oioVNkIVM"
      }
    },
    {
      "cell_type": "code",
      "source": [
        "from sklearn.naive_bayes import MultinomialNB\n",
        "from sklearn import metrics\n",
        "nb_classifier = MultinomialNB()\n",
        "nb_classifier.fit(count_train, y_train)\n",
        "pred = nb_classifier.predict(count_test)\n",
        "metrics.accuracy_score(y_test, pred)\n",
        "\n",
        "metrics.confusion_matrix(y_test, pred, labels=[0,1])\n",
        "\n",
        "#пример (In [1]:type(tfidf_train) Out[1]: scipy.sparse.csr.csr_matrix)\n",
        "from sklearn.naive_bayes import MultinomialNB\n",
        "from sklearn import metrics\n",
        "nb_classifier = MultinomialNB()\n",
        "nb_classifier.fit(count_train, y_train)\n",
        "pred = nb_classifier.predict(count_test)\n",
        "score = metrics.accuracy_score(y_test, pred)\n",
        "print(score)\n",
        "\n",
        "cm = metrics.confusion_matrix(y_test, pred, labels=['FAKE', 'REAL'])\n",
        "print(cm)\n",
        "\n",
        "# что?\n",
        "class_labels = nb_classifier.classes_\n",
        "feature_names = tfidf_vectorizer.get_feature_names()\n",
        "feat_with_weights = sorted(zip(nb_classifier.coef_[0], feature_names))\n",
        "print(class_labels[0], feat_with_weights[:20])\n",
        "print(class_labels[1], feat_with_weights[-20:])"
      ],
      "metadata": {
        "id": "fpGBF8amkHph"
      },
      "execution_count": null,
      "outputs": []
    }
  ]
}