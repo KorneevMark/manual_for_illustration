{
  "nbformat": 4,
  "nbformat_minor": 0,
  "metadata": {
    "colab": {
      "provenance": []
    },
    "kernelspec": {
      "name": "python3",
      "display_name": "Python 3"
    },
    "language_info": {
      "name": "python"
    }
  },
  "cells": [
    {
      "cell_type": "code",
      "execution_count": null,
      "metadata": {
        "colab": {
          "base_uri": "https://localhost:8080/"
        },
        "id": "qJUV2gMeS-9K",
        "outputId": "294604e8-bf59-4735-fc35-608858778365"
      },
      "outputs": [
        {
          "output_type": "stream",
          "name": "stdout",
          "text": [
            "Collecting pyspark\n",
            "  Downloading pyspark-3.5.0.tar.gz (316.9 MB)\n",
            "\u001b[2K     \u001b[90m━━━━━━━━━━━━━━━━━━━━━━━━━━━━━━━━━━━━━━━━\u001b[0m \u001b[32m316.9/316.9 MB\u001b[0m \u001b[31m2.4 MB/s\u001b[0m eta \u001b[36m0:00:00\u001b[0m\n",
            "\u001b[?25h  Preparing metadata (setup.py) ... \u001b[?25l\u001b[?25hdone\n",
            "Requirement already satisfied: py4j==0.10.9.7 in /usr/local/lib/python3.10/dist-packages (from pyspark) (0.10.9.7)\n",
            "Building wheels for collected packages: pyspark\n",
            "  Building wheel for pyspark (setup.py) ... \u001b[?25l\u001b[?25hdone\n",
            "  Created wheel for pyspark: filename=pyspark-3.5.0-py2.py3-none-any.whl size=317425345 sha256=01c22ba08b5864b35a2e504f5ad2ab84f5d1ac759c4a8455c29a377f7dd06898\n",
            "  Stored in directory: /root/.cache/pip/wheels/41/4e/10/c2cf2467f71c678cfc8a6b9ac9241e5e44a01940da8fbb17fc\n",
            "Successfully built pyspark\n",
            "Installing collected packages: pyspark\n",
            "Successfully installed pyspark-3.5.0\n"
          ]
        }
      ],
      "source": [
        "!pip install pyspark"
      ]
    },
    {
      "cell_type": "markdown",
      "source": [
        "Есть мастер (закрепляется либо на моем компьютере либо на кластере). Подается программа-драйвер, менеджер кластера проверит рабочие места с доступным пространством и нанимает рабочих.\n",
        "\n",
        "Информация о мощности кодируется в SparkContext - подключение к кластеру.\n",
        "\n",
        "* Менеджер\n",
        "* Драйвер\n",
        "* Worker\n",
        "* Исполнитель\n",
        "\n",
        "Действие (ввод-вывод) и преобразование. count() и то и то"
      ],
      "metadata": {
        "id": "HnfpN2pcWmU3"
      }
    },
    {
      "cell_type": "code",
      "source": [
        "# какие самые популярные слова используются в английском языке («Гордость и предубеждение» Джейн Остин)\n",
        "# начнем с настройки PySpark shell\n",
        "# Python предоставляет REPL для интерактивной разработки. Поскольку PySpark является библиотекой Python, она также использует ту же среду\n",
        "\n",
        "from pyspark.sql import SparkSession\n",
        "spark = (SparkSession.builder.appName(\"Analyzing the vocabulary of Pride and Prejudice.\") .getOrCreate())"
      ],
      "metadata": {
        "id": "PPbNzc-PTB2R"
      },
      "execution_count": null,
      "outputs": []
    },
    {
      "cell_type": "code",
      "source": [
        "# data frame (структура данных) бытсрее чем RDD (низкоуровневый)\n",
        "spark.sparkContext # не запускать"
      ],
      "metadata": {
        "colab": {
          "base_uri": "https://localhost:8080/",
          "height": 196
        },
        "id": "-GcmdnbkW2zM",
        "outputId": "8d913cc5-e231-4325-993b-1fa44ac9f45b"
      },
      "execution_count": null,
      "outputs": [
        {
          "output_type": "execute_result",
          "data": {
            "text/plain": [
              "<SparkContext master=local[*] appName=Analyzing the vocabulary of Pride and Prejudice.>"
            ],
            "text/html": [
              "\n",
              "        <div>\n",
              "            <p><b>SparkContext</b></p>\n",
              "\n",
              "            <p><a href=\"http://82db66201af4:4040\">Spark UI</a></p>\n",
              "\n",
              "            <dl>\n",
              "              <dt>Version</dt>\n",
              "                <dd><code>v3.5.0</code></dd>\n",
              "              <dt>Master</dt>\n",
              "                <dd><code>local[*]</code></dd>\n",
              "              <dt>AppName</dt>\n",
              "                <dd><code>Analyzing the vocabulary of Pride and Prejudice.</code></dd>\n",
              "            </dl>\n",
              "        </div>\n",
              "        "
            ]
          },
          "metadata": {},
          "execution_count": 3
        }
      ]
    },
    {
      "cell_type": "code",
      "source": [
        "# начинаем с уровней ведения журнала (levels of logging) (конспект)\n",
        "spark.sparkContext.setLogLevel(\"WARN\")"
      ],
      "metadata": {
        "id": "ZlHTgF5IW3WR"
      },
      "execution_count": null,
      "outputs": []
    },
    {
      "cell_type": "code",
      "source": [
        "# структура RDD (строки) и data frame (столбцы)\n",
        "# имя модуля для обработки данных pyspark.sql\n",
        "\n",
        "spark.read # подгрузка через объект DataFrameReader\n",
        "dir(spark.read)"
      ],
      "metadata": {
        "colab": {
          "base_uri": "https://localhost:8080/"
        },
        "id": "3QHwB0-wYoRl",
        "outputId": "23756657-c122-44b4-cbd9-8bb030dda0f6"
      },
      "execution_count": null,
      "outputs": [
        {
          "output_type": "execute_result",
          "data": {
            "text/plain": [
              "['__class__',\n",
              " '__delattr__',\n",
              " '__dict__',\n",
              " '__dir__',\n",
              " '__doc__',\n",
              " '__eq__',\n",
              " '__format__',\n",
              " '__ge__',\n",
              " '__getattribute__',\n",
              " '__gt__',\n",
              " '__hash__',\n",
              " '__init__',\n",
              " '__init_subclass__',\n",
              " '__le__',\n",
              " '__lt__',\n",
              " '__module__',\n",
              " '__ne__',\n",
              " '__new__',\n",
              " '__reduce__',\n",
              " '__reduce_ex__',\n",
              " '__repr__',\n",
              " '__setattr__',\n",
              " '__sizeof__',\n",
              " '__str__',\n",
              " '__subclasshook__',\n",
              " '__weakref__',\n",
              " '_df',\n",
              " '_jreader',\n",
              " '_set_opts',\n",
              " '_spark',\n",
              " 'csv',\n",
              " 'format',\n",
              " 'jdbc',\n",
              " 'json',\n",
              " 'load',\n",
              " 'option',\n",
              " 'options',\n",
              " 'orc',\n",
              " 'parquet',\n",
              " 'schema',\n",
              " 'table',\n",
              " 'text']"
            ]
          },
          "metadata": {},
          "execution_count": 5
        }
      ]
    },
    {
      "cell_type": "code",
      "source": [
        "book = spark.read.text(\"1342-0.txt\")\n",
        "book # вывод схема столбцы с типом (у нас строка с символом разделения строки)"
      ],
      "metadata": {
        "colab": {
          "base_uri": "https://localhost:8080/"
        },
        "id": "Jw9zbQbueRA3",
        "outputId": "bc002325-1601-45a3-c4a0-282f255e70c3"
      },
      "execution_count": null,
      "outputs": [
        {
          "output_type": "execute_result",
          "data": {
            "text/plain": [
              "DataFrame[value: string]"
            ]
          },
          "metadata": {},
          "execution_count": 6
        }
      ]
    },
    {
      "cell_type": "code",
      "source": [
        "book.printSchema()"
      ],
      "metadata": {
        "colab": {
          "base_uri": "https://localhost:8080/"
        },
        "id": "gsVJER5PfpUN",
        "outputId": "5456383a-1a6c-432d-94ef-4ef50c655d0d"
      },
      "execution_count": null,
      "outputs": [
        {
          "output_type": "stream",
          "name": "stdout",
          "text": [
            "root\n",
            " |-- value: string (nullable = true)\n",
            "\n"
          ]
        }
      ]
    },
    {
      "cell_type": "code",
      "source": [
        "print(book.dtypes) # для фильтрации схемы"
      ],
      "metadata": {
        "colab": {
          "base_uri": "https://localhost:8080/"
        },
        "id": "16ZdtCNRhgcl",
        "outputId": "a76f451f-7fa9-4a9d-b378-a76c29e86b5a"
      },
      "execution_count": null,
      "outputs": [
        {
          "output_type": "stream",
          "name": "stdout",
          "text": [
            "[('value', 'string')]\n"
          ]
        }
      ]
    },
    {
      "cell_type": "code",
      "source": [
        "book.show()"
      ],
      "metadata": {
        "colab": {
          "base_uri": "https://localhost:8080/"
        },
        "id": "dA5DZWIrhzoL",
        "outputId": "aa6ec8f6-2da4-48fd-d533-ec7f9f0c33fb"
      },
      "execution_count": null,
      "outputs": [
        {
          "output_type": "stream",
          "name": "stdout",
          "text": [
            "+--------------------+\n",
            "|               value|\n",
            "+--------------------+\n",
            "|The Project Guten...|\n",
            "|                    |\n",
            "|This eBook is for...|\n",
            "|almost no restric...|\n",
            "|re-use it under t...|\n",
            "|with this eBook o...|\n",
            "|                    |\n",
            "|                    |\n",
            "|Title: Pride and ...|\n",
            "|                    |\n",
            "| Author: Jane Austen|\n",
            "|                    |\n",
            "|Posting Date: Aug...|\n",
            "|Release Date: Jun...|\n",
            "|Last Updated: Mar...|\n",
            "|                    |\n",
            "|   Language: English|\n",
            "|                    |\n",
            "|Character set enc...|\n",
            "|                    |\n",
            "+--------------------+\n",
            "only showing top 20 rows\n",
            "\n"
          ]
        }
      ]
    },
    {
      "cell_type": "code",
      "source": [
        "book.show(10, truncate=50, vertical = False)#строки, усечение до 20 или определенное кол-во, vertical"
      ],
      "metadata": {
        "colab": {
          "base_uri": "https://localhost:8080/"
        },
        "id": "PtQ1JBzCj22g",
        "outputId": "699c083d-5af8-45d0-f1d1-7f6ac59f5d1c"
      },
      "execution_count": null,
      "outputs": [
        {
          "output_type": "stream",
          "name": "stdout",
          "text": [
            "+--------------------------------------------------+\n",
            "|                                             value|\n",
            "+--------------------------------------------------+\n",
            "|The Project Gutenberg EBook of Pride and Prejud...|\n",
            "|                                                  |\n",
            "|This eBook is for the use of anyone anywhere at...|\n",
            "|almost no restrictions whatsoever.  You may cop...|\n",
            "|re-use it under the terms of the Project Gutenb...|\n",
            "|    with this eBook or online at www.gutenberg.org|\n",
            "|                                                  |\n",
            "|                                                  |\n",
            "|                        Title: Pride and Prejudice|\n",
            "|                                                  |\n",
            "+--------------------------------------------------+\n",
            "only showing top 10 rows\n",
            "\n"
          ]
        }
      ]
    },
    {
      "cell_type": "code",
      "source": [
        "from pyspark.sql.functions import split\n",
        "lines = book.select(split(book.value, \" \").alias(\"line\"))\n",
        "lines.show(5) # строки в список и с пустотой"
      ],
      "metadata": {
        "colab": {
          "base_uri": "https://localhost:8080/"
        },
        "id": "TXZfe5ockuBn",
        "outputId": "7b4caab0-7949-4fe1-f532-59a8423973b2"
      },
      "execution_count": null,
      "outputs": [
        {
          "output_type": "stream",
          "name": "stdout",
          "text": [
            "+--------------------+\n",
            "|                line|\n",
            "+--------------------+\n",
            "|[The, Project, Gu...|\n",
            "|                  []|\n",
            "|[This, eBook, is,...|\n",
            "|[almost, no, rest...|\n",
            "|[re-use, it, unde...|\n",
            "+--------------------+\n",
            "only showing top 5 rows\n",
            "\n"
          ]
        }
      ]
    },
    {
      "cell_type": "code",
      "source": [
        "book.select(book.value)"
      ],
      "metadata": {
        "colab": {
          "base_uri": "https://localhost:8080/"
        },
        "id": "CMa48IAuogl2",
        "outputId": "9a03ab69-9387-4abe-c0f5-fe007922d710"
      },
      "execution_count": null,
      "outputs": [
        {
          "output_type": "execute_result",
          "data": {
            "text/plain": [
              "DataFrame[value: string]"
            ]
          },
          "metadata": {},
          "execution_count": 12
        }
      ]
    },
    {
      "cell_type": "code",
      "source": [
        "from pyspark.sql.functions import col\n",
        "book.select(book.value)\n",
        "book.select(book[\"value\"])\n",
        "book.select(col(\"value\")) # из модуля\n",
        "book.select(\"value\")"
      ],
      "metadata": {
        "colab": {
          "base_uri": "https://localhost:8080/"
        },
        "id": "IMLj0_ngog_5",
        "outputId": "af396da4-f5ba-4293-98fa-41ad7882ac98"
      },
      "execution_count": null,
      "outputs": [
        {
          "output_type": "execute_result",
          "data": {
            "text/plain": [
              "DataFrame[value: string]"
            ]
          },
          "metadata": {},
          "execution_count": 13
        }
      ]
    },
    {
      "cell_type": "code",
      "source": [
        "from pyspark.sql.functions import col, split\n",
        "lines = book.select(split(col(\"value\"), \" \")) # есть третий параметр\n",
        "lines.printSchema()"
      ],
      "metadata": {
        "colab": {
          "base_uri": "https://localhost:8080/"
        },
        "id": "fQO-EsgIo2fx",
        "outputId": "3eea8afd-430b-4562-c98d-12bc95e6561d"
      },
      "execution_count": null,
      "outputs": [
        {
          "output_type": "stream",
          "name": "stdout",
          "text": [
            "root\n",
            " |-- split(value,  , -1): array (nullable = true)\n",
            " |    |-- element: string (containsNull = false)\n",
            "\n"
          ]
        }
      ]
    },
    {
      "cell_type": "code",
      "source": [
        "lines.show(5)"
      ],
      "metadata": {
        "colab": {
          "base_uri": "https://localhost:8080/"
        },
        "id": "H_sF2Na9s27E",
        "outputId": "e9a65810-c89b-4a3b-9fe6-63e746d2dc6d"
      },
      "execution_count": null,
      "outputs": [
        {
          "output_type": "stream",
          "name": "stdout",
          "text": [
            "+--------------------+\n",
            "| split(value,  , -1)|\n",
            "+--------------------+\n",
            "|[The, Project, Gu...|\n",
            "|                  []|\n",
            "|[This, eBook, is,...|\n",
            "|[almost, no, rest...|\n",
            "|[re-use, it, unde...|\n",
            "+--------------------+\n",
            "only showing top 5 rows\n",
            "\n"
          ]
        }
      ]
    },
    {
      "cell_type": "code",
      "source": [
        "#переименование\n",
        "book.select(split(col(\"value\"), \" \")).printSchema()"
      ],
      "metadata": {
        "id": "txOMsqCYs-Gb",
        "colab": {
          "base_uri": "https://localhost:8080/"
        },
        "outputId": "68de682c-140d-42ea-be65-1c479a11555a"
      },
      "execution_count": null,
      "outputs": [
        {
          "output_type": "stream",
          "name": "stdout",
          "text": [
            "root\n",
            " |-- split(value,  , -1): array (nullable = true)\n",
            " |    |-- element: string (containsNull = false)\n",
            "\n"
          ]
        }
      ]
    },
    {
      "cell_type": "code",
      "source": [
        "book.select(split(col(\"value\"), \" \").alias(\"line\")).printSchema()"
      ],
      "metadata": {
        "colab": {
          "base_uri": "https://localhost:8080/"
        },
        "id": "_uc47kTLgLRq",
        "outputId": "6e9a22f0-8763-409a-ea83-63c45353efb5"
      },
      "execution_count": null,
      "outputs": [
        {
          "output_type": "stream",
          "name": "stdout",
          "text": [
            "root\n",
            " |-- line: array (nullable = true)\n",
            " |    |-- element: string (containsNull = false)\n",
            "\n"
          ]
        }
      ]
    },
    {
      "cell_type": "code",
      "source": [
        "# когда используется метод какие столбцы должны отображаться (как select)\n",
        "lines = lines.withColumnRenamed(\"split(value,  , -1)\", \"line\")\n",
        "lines.printSchema()"
      ],
      "metadata": {
        "colab": {
          "base_uri": "https://localhost:8080/"
        },
        "id": "vu5p8K_LgOeU",
        "outputId": "cf96d9e9-c13b-4d32-fa77-34eda82125d0"
      },
      "execution_count": null,
      "outputs": [
        {
          "output_type": "stream",
          "name": "stdout",
          "text": [
            "root\n",
            " |-- line: array (nullable = true)\n",
            " |    |-- element: string (containsNull = false)\n",
            "\n"
          ]
        }
      ]
    },
    {
      "cell_type": "code",
      "source": [
        "#изменение формы данных\n",
        "#список в строке преобразуем в отдельное слово в столбце - explode\n",
        "from pyspark.sql.functions import explode, col\n",
        "words = lines.select(explode(col(\"line\")).alias(\"word\"))\n",
        "words.show(15)"
      ],
      "metadata": {
        "colab": {
          "base_uri": "https://localhost:8080/"
        },
        "id": "oekPHVs9hQ0e",
        "outputId": "5617188d-c4b5-4fe8-96ae-0705e2d63f8d"
      },
      "execution_count": null,
      "outputs": [
        {
          "output_type": "stream",
          "name": "stdout",
          "text": [
            "+----------+\n",
            "|      word|\n",
            "+----------+\n",
            "|       The|\n",
            "|   Project|\n",
            "| Gutenberg|\n",
            "|     EBook|\n",
            "|        of|\n",
            "|     Pride|\n",
            "|       and|\n",
            "|Prejudice,|\n",
            "|        by|\n",
            "|      Jane|\n",
            "|    Austen|\n",
            "|          |\n",
            "|      This|\n",
            "|     eBook|\n",
            "|        is|\n",
            "+----------+\n",
            "only showing top 15 rows\n",
            "\n"
          ]
        }
      ]
    },
    {
      "cell_type": "code",
      "source": [
        "# изменение регистра и удаление знаков препинания\n",
        "from pyspark.sql.functions import lower\n",
        "words_lower = words.select(lower(col(\"word\")).alias(\"word_lower\"))\n",
        "words_lower.show(5)"
      ],
      "metadata": {
        "colab": {
          "base_uri": "https://localhost:8080/"
        },
        "id": "NIeYmQCjijpn",
        "outputId": "94393dc9-fe66-42c5-f075-2a0abc4ca232"
      },
      "execution_count": null,
      "outputs": [
        {
          "output_type": "stream",
          "name": "stdout",
          "text": [
            "+----------+\n",
            "|word_lower|\n",
            "+----------+\n",
            "|       the|\n",
            "|   project|\n",
            "| gutenberg|\n",
            "|     ebook|\n",
            "|        of|\n",
            "+----------+\n",
            "only showing top 5 rows\n",
            "\n"
          ]
        }
      ]
    },
    {
      "cell_type": "code",
      "source": [
        "from pyspark.sql.functions import regexp_extract # регулярные выражение\n",
        "words_clean = words_lower.select(regexp_extract(col(\"word_lower\"), \"[a-z]+\", 0).alias(\"word\"))\n",
        "words_clean.show(5)"
      ],
      "metadata": {
        "colab": {
          "base_uri": "https://localhost:8080/"
        },
        "id": "PvsF9RxrkKen",
        "outputId": "986a8229-bceb-4c6f-985c-3ea0c5894cf3"
      },
      "execution_count": null,
      "outputs": [
        {
          "output_type": "stream",
          "name": "stdout",
          "text": [
            "+---------+\n",
            "|     word|\n",
            "+---------+\n",
            "|      the|\n",
            "|  project|\n",
            "|gutenberg|\n",
            "|    ebook|\n",
            "|       of|\n",
            "+---------+\n",
            "only showing top 5 rows\n",
            "\n"
          ]
        }
      ]
    },
    {
      "cell_type": "code",
      "source": [
        "# фильрация строк либо filter либо where\n",
        "words_nonull = words_clean.filter(col(\"word\") != \"\")"
      ],
      "metadata": {
        "id": "GYQQ1Ra-k6I-"
      },
      "execution_count": null,
      "outputs": []
    },
    {
      "cell_type": "markdown",
      "source": [
        "**Глава 3. Submitting and scaling первой программы PySpark**"
      ],
      "metadata": {
        "id": "uxAgeemYnv8n"
      }
    },
    {
      "cell_type": "code",
      "source": [
        "# объект GroupedData, сгруппированный кадр в этом объекте\n",
        "results = words_nonull.groupby(col(\"word\")).count()\n",
        "print(results) # DataFrame[word: string, count: bigint]\n",
        "results.show(5)"
      ],
      "metadata": {
        "colab": {
          "base_uri": "https://localhost:8080/"
        },
        "id": "YZ__VUwsn68x",
        "outputId": "7dd6e359-23f3-42ff-b928-baabe499c973"
      },
      "execution_count": null,
      "outputs": [
        {
          "output_type": "stream",
          "name": "stdout",
          "text": [
            "DataFrame[word: string, count: bigint]\n",
            "+------+-----+\n",
            "|  word|count|\n",
            "+------+-----+\n",
            "|online|    4|\n",
            "|  some|  209|\n",
            "| still|   72|\n",
            "|   few|   72|\n",
            "|  hope|  122|\n",
            "+------+-----+\n",
            "only showing top 5 rows\n",
            "\n"
          ]
        }
      ]
    },
    {
      "cell_type": "code",
      "source": [
        "results.orderBy(\"count\", ascending=False).show(5)\n",
        "results.orderBy(col(\"count\").desc()).show(5)"
      ],
      "metadata": {
        "colab": {
          "base_uri": "https://localhost:8080/"
        },
        "id": "Py6KQp4omgbA",
        "outputId": "19bca3a2-f035-43c3-ca97-8760f9a240cf"
      },
      "execution_count": null,
      "outputs": [
        {
          "output_type": "stream",
          "name": "stdout",
          "text": [
            "+----+-----+\n",
            "|word|count|\n",
            "+----+-----+\n",
            "| the| 4496|\n",
            "|  to| 4235|\n",
            "|  of| 3719|\n",
            "| and| 3602|\n",
            "| her| 2223|\n",
            "+----+-----+\n",
            "only showing top 5 rows\n",
            "\n",
            "+----+-----+\n",
            "|word|count|\n",
            "+----+-----+\n",
            "| the| 4496|\n",
            "|  to| 4235|\n",
            "|  of| 3719|\n",
            "| and| 3602|\n",
            "| her| 2223|\n",
            "+----+-----+\n",
            "only showing top 5 rows\n",
            "\n"
          ]
        }
      ]
    },
    {
      "cell_type": "code",
      "source": [
        "# записывание данных в csv из data frame\n",
        "results.write.csv(\"./data/simple_count.csv\")\n",
        "# создался каталог с тем же именем и поместил в него 201 файл (200 CSV + 1 файл _SUCCESS)\n",
        "# файл _SUCCESS означает что операция прошла успешно, и 200 файлов"
      ],
      "metadata": {
        "id": "Ju6psk5c10Or"
      },
      "execution_count": null,
      "outputs": []
    },
    {
      "cell_type": "code",
      "source": [
        "results.coalesce(1).write.csv(\"./data/simple_count_single_partition.csv\") # один файл"
      ],
      "metadata": {
        "id": "PWRKglFJ2oGb"
      },
      "execution_count": null,
      "outputs": []
    },
    {
      "cell_type": "code",
      "source": [
        "# упрощение кода через соглашения об импорте\n",
        "# Before\n",
        "from pyspark.sql.functions import col, explode, lower, regexp_extract, split\n",
        "# After\n",
        "import pyspark.sql.functions as F"
      ],
      "metadata": {
        "id": "8i5yLaJg3w9F"
      },
      "execution_count": null,
      "outputs": []
    },
    {
      "cell_type": "code",
      "source": [
        "# упрощение\n",
        "# select(), where(), groupBy() принимают структуру в качестве параметра data frame\n",
        "# или GroupedData для count() и возвращают структуру\n",
        "# принимают структуру и возвращают структуру (dataframe или GroupedData)\n",
        "\n",
        "results.orderBy(\"word\").count()\n",
        "#для такого нужно присовить переменной т.к нет выполнения на месте\n",
        "import pyspark.sql.functions as F\n",
        "results = (spark.read.text(\"./data/gutenberg_books/1342-0.txt\")\n",
        "                .select(F.split(F.col(\"value\"), \" \").alias(\"line\"))\n",
        "                .select(F.explode(F.col(\"line\")).alias(\"word\"))\n",
        "                .select(F.lower(F.col(\"word\")).alias(\"word\"))\n",
        "                .select(F.regexp_extract(F.col(\"word\"), \"[a-z']*\", 0).alias(\"word\"))\n",
        "                .where(F.col(\"word\") != \"\")\n",
        "                .groupby(\"word\").count())\n",
        "#два действия две переменные, одно действие можно и без переменной"
      ],
      "metadata": {
        "id": "9n4UMuxg8y_7"
      },
      "execution_count": null,
      "outputs": []
    },
    {
      "cell_type": "code",
      "source": [
        "# batch mode, достаточно определить свой SparkSession\n",
        "\n",
        "results = spark.read.text('./data/gutenberg_books/*.txt')\n",
        "#берем все файлы каталога"
      ],
      "metadata": {
        "id": "iGYvHIPlCL1s"
      },
      "execution_count": null,
      "outputs": []
    },
    {
      "cell_type": "markdown",
      "source": [
        "**Глава 4. Analyzing tabular data\n",
        "with pyspark.sql**"
      ],
      "metadata": {
        "id": "lVLnnfyAE8Es"
      }
    },
    {
      "cell_type": "code",
      "source": [
        "from pyspark.sql import SparkSession\n",
        "import pyspark.sql.functions as F\n",
        "spark = SparkSession.builder.getOrCreate()\n",
        "\n",
        "#структура PySpark это data frame или объект Column\n",
        "\n",
        "my_grocery_list = [[\"Banana\", 2, 1.74], [\"Apple\", 4, 2.04], [\"Carrot\", 1, 1.09], [\"Cake\", 1, 10.99],]\n",
        "df_grocery_list = spark.createDataFrame(my_grocery_list, [\"Item\", \"Quantity\", \"Price\"])\n",
        "df_grocery_list.printSchema()\n",
        "# на вход createDataFrame: список списков, data frame pandas или RDD + схема"
      ],
      "metadata": {
        "colab": {
          "base_uri": "https://localhost:8080/"
        },
        "id": "0HJyPpTYFA2t",
        "outputId": "c07c520b-01b3-434b-dbc3-a632b41a702a"
      },
      "execution_count": null,
      "outputs": [
        {
          "output_type": "stream",
          "name": "stdout",
          "text": [
            "root\n",
            " |-- Item: string (nullable = true)\n",
            " |-- Quantity: long (nullable = true)\n",
            " |-- Price: double (nullable = true)\n",
            "\n"
          ]
        }
      ]
    },
    {
      "cell_type": "code",
      "source": [
        ".toPandas() # для перевода в DataFrame и графиков\n",
        "\n",
        "67 - 90"
      ],
      "metadata": {
        "id": "qlDMKupnOU-q"
      },
      "execution_count": null,
      "outputs": []
    },
    {
      "cell_type": "code",
      "source": [
        "!git clone https://github.com/jonesberg/DataAnalysisWithPythonAndPySpark-Data"
      ],
      "metadata": {
        "id": "xEre7PuNOcSU",
        "colab": {
          "base_uri": "https://localhost:8080/"
        },
        "outputId": "cb3828ec-7c9e-4c41-c8e8-60fe486812a7"
      },
      "execution_count": null,
      "outputs": [
        {
          "output_type": "stream",
          "name": "stdout",
          "text": [
            "Cloning into 'DataAnalysisWithPythonAndPySpark-Data'...\n",
            "remote: Enumerating objects: 71, done.\u001b[K\n",
            "remote: Total 71 (delta 0), reused 0 (delta 0), pack-reused 71\u001b[K\n",
            "Receiving objects: 100% (71/71), 828.81 MiB | 24.76 MiB/s, done.\n",
            "Updating files: 100% (59/59), done.\n"
          ]
        }
      ]
    },
    {
      "cell_type": "code",
      "source": [
        "# подробнее про SparkReader, начинаем с csv (где есть разделитель строки и полей)\n",
        "#"
      ],
      "metadata": {
        "id": "Rkq6QocYeEBA"
      },
      "execution_count": null,
      "outputs": []
    },
    {
      "cell_type": "code",
      "source": [
        "from pyspark.sql import SparkSession\n",
        "spark = (SparkSession.builder.appName(\"Analyzing\") .getOrCreate())"
      ],
      "metadata": {
        "id": "oger2xu2h8nj"
      },
      "execution_count": null,
      "outputs": []
    },
    {
      "cell_type": "code",
      "source": [
        "logs = spark.read.csv('/content/DataAnalysisWithPythonAndPySpark-Data/broadcast_logs/BroadcastLogs_2018_Q3_M8_sample.CSV',\n",
        "                       sep=\"|\", header=True,  inferSchema=True, timestampFormat=\"yyyy-MM-dd\")\n",
        "# inferSchema=True есть True то сам определяет тип данных"
      ],
      "metadata": {
        "id": "S-h3TA2ihk7S"
      },
      "execution_count": null,
      "outputs": []
    },
    {
      "cell_type": "code",
      "source": [
        "logs.printSchema()"
      ],
      "metadata": {
        "colab": {
          "base_uri": "https://localhost:8080/"
        },
        "id": "XiV3s6-Thv5B",
        "outputId": "3ffefd96-8ce4-4f64-87c6-2f120f2d32b7"
      },
      "execution_count": null,
      "outputs": [
        {
          "output_type": "stream",
          "name": "stdout",
          "text": [
            "root\n",
            " |-- BroadcastLogID: integer (nullable = true)\n",
            " |-- LogServiceID: integer (nullable = true)\n",
            " |-- LogDate: date (nullable = true)\n",
            " |-- SequenceNO: integer (nullable = true)\n",
            " |-- AudienceTargetAgeID: integer (nullable = true)\n",
            " |-- AudienceTargetEthnicID: integer (nullable = true)\n",
            " |-- CategoryID: integer (nullable = true)\n",
            " |-- ClosedCaptionID: integer (nullable = true)\n",
            " |-- CountryOfOriginID: integer (nullable = true)\n",
            " |-- DubDramaCreditID: integer (nullable = true)\n",
            " |-- EthnicProgramID: integer (nullable = true)\n",
            " |-- ProductionSourceID: integer (nullable = true)\n",
            " |-- ProgramClassID: integer (nullable = true)\n",
            " |-- FilmClassificationID: integer (nullable = true)\n",
            " |-- ExhibitionID: integer (nullable = true)\n",
            " |-- Duration: string (nullable = true)\n",
            " |-- EndTime: string (nullable = true)\n",
            " |-- LogEntryDate: date (nullable = true)\n",
            " |-- ProductionNO: string (nullable = true)\n",
            " |-- ProgramTitle: string (nullable = true)\n",
            " |-- StartTime: string (nullable = true)\n",
            " |-- Subtitle: string (nullable = true)\n",
            " |-- NetworkAffiliationID: integer (nullable = true)\n",
            " |-- SpecialAttentionID: integer (nullable = true)\n",
            " |-- BroadcastOriginPointID: integer (nullable = true)\n",
            " |-- CompositionID: integer (nullable = true)\n",
            " |-- Producer1: string (nullable = true)\n",
            " |-- Producer2: string (nullable = true)\n",
            " |-- Language1: integer (nullable = true)\n",
            " |-- Language2: integer (nullable = true)\n",
            "\n"
          ]
        }
      ]
    },
    {
      "cell_type": "code",
      "source": [
        "logs.select(\"BroadcastLogID\", \"LogServiceID\", \"LogDate\").show(5, False)"
      ],
      "metadata": {
        "colab": {
          "base_uri": "https://localhost:8080/"
        },
        "id": "aHhHYxya2Agb",
        "outputId": "ad5c141b-2ad7-409e-f144-d1fa81962341"
      },
      "execution_count": null,
      "outputs": [
        {
          "output_type": "stream",
          "name": "stdout",
          "text": [
            "+--------------+------------+----------+\n",
            "|BroadcastLogID|LogServiceID|LogDate   |\n",
            "+--------------+------------+----------+\n",
            "|1196192316    |3157        |2018-08-01|\n",
            "|1196192317    |3157        |2018-08-01|\n",
            "|1196192318    |3157        |2018-08-01|\n",
            "|1196192319    |3157        |2018-08-01|\n",
            "|1196192320    |3157        |2018-08-01|\n",
            "+--------------+------------+----------+\n",
            "only showing top 5 rows\n",
            "\n"
          ]
        }
      ]
    },
    {
      "cell_type": "code",
      "source": [
        "logs.select(\"BroadCastLogID\", \"LogServiceID\", \"LogDate\")\n",
        "logs.select(*[\"BroadCastLogID\", \"LogServiceID\", \"LogDate\"])\n",
        "logs.select(F.col(\"BroadCastLogID\"), F.col(\"LogServiceID\"), F.col(\"LogDate\"))\n",
        "logs.select(*[F.col(\"BroadCastLogID\"), F.col(\"LogServiceID\"), F.col(\"LogDate\")])"
      ],
      "metadata": {
        "id": "hqW9OHul9Cw9"
      },
      "execution_count": null,
      "outputs": []
    },
    {
      "cell_type": "code",
      "source": [
        "import numpy as np\n",
        "column_split = np.array_split(np.array(logs.columns), len(logs.columns) // 3)\n",
        "print(column_split)\n",
        "\n",
        "for x in column_split:\n",
        " logs.select(*x).show(5, False)"
      ],
      "metadata": {
        "colab": {
          "base_uri": "https://localhost:8080/"
        },
        "id": "Jfg07b10-MbX",
        "outputId": "048656a4-759b-485c-a9d4-18f2abb56da0"
      },
      "execution_count": null,
      "outputs": [
        {
          "output_type": "stream",
          "name": "stdout",
          "text": [
            "[array(['BroadcastLogID', 'LogServiceID', 'LogDate'], dtype='<U22'), array(['SequenceNO', 'AudienceTargetAgeID', 'AudienceTargetEthnicID'],\n",
            "      dtype='<U22'), array(['CategoryID', 'ClosedCaptionID', 'CountryOfOriginID'], dtype='<U22'), array(['DubDramaCreditID', 'EthnicProgramID', 'ProductionSourceID'],\n",
            "      dtype='<U22'), array(['ProgramClassID', 'FilmClassificationID', 'ExhibitionID'],\n",
            "      dtype='<U22'), array(['Duration', 'EndTime', 'LogEntryDate'], dtype='<U22'), array(['ProductionNO', 'ProgramTitle', 'StartTime'], dtype='<U22'), array(['Subtitle', 'NetworkAffiliationID', 'SpecialAttentionID'],\n",
            "      dtype='<U22'), array(['BroadcastOriginPointID', 'CompositionID', 'Producer1'],\n",
            "      dtype='<U22'), array(['Producer2', 'Language1', 'Language2'], dtype='<U22')]\n",
            "+--------------+------------+----------+\n",
            "|BroadcastLogID|LogServiceID|LogDate   |\n",
            "+--------------+------------+----------+\n",
            "|1196192316    |3157        |2018-08-01|\n",
            "|1196192317    |3157        |2018-08-01|\n",
            "|1196192318    |3157        |2018-08-01|\n",
            "|1196192319    |3157        |2018-08-01|\n",
            "|1196192320    |3157        |2018-08-01|\n",
            "+--------------+------------+----------+\n",
            "only showing top 5 rows\n",
            "\n",
            "+----------+-------------------+----------------------+\n",
            "|SequenceNO|AudienceTargetAgeID|AudienceTargetEthnicID|\n",
            "+----------+-------------------+----------------------+\n",
            "|1         |4                  |NULL                  |\n",
            "|2         |NULL               |NULL                  |\n",
            "|3         |NULL               |NULL                  |\n",
            "|4         |NULL               |NULL                  |\n",
            "|5         |NULL               |NULL                  |\n",
            "+----------+-------------------+----------------------+\n",
            "only showing top 5 rows\n",
            "\n",
            "+----------+---------------+-----------------+\n",
            "|CategoryID|ClosedCaptionID|CountryOfOriginID|\n",
            "+----------+---------------+-----------------+\n",
            "|13        |3              |3                |\n",
            "|NULL      |1              |NULL             |\n",
            "|NULL      |1              |NULL             |\n",
            "|NULL      |1              |NULL             |\n",
            "|NULL      |1              |NULL             |\n",
            "+----------+---------------+-----------------+\n",
            "only showing top 5 rows\n",
            "\n",
            "+----------------+---------------+------------------+\n",
            "|DubDramaCreditID|EthnicProgramID|ProductionSourceID|\n",
            "+----------------+---------------+------------------+\n",
            "|NULL            |NULL           |10                |\n",
            "|NULL            |NULL           |NULL              |\n",
            "|NULL            |NULL           |NULL              |\n",
            "|NULL            |NULL           |NULL              |\n",
            "|NULL            |NULL           |NULL              |\n",
            "+----------------+---------------+------------------+\n",
            "only showing top 5 rows\n",
            "\n",
            "+--------------+--------------------+------------+\n",
            "|ProgramClassID|FilmClassificationID|ExhibitionID|\n",
            "+--------------+--------------------+------------+\n",
            "|19            |NULL                |2           |\n",
            "|20            |NULL                |NULL        |\n",
            "|3             |NULL                |NULL        |\n",
            "|3             |NULL                |NULL        |\n",
            "|3             |NULL                |NULL        |\n",
            "+--------------+--------------------+------------+\n",
            "only showing top 5 rows\n",
            "\n",
            "+----------------+----------------+------------+\n",
            "|Duration        |EndTime         |LogEntryDate|\n",
            "+----------------+----------------+------------+\n",
            "|02:00:00.0000000|08:00:00.0000000|2018-08-01  |\n",
            "|00:00:30.0000000|06:13:45.0000000|2018-08-01  |\n",
            "|00:00:15.0000000|06:14:00.0000000|2018-08-01  |\n",
            "|00:00:15.0000000|06:14:15.0000000|2018-08-01  |\n",
            "|00:00:15.0000000|06:14:30.0000000|2018-08-01  |\n",
            "+----------------+----------------+------------+\n",
            "only showing top 5 rows\n",
            "\n",
            "+------------+-------------------------------------------+----------------+\n",
            "|ProductionNO|ProgramTitle                               |StartTime       |\n",
            "+------------+-------------------------------------------+----------------+\n",
            "|A39082      |Newlywed and Dead                          |06:00:00.0000000|\n",
            "|NULL        |15-SPECIALTY CHANNELS-Canadian Generic     |06:13:15.0000000|\n",
            "|NULL        |3-PROCTER & GAMBLE INC-Anti-Perspirant 3rd |06:13:45.0000000|\n",
            "|NULL        |12-CREDIT KARMA-Bank/Credit Union/Trust 3rd|06:14:00.0000000|\n",
            "|NULL        |3-L'OREAL CANADA-Hair Products 3rd         |06:14:15.0000000|\n",
            "+------------+-------------------------------------------+----------------+\n",
            "only showing top 5 rows\n",
            "\n",
            "+--------+--------------------+------------------+\n",
            "|Subtitle|NetworkAffiliationID|SpecialAttentionID|\n",
            "+--------+--------------------+------------------+\n",
            "|NULL    |NULL                |NULL              |\n",
            "|NULL    |NULL                |NULL              |\n",
            "|NULL    |NULL                |NULL              |\n",
            "|NULL    |NULL                |NULL              |\n",
            "|NULL    |NULL                |NULL              |\n",
            "+--------+--------------------+------------------+\n",
            "only showing top 5 rows\n",
            "\n",
            "+----------------------+-------------+---------+\n",
            "|BroadcastOriginPointID|CompositionID|Producer1|\n",
            "+----------------------+-------------+---------+\n",
            "|NULL                  |NULL         |NULL     |\n",
            "|NULL                  |NULL         |NULL     |\n",
            "|NULL                  |NULL         |NULL     |\n",
            "|NULL                  |NULL         |NULL     |\n",
            "|NULL                  |NULL         |NULL     |\n",
            "+----------------------+-------------+---------+\n",
            "only showing top 5 rows\n",
            "\n",
            "+---------+---------+---------+\n",
            "|Producer2|Language1|Language2|\n",
            "+---------+---------+---------+\n",
            "|NULL     |94       |NULL     |\n",
            "|NULL     |NULL     |NULL     |\n",
            "|NULL     |NULL     |NULL     |\n",
            "|NULL     |NULL     |NULL     |\n",
            "|NULL     |NULL     |NULL     |\n",
            "+---------+---------+---------+\n",
            "only showing top 5 rows\n",
            "\n"
          ]
        }
      ]
    },
    {
      "cell_type": "code",
      "source": [
        "logs = logs.drop(\"BroadcastLogID\", \"SequenceNO\")\n",
        "\n",
        "print(\"BroadcastLogID\" in logs.columns)\n",
        "print(\"SequenceNo\" in logs.columns)"
      ],
      "metadata": {
        "colab": {
          "base_uri": "https://localhost:8080/"
        },
        "id": "84iSmsn9_hTk",
        "outputId": "d79eca25-d604-4b4a-fa29-d3fd14815a4f"
      },
      "execution_count": null,
      "outputs": [
        {
          "output_type": "stream",
          "name": "stdout",
          "text": [
            "False\n",
            "False\n"
          ]
        }
      ]
    },
    {
      "cell_type": "code",
      "source": [
        "logs = logs.select(*[x for x in logs.columns if x not in [\"BroadcastLogID\", \"SequenceNO\"]])"
      ],
      "metadata": {
        "id": "CkdIA-auC4hm"
      },
      "execution_count": null,
      "outputs": []
    },
    {
      "cell_type": "code",
      "source": [
        "logs.select(F.col(\"Duration\")).show(5)"
      ],
      "metadata": {
        "colab": {
          "base_uri": "https://localhost:8080/"
        },
        "id": "i1XHOaazHkLL",
        "outputId": "3996dbea-d963-4d1c-a88e-30446a1f9cbb"
      },
      "execution_count": null,
      "outputs": [
        {
          "output_type": "stream",
          "name": "stdout",
          "text": [
            "+----------------+\n",
            "|        Duration|\n",
            "+----------------+\n",
            "|02:00:00.0000000|\n",
            "|00:00:30.0000000|\n",
            "|00:00:15.0000000|\n",
            "|00:00:15.0000000|\n",
            "|00:00:15.0000000|\n",
            "+----------------+\n",
            "only showing top 5 rows\n",
            "\n"
          ]
        }
      ]
    },
    {
      "cell_type": "code",
      "source": [
        "print(logs.select(F.col(\"Duration\")).dtypes)"
      ],
      "metadata": {
        "colab": {
          "base_uri": "https://localhost:8080/"
        },
        "id": "DUGbALqCHkdL",
        "outputId": "39305917-d847-4770-95d1-57478d7986c8"
      },
      "execution_count": null,
      "outputs": [
        {
          "output_type": "stream",
          "name": "stdout",
          "text": [
            "[('Duration', 'string')]\n"
          ]
        }
      ]
    },
    {
      "cell_type": "code",
      "source": [
        "logs.select(F.col(\"Duration\"),\n",
        "            F.col(\"Duration\").substr(1, 2).cast(\"int\").alias(\"dur_hours\"),\n",
        "            F.col(\"Duration\").substr(4, 2).cast(\"int\").alias(\"dur_minutes\"),\n",
        "            F.col(\"Duration\").substr(7, 2).cast(\"int\").alias(\"dur_seconds\")).distinct().show(5)\n",
        "#substr(начало с 1 (а не 0) и длина), cast ставим тим"
      ],
      "metadata": {
        "colab": {
          "base_uri": "https://localhost:8080/"
        },
        "id": "sK9Nl2jsH9GY",
        "outputId": "84e5f915-d814-4da1-dbac-5a1d041445e3"
      },
      "execution_count": null,
      "outputs": [
        {
          "output_type": "stream",
          "name": "stdout",
          "text": [
            "+----------------+---------+-----------+-----------+\n",
            "|        Duration|dur_hours|dur_minutes|dur_seconds|\n",
            "+----------------+---------+-----------+-----------+\n",
            "|00:04:52.0000000|        0|          4|         52|\n",
            "|00:10:06.0000000|        0|         10|          6|\n",
            "|00:26:41.0000000|        0|         26|         41|\n",
            "|00:05:29.0000000|        0|          5|         29|\n",
            "|00:08:18.0000000|        0|          8|         18|\n",
            "+----------------+---------+-----------+-----------+\n",
            "only showing top 5 rows\n",
            "\n"
          ]
        }
      ]
    },
    {
      "cell_type": "code",
      "source": [
        "logs.select(F.col(\"Duration\"),\n",
        " (F.col(\"Duration\").substr(1, 2).cast(\"int\") * 60 * 60 +\n",
        "  F.col(\"Duration\").substr(4, 2).cast(\"int\") * 60 +\n",
        "  F.col(\"Duration\").substr(7, 2).cast(\"int\")).alias(\"Duration_seconds\")).distinct().show(5)"
      ],
      "metadata": {
        "colab": {
          "base_uri": "https://localhost:8080/"
        },
        "id": "WZk1KDa2LDGB",
        "outputId": "1755f1e9-9b22-421b-b7a7-05fd62621926"
      },
      "execution_count": null,
      "outputs": [
        {
          "output_type": "stream",
          "name": "stdout",
          "text": [
            "+----------------+----------------+\n",
            "|        Duration|Duration_seconds|\n",
            "+----------------+----------------+\n",
            "|01:59:30.0000000|            7170|\n",
            "|00:31:00.0000000|            1860|\n",
            "|00:28:08.0000000|            1688|\n",
            "|00:10:30.0000000|             630|\n",
            "|00:32:00.0000000|            1920|\n",
            "+----------------+----------------+\n",
            "only showing top 5 rows\n",
            "\n"
          ]
        }
      ]
    },
    {
      "cell_type": "code",
      "source": [
        "logs = logs.withColumn(\"Duration_seconds\",\n",
        " (F.col(\"Duration\").substr(1, 2).cast(\"int\") * 60 * 60\n",
        " + F.col(\"Duration\").substr(4, 2).cast(\"int\") * 60\n",
        " + F.col(\"Duration\").substr(7, 2).cast(\"int\")))\n",
        "logs.printSchema()"
      ],
      "metadata": {
        "colab": {
          "base_uri": "https://localhost:8080/"
        },
        "id": "-h-FGoSSMntV",
        "outputId": "44e4bc2e-3b76-4956-c194-804d182f5e4d"
      },
      "execution_count": null,
      "outputs": [
        {
          "output_type": "stream",
          "name": "stdout",
          "text": [
            "root\n",
            " |-- LogServiceID: integer (nullable = true)\n",
            " |-- LogDate: date (nullable = true)\n",
            " |-- AudienceTargetAgeID: integer (nullable = true)\n",
            " |-- AudienceTargetEthnicID: integer (nullable = true)\n",
            " |-- CategoryID: integer (nullable = true)\n",
            " |-- ClosedCaptionID: integer (nullable = true)\n",
            " |-- CountryOfOriginID: integer (nullable = true)\n",
            " |-- DubDramaCreditID: integer (nullable = true)\n",
            " |-- EthnicProgramID: integer (nullable = true)\n",
            " |-- ProductionSourceID: integer (nullable = true)\n",
            " |-- ProgramClassID: integer (nullable = true)\n",
            " |-- FilmClassificationID: integer (nullable = true)\n",
            " |-- ExhibitionID: integer (nullable = true)\n",
            " |-- Duration: string (nullable = true)\n",
            " |-- EndTime: string (nullable = true)\n",
            " |-- LogEntryDate: date (nullable = true)\n",
            " |-- ProductionNO: string (nullable = true)\n",
            " |-- ProgramTitle: string (nullable = true)\n",
            " |-- StartTime: string (nullable = true)\n",
            " |-- Subtitle: string (nullable = true)\n",
            " |-- NetworkAffiliationID: integer (nullable = true)\n",
            " |-- SpecialAttentionID: integer (nullable = true)\n",
            " |-- BroadcastOriginPointID: integer (nullable = true)\n",
            " |-- CompositionID: integer (nullable = true)\n",
            " |-- Producer1: string (nullable = true)\n",
            " |-- Producer2: string (nullable = true)\n",
            " |-- Language1: integer (nullable = true)\n",
            " |-- Language2: integer (nullable = true)\n",
            " |-- Duration_seconds: integer (nullable = true)\n",
            "\n"
          ]
        }
      ]
    },
    {
      "cell_type": "code",
      "source": [
        "82-90 90-108\n",
        "# переименовать столбец\n",
        "logs = logs.withColumnRenamed(\"Duration_seconds\", \"duration_seconds\")\n",
        "logs.printSchema()\n",
        "\n",
        "# переименовать махом все столбцы без цикла с toDF\n",
        "logs.toDF(*[x.lower() for x in logs.columns]).printSchema()\n",
        "\n",
        "#изменение порядка через select\n",
        "logs.select(sorted(logs.columns)).printSchema()"
      ],
      "metadata": {
        "id": "5OvroW_mMxLj"
      },
      "execution_count": null,
      "outputs": []
    },
    {
      "cell_type": "code",
      "source": [
        "# описание через describe() - все столбцы и число и строки, и summary() для числовых столбцов\n",
        "for i in logs.columns:\n",
        "  logs.describe(i).show()\n",
        "\n",
        "# summary() добавляет 25-50 и 75 процентили\n",
        "for i in logs.columns:\n",
        "  logs.select(i).summary().show()\n",
        "\n",
        "for i in logs.columns:\n",
        "  logs.select(i).summary(\"min\", \"10%\", \"90%\", \"max\").show()\n",
        "\n",
        "#оба метода с ненулевыми значениями но count будет считать ненулевые"
      ],
      "metadata": {
        "id": "vFufhkmoomP3"
      },
      "execution_count": null,
      "outputs": []
    },
    {
      "cell_type": "markdown",
      "source": [
        "**Глава 5 Data frame gymnastics:\n",
        "Joining and grouping**"
      ],
      "metadata": {
        "id": "KB0o4WNyvidB"
      }
    },
    {
      "cell_type": "code",
      "source": [
        "# join many to one\n",
        "DIRECTORY = \"./data/broadcast_logs\"\n",
        "log_identifier = spark.read.csv(\"ReferenceTables/LogIdentifier.csv\", sep=\"|\", header=True, inferSchema=True)\n",
        "log_identifier.printSchema()\n",
        "\n",
        "log_identifier = log_identifier.where(F.col(\"PrimaryFG\") == 1)\n",
        "print(log_identifier.count())\n",
        "\n",
        "log_identifier.show(5)"
      ],
      "metadata": {
        "id": "nQ1ivzCzvlO6"
      },
      "execution_count": null,
      "outputs": []
    },
    {
      "cell_type": "code",
      "source": [
        "logs.join(log_identifier, on=[PREDICATES], how=[METHOD])\n",
        "# on: e logs[\"LogServiceID\"] == log_identifier[\"LogServiceID\"]\n",
        "# (logs[\"LogServiceID\"] == log_identifier[\"LogServiceID\"]) & (logs[\"left_col\"] < log_identifier[\"right_col\"])\n",
        "# [left[\"col1\"] == right[\"colA\"], left[\"col2\"] > right[\"colB\"], left[\"col3\"] != right[\"colC\"]]\n",
        "# logs.join(log_identifier, on=\"LogServiceID\", how=[METHOD])"
      ],
      "metadata": {
        "id": "cfSxJ-PtEebn"
      },
      "execution_count": null,
      "outputs": []
    },
    {
      "cell_type": "code",
      "source": [
        "how=\"inner\" # объединение на одном компьютере - shuffle\n",
        "how=\"left\" or how=\"left_outer\" and right how=\"right\" or how=\"right_outer\"\n",
        "how=\"left_semi\" # как inner но остаются столбцы из левой таблицы (без дублирования)\n",
        "how=\"left_anti\" # записи левой что не соотвествуют правой\n",
        "how=\"cross\""
      ],
      "metadata": {
        "id": "6G0a_MrSNpj8"
      },
      "execution_count": null,
      "outputs": []
    },
    {
      "cell_type": "code",
      "source": [
        "logs_and_channels_verbose = logs.join(log_identifier, logs[\"LogServiceID\"] == log_identifier[\"LogServiceID\"])\n",
        "logs_and_channels_verbose.printSchema() # выдаст два лдинаковых столбца\n",
        "\n",
        "logs_and_channels = logs.join(log_identifier, \"LogServiceID\")\n",
        "logs_and_channels.printSchema() # этот способ удалит повторяющиеся"
      ],
      "metadata": {
        "id": "gYM7LwtUYW4Z"
      },
      "execution_count": null,
      "outputs": []
    },
    {
      "cell_type": "code",
      "source": [
        "logs_and_channels_verbose = logs.join(log_identifier, logs[\"LogServiceID\"] == log_identifier[\"LogServiceID\"])\n",
        "logs_and_channels.drop(log_identifier[\"LogServiceID\"]).select(\"LogServiceID\") # join помнит откуда пришел столбец"
      ],
      "metadata": {
        "id": "3Niv-uMfZxYn"
      },
      "execution_count": null,
      "outputs": []
    },
    {
      "cell_type": "code",
      "source": [
        "logs_and_channels_verbose = logs.alias(\"left\").join(\n",
        "    log_identifier.alias(\"right\"),\n",
        "    logs[\"LogServiceID\"] == log_identifier[\"LogServiceID\"])\n",
        "logs_and_channels_verbose.drop(F.col(\"right.LogServiceID\")).select(\"LogServiceID\")"
      ],
      "metadata": {
        "id": "W--_atHda7dO"
      },
      "execution_count": null,
      "outputs": []
    },
    {
      "cell_type": "code",
      "source": [
        "IRECTORY = \"./data/broadcast_logs\"\n",
        "cd_category = spark.read.csv(os.path.join(DIRECTORY, \"ReferenceTables/CD_Category.csv\"),\n",
        " sep=\"|\",\n",
        " header=True,\n",
        " inferSchema=True).select(\"CategoryID\", \"CategoryCD\", F.col(\"EnglishDescription\").alias(\"Category_Description\"))\n",
        "cd_program_class = spark.read.csv(os.path.join(DIRECTORY, \"ReferenceTables/CD_ProgramClass.csv\"),\n",
        " sep=\"|\",\n",
        " header=True,\n",
        " inferSchema=True).select(\"ProgramClassID\", \"ProgramClassCD\", F.col(\"EnglishDescription\").alias(\"ProgramClass_Description\"))\n",
        "full_log = logs_and_channels.join(cd_category, \"CategoryID\", how=\"left\").join(cd_program_class, \"ProgramClassID\", how=\"left\")"
      ],
      "metadata": {
        "id": "8DV6y-3Tdepg"
      },
      "execution_count": null,
      "outputs": []
    },
    {
      "cell_type": "markdown",
      "source": [
        "Обобщение данных с помощью groupby"
      ],
      "metadata": {
        "id": "z2D-4cE_JsRh"
      }
    },
    {
      "cell_type": "markdown",
      "source": [
        "Могли бы использовать метод sum() напрямую, но у нас не было бы возможности псевдонима результирующего столбца, и мы бы застряли с sum(duration_seconds) для имени. Вместо этого мы используем странно названный agg()."
      ],
      "metadata": {
        "id": "L0RDfDECO1GI"
      }
    },
    {
      "cell_type": "code",
      "source": [
        "full_log\n",
        " .groupby(\"ProgramClassCD\", \"ProgramClass_Description\")\n",
        " .agg(F.sum(\"duration_seconds\").alias(\"duration_total\"))\n",
        " .orderBy(\"duration_total\", ascending=False).show(100, False)"
      ],
      "metadata": {
        "id": "9cSrgOPXfdi9"
      },
      "execution_count": null,
      "outputs": []
    },
    {
      "cell_type": "code",
      "source": [
        "# упрощение\n",
        "full_log.groupby(\"ProgramClassCD\", \"ProgramClass_Description\").agg(\n",
        " {\"duration_seconds\": \"sum\"}\n",
        ").withColumnRenamed(\"sum(duration_seconds)\", \"duration_total\").\n",
        "  orderBy(\"duration_total\", ascending=False).show(100, False)"
      ],
      "metadata": {
        "id": "_0aVrUWTN6kl"
      },
      "execution_count": null,
      "outputs": []
    },
    {
      "cell_type": "code",
      "source": [
        "F.when(F.trim(F.col(\"ProgramClassCD\")).isin(\n",
        "[\"COM\", \"PRC\", \"PGI\", \"PRO\", \"PSA\", \"MAG\", \"LOC\", \"SPO\", \"MER\", \"SOL\"]),\n",
        "F.col(\"duration_seconds\")).otherwise(0) # если то иначе ноль"
      ],
      "metadata": {
        "id": "ibNYkbb0OPJY"
      },
      "execution_count": null,
      "outputs": []
    },
    {
      "cell_type": "code",
      "source": [
        "(F.when([BOOLEAN TEST], [RESULT IF TRUE])\n",
        " .when([ANOTHER BOOLEAN TEST], [RESULT IF TRUE])\n",
        " .otherwise([DEFAULT RESULT, WILL DEFAULT TO null IF OMITTED]))"
      ],
      "metadata": {
        "id": "xvuIcirwT6Fi"
      },
      "execution_count": null,
      "outputs": []
    },
    {
      "cell_type": "code",
      "source": [
        "answer = (full_log.groupby(\"LogIdentifierID\")\n",
        " .agg(F.sum(F.when(F.trim(F.col(\"ProgramClassCD\")).isin(\n",
        " [\"COM\", \"PRC\", \"PGI\", \"PRO\", \"LOC\", \"SPO\", \"MER\", \"SOL\"]),\n",
        " F.col(\"duration_seconds\")).otherwise(0)).alias(\"duration_commercial\"),\n",
        " F.sum(\"duration_seconds\").alias(\"duration_total\")).withColumn(\"commercial_ratio\", F.col(\n",
        " \"duration_commercial\") / F.col(\"duration_total\")))\n",
        "\n",
        "answer.orderBy(\"commercial_ratio\", ascending=False).show(1000, False)"
      ],
      "metadata": {
        "id": "kLVGSLUfUW2J"
      },
      "execution_count": null,
      "outputs": []
    },
    {
      "cell_type": "markdown",
      "source": [
        "Удаление пропусков"
      ],
      "metadata": {
        "id": "1d6dQRI8agwB"
      }
    },
    {
      "cell_type": "code",
      "source": [
        "# dropna() how = any или all\n",
        "# trech - принимает целое число и отбросит записи со значением\n",
        "# subset - столбцы для принятия решения\n",
        "answer_no_null = answer.dropna(subset=[\"commercial_ratio\"])\n",
        "answer_no_null.orderBy(\"commercial_ratio\", ascending=False).show(1000, False)\n",
        "print(answer_no_null.count()) # 322"
      ],
      "metadata": {
        "id": "y8_BhoYtajAn"
      },
      "execution_count": null,
      "outputs": []
    },
    {
      "cell_type": "code",
      "source": [
        "# value - чем но совместимым\n",
        "# subset - столбцы\n",
        "\n",
        "answer_no_null = answer.fillna(0)\n",
        "answer_no_null.orderBy(\"commercial_ratio\", ascending=False).show(1000, False)"
      ],
      "metadata": {
        "id": "GEaArPcZd9J7"
      },
      "execution_count": null,
      "outputs": []
    },
    {
      "cell_type": "code",
      "source": [
        "answer_no_null = answer.fillna(\n",
        " {\"duration_commercial\": 0, \"duration_total\": 0, \"commercial_ratio\": 0})"
      ],
      "metadata": {
        "id": "4h-jv5TNgBcY"
      },
      "execution_count": null,
      "outputs": []
    }
  ]
}